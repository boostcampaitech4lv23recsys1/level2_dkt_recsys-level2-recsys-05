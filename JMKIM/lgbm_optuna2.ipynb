{
 "cells": [
  {
   "cell_type": "code",
   "execution_count": 44,
   "metadata": {},
   "outputs": [
    {
     "name": "stdout",
     "output_type": "stream",
     "text": [
      "(2039927, 22) (2039927,) (226659, 22) (226659,)\n"
     ]
    }
   ],
   "source": [
    "import pandas as pd\n",
    "import numpy as np\n",
    "import datetime as dt\n",
    "import optuna\n",
    "import statsmodels.api as sm\n",
    "import datetime\n",
    "import re\n",
    "import ray\n",
    "\n",
    "from collections import defaultdict\n",
    "from optuna.integration.wandb import WeightsAndBiasesCallback\n",
    "from optuna.samplers import TPESampler\n",
    "from statsmodels.tsa.seasonal import STL\n",
    "from sklearn.linear_model import LogisticRegression, LinearRegression, Lasso, ElasticNet, ridge_regression, SGDRegressor, RANSACRegressor, SGDOneClassSVM\n",
    "from sklearn.naive_bayes import BernoulliNB, CategoricalNB, ComplementNB, GaussianNB, MultinomialNB\n",
    "from sklearn.svm import SVR\n",
    "from sklearn.discriminant_analysis import LinearDiscriminantAnalysis, QuadraticDiscriminantAnalysis\n",
    "from sklearn.metrics import log_loss, roc_auc_score, accuracy_score, classification_report\n",
    "from sklearn.model_selection import train_test_split\n",
    "from catboost import CatBoostClassifier, CatBoostRegressor\n",
    "import lightgbm as lgb\n",
    "\n",
    "from tqdm import tqdm\n",
    "import warnings\n",
    "import random\n",
    "import os\n",
    "seed=777\n",
    "os.environ['PYTHONHASHSEED']=str(seed)\n",
    "random.seed(seed)\n",
    "warnings.simplefilter(action='ignore', category=FutureWarning)\n",
    "warnings.simplefilter(action='ignore', category=UserWarning)\n",
    "pd.set_option('mode.chained_assignment',  None)\n",
    "sampler = TPESampler(seed=seed)\n",
    "\n",
    "train_df = pd.read_csv(\"train_feature_engineering.csv\")\n",
    "test_df = pd.read_csv(\"test_feature_engineering.csv\")\n",
    "total = pd.read_csv(\"total.csv\")\n",
    "\n",
    "# total = pd.read_csv(\"sequential_total.csv\")\n",
    "# test_df = pd.read_csv(\"sequential_test.csv\")\n",
    "\n",
    "total = total.loc[total[\"answerCode\"] != -1]\n",
    "test_df = test_df.loc[test_df['answerCode'] == -1]\n",
    "\n",
    "def extract_datetime(df):\n",
    "    df['month'] = pd.to_datetime(df['Timestamp']).apply(lambda x : x.month)\n",
    "    df['day'] = pd.to_datetime(df['Timestamp']).apply(lambda x : x.day)\n",
    "    df['hour'] = pd.to_datetime(df['Timestamp']).apply(lambda x : x.hour)\n",
    "    df['minute'] = pd.to_datetime(df['Timestamp']).apply(lambda x : x.minute)\n",
    "    df['second'] = pd.to_datetime(df['Timestamp']).apply(lambda x : x.second)\n",
    "    df.drop(['Timestamp'], axis=1, inplace=True)\n",
    "    return df\n",
    "\n",
    "def extract_testId(df):\n",
    "    df['testClass'] = df['testId'].apply(lambda x : int(x[2]))\n",
    "    df['testCode'] = df['testId'].apply(lambda x : int(x[7:]))\n",
    "    df.drop(['testId'], axis=1, inplace=True)\n",
    "    return df\n",
    "\n",
    "def extract_assessmentItemID(df):\n",
    "    df['assessmentItemCode'] = df['assessmentItemID'].apply(lambda x : int(x[7:]))\n",
    "    df.drop(['assessmentItemID'], axis=1, inplace=True)\n",
    "    return df\n",
    "\n",
    "# train_df = extract_datetime(train_df)\n",
    "# test_df = extract_datetime(test_df)\n",
    "# train_df = extract_testId(train_df)\n",
    "# test_df = extract_testId(test_df)\n",
    "# train_df = extract_assessmentItemID(train_df)\n",
    "# test_df = extract_assessmentItemID(test_df)\n",
    "\n",
    "# cut = int(len(train_df)*0.8)\n",
    "# h_train = train_df[:cut]\n",
    "# h_valid = train_df[cut:]\n",
    "\n",
    "# h_train_X = h_train.drop('answerCode', axis=1)\n",
    "# h_train_y = h_train['answerCode']\n",
    "# h_valid_X = h_valid.drop('answerCode', axis=1)\n",
    "# h_valid_y = h_valid['answerCode']\n",
    "\n",
    "train_X = train_df.drop(['answerCode', 'assessmentItemID', 'testId', 'Timestamp', 'relative_answered_correctly'], axis=1)\n",
    "train_y = train_df[['userID', 'answerCode']]\n",
    "test_X = test_df.drop(['answerCode', 'assessmentItemID', 'testId', 'Timestamp', 'relative_answered_correctly'], axis=1)\n",
    "\n",
    "# total = pd.concat([total.iloc[:, 0:9], total.iloc[:, 27:]], axis=1)\n",
    "# test_df = pd.concat([test_df.iloc[:, 0:9], test_df.iloc[:, 27:]], axis=1)\n",
    "\n",
    "# train_X = total.drop(['userID', 'answerCode', 'assessmentItemID', 'testId', 'Timestamp'], axis=1)\n",
    "# train_y = total[['userID', 'answerCode']]\n",
    "# test_X = test_df.drop(['userID', 'answerCode', 'assessmentItemID', 'testId', 'Timestamp'], axis=1)\n",
    "\n",
    "h_train_X, h_valid_X, h_train_y, h_valid_y = train_test_split(train_X, train_y['answerCode'], test_size=0.1, stratify=train_y['answerCode'], random_state=seed)\n",
    "\n",
    "print(h_train_X.shape, h_train_y.shape, h_valid_X.shape, h_valid_y.shape)"
   ]
  },
  {
   "cell_type": "code",
   "execution_count": 42,
   "metadata": {},
   "outputs": [
    {
     "data": {
      "text/plain": [
       "Index(['userID', 'KnowledgeTag', 'assessmentItemID_last', 'testId_first',\n",
       "       'testId_last', 'elapsed', 'accuracy_by_assessment', 'accuracy_by_test',\n",
       "       'accuracy_by_tag', 'accuracy_by_assessment_last',\n",
       "       'accuracy_by_test_first', 'accuracy_by_test_last',\n",
       "       'relative_answered_correctly', 'prior_ac_count', 'prior_quest_count',\n",
       "       'prior_ac_accuracy', 'prior_relative_ac_sum', 'prior_relative_accuracy',\n",
       "       'prior_assessment_frequency', 'prior_test_frequency',\n",
       "       'prior_tags_frequency', 'diff_time_btw_tags', 'prev_tag_answer'],\n",
       "      dtype='object')"
      ]
     },
     "execution_count": 42,
     "metadata": {},
     "output_type": "execute_result"
    }
   ],
   "source": [
    "h_train_X.columns"
   ]
  },
  {
   "cell_type": "code",
   "execution_count": 7,
   "metadata": {},
   "outputs": [],
   "source": [
    "h_train_X.columns\n",
    "for col in h_train_X.columns:\n",
    "    if 'accuracy_by' in col:\n",
    "        h_train_X.drop(col, axis=1, inplace=True)\n",
    "        h_valid_X.drop(col, axis=1, inplace=True)"
   ]
  },
  {
   "cell_type": "code",
   "execution_count": 8,
   "metadata": {},
   "outputs": [
    {
     "data": {
      "text/plain": [
       "Index(['KnowledgeTag', 'assessmentItemID_last', 'testId_first', 'testId_last',\n",
       "       'trend_elapsed', 'seasonal_elapsed', 'resid_elapsed',\n",
       "       'trend_prior_ac_count', 'seasonal_prior_ac_count',\n",
       "       'resid_prior_ac_count', 'trend_prior_quest_count',\n",
       "       'seasonal_prior_quest_count', 'resid_prior_quest_count',\n",
       "       'trend_prior_ac_accuracy', 'seasonal_prior_ac_accuracy',\n",
       "       'resid_prior_ac_accuracy', 'trend_prior_relative_ac_sum',\n",
       "       'seasonal_prior_relative_ac_sum', 'resid_prior_relative_ac_sum',\n",
       "       'trend_prior_relative_accuracy', 'seasonal_prior_relative_accuracy',\n",
       "       'resid_prior_relative_accuracy', 'trend_prior_assessment_frequency',\n",
       "       'seasonal_prior_assessment_frequency',\n",
       "       'resid_prior_assessment_frequency', 'trend_prior_test_frequency',\n",
       "       'seasonal_prior_test_frequency', 'resid_prior_test_frequency',\n",
       "       'trend_prior_tags_frequency', 'seasonal_prior_tags_frequency',\n",
       "       'resid_prior_tags_frequency', 'trend_diff_time_btw_tags',\n",
       "       'seasonal_diff_time_btw_tags', 'resid_diff_time_btw_tags',\n",
       "       'trend_prev_tag_answer', 'seasonal_prev_tag_answer',\n",
       "       'resid_prev_tag_answer'],\n",
       "      dtype='object')"
      ]
     },
     "execution_count": 8,
     "metadata": {},
     "output_type": "execute_result"
    }
   ],
   "source": [
    "h_train_X.columns"
   ]
  },
  {
   "cell_type": "markdown",
   "metadata": {},
   "source": [
    "## Decomposition"
   ]
  },
  {
   "cell_type": "code",
   "execution_count": 12,
   "metadata": {},
   "outputs": [
    {
     "name": "stderr",
     "output_type": "stream",
     "text": [
      "  1%|          | 60/7442 [02:09<3:38:39,  1.78s/it]"
     ]
    }
   ],
   "source": [
    "# total_decompose_col = defaultdict(lambda: np.zeros(len(total)))\n",
    "# ignore = ['userID', 'assessmentItemID', 'testId', 'answerCode', 'Timestamp', 'KnowledgeTag', 'assessmentItemID_last', 'testId_first', 'testId_last', 'relative_answered_correctly']\n",
    "# for key, group in tqdm(total.groupby(by=[\"userID\"]), total=total['userID'].nunique()):\n",
    "#     indices = group.index\n",
    "#     for idx, col in enumerate(group.columns):\n",
    "#         if not (col in ignore or re.findall('trend|seasonal|resid', col)):\n",
    "#             res = STL(group[col], period=60).fit()\n",
    "#             total_decompose_col[f'trend_{col}'][indices] = res.trend.values\n",
    "#             total_decompose_col[f'seasonal_{col}'][indices] = res.seasonal.values\n",
    "#             total_decompose_col[f'resid_{col}'][indices] = res.resid.values\n",
    "            \n",
    "# new_total = pd.concat([total, pd.DataFrame(total_decompose_col)], axis=1)\n",
    "# new_total.to_csv(\"sequential_total.csv\", index=False)\n",
    "# new_total"
   ]
  },
  {
   "cell_type": "markdown",
   "metadata": {},
   "source": [
    "## Forward Selection"
   ]
  },
  {
   "cell_type": "code",
   "execution_count": 52,
   "metadata": {},
   "outputs": [
    {
     "name": "stderr",
     "output_type": "stream",
     "text": [
      " 98%|█████████▊| 54/55 [1:34:06<01:44, 104.57s/it]\n"
     ]
    }
   ],
   "source": [
    "# 아래 함수는 로지스틱 회귀를 위한 전진선택법 함수 입니다.\n",
    "def forward_stepwise_regression(x_train, y_train):\n",
    "\n",
    "    # 변수목록, 선택된 변수 목록, 단계별 모델과 AIC 저장소 정의\n",
    "    features = list(x_train)\n",
    "    selected = []\n",
    "    step_df = pd.DataFrame({ 'step':[], 'feature':[],'aic':[]})\n",
    "\n",
    "    # \n",
    "    for s in tqdm(range(0, len(features))) :\n",
    "        result =  { 'step':[], 'feature':[],'aic':[]}\n",
    "\n",
    "        # 변수 목록에서 변수 한개씩 뽑아서 모델에 추가\n",
    "        for f in features :\n",
    "            vars = selected + [f]\n",
    "            x_tr = x_train[vars]\n",
    "            model = sm.OLS(y_train, x_tr).fit()\n",
    "            result['step'].append(s+1)\n",
    "            result['feature'].append(vars)\n",
    "            result['aic'].append(model.aic)\n",
    "        \n",
    "        # 모델별 aic 집계\n",
    "        temp = pd.DataFrame(result).sort_values('aic').reset_index(drop = True)\n",
    "        \n",
    "        # 만약 이전 aic보다 새로운 aic 가 크다면 멈추기\n",
    "        if step_df['aic'].min() < temp['aic'].min() :\n",
    "            break\n",
    "        step_df = pd.concat([step_df, temp], axis = 0).reset_index(drop = True)\n",
    "\n",
    "        # 선택된 변수 제거\n",
    "        v = temp.loc[0,'feature'][s]\n",
    "        features.remove(v)\n",
    "\n",
    "        selected.append(v)\n",
    "    \n",
    "    # 선택된 변수와 step_df 결과 반환\n",
    "    return selected, step_df\n",
    "\n",
    "features, result = forward_stepwise_regression(h_train_X, h_train_y)\n",
    "\n",
    "pd.set_option('display.width', None)\n",
    "pd.set_option('display.max_colwidth', -1)"
   ]
  },
  {
   "cell_type": "code",
   "execution_count": 53,
   "metadata": {},
   "outputs": [
    {
     "data": {
      "text/plain": [
       "{'seasonal_accuracy_by_tag'}"
      ]
     },
     "execution_count": 53,
     "metadata": {},
     "output_type": "execute_result"
    }
   ],
   "source": [
    "train_X.columns, len(train_X.columns)\n",
    "set(h_train_X.columns) - set(features)"
   ]
  },
  {
   "cell_type": "code",
   "execution_count": 24,
   "metadata": {},
   "outputs": [
    {
     "name": "stdout",
     "output_type": "stream",
     "text": [
      "[-6.30055633e-07  7.02585874e-06  1.16222987e-02 -4.00802945e-04\n",
      "  4.37596084e-05  1.98934622e-03  2.93536597e-02  2.84672447e-02\n",
      "  1.05157175e+00  1.05241908e+00  1.03720081e+00 -9.33494039e-01\n",
      " -1.19892188e-01 -9.94245981e-02 -2.86054395e-02 -8.15118124e-03\n",
      " -2.94443181e-02  5.01969891e-02 -3.51579306e-01 -3.59062332e-01\n",
      " -1.59586420e-01 -6.62212069e-02 -6.63421904e-02 -4.21559188e-02\n",
      "  2.17484395e-02  3.91650231e-02 -3.61184466e-02  3.18352374e-02\n",
      "  8.55464831e-02  3.47768721e-02 -4.12970541e-02 -7.44496546e-02\n",
      "  6.53020952e-02 -2.13334563e-02 -1.02240067e-01 -1.09291096e-04\n",
      " -3.61078439e-02 -4.25307638e-02  8.64821695e-02  7.69605915e-02\n",
      "  2.64675108e-02  1.54534984e-01  4.52728791e-02  2.42721498e-02\n",
      " -7.78606590e-02 -1.01207995e-01 -9.87393335e-02 -1.21525983e-01\n",
      "  2.89793094e-03 -2.29129212e-03  1.22888392e-02  8.39047750e-03\n",
      "  7.29033866e-03  1.16538394e+00  1.44449379e-01  1.37814312e-01]\n",
      "0.7926910860175749\n",
      "0.8498385694673957\n",
      "              precision    recall  f1-score   support\n",
      "\n",
      "         0.0       0.75      0.61      0.67    261710\n",
      "         1.0       0.81      0.89      0.85    496077\n",
      "\n",
      "    accuracy                           0.79    757787\n",
      "   macro avg       0.78      0.75      0.76    757787\n",
      "weighted avg       0.79      0.79      0.79    757787\n",
      "\n"
     ]
    }
   ],
   "source": [
    "nt = pd.concat([h_train_X.iloc[:, :5], h_train_X.iloc[:, 22:]], axis=1)\n",
    "nv = pd.concat([h_valid_X.iloc[:, :5], h_valid_X.iloc[:, 22:]], axis=1)\n",
    "m1 = LinearRegression()\n",
    "m1.fit(nt, h_train_y)\n",
    "p1 = m1.predict(nv)\n",
    "\n",
    "print(m1.coef_)\n",
    "print(accuracy_score(h_valid_y, np.where(p1 > 0.5, 1, 0)))\n",
    "print(roc_auc_score(h_valid_y, p1))\n",
    "print(classification_report(h_valid_y, np.where(p1 > 0.5, 1, 0)))"
   ]
  },
  {
   "cell_type": "code",
   "execution_count": 24,
   "metadata": {},
   "outputs": [
    {
     "name": "stdout",
     "output_type": "stream",
     "text": [
      "0.792049359451456\n",
      "0.8492645021231646\n",
      "              precision    recall  f1-score   support\n",
      "\n",
      "         0.0       0.75      0.60      0.67    174474\n",
      "         1.0       0.81      0.89      0.85    330718\n",
      "\n",
      "    accuracy                           0.79    505192\n",
      "   macro avg       0.78      0.75      0.76    505192\n",
      "weighted avg       0.79      0.79      0.79    505192\n",
      "\n"
     ]
    }
   ],
   "source": [
    "m1 = LinearRegression()\n",
    "m1.fit(h_train_X, h_train_y)\n",
    "p1 = m1.predict(h_valid_X)\n",
    "\n",
    "print(accuracy_score(h_valid_y, np.where(p1 > 0.5, 1, 0)))\n",
    "print(roc_auc_score(h_valid_y, p1))\n",
    "print(classification_report(h_valid_y, np.where(p1 > 0.5, 1, 0)))"
   ]
  },
  {
   "cell_type": "code",
   "execution_count": 55,
   "metadata": {},
   "outputs": [
    {
     "name": "stdout",
     "output_type": "stream",
     "text": [
      "0.7926646933768988\n",
      "0.8498357590095279\n",
      "              precision    recall  f1-score   support\n",
      "\n",
      "         0.0       0.75      0.61      0.67    261710\n",
      "         1.0       0.81      0.89      0.85    496077\n",
      "\n",
      "    accuracy                           0.79    757787\n",
      "   macro avg       0.78      0.75      0.76    757787\n",
      "weighted avg       0.79      0.79      0.79    757787\n",
      "\n"
     ]
    }
   ],
   "source": [
    "m2 = LinearRegression()\n",
    "m2.fit(h_train_X[features], h_train_y)\n",
    "p2 = m2.predict(h_valid_X[features])\n",
    "\n",
    "print(accuracy_score(h_valid_y, np.where(p2 > 0.5, 1, 0)))\n",
    "print(roc_auc_score(h_valid_y, p2))\n",
    "print(classification_report(h_valid_y, np.where(p2 > 0.5, 1, 0)))"
   ]
  },
  {
   "cell_type": "markdown",
   "metadata": {},
   "source": [
    "## Linear model parameter search"
   ]
  },
  {
   "cell_type": "code",
   "execution_count": null,
   "metadata": {},
   "outputs": [],
   "source": [
    "def objective(trial):\n",
    "    param = {\n",
    "        'tol' : trial.suggest_uniform('tol' , 1e-6 , 1e-3),\n",
    "        'C' : trial.suggest_loguniform(\"C\", 1e-4, 1),\n",
    "        'solver' : trial.suggest_categorical('solver' , ['lbfgs','liblinear']),\n",
    "        'max_iter' : trial.suggest_int('max_iter', 1000, 10000),\n",
    "    }\n",
    "    model = LogisticRegression(**param, random_state=seed)\n",
    "    # LR_model = model.fit(h_train_X, h_train_y)\n",
    "    # loss = roc_auc_score(h_valid_y, LR_model.predict_proba(h_valid_X)[:, 1])\n",
    "    LR_model = model.fit(nt, h_train_y)\n",
    "    loss = roc_auc_score(h_valid_y, LR_model.predict_proba(nv)[:, 1])\n",
    "    \n",
    "    return loss\n",
    "study_LR = optuna.create_study(direction='maximize', sampler=sampler)\n",
    "study_LR.optimize(objective, n_trials=1000)"
   ]
  },
  {
   "cell_type": "code",
   "execution_count": 3,
   "metadata": {},
   "outputs": [
    {
     "data": {
      "text/plain": [
       "0.8162293044025792"
      ]
     },
     "execution_count": 3,
     "metadata": {},
     "output_type": "execute_result"
    }
   ],
   "source": [
    "model = LinearRegression()\n",
    "LR_model = model.fit(h_train_X, h_train_y)\n",
    "preds = LR_model.predict(h_valid_X)\n",
    "loss = roc_auc_score(h_valid_y, preds)\n",
    "loss"
   ]
  },
  {
   "cell_type": "code",
   "execution_count": null,
   "metadata": {},
   "outputs": [],
   "source": [
    "def objective(trial):\n",
    "    param = {\n",
    "        'tol' : trial.suggest_uniform('tol' , 1e-6 , 1.0),\n",
    "        'max_iter' : trial.suggest_int('max_iter', 1000, 10000),\n",
    "        'selection' : trial.suggest_categorical('selection' , ['cyclic','random']),\n",
    "    }\n",
    "    model = Lasso(**param, random_state=777)\n",
    "    Lasso_model = model.fit(h_train_X, h_train_y)\n",
    "    preds = Lasso_model.predict_proba(h_valid_X)[:, 1]\n",
    "    # pred_labels = np.rint(preds)\n",
    "    loss = roc_auc_score(h_valid_y, preds)\n",
    "    return loss\n",
    "    \n",
    "study_Lasso = optuna.create_study(direction='maximize', sampler=sampler)\n",
    "study_Lasso.optimize(objective, n_trials=1000)"
   ]
  },
  {
   "cell_type": "code",
   "execution_count": 20,
   "metadata": {},
   "outputs": [
    {
     "name": "stderr",
     "output_type": "stream",
     "text": [
      "\u001b[32m[I 2022-11-28 15:17:54,888]\u001b[0m A new study created in memory with name: no-name-a821e5ad-559f-4678-808c-de85783bbf88\u001b[0m\n",
      "\u001b[32m[I 2022-11-28 15:17:56,186]\u001b[0m Trial 0 finished with value: 0.7393077021129613 and parameters: {'tol': 0.7269892573300858, 'max_iter': 7917, 'selection': 'random', 'l1_ratio': 0.09337416345597153, 'alpha': 0.15937269153708025}. Best is trial 0 with value: 0.7393077021129613.\u001b[0m\n",
      "\u001b[32m[I 2022-11-28 15:17:57,313]\u001b[0m Trial 1 finished with value: 0.6290944276840383 and parameters: {'tol': 0.5896141638421108, 'max_iter': 4090, 'selection': 'cyclic', 'l1_ratio': 0.6817795980016734, 'alpha': 1.104514075217506}. Best is trial 0 with value: 0.7393077021129613.\u001b[0m\n",
      "\u001b[32m[I 2022-11-28 15:17:58,384]\u001b[0m Trial 2 finished with value: 0.6355215439610826 and parameters: {'tol': 0.26886078902820126, 'max_iter': 4359, 'selection': 'cyclic', 'l1_ratio': 0.39064870280554764, 'alpha': 0.3863256181112427}. Best is trial 0 with value: 0.7393077021129613.\u001b[0m\n",
      "\u001b[32m[I 2022-11-28 15:17:59,406]\u001b[0m Trial 3 finished with value: 0.6298796375309056 and parameters: {'tol': 0.6109113204441913, 'max_iter': 8946, 'selection': 'cyclic', 'l1_ratio': 0.1799311267978254, 'alpha': 1.6328091228316848}. Best is trial 0 with value: 0.7393077021129613.\u001b[0m\n",
      "\u001b[32m[I 2022-11-28 15:18:00,566]\u001b[0m Trial 4 finished with value: 0.7888073515957896 and parameters: {'tol': 0.22537239530723605, 'max_iter': 5652, 'selection': 'random', 'l1_ratio': 0.5326209501545657, 'alpha': 0.02662108596808794}. Best is trial 4 with value: 0.7888073515957896.\u001b[0m\n",
      "\u001b[32m[I 2022-11-28 15:18:01,546]\u001b[0m Trial 5 finished with value: 0.6297790408800034 and parameters: {'tol': 0.5240977383490875, 'max_iter': 9063, 'selection': 'cyclic', 'l1_ratio': 0.29587339821472786, 'alpha': 1.2240475465228875}. Best is trial 4 with value: 0.7888073515957896.\u001b[0m\n",
      "\u001b[32m[I 2022-11-28 15:18:02,531]\u001b[0m Trial 6 finished with value: 0.6293578942200375 and parameters: {'tol': 0.7261383959812187, 'max_iter': 5171, 'selection': 'cyclic', 'l1_ratio': 0.5578671640412252, 'alpha': 1.101556763424231}. Best is trial 4 with value: 0.7888073515957896.\u001b[0m\n",
      "\u001b[32m[I 2022-11-28 15:18:03,518]\u001b[0m Trial 7 finished with value: 0.6299497249379912 and parameters: {'tol': 0.47222601925263424, 'max_iter': 8127, 'selection': 'random', 'l1_ratio': 0.3623342486036186, 'alpha': 0.6884184432804952}. Best is trial 4 with value: 0.7888073515957896.\u001b[0m\n",
      "\u001b[32m[I 2022-11-28 15:18:04,498]\u001b[0m Trial 8 finished with value: 0.6722130191576579 and parameters: {'tol': 0.4495193003970065, 'max_iter': 1242, 'selection': 'random', 'l1_ratio': 0.09120647960184151, 'alpha': 0.6302442446561793}. Best is trial 4 with value: 0.7888073515957896.\u001b[0m\n",
      "\u001b[32m[I 2022-11-28 15:18:05,475]\u001b[0m Trial 9 finished with value: 0.6424670761249243 and parameters: {'tol': 0.528022716108118, 'max_iter': 3952, 'selection': 'cyclic', 'l1_ratio': 0.09702780556932467, 'alpha': 1.3851774544445943}. Best is trial 4 with value: 0.7888073515957896.\u001b[0m\n",
      "\u001b[32m[I 2022-11-28 15:18:06,578]\u001b[0m Trial 10 finished with value: 0.7686404180801385 and parameters: {'tol': 0.010244719927347018, 'max_iter': 6488, 'selection': 'random', 'l1_ratio': 0.9697277017086376, 'alpha': 0.025490116393431506}. Best is trial 4 with value: 0.7888073515957896.\u001b[0m\n",
      "\u001b[32m[I 2022-11-28 15:18:07,651]\u001b[0m Trial 11 finished with value: 0.699820317256202 and parameters: {'tol': 0.005099719080350684, 'max_iter': 6589, 'selection': 'random', 'l1_ratio': 0.9090585375026017, 'alpha': 0.04481202032656938}. Best is trial 4 with value: 0.7888073515957896.\u001b[0m\n",
      "\u001b[32m[I 2022-11-28 15:18:08,665]\u001b[0m Trial 12 finished with value: 0.6297151848846055 and parameters: {'tol': 0.007269889885772568, 'max_iter': 6411, 'selection': 'random', 'l1_ratio': 0.9764263423913941, 'alpha': 0.4169409662441139}. Best is trial 4 with value: 0.7888073515957896.\u001b[0m\n",
      "\u001b[32m[I 2022-11-28 15:18:09,657]\u001b[0m Trial 13 finished with value: 0.6270661286642 and parameters: {'tol': 0.2076110299587571, 'max_iter': 2459, 'selection': 'random', 'l1_ratio': 0.7650489623633852, 'alpha': 1.9243399155623457}. Best is trial 4 with value: 0.7888073515957896.\u001b[0m\n",
      "\u001b[32m[I 2022-11-28 15:18:10,793]\u001b[0m Trial 14 finished with value: 0.7782961724346951 and parameters: {'tol': 0.1929769581631509, 'max_iter': 6674, 'selection': 'random', 'l1_ratio': 0.5676985629729419, 'alpha': 0.03271087140036952}. Best is trial 4 with value: 0.7888073515957896.\u001b[0m\n",
      "\u001b[32m[I 2022-11-28 15:18:11,789]\u001b[0m Trial 15 finished with value: 0.6295375072015834 and parameters: {'tol': 0.9534471056017234, 'max_iter': 5356, 'selection': 'random', 'l1_ratio': 0.5337075581120833, 'alpha': 0.7762638299633111}. Best is trial 4 with value: 0.7888073515957896.\u001b[0m\n",
      "\u001b[32m[I 2022-11-28 15:18:12,780]\u001b[0m Trial 16 finished with value: 0.6299566469880015 and parameters: {'tol': 0.22384356299616676, 'max_iter': 7305, 'selection': 'random', 'l1_ratio': 0.6589510168409071, 'alpha': 0.37253188505347545}. Best is trial 4 with value: 0.7888073515957896.\u001b[0m\n",
      "\u001b[32m[I 2022-11-28 15:18:13,764]\u001b[0m Trial 17 finished with value: 0.6479094591696559 and parameters: {'tol': 0.34262485156713207, 'max_iter': 2781, 'selection': 'random', 'l1_ratio': 0.43976631478827477, 'alpha': 0.2876374745016843}. Best is trial 4 with value: 0.7888073515957896.\u001b[0m\n",
      "\u001b[32m[I 2022-11-28 15:18:14,757]\u001b[0m Trial 18 finished with value: 0.6290915702981742 and parameters: {'tol': 0.11902086407877366, 'max_iter': 9951, 'selection': 'random', 'l1_ratio': 0.7906316566267897, 'alpha': 0.8565451738093564}. Best is trial 4 with value: 0.7888073515957896.\u001b[0m\n",
      "\u001b[32m[I 2022-11-28 15:18:15,752]\u001b[0m Trial 19 finished with value: 0.6298423458170403 and parameters: {'tol': 0.34692137156689795, 'max_iter': 5350, 'selection': 'random', 'l1_ratio': 0.588083293106397, 'alpha': 0.5510707408382013}. Best is trial 4 with value: 0.7888073515957896.\u001b[0m\n",
      "\u001b[32m[I 2022-11-28 15:18:16,746]\u001b[0m Trial 20 finished with value: 0.6750141178857513 and parameters: {'tol': 0.3569511530508003, 'max_iter': 6946, 'selection': 'random', 'l1_ratio': 0.22923971467113813, 'alpha': 0.22761723990428556}. Best is trial 4 with value: 0.7888073515957896.\u001b[0m\n",
      "\u001b[32m[I 2022-11-28 15:18:17,738]\u001b[0m Trial 21 finished with value: 0.6524665026873235 and parameters: {'tol': 0.1143860664126197, 'max_iter': 5994, 'selection': 'random', 'l1_ratio': 0.8794102549303957, 'alpha': 0.13098041137747793}. Best is trial 4 with value: 0.7888073515957896.\u001b[0m\n",
      "\u001b[32m[I 2022-11-28 15:18:19,796]\u001b[0m Trial 22 finished with value: 0.8149428628096202 and parameters: {'tol': 0.11365686060152685, 'max_iter': 7479, 'selection': 'random', 'l1_ratio': 0.46471412261898914, 'alpha': 0.0014784366365553359}. Best is trial 22 with value: 0.8149428628096202.\u001b[0m\n",
      "\u001b[32m[I 2022-11-28 15:18:22,144]\u001b[0m Trial 23 finished with value: 0.815651923174169 and parameters: {'tol': 0.14465228676562708, 'max_iter': 7514, 'selection': 'random', 'l1_ratio': 0.47008652992070626, 'alpha': 0.000752380633556312}. Best is trial 23 with value: 0.815651923174169.\u001b[0m\n",
      "\u001b[32m[I 2022-11-28 15:18:23,138]\u001b[0m Trial 24 finished with value: 0.629982367949381 and parameters: {'tol': 0.11207252713152803, 'max_iter': 7486, 'selection': 'random', 'l1_ratio': 0.4724328306367565, 'alpha': 0.4798607123137812}. Best is trial 23 with value: 0.815651923174169.\u001b[0m\n",
      "\u001b[32m[I 2022-11-28 15:18:24,158]\u001b[0m Trial 25 finished with value: 0.6570710406872022 and parameters: {'tol': 0.11353156712712424, 'max_iter': 8622, 'selection': 'random', 'l1_ratio': 0.33727250463393066, 'alpha': 0.2786350265420586}. Best is trial 23 with value: 0.815651923174169.\u001b[0m\n",
      "\u001b[32m[I 2022-11-28 15:18:25,148]\u001b[0m Trial 26 finished with value: 0.6636628048907811 and parameters: {'tol': 0.2853610573863055, 'max_iter': 9733, 'selection': 'random', 'l1_ratio': 0.4308927750032029, 'alpha': 0.19615100986396874}. Best is trial 23 with value: 0.815651923174169.\u001b[0m\n",
      "\u001b[32m[I 2022-11-28 15:18:26,201]\u001b[0m Trial 27 finished with value: 0.8038007878891686 and parameters: {'tol': 0.39471543665557934, 'max_iter': 8001, 'selection': 'random', 'l1_ratio': 0.6615271775366061, 'alpha': 0.006232628112086491}. Best is trial 23 with value: 0.815651923174169.\u001b[0m\n",
      "\u001b[32m[I 2022-11-28 15:18:27,214]\u001b[0m Trial 28 finished with value: 0.6291770604597385 and parameters: {'tol': 0.9825199202678718, 'max_iter': 7828, 'selection': 'random', 'l1_ratio': 0.664242829681824, 'alpha': 0.9501492401655267}. Best is trial 23 with value: 0.815651923174169.\u001b[0m\n",
      "\u001b[32m[I 2022-11-28 15:18:28,305]\u001b[0m Trial 29 finished with value: 0.6559403549418932 and parameters: {'tol': 0.38130290570175374, 'max_iter': 7875, 'selection': 'random', 'l1_ratio': 0.7299201812993249, 'alpha': 0.13857663113505608}. Best is trial 23 with value: 0.815651923174169.\u001b[0m\n",
      "\u001b[32m[I 2022-11-28 15:18:29,484]\u001b[0m Trial 30 finished with value: 0.6565010246153901 and parameters: {'tol': 0.8645749545113502, 'max_iter': 8453, 'selection': 'random', 'l1_ratio': 0.30242049374722196, 'alpha': 0.3135345956225274}. Best is trial 23 with value: 0.815651923174169.\u001b[0m\n",
      "\u001b[32m[I 2022-11-28 15:18:30,680]\u001b[0m Trial 31 finished with value: 0.8000461796403591 and parameters: {'tol': 0.14754826897741136, 'max_iter': 5954, 'selection': 'random', 'l1_ratio': 0.61326318381272, 'alpha': 0.017052818957771665}. Best is trial 23 with value: 0.815651923174169.\u001b[0m\n",
      "\u001b[32m[I 2022-11-28 15:18:31,699]\u001b[0m Trial 32 finished with value: 0.6572928693976386 and parameters: {'tol': 0.06849327131171047, 'max_iter': 7250, 'selection': 'random', 'l1_ratio': 0.603618964627708, 'alpha': 0.15668694352243231}. Best is trial 23 with value: 0.815651923174169.\u001b[0m\n",
      "\u001b[32m[I 2022-11-28 15:18:32,686]\u001b[0m Trial 33 finished with value: 0.6705193633557154 and parameters: {'tol': 0.16488501607812128, 'max_iter': 4607, 'selection': 'random', 'l1_ratio': 0.4896887984161976, 'alpha': 0.14371716004827348}. Best is trial 23 with value: 0.815651923174169.\u001b[0m\n",
      "\u001b[32m[I 2022-11-28 15:18:33,680]\u001b[0m Trial 34 finished with value: 0.6297805580278799 and parameters: {'tol': 0.2885855156263294, 'max_iter': 9224, 'selection': 'cyclic', 'l1_ratio': 0.7081750403510667, 'alpha': 0.5128903564033885}. Best is trial 23 with value: 0.815651923174169.\u001b[0m\n",
      "\u001b[32m[I 2022-11-28 15:18:34,790]\u001b[0m Trial 35 finished with value: 0.7955275824127453 and parameters: {'tol': 0.06577573308465065, 'max_iter': 5844, 'selection': 'random', 'l1_ratio': 0.6273283222478371, 'alpha': 0.020739680335524726}. Best is trial 23 with value: 0.815651923174169.\u001b[0m\n",
      "\u001b[32m[I 2022-11-28 15:18:35,770]\u001b[0m Trial 36 finished with value: 0.6326686667516439 and parameters: {'tol': 0.41195980300256735, 'max_iter': 8384, 'selection': 'cyclic', 'l1_ratio': 0.40811416026539005, 'alpha': 0.3820965856229325}. Best is trial 23 with value: 0.815651923174169.\u001b[0m\n",
      "\u001b[32m[I 2022-11-28 15:18:36,762]\u001b[0m Trial 37 finished with value: 0.6300337586951315 and parameters: {'tol': 0.6229334525162001, 'max_iter': 7522, 'selection': 'random', 'l1_ratio': 0.8183438134254238, 'alpha': 0.23229712970376973}. Best is trial 23 with value: 0.815651923174169.\u001b[0m\n",
      "\u001b[32m[I 2022-11-28 15:18:37,746]\u001b[0m Trial 38 finished with value: 0.6290744196053608 and parameters: {'tol': 0.2967684019102364, 'max_iter': 4818, 'selection': 'cyclic', 'l1_ratio': 0.4981977291432648, 'alpha': 1.5295944078555421}. Best is trial 23 with value: 0.815651923174169.\u001b[0m\n",
      "\u001b[32m[I 2022-11-28 15:18:44,759]\u001b[0m Trial 39 finished with value: 0.8111526696946305 and parameters: {'tol': 0.15559632497380552, 'max_iter': 6095, 'selection': 'random', 'l1_ratio': 0.013740103654936886, 'alpha': 0.007697186662155001}. Best is trial 23 with value: 0.815651923174169.\u001b[0m\n",
      "\u001b[32m[I 2022-11-28 15:18:45,768]\u001b[0m Trial 40 finished with value: 0.6548387748593841 and parameters: {'tol': 0.24725420950691768, 'max_iter': 8918, 'selection': 'cyclic', 'l1_ratio': 0.16349253084750698, 'alpha': 0.6153161894482162}. Best is trial 23 with value: 0.815651923174169.\u001b[0m\n",
      "\u001b[32m[I 2022-11-28 15:18:55,555]\u001b[0m Trial 41 finished with value: 0.8117245674616864 and parameters: {'tol': 0.06411951214268627, 'max_iter': 6137, 'selection': 'random', 'l1_ratio': 0.019218147450422187, 'alpha': 0.0068895588977107266}. Best is trial 23 with value: 0.815651923174169.\u001b[0m\n",
      "\u001b[32m[I 2022-11-28 15:18:57,907]\u001b[0m Trial 42 finished with value: 0.7768543436314546 and parameters: {'tol': 0.04105887282098044, 'max_iter': 6911, 'selection': 'random', 'l1_ratio': 0.0150766913630135, 'alpha': 0.10250019210975587}. Best is trial 23 with value: 0.815651923174169.\u001b[0m\n",
      "\u001b[32m[I 2022-11-28 15:19:00,376]\u001b[0m Trial 43 finished with value: 0.7767613761675346 and parameters: {'tol': 0.1723879243447909, 'max_iter': 6216, 'selection': 'random', 'l1_ratio': 0.007148361964452838, 'alpha': 0.1069758224645484}. Best is trial 23 with value: 0.815651923174169.\u001b[0m\n",
      "\u001b[32m[I 2022-11-28 15:19:06,804]\u001b[0m Trial 44 finished with value: 0.8130840889216228 and parameters: {'tol': 0.06506392675308417, 'max_iter': 7860, 'selection': 'random', 'l1_ratio': 0.07375215959480709, 'alpha': 0.005139549296781959}. Best is trial 23 with value: 0.815651923174169.\u001b[0m\n",
      "\u001b[32m[I 2022-11-28 15:19:07,851]\u001b[0m Trial 45 finished with value: 0.7157653735329962 and parameters: {'tol': 0.059945952713299167, 'max_iter': 4095, 'selection': 'random', 'l1_ratio': 0.10669535094556969, 'alpha': 0.22740947785663948}. Best is trial 23 with value: 0.815651923174169.\u001b[0m\n",
      "\u001b[32m[I 2022-11-28 15:19:08,883]\u001b[0m Trial 46 finished with value: 0.6712511516498445 and parameters: {'tol': 0.08329854561387962, 'max_iter': 6875, 'selection': 'random', 'l1_ratio': 0.046463024943257665, 'alpha': 1.1490564518458999}. Best is trial 23 with value: 0.815651923174169.\u001b[0m\n",
      "\u001b[32m[I 2022-11-28 15:19:09,923]\u001b[0m Trial 47 finished with value: 0.6706265011665863 and parameters: {'tol': 0.15253073121831887, 'max_iter': 4986, 'selection': 'random', 'l1_ratio': 0.19690964518403206, 'alpha': 0.34055019547915927}. Best is trial 23 with value: 0.815651923174169.\u001b[0m\n",
      "\u001b[32m[I 2022-11-28 15:19:10,934]\u001b[0m Trial 48 finished with value: 0.6299568594081145 and parameters: {'tol': 0.03754633011748787, 'max_iter': 5647, 'selection': 'random', 'l1_ratio': 0.12139669411619007, 'alpha': 1.9807888737976023}. Best is trial 23 with value: 0.815651923174169.\u001b[0m\n",
      "\u001b[32m[I 2022-11-28 15:19:12,590]\u001b[0m Trial 49 finished with value: 0.7771291060059927 and parameters: {'tol': 0.2058672433803647, 'max_iter': 6375, 'selection': 'cyclic', 'l1_ratio': 0.05705455722753405, 'alpha': 0.08393467585850366}. Best is trial 23 with value: 0.815651923174169.\u001b[0m\n",
      "\u001b[32m[I 2022-11-28 15:19:13,602]\u001b[0m Trial 50 finished with value: 0.6295691240558952 and parameters: {'tol': 0.0019408036750344637, 'max_iter': 3568, 'selection': 'random', 'l1_ratio': 0.2728922776266904, 'alpha': 1.8120672309938053}. Best is trial 23 with value: 0.815651923174169.\u001b[0m\n",
      "\u001b[32m[I 2022-11-28 15:19:20,491]\u001b[0m Trial 51 finished with value: 0.8160724463688854 and parameters: {'tol': 0.09203213255661541, 'max_iter': 8096, 'selection': 'random', 'l1_ratio': 0.15359242888273858, 'alpha': 0.0002965759072645893}. Best is trial 51 with value: 0.8160724463688854.\u001b[0m\n",
      "\u001b[32m[I 2022-11-28 15:19:21,622]\u001b[0m Trial 52 finished with value: 0.7590225169134472 and parameters: {'tol': 0.11538294856180499, 'max_iter': 7659, 'selection': 'random', 'l1_ratio': 0.15040673702945573, 'alpha': 0.08682851804017894}. Best is trial 51 with value: 0.8160724463688854.\u001b[0m\n",
      "\u001b[32m[I 2022-11-28 15:19:22,663]\u001b[0m Trial 53 finished with value: 0.7355043596089444 and parameters: {'tol': 0.23730702775011497, 'max_iter': 8255, 'selection': 'random', 'l1_ratio': 0.0681741613864116, 'alpha': 0.20133387696301225}. Best is trial 51 with value: 0.8160724463688854.\u001b[0m\n",
      "\u001b[32m[I 2022-11-28 15:19:25,388]\u001b[0m Trial 54 finished with value: 0.8155341979441892 and parameters: {'tol': 0.0816418978924105, 'max_iter': 7166, 'selection': 'random', 'l1_ratio': 0.2129409442316454, 'alpha': 0.0011124352508633936}. Best is trial 51 with value: 0.8160724463688854.\u001b[0m\n",
      "\u001b[32m[I 2022-11-28 15:19:26,436]\u001b[0m Trial 55 finished with value: 0.6546030646843386 and parameters: {'tol': 0.0868071497957014, 'max_iter': 7272, 'selection': 'random', 'l1_ratio': 0.23066950758194274, 'alpha': 0.4498821809442918}. Best is trial 51 with value: 0.8160724463688854.\u001b[0m\n",
      "\u001b[32m[I 2022-11-28 15:19:27,460]\u001b[0m Trial 56 finished with value: 0.6553029156136259 and parameters: {'tol': 0.03497856157764111, 'max_iter': 9308, 'selection': 'random', 'l1_ratio': 0.3691007323447095, 'alpha': 0.2789386284498776}. Best is trial 51 with value: 0.8160724463688854.\u001b[0m\n",
      "\u001b[32m[I 2022-11-28 15:19:28,459]\u001b[0m Trial 57 finished with value: 0.6299415450045973 and parameters: {'tol': 0.18980685081345866, 'max_iter': 7048, 'selection': 'random', 'l1_ratio': 0.1937306560318448, 'alpha': 1.3079433954793542}. Best is trial 51 with value: 0.8160724463688854.\u001b[0m\n",
      "\u001b[32m[I 2022-11-28 15:19:29,779]\u001b[0m Trial 58 finished with value: 0.7734772647430433 and parameters: {'tol': 0.09299415375339828, 'max_iter': 8683, 'selection': 'random', 'l1_ratio': 0.13696335384229308, 'alpha': 0.0679040502435529}. Best is trial 51 with value: 0.8160724463688854.\u001b[0m\n",
      "\u001b[32m[I 2022-11-28 15:19:31,030]\u001b[0m Trial 59 finished with value: 0.6569901892630678 and parameters: {'tol': 0.14067354779332863, 'max_iter': 6605, 'selection': 'random', 'l1_ratio': 0.5386547860875904, 'alpha': 0.17817649519012227}. Best is trial 51 with value: 0.8160724463688854.\u001b[0m\n",
      "\u001b[32m[I 2022-11-28 15:19:32,170]\u001b[0m Trial 60 finished with value: 0.6717267053102487 and parameters: {'tol': 0.6603748944977292, 'max_iter': 8022, 'selection': 'random', 'l1_ratio': 0.2496879786895121, 'alpha': 0.26060386393650986}. Best is trial 51 with value: 0.8160724463688854.\u001b[0m\n",
      "\u001b[32m[I 2022-11-28 15:19:34,116]\u001b[0m Trial 61 finished with value: 0.7866449331994265 and parameters: {'tol': 0.14176994298655465, 'max_iter': 6195, 'selection': 'random', 'l1_ratio': 0.08280869339542475, 'alpha': 0.054920946879890124}. Best is trial 51 with value: 0.8160724463688854.\u001b[0m\n",
      "\u001b[32m[I 2022-11-28 15:19:52,767]\u001b[0m Trial 62 finished with value: 0.8140024055750601 and parameters: {'tol': 0.03093377977159037, 'max_iter': 7604, 'selection': 'random', 'l1_ratio': 0.03904919982366911, 'alpha': 0.003680776108644064}. Best is trial 51 with value: 0.8160724463688854.\u001b[0m\n",
      "\u001b[32m[I 2022-11-28 15:19:54,210]\u001b[0m Trial 63 finished with value: 0.7577963570359707 and parameters: {'tol': 0.02694039580328833, 'max_iter': 7696, 'selection': 'random', 'l1_ratio': 0.04503392141222654, 'alpha': 0.15270239482636977}. Best is trial 51 with value: 0.8160724463688854.\u001b[0m\n",
      "\u001b[32m[I 2022-11-28 15:19:56,043]\u001b[0m Trial 64 finished with value: 0.8126011675916958 and parameters: {'tol': 0.05915282188514505, 'max_iter': 7299, 'selection': 'random', 'l1_ratio': 0.31860796082873777, 'alpha': 0.0059818580120092075}. Best is trial 51 with value: 0.8160724463688854.\u001b[0m\n",
      "\u001b[32m[I 2022-11-28 15:19:57,130]\u001b[0m Trial 65 finished with value: 0.7010192186090768 and parameters: {'tol': 0.0031470831384724923, 'max_iter': 8187, 'selection': 'random', 'l1_ratio': 0.32853014255344604, 'alpha': 0.10992309015103865}. Best is trial 51 with value: 0.8160724463688854.\u001b[0m\n",
      "\u001b[32m[I 2022-11-28 15:19:58,209]\u001b[0m Trial 66 finished with value: 0.6380889028896152 and parameters: {'tol': 0.10031241860925295, 'max_iter': 7380, 'selection': 'random', 'l1_ratio': 0.4479690505506677, 'alpha': 0.3276711708287462}. Best is trial 51 with value: 0.8160724463688854.\u001b[0m\n",
      "\u001b[32m[I 2022-11-28 15:19:59,239]\u001b[0m Trial 67 finished with value: 0.6952218338274438 and parameters: {'tol': 0.8415760923188074, 'max_iter': 8679, 'selection': 'random', 'l1_ratio': 0.2124998666962437, 'alpha': 0.17313822008460616}. Best is trial 51 with value: 0.8160724463688854.\u001b[0m\n",
      "\u001b[32m[I 2022-11-28 15:20:00,276]\u001b[0m Trial 68 finished with value: 0.7534017879210647 and parameters: {'tol': 0.5108412078662249, 'max_iter': 1105, 'selection': 'random', 'l1_ratio': 0.27592550791980636, 'alpha': 0.0708815878783598}. Best is trial 51 with value: 0.8160724463688854.\u001b[0m\n",
      "\u001b[32m[I 2022-11-28 15:20:01,291]\u001b[0m Trial 69 finished with value: 0.6324698458152668 and parameters: {'tol': 0.05957250375641093, 'max_iter': 7095, 'selection': 'cyclic', 'l1_ratio': 0.3848458172652752, 'alpha': 0.4083789914127306}. Best is trial 51 with value: 0.8160724463688854.\u001b[0m\n",
      "\u001b[32m[I 2022-11-28 15:20:02,374]\u001b[0m Trial 70 finished with value: 0.7418066354054262 and parameters: {'tol': 0.1286993944205738, 'max_iter': 7858, 'selection': 'random', 'l1_ratio': 0.3295469372926236, 'alpha': 0.07254265230406551}. Best is trial 51 with value: 0.8160724463688854.\u001b[0m\n",
      "\u001b[32m[I 2022-11-28 15:20:07,480]\u001b[0m Trial 71 finished with value: 0.8140675381361361 and parameters: {'tol': 0.04663154105682818, 'max_iter': 7486, 'selection': 'random', 'l1_ratio': 0.11271888053491486, 'alpha': 0.0034231266513708018}. Best is trial 51 with value: 0.8160724463688854.\u001b[0m\n",
      "\u001b[32m[I 2022-11-28 15:20:09,736]\u001b[0m Trial 72 finished with value: 0.8072309832612764 and parameters: {'tol': 0.031947890382008196, 'max_iter': 6720, 'selection': 'random', 'l1_ratio': 0.16643148888979903, 'alpha': 0.014531170243010124}. Best is trial 51 with value: 0.8160724463688854.\u001b[0m\n",
      "\u001b[32m[I 2022-11-28 15:20:10,816]\u001b[0m Trial 73 finished with value: 0.7236178441311371 and parameters: {'tol': 0.09108438324088194, 'max_iter': 7559, 'selection': 'random', 'l1_ratio': 0.11417542087217708, 'alpha': 0.1921004919608288}. Best is trial 51 with value: 0.8160724463688854.\u001b[0m\n",
      "\u001b[32m[I 2022-11-28 15:20:11,987]\u001b[0m Trial 74 finished with value: 0.752805129736381 and parameters: {'tol': 0.1788948435376504, 'max_iter': 8106, 'selection': 'random', 'l1_ratio': 0.0859119353638051, 'alpha': 0.12891040414455798}. Best is trial 51 with value: 0.8160724463688854.\u001b[0m\n",
      "\u001b[32m[I 2022-11-28 15:20:16,928]\u001b[0m Trial 75 finished with value: 0.8133052358149682 and parameters: {'tol': 0.045314850199631475, 'max_iter': 8434, 'selection': 'random', 'l1_ratio': 0.13333542727384365, 'alpha': 0.004784721104617815}. Best is trial 51 with value: 0.8160724463688854.\u001b[0m\n",
      "\u001b[32m[I 2022-11-28 15:20:17,930]\u001b[0m Trial 76 finished with value: 0.6535654610616317 and parameters: {'tol': 0.5646196612778944, 'max_iter': 9494, 'selection': 'random', 'l1_ratio': 0.13391377928032033, 'alpha': 0.7749063075361622}. Best is trial 51 with value: 0.8160724463688854.\u001b[0m\n",
      "\u001b[32m[I 2022-11-28 15:20:18,943]\u001b[0m Trial 77 finished with value: 0.683880363490064 and parameters: {'tol': 0.2608607199523718, 'max_iter': 9002, 'selection': 'random', 'l1_ratio': 0.1810826991296844, 'alpha': 0.2500979680186954}. Best is trial 51 with value: 0.8160724463688854.\u001b[0m\n",
      "\u001b[32m[I 2022-11-28 15:20:21,168]\u001b[0m Trial 78 finished with value: 0.7882452220864266 and parameters: {'tol': 0.02471437011352552, 'max_iter': 8496, 'selection': 'random', 'l1_ratio': 0.09112583865747535, 'alpha': 0.050781632719718466}. Best is trial 51 with value: 0.8160724463688854.\u001b[0m\n",
      "\u001b[32m[I 2022-11-28 15:20:22,245]\u001b[0m Trial 79 finished with value: 0.7346827889047917 and parameters: {'tol': 0.20914805797403724, 'max_iter': 7714, 'selection': 'random', 'l1_ratio': 0.15133312047540576, 'alpha': 0.13514139660634727}. Best is trial 51 with value: 0.8160724463688854.\u001b[0m\n",
      "\u001b[32m[I 2022-11-28 15:20:23,250]\u001b[0m Trial 80 finished with value: 0.6823178195445376 and parameters: {'tol': 0.47222373004999096, 'max_iter': 8746, 'selection': 'cyclic', 'l1_ratio': 0.0380842267470425, 'alpha': 0.9755024357864919}. Best is trial 51 with value: 0.8160724463688854.\u001b[0m\n",
      "\u001b[32m[I 2022-11-28 15:20:24,765]\u001b[0m Trial 81 finished with value: 0.8100722583326675 and parameters: {'tol': 0.05043590461620362, 'max_iter': 7250, 'selection': 'random', 'l1_ratio': 0.24050657998278818, 'alpha': 0.01031152718687227}. Best is trial 51 with value: 0.8160724463688854.\u001b[0m\n",
      "\u001b[32m[I 2022-11-28 15:20:26,532]\u001b[0m Trial 82 finished with value: 0.8138736916552453 and parameters: {'tol': 0.07545284138614874, 'max_iter': 7940, 'selection': 'random', 'l1_ratio': 0.4095357978025177, 'alpha': 0.0036485252691504607}. Best is trial 51 with value: 0.8160724463688854.\u001b[0m\n",
      "\u001b[32m[I 2022-11-28 15:20:27,612]\u001b[0m Trial 83 finished with value: 0.6916270725194645 and parameters: {'tol': 0.10791490554096048, 'max_iter': 8279, 'selection': 'random', 'l1_ratio': 0.4614132566054872, 'alpha': 0.09377161803848175}. Best is trial 51 with value: 0.8160724463688854.\u001b[0m\n",
      "\u001b[32m[I 2022-11-28 15:20:28,705]\u001b[0m Trial 84 finished with value: 0.7379467073686797 and parameters: {'tol': 0.07870192765803798, 'max_iter': 8009, 'selection': 'random', 'l1_ratio': 0.5361569346480529, 'alpha': 0.05068994015998861}. Best is trial 51 with value: 0.8160724463688854.\u001b[0m\n",
      "\u001b[32m[I 2022-11-28 15:20:29,719]\u001b[0m Trial 85 finished with value: 0.6529494317639902 and parameters: {'tol': 0.13169923636371503, 'max_iter': 8426, 'selection': 'random', 'l1_ratio': 0.5751640687454068, 'alpha': 0.1962890940993377}. Best is trial 51 with value: 0.8160724463688854.\u001b[0m\n",
      "\u001b[32m[I 2022-11-28 15:20:30,800]\u001b[0m Trial 86 finished with value: 0.6745418148232485 and parameters: {'tol': 0.019073566602838314, 'max_iter': 7492, 'selection': 'random', 'l1_ratio': 0.40356221025758743, 'alpha': 0.13878614353929536}. Best is trial 51 with value: 0.8160724463688854.\u001b[0m\n",
      "\u001b[32m[I 2022-11-28 15:20:38,157]\u001b[0m Trial 87 finished with value: 0.8161783412006149 and parameters: {'tol': 0.16961692283389607, 'max_iter': 7896, 'selection': 'random', 'l1_ratio': 0.4988736777485168, 'alpha': 7.369191586368163e-05}. Best is trial 87 with value: 0.8161783412006149.\u001b[0m\n",
      "\u001b[32m[I 2022-11-28 15:20:39,183]\u001b[0m Trial 88 finished with value: 0.6840727887128133 and parameters: {'tol': 0.17492582368517853, 'max_iter': 7093, 'selection': 'random', 'l1_ratio': 0.4894155446745108, 'alpha': 0.09644484962188499}. Best is trial 87 with value: 0.8161783412006149.\u001b[0m\n",
      "\u001b[32m[I 2022-11-28 15:20:40,221]\u001b[0m Trial 89 finished with value: 0.65689448863841 and parameters: {'tol': 0.22348148161030904, 'max_iter': 6726, 'selection': 'random', 'l1_ratio': 0.41918373709146334, 'alpha': 0.2283267630000477}. Best is trial 87 with value: 0.8161783412006149.\u001b[0m\n",
      "\u001b[32m[I 2022-11-28 15:20:41,304]\u001b[0m Trial 90 finished with value: 0.7625715594237035 and parameters: {'tol': 0.10897955634505943, 'max_iter': 8820, 'selection': 'random', 'l1_ratio': 0.3574103621224029, 'alpha': 0.0533899056547734}. Best is trial 87 with value: 0.8161783412006149.\u001b[0m\n",
      "\u001b[32m[I 2022-11-28 15:20:42,427]\u001b[0m Trial 91 finished with value: 0.784634009909129 and parameters: {'tol': 0.07602211218756783, 'max_iter': 7884, 'selection': 'random', 'l1_ratio': 0.5091151111254789, 'alpha': 0.030750888233673793}. Best is trial 87 with value: 0.8161783412006149.\u001b[0m\n",
      "\u001b[32m[I 2022-11-28 15:20:50,901]\u001b[0m Trial 92 finished with value: 0.8099885751544998 and parameters: {'tol': 0.0007140764573805997, 'max_iter': 7693, 'selection': 'random', 'l1_ratio': 0.07315804907161072, 'alpha': 0.009762762186703992}. Best is trial 87 with value: 0.8161783412006149.\u001b[0m\n",
      "\u001b[32m[I 2022-11-28 15:20:51,959]\u001b[0m Trial 93 finished with value: 0.6751373041340697 and parameters: {'tol': 0.12897682838307575, 'max_iter': 8168, 'selection': 'random', 'l1_ratio': 0.47145514776491293, 'alpha': 0.11504185755681756}. Best is trial 87 with value: 0.8161783412006149.\u001b[0m\n",
      "\u001b[32m[I 2022-11-28 15:20:53,006]\u001b[0m Trial 94 finished with value: 0.6660874671726951 and parameters: {'tol': 0.04920796820064165, 'max_iter': 8553, 'selection': 'random', 'l1_ratio': 0.520062059971965, 'alpha': 0.15336580878345626}. Best is trial 87 with value: 0.8161783412006149.\u001b[0m\n",
      "\u001b[32m[I 2022-11-28 15:20:55,827]\u001b[0m Trial 95 finished with value: 0.8154061605729889 and parameters: {'tol': 0.08054812864891898, 'max_iter': 7511, 'selection': 'random', 'l1_ratio': 0.12220951075601232, 'alpha': 0.001385780266504265}. Best is trial 87 with value: 0.8161783412006149.\u001b[0m\n",
      "\u001b[32m[I 2022-11-28 15:20:57,007]\u001b[0m Trial 96 finished with value: 0.77667734731493 and parameters: {'tol': 0.14694912705702096, 'max_iter': 7523, 'selection': 'random', 'l1_ratio': 0.1257007512384357, 'alpha': 0.06535638167824201}. Best is trial 87 with value: 0.8161783412006149.\u001b[0m\n",
      "\u001b[32m[I 2022-11-28 15:20:58,224]\u001b[0m Trial 97 finished with value: 0.733028485501509 and parameters: {'tol': 0.1621539379705531, 'max_iter': 6842, 'selection': 'cyclic', 'l1_ratio': 0.030315433050477403, 'alpha': 0.3119290467233621}. Best is trial 87 with value: 0.8161783412006149.\u001b[0m\n",
      "\u001b[32m[I 2022-11-28 15:20:59,264]\u001b[0m Trial 98 finished with value: 0.6662519683617657 and parameters: {'tol': 0.0964157696751593, 'max_iter': 1542, 'selection': 'random', 'l1_ratio': 0.4370370393737173, 'alpha': 0.18116240580197004}. Best is trial 87 with value: 0.8161783412006149.\u001b[0m\n",
      "\u001b[32m[I 2022-11-28 15:21:00,358]\u001b[0m Trial 99 finished with value: 0.7396651505891919 and parameters: {'tol': 0.045583742236146356, 'max_iter': 9138, 'selection': 'random', 'l1_ratio': 0.21856083972524143, 'alpha': 0.0990011204076355}. Best is trial 87 with value: 0.8161783412006149.\u001b[0m\n",
      "\u001b[32m[I 2022-11-28 15:21:01,368]\u001b[0m Trial 100 finished with value: 0.6305456941394169 and parameters: {'tol': 0.08623150343851596, 'max_iter': 7140, 'selection': 'random', 'l1_ratio': 0.10948374120133522, 'alpha': 1.6308676070555945}. Best is trial 87 with value: 0.8161783412006149.\u001b[0m\n",
      "\u001b[32m[I 2022-11-28 15:21:02,455]\u001b[0m Trial 101 finished with value: 0.7460980369916266 and parameters: {'tol': 0.06383282209584558, 'max_iter': 7758, 'selection': 'random', 'l1_ratio': 0.5542929285805887, 'alpha': 0.046546805834512595}. Best is trial 87 with value: 0.8161783412006149.\u001b[0m\n",
      "\u001b[32m[I 2022-11-28 15:21:03,620]\u001b[0m Trial 102 finished with value: 0.786832185956899 and parameters: {'tol': 0.12022819981514575, 'max_iter': 7393, 'selection': 'random', 'l1_ratio': 0.16066942043919358, 'alpha': 0.04487219645161817}. Best is trial 87 with value: 0.8161783412006149.\u001b[0m\n",
      "\u001b[32m[I 2022-11-28 15:21:04,707]\u001b[0m Trial 103 finished with value: 0.7407355209284991 and parameters: {'tol': 0.07547492642352943, 'max_iter': 6452, 'selection': 'random', 'l1_ratio': 0.18570792931452665, 'alpha': 0.10805514723290412}. Best is trial 87 with value: 0.8161783412006149.\u001b[0m\n",
      "\u001b[32m[I 2022-11-28 15:21:09,748]\u001b[0m Trial 104 finished with value: 0.8071217488914463 and parameters: {'tol': 0.02845297772339652, 'max_iter': 7975, 'selection': 'random', 'l1_ratio': 0.05891607157598064, 'alpha': 0.014351522622893126}. Best is trial 87 with value: 0.8161783412006149.\u001b[0m\n",
      "\u001b[32m[I 2022-11-28 15:21:10,843]\u001b[0m Trial 105 finished with value: 0.7100845599337351 and parameters: {'tol': 0.018337986053988176, 'max_iter': 8236, 'selection': 'random', 'l1_ratio': 0.13297767559926407, 'alpha': 0.20976439310668057}. Best is trial 87 with value: 0.8161783412006149.\u001b[0m\n",
      "\u001b[32m[I 2022-11-28 15:21:13,380]\u001b[0m Trial 106 finished with value: 0.8110402793688376 and parameters: {'tol': 0.10570814571917399, 'max_iter': 7576, 'selection': 'random', 'l1_ratio': 0.10069061236098005, 'alpha': 0.008469708499391554}. Best is trial 87 with value: 0.8161783412006149.\u001b[0m\n",
      "\u001b[32m[I 2022-11-28 15:21:14,422]\u001b[0m Trial 107 finished with value: 0.7029552576485774 and parameters: {'tol': 0.3265414364299294, 'max_iter': 7893, 'selection': 'random', 'l1_ratio': 0.2094507088454175, 'alpha': 0.1534313347167063}. Best is trial 87 with value: 0.8161783412006149.\u001b[0m\n",
      "\u001b[32m[I 2022-11-28 15:21:15,922]\u001b[0m Trial 108 finished with value: 0.7760916480635883 and parameters: {'tol': 0.15790941143862186, 'max_iter': 6955, 'selection': 'random', 'l1_ratio': 0.07206060129398642, 'alpha': 0.0808585759848482}. Best is trial 87 with value: 0.8161783412006149.\u001b[0m\n",
      "\u001b[32m[I 2022-11-28 15:21:16,926]\u001b[0m Trial 109 finished with value: 0.6282260084232705 and parameters: {'tol': 0.19344233636784627, 'max_iter': 8457, 'selection': 'random', 'l1_ratio': 0.9989588840223564, 'alpha': 1.074711701731761}. Best is trial 87 with value: 0.8161783412006149.\u001b[0m\n",
      "\u001b[32m[I 2022-11-28 15:21:18,054]\u001b[0m Trial 110 finished with value: 0.768575868240273 and parameters: {'tol': 0.04592448880817299, 'max_iter': 7404, 'selection': 'random', 'l1_ratio': 0.25492644119531715, 'alpha': 0.057592256463612344}. Best is trial 87 with value: 0.8161783412006149.\u001b[0m\n",
      "\u001b[32m[I 2022-11-28 15:21:21,257]\u001b[0m Trial 111 finished with value: 0.8156594494872189 and parameters: {'tol': 0.05791133881847983, 'max_iter': 7185, 'selection': 'random', 'l1_ratio': 0.30252643331820456, 'alpha': 0.0008543466063558403}. Best is trial 87 with value: 0.8161783412006149.\u001b[0m\n",
      "\u001b[32m[I 2022-11-28 15:21:22,343]\u001b[0m Trial 112 finished with value: 0.6786102554445266 and parameters: {'tol': 0.07619209910954501, 'max_iter': 8092, 'selection': 'random', 'l1_ratio': 0.38679903872130295, 'alpha': 0.12774626561993938}. Best is trial 87 with value: 0.8161783412006149.\u001b[0m\n",
      "\u001b[32m[I 2022-11-28 15:21:23,734]\u001b[0m Trial 113 finished with value: 0.7903753243595593 and parameters: {'tol': 0.12894498544554187, 'max_iter': 7157, 'selection': 'random', 'l1_ratio': 0.16694924394715796, 'alpha': 0.03926345095814497}. Best is trial 87 with value: 0.8161783412006149.\u001b[0m\n",
      "\u001b[32m[I 2022-11-28 15:21:25,560]\u001b[0m Trial 114 finished with value: 0.814355648871335 and parameters: {'tol': 0.102134078009688, 'max_iter': 7747, 'selection': 'random', 'l1_ratio': 0.27940116712700547, 'alpha': 0.002695731162987028}. Best is trial 87 with value: 0.8161783412006149.\u001b[0m\n",
      "\u001b[32m[I 2022-11-28 15:21:26,635]\u001b[0m Trial 115 finished with value: 0.7382258540860296 and parameters: {'tol': 0.09798742648116171, 'max_iter': 7659, 'selection': 'random', 'l1_ratio': 0.2887165803190676, 'alpha': 0.08284371930631691}. Best is trial 87 with value: 0.8161783412006149.\u001b[0m\n",
      "\u001b[32m[I 2022-11-28 15:21:27,900]\u001b[0m Trial 116 finished with value: 0.8079748433157273 and parameters: {'tol': 0.049367071333936384, 'max_iter': 7336, 'selection': 'cyclic', 'l1_ratio': 0.4928631043777564, 'alpha': 0.010599832335444256}. Best is trial 87 with value: 0.8161783412006149.\u001b[0m\n",
      "\u001b[32m[I 2022-11-28 15:21:32,973]\u001b[0m Trial 117 finished with value: 0.8160668453893138 and parameters: {'tol': 0.019635218893399906, 'max_iter': 8321, 'selection': 'random', 'l1_ratio': 0.3595117750903584, 'alpha': 0.0002239010794786978}. Best is trial 87 with value: 0.8161783412006149.\u001b[0m\n",
      "\u001b[32m[I 2022-11-28 15:21:34,015]\u001b[0m Trial 118 finished with value: 0.6734951704951668 and parameters: {'tol': 0.013341862552173435, 'max_iter': 6840, 'selection': 'random', 'l1_ratio': 0.3532076014164384, 'alpha': 0.16914827740147706}. Best is trial 87 with value: 0.8161783412006149.\u001b[0m\n",
      "\u001b[32m[I 2022-11-28 15:21:35,049]\u001b[0m Trial 119 finished with value: 0.701450143526442 and parameters: {'tol': 0.11581987644820103, 'max_iter': 7820, 'selection': 'random', 'l1_ratio': 0.3064202421176766, 'alpha': 0.1146491555660982}. Best is trial 87 with value: 0.8161783412006149.\u001b[0m\n",
      "\u001b[32m[I 2022-11-28 15:21:36,213]\u001b[0m Trial 120 finished with value: 0.754823362760292 and parameters: {'tol': 0.14003163750271705, 'max_iter': 8335, 'selection': 'random', 'l1_ratio': 0.26304549717255354, 'alpha': 0.0712514088239151}. Best is trial 87 with value: 0.8161783412006149.\u001b[0m\n",
      "\u001b[32m[I 2022-11-28 15:21:38,869]\u001b[0m Trial 121 finished with value: 0.8153976388125322 and parameters: {'tol': 0.033919366444610785, 'max_iter': 8019, 'selection': 'random', 'l1_ratio': 0.41929543056678986, 'alpha': 0.0010951817997807913}. Best is trial 87 with value: 0.8161783412006149.\u001b[0m\n",
      "\u001b[32m[I 2022-11-28 15:21:40,702]\u001b[0m Trial 122 finished with value: 0.8143672822909607 and parameters: {'tol': 0.07337527670540604, 'max_iter': 8091, 'selection': 'random', 'l1_ratio': 0.41992131609269884, 'alpha': 0.002696084312334625}. Best is trial 87 with value: 0.8161783412006149.\u001b[0m\n",
      "\u001b[32m[I 2022-11-28 15:21:41,809]\u001b[0m Trial 123 finished with value: 0.7635944540497468 and parameters: {'tol': 0.015122456719156265, 'max_iter': 8129, 'selection': 'random', 'l1_ratio': 0.45344970701859705, 'alpha': 0.04568975684796303}. Best is trial 87 with value: 0.8161783412006149.\u001b[0m\n",
      "\u001b[32m[I 2022-11-28 15:21:42,839]\u001b[0m Trial 124 finished with value: 0.7054583042346113 and parameters: {'tol': 0.026963955346797658, 'max_iter': 7497, 'selection': 'random', 'l1_ratio': 0.3771634127399492, 'alpha': 0.0873618913634495}. Best is trial 87 with value: 0.8161783412006149.\u001b[0m\n",
      "\u001b[32m[I 2022-11-28 15:21:45,686]\u001b[0m Trial 125 finished with value: 0.8149187069843115 and parameters: {'tol': 0.09142257393522117, 'max_iter': 7717, 'selection': 'random', 'l1_ratio': 0.3501126326153666, 'alpha': 0.0016815537038146883}. Best is trial 87 with value: 0.8161783412006149.\u001b[0m\n",
      "\u001b[32m[I 2022-11-28 15:21:46,723]\u001b[0m Trial 126 finished with value: 0.6751495966678124 and parameters: {'tol': 0.10152044016991961, 'max_iter': 7749, 'selection': 'random', 'l1_ratio': 0.4245094565505732, 'alpha': 0.12710622939717597}. Best is trial 87 with value: 0.8161783412006149.\u001b[0m\n",
      "\u001b[32m[I 2022-11-28 15:21:51,987]\u001b[0m Trial 127 finished with value: 0.8159783083847039 and parameters: {'tol': 0.08525371353547395, 'max_iter': 7193, 'selection': 'random', 'l1_ratio': 0.3509955965699444, 'alpha': 0.00032451053975212155}. Best is trial 87 with value: 0.8161783412006149.\u001b[0m\n",
      "\u001b[32m[I 2022-11-28 15:21:53,078]\u001b[0m Trial 128 finished with value: 0.7593854162696658 and parameters: {'tol': 0.1760012372362845, 'max_iter': 6601, 'selection': 'random', 'l1_ratio': 0.3567594648598279, 'alpha': 0.05587615517216823}. Best is trial 87 with value: 0.8161783412006149.\u001b[0m\n",
      "\u001b[32m[I 2022-11-28 15:21:54,073]\u001b[0m Trial 129 finished with value: 0.6294430375633511 and parameters: {'tol': 0.0909286040209172, 'max_iter': 7222, 'selection': 'random', 'l1_ratio': 0.34339140172308213, 'alpha': 1.3886491658695503}. Best is trial 87 with value: 0.8161783412006149.\u001b[0m\n",
      "\u001b[32m[I 2022-11-28 15:21:55,101]\u001b[0m Trial 130 finished with value: 0.6657783844876088 and parameters: {'tol': 0.15061907825300339, 'max_iter': 7044, 'selection': 'random', 'l1_ratio': 0.30811090252315315, 'alpha': 0.25760072474982704}. Best is trial 87 with value: 0.8161783412006149.\u001b[0m\n",
      "\u001b[32m[I 2022-11-28 15:21:56,238]\u001b[0m Trial 131 finished with value: 0.7842401539391994 and parameters: {'tol': 0.06519092780495366, 'max_iter': 8008, 'selection': 'random', 'l1_ratio': 0.28627727148916693, 'alpha': 0.03866857204376202}. Best is trial 87 with value: 0.8161783412006149.\u001b[0m\n",
      "\u001b[32m[I 2022-11-28 15:21:59,514]\u001b[0m Trial 132 finished with value: 0.8158838950186511 and parameters: {'tol': 0.06566639690107283, 'max_iter': 8260, 'selection': 'random', 'l1_ratio': 0.40495016988864446, 'alpha': 0.0004040103531239062}. Best is trial 87 with value: 0.8161783412006149.\u001b[0m\n",
      "\u001b[32m[I 2022-11-28 15:22:00,544]\u001b[0m Trial 133 finished with value: 0.7043200114507172 and parameters: {'tol': 0.1200457003914887, 'max_iter': 8346, 'selection': 'random', 'l1_ratio': 0.4069474686258848, 'alpha': 0.08445062974999137}. Best is trial 87 with value: 0.8161783412006149.\u001b[0m\n",
      "\u001b[32m[I 2022-11-28 15:22:03,188]\u001b[0m Trial 134 finished with value: 0.8147063895547026 and parameters: {'tol': 0.00012348731715573769, 'max_iter': 8774, 'selection': 'random', 'l1_ratio': 0.43810715025109637, 'alpha': 0.0020536112949987016}. Best is trial 87 with value: 0.8161783412006149.\u001b[0m\n",
      "\u001b[32m[I 2022-11-28 15:22:04,200]\u001b[0m Trial 135 finished with value: 0.6296858794009764 and parameters: {'tol': 0.00613045768084447, 'max_iter': 8719, 'selection': 'random', 'l1_ratio': 0.47709152151080364, 'alpha': 0.8896351395780588}. Best is trial 87 with value: 0.8161783412006149.\u001b[0m\n",
      "\u001b[32m[I 2022-11-28 15:22:05,228]\u001b[0m Trial 136 finished with value: 0.6699877536617828 and parameters: {'tol': 0.06370159633671858, 'max_iter': 8943, 'selection': 'random', 'l1_ratio': 0.4387878095400454, 'alpha': 0.1619670322653212}. Best is trial 87 with value: 0.8161783412006149.\u001b[0m\n",
      "\u001b[32m[I 2022-11-28 15:22:06,358]\u001b[0m Trial 137 finished with value: 0.769774563481342 and parameters: {'tol': 0.0004710338600407613, 'max_iter': 9421, 'selection': 'random', 'l1_ratio': 0.38534849622828676, 'alpha': 0.04614119394868585}. Best is trial 87 with value: 0.8161783412006149.\u001b[0m\n",
      "\u001b[32m[I 2022-11-28 15:22:07,350]\u001b[0m Trial 138 finished with value: 0.6766324550302273 and parameters: {'tol': 0.7034256133638171, 'max_iter': 8595, 'selection': 'cyclic', 'l1_ratio': 0.4534942809033363, 'alpha': 0.11094944958276663}. Best is trial 87 with value: 0.8161783412006149.\u001b[0m\n",
      "\u001b[32m[I 2022-11-28 15:22:08,381]\u001b[0m Trial 139 finished with value: 0.7132532541714709 and parameters: {'tol': 0.03440699345115909, 'max_iter': 8085, 'selection': 'random', 'l1_ratio': 0.40390612458146113, 'alpha': 0.07678545793377295}. Best is trial 87 with value: 0.8161783412006149.\u001b[0m\n",
      "\u001b[32m[I 2022-11-28 15:22:09,463]\u001b[0m Trial 140 finished with value: 0.6796227374470276 and parameters: {'tol': 0.08270084258284519, 'max_iter': 8854, 'selection': 'random', 'l1_ratio': 0.33562293187919723, 'alpha': 0.14547280293443962}. Best is trial 87 with value: 0.8161783412006149.\u001b[0m\n",
      "\u001b[32m[I 2022-11-28 15:22:10,939]\u001b[0m Trial 141 finished with value: 0.8096828869972353 and parameters: {'tol': 0.05647728650301195, 'max_iter': 8286, 'selection': 'random', 'l1_ratio': 0.3623959326251352, 'alpha': 0.009761076358126708}. Best is trial 87 with value: 0.8161783412006149.\u001b[0m\n",
      "\u001b[32m[I 2022-11-28 15:22:12,012]\u001b[0m Trial 142 finished with value: 0.7645128856738156 and parameters: {'tol': 0.08901176535379905, 'max_iter': 7806, 'selection': 'random', 'l1_ratio': 0.4344502219592484, 'alpha': 0.046327822721436464}. Best is trial 87 with value: 0.8161783412006149.\u001b[0m\n",
      "\u001b[32m[I 2022-11-28 15:22:13,129]\u001b[0m Trial 143 finished with value: 0.7703828194194532 and parameters: {'tol': 0.11076689971553697, 'max_iter': 7627, 'selection': 'random', 'l1_ratio': 0.47201405258107787, 'alpha': 0.04082017780331806}. Best is trial 87 with value: 0.8161783412006149.\u001b[0m\n",
      "\u001b[32m[I 2022-11-28 15:22:15,497]\u001b[0m Trial 144 finished with value: 0.8148373973760421 and parameters: {'tol': 0.13016055249912745, 'max_iter': 7350, 'selection': 'random', 'l1_ratio': 0.32175664415927546, 'alpha': 0.0018069901051615549}. Best is trial 87 with value: 0.8161783412006149.\u001b[0m\n",
      "\u001b[32m[I 2022-11-28 15:22:16,518]\u001b[0m Trial 145 finished with value: 0.7883618683879123 and parameters: {'tol': 0.8320259484993907, 'max_iter': 8161, 'selection': 'random', 'l1_ratio': 0.3175431981188951, 'alpha': 1.3758084498439929e-05}. Best is trial 87 with value: 0.8161783412006149.\u001b[0m\n",
      "\u001b[32m[I 2022-11-28 15:22:17,556]\u001b[0m Trial 146 finished with value: 0.7051654894606048 and parameters: {'tol': 0.12856454073167126, 'max_iter': 7263, 'selection': 'random', 'l1_ratio': 0.3769243150827766, 'alpha': 0.08810432056283429}. Best is trial 87 with value: 0.8161783412006149.\u001b[0m\n",
      "\u001b[32m[I 2022-11-28 15:22:18,622]\u001b[0m Trial 147 finished with value: 0.681119267418855 and parameters: {'tol': 0.06300140019295244, 'max_iter': 8570, 'selection': 'random', 'l1_ratio': 0.419115962656691, 'alpha': 0.1152757841658253}. Best is trial 87 with value: 0.8161783412006149.\u001b[0m\n",
      "\u001b[32m[I 2022-11-28 15:22:21,674]\u001b[0m Trial 148 finished with value: 0.815871026366624 and parameters: {'tol': 0.03601663555318243, 'max_iter': 7397, 'selection': 'random', 'l1_ratio': 0.38921903152212084, 'alpha': 0.00043581710349343004}. Best is trial 87 with value: 0.8161783412006149.\u001b[0m\n",
      "\u001b[32m[I 2022-11-28 15:22:22,754]\u001b[0m Trial 149 finished with value: 0.7565209609769337 and parameters: {'tol': 0.03606507244504188, 'max_iter': 7396, 'selection': 'random', 'l1_ratio': 0.5213725928100231, 'alpha': 0.04475369622068826}. Best is trial 87 with value: 0.8161783412006149.\u001b[0m\n",
      "\u001b[32m[I 2022-11-28 15:22:23,790]\u001b[0m Trial 150 finished with value: 0.6299564818108705 and parameters: {'tol': 0.19651915441324344, 'max_iter': 6911, 'selection': 'random', 'l1_ratio': 0.3931932875738966, 'alpha': 0.6226919946647123}. Best is trial 87 with value: 0.8161783412006149.\u001b[0m\n",
      "\u001b[32m[I 2022-11-28 15:22:29,065]\u001b[0m Trial 151 finished with value: 0.8160133849988932 and parameters: {'tol': 0.07496027445404074, 'max_iter': 7911, 'selection': 'random', 'l1_ratio': 0.33547217458654227, 'alpha': 0.0002935190924621843}. Best is trial 87 with value: 0.8161783412006149.\u001b[0m\n",
      "\u001b[32m[I 2022-11-28 15:22:30,130]\u001b[0m Trial 152 finished with value: 0.7551369065970291 and parameters: {'tol': 0.0485341652885507, 'max_iter': 7549, 'selection': 'random', 'l1_ratio': 0.33804763638097973, 'alpha': 0.061091685956553815}. Best is trial 87 with value: 0.8161783412006149.\u001b[0m\n",
      "\u001b[32m[I 2022-11-28 15:22:31,154]\u001b[0m Trial 153 finished with value: 0.7072557832652651 and parameters: {'tol': 0.026351536212283366, 'max_iter': 7878, 'selection': 'random', 'l1_ratio': 0.36820411214406445, 'alpha': 0.08729579970749209}. Best is trial 87 with value: 0.8161783412006149.\u001b[0m\n",
      "\u001b[32m[I 2022-11-28 15:22:32,276]\u001b[0m Trial 154 finished with value: 0.7805349137744939 and parameters: {'tol': 0.08083413968861711, 'max_iter': 7084, 'selection': 'random', 'l1_ratio': 0.31577922827338634, 'alpha': 0.04090370769872201}. Best is trial 87 with value: 0.8161783412006149.\u001b[0m\n",
      "\u001b[32m[I 2022-11-28 15:22:33,307]\u001b[0m Trial 155 finished with value: 0.6740504216274154 and parameters: {'tol': 0.13929571853204523, 'max_iter': 7353, 'selection': 'random', 'l1_ratio': 0.5073790207671334, 'alpha': 0.116177704168411}. Best is trial 87 with value: 0.8161783412006149.\u001b[0m\n",
      "\u001b[32m[I 2022-11-28 15:22:34,368]\u001b[0m Trial 156 finished with value: 0.729575920924135 and parameters: {'tol': 0.15514188473486165, 'max_iter': 7655, 'selection': 'random', 'l1_ratio': 0.3951232780061507, 'alpha': 0.06966752322113888}. Best is trial 87 with value: 0.8161783412006149.\u001b[0m\n",
      "\u001b[32m[I 2022-11-28 15:22:36,609]\u001b[0m Trial 157 finished with value: 0.8151415406912679 and parameters: {'tol': 0.0445091359426908, 'max_iter': 6755, 'selection': 'random', 'l1_ratio': 0.34443236320174225, 'alpha': 0.0014651332791120507}. Best is trial 87 with value: 0.8161783412006149.\u001b[0m\n",
      "\u001b[32m[I 2022-11-28 15:22:37,633]\u001b[0m Trial 158 finished with value: 0.6740244880899484 and parameters: {'tol': 0.09457075995592762, 'max_iter': 6286, 'selection': 'random', 'l1_ratio': 0.3465208359294674, 'alpha': 0.16792792895396305}. Best is trial 87 with value: 0.8161783412006149.\u001b[0m\n",
      "\u001b[32m[I 2022-11-28 15:22:38,772]\u001b[0m Trial 159 finished with value: 0.7940354926053159 and parameters: {'tol': 0.12208506239252245, 'max_iter': 6671, 'selection': 'random', 'l1_ratio': 0.2950334492397165, 'alpha': 0.028671366655222418}. Best is trial 87 with value: 0.8161783412006149.\u001b[0m\n",
      "\u001b[32m[I 2022-11-28 15:22:39,782]\u001b[0m Trial 160 finished with value: 0.6918178032338547 and parameters: {'tol': 0.05221899944081077, 'max_iter': 6968, 'selection': 'cyclic', 'l1_ratio': 0.32257680612313766, 'alpha': 0.13030582053234602}. Best is trial 87 with value: 0.8161783412006149.\u001b[0m\n",
      "\u001b[32m[I 2022-11-28 15:22:41,408]\u001b[0m Trial 161 finished with value: 0.8130211221722404 and parameters: {'tol': 0.032510353089456046, 'max_iter': 7444, 'selection': 'random', 'l1_ratio': 0.37030190813764535, 'alpha': 0.005159787043087253}. Best is trial 87 with value: 0.8161783412006149.\u001b[0m\n",
      "\u001b[32m[I 2022-11-28 15:22:43,051]\u001b[0m Trial 162 finished with value: 0.8132526601299684 and parameters: {'tol': 0.0015950898353817022, 'max_iter': 7266, 'selection': 'random', 'l1_ratio': 0.4405566050274774, 'alpha': 0.004648447542672875}. Best is trial 87 with value: 0.8161783412006149.\u001b[0m\n",
      "\u001b[32m[I 2022-11-28 15:22:44,124]\u001b[0m Trial 163 finished with value: 0.7619934287372054 and parameters: {'tol': 0.06808228964824457, 'max_iter': 7900, 'selection': 'random', 'l1_ratio': 0.4839856446384538, 'alpha': 0.0446155976268585}. Best is trial 87 with value: 0.8161783412006149.\u001b[0m\n",
      "\u001b[32m[I 2022-11-28 15:22:46,358]\u001b[0m Trial 164 finished with value: 0.8146720263684621 and parameters: {'tol': 0.017466934516712114, 'max_iter': 7162, 'selection': 'random', 'l1_ratio': 0.35159894383664064, 'alpha': 0.002076209604690412}. Best is trial 87 with value: 0.8161783412006149.\u001b[0m\n",
      "\u001b[32m[I 2022-11-28 15:22:47,351]\u001b[0m Trial 165 finished with value: 0.6298983772065773 and parameters: {'tol': 0.042008610502164596, 'max_iter': 7588, 'selection': 'random', 'l1_ratio': 0.3992497642423843, 'alpha': 0.7146799360987792}. Best is trial 87 with value: 0.8161783412006149.\u001b[0m\n",
      "\u001b[32m[I 2022-11-28 15:22:48,426]\u001b[0m Trial 166 finished with value: 0.72992773188807 and parameters: {'tol': 0.1038815155056361, 'max_iter': 6836, 'selection': 'random', 'l1_ratio': 0.3256930424508424, 'alpha': 0.08184232144352384}. Best is trial 87 with value: 0.8161783412006149.\u001b[0m\n",
      "\u001b[32m[I 2022-11-28 15:22:50,758]\u001b[0m Trial 167 finished with value: 0.8155827722734114 and parameters: {'tol': 0.08265061042431268, 'max_iter': 8384, 'selection': 'random', 'l1_ratio': 0.45461301310540214, 'alpha': 0.0008480382316014767}. Best is trial 87 with value: 0.8161783412006149.\u001b[0m\n",
      "\u001b[32m[I 2022-11-28 15:22:51,829]\u001b[0m Trial 168 finished with value: 0.7435009701302636 and parameters: {'tol': 0.0733709580905898, 'max_iter': 7988, 'selection': 'random', 'l1_ratio': 0.46602141823197457, 'alpha': 0.054580779680837965}. Best is trial 87 with value: 0.8161783412006149.\u001b[0m\n",
      "\u001b[32m[I 2022-11-28 15:22:52,852]\u001b[0m Trial 169 finished with value: 0.7376829695754719 and parameters: {'tol': 0.41603196253234415, 'max_iter': 8300, 'selection': 'random', 'l1_ratio': 0.24377107363321815, 'alpha': 0.09425975263953694}. Best is trial 87 with value: 0.8161783412006149.\u001b[0m\n",
      "\u001b[32m[I 2022-11-28 15:22:54,000]\u001b[0m Trial 170 finished with value: 0.7711437434621549 and parameters: {'tol': 0.08930922636151803, 'max_iter': 7719, 'selection': 'random', 'l1_ratio': 0.3797266127725706, 'alpha': 0.04547999265577447}. Best is trial 87 with value: 0.8161783412006149.\u001b[0m\n",
      "\u001b[32m[I 2022-11-28 15:22:55,804]\u001b[0m Trial 171 finished with value: 0.813599615274452 and parameters: {'tol': 0.05383431514851536, 'max_iter': 8462, 'selection': 'random', 'l1_ratio': 0.42466744862501987, 'alpha': 0.004106971394335843}. Best is trial 87 with value: 0.8161783412006149.\u001b[0m\n",
      "\u001b[32m[I 2022-11-28 15:22:58,963]\u001b[0m Trial 172 finished with value: 0.8158909443612885 and parameters: {'tol': 0.12500299048525843, 'max_iter': 7386, 'selection': 'random', 'l1_ratio': 0.45114741435060907, 'alpha': 0.0003760067468257767}. Best is trial 87 with value: 0.8161783412006149.\u001b[0m\n",
      "\u001b[32m[I 2022-11-28 15:23:00,035]\u001b[0m Trial 173 finished with value: 0.7501995845274995 and parameters: {'tol': 0.1323543642495849, 'max_iter': 7330, 'selection': 'random', 'l1_ratio': 0.49616875272101824, 'alpha': 0.04918205795585526}. Best is trial 87 with value: 0.8161783412006149.\u001b[0m\n",
      "\u001b[32m[I 2022-11-28 15:23:16,510]\u001b[0m Trial 174 finished with value: 0.8162172519657805 and parameters: {'tol': 0.16613354263539343, 'max_iter': 7453, 'selection': 'random', 'l1_ratio': 0.46745486556719534, 'alpha': 2.3460939654093788e-05}. Best is trial 174 with value: 0.8162172519657805.\u001b[0m\n",
      "\u001b[32m[I 2022-11-28 15:23:17,558]\u001b[0m Trial 175 finished with value: 0.6995620571879487 and parameters: {'tol': 0.16488425499281867, 'max_iter': 7077, 'selection': 'random', 'l1_ratio': 0.45212534231185464, 'alpha': 0.0850912726507714}. Best is trial 174 with value: 0.8162172519657805.\u001b[0m\n",
      "\u001b[32m[I 2022-11-28 15:23:18,636]\u001b[0m Trial 176 finished with value: 0.7671517112237478 and parameters: {'tol': 0.1033428527282845, 'max_iter': 7576, 'selection': 'random', 'l1_ratio': 0.5449188235324907, 'alpha': 0.038913611993216066}. Best is trial 174 with value: 0.8162172519657805.\u001b[0m\n",
      "\u001b[32m[I 2022-11-28 15:23:19,626]\u001b[0m Trial 177 finished with value: 0.6287484834804412 and parameters: {'tol': 0.21561082174861435, 'max_iter': 7920, 'selection': 'random', 'l1_ratio': 0.47194414566924214, 'alpha': 1.7919240419324}. Best is trial 174 with value: 0.8162172519657805.\u001b[0m\n",
      "\u001b[32m[I 2022-11-28 15:23:20,623]\u001b[0m Trial 178 finished with value: 0.6731276816375092 and parameters: {'tol': 0.17788711470143861, 'max_iter': 8189, 'selection': 'random', 'l1_ratio': 0.5088636988620542, 'alpha': 0.12265524155299028}. Best is trial 174 with value: 0.8162172519657805.\u001b[0m\n",
      "\u001b[32m[I 2022-11-28 15:23:21,665]\u001b[0m Trial 179 finished with value: 0.7058039024518227 and parameters: {'tol': 0.07483541100433445, 'max_iter': 7772, 'selection': 'random', 'l1_ratio': 0.4579327918928012, 'alpha': 0.07359760036449338}. Best is trial 174 with value: 0.8162172519657805.\u001b[0m\n",
      "\u001b[32m[I 2022-11-28 15:23:23,983]\u001b[0m Trial 180 finished with value: 0.8151283968826663 and parameters: {'tol': 0.11574004028532142, 'max_iter': 7543, 'selection': 'random', 'l1_ratio': 0.4107168742584672, 'alpha': 0.0013816810982032104}. Best is trial 174 with value: 0.8162172519657805.\u001b[0m\n",
      "\u001b[32m[I 2022-11-28 15:23:26,349]\u001b[0m Trial 181 finished with value: 0.815264283850329 and parameters: {'tol': 0.11095093558931625, 'max_iter': 7499, 'selection': 'random', 'l1_ratio': 0.4029178628951387, 'alpha': 0.0012567307256805941}. Best is trial 174 with value: 0.8162172519657805.\u001b[0m\n",
      "\u001b[32m[I 2022-11-28 15:23:27,479]\u001b[0m Trial 182 finished with value: 0.7722137920084737 and parameters: {'tol': 0.11762671452626837, 'max_iter': 7464, 'selection': 'random', 'l1_ratio': 0.40974488526707276, 'alpha': 0.04295697107522021}. Best is trial 174 with value: 0.8162172519657805.\u001b[0m\n",
      "\u001b[32m[I 2022-11-28 15:23:28,565]\u001b[0m Trial 183 finished with value: 0.7699124639948005 and parameters: {'tol': 0.1475018068863734, 'max_iter': 7181, 'selection': 'random', 'l1_ratio': 0.425944998281077, 'alpha': 0.04340761201585078}. Best is trial 174 with value: 0.8162172519657805.\u001b[0m\n",
      "\u001b[32m[I 2022-11-28 15:23:29,605]\u001b[0m Trial 184 finished with value: 0.7026608132863176 and parameters: {'tol': 0.11201415875330388, 'max_iter': 7532, 'selection': 'random', 'l1_ratio': 0.3922375380444374, 'alpha': 0.09058463886032325}. Best is trial 174 with value: 0.8162172519657805.\u001b[0m\n",
      "\u001b[32m[I 2022-11-28 15:23:30,715]\u001b[0m Trial 185 finished with value: 0.7736092044088021 and parameters: {'tol': 0.08497163387889939, 'max_iter': 3157, 'selection': 'random', 'l1_ratio': 0.4382980455393234, 'alpha': 0.040534543468613446}. Best is trial 174 with value: 0.8162172519657805.\u001b[0m\n",
      "\u001b[32m[I 2022-11-28 15:23:32,924]\u001b[0m Trial 186 finished with value: 0.8145855062197762 and parameters: {'tol': 0.06065239633048109, 'max_iter': 7175, 'selection': 'random', 'l1_ratio': 0.48575512569505874, 'alpha': 0.002332198560544744}. Best is trial 174 with value: 0.8162172519657805.\u001b[0m\n",
      "\u001b[32m[I 2022-11-28 15:23:33,939]\u001b[0m Trial 187 finished with value: 0.7005107216861239 and parameters: {'tol': 0.5479356601532496, 'max_iter': 7981, 'selection': 'random', 'l1_ratio': 0.4594018558238838, 'alpha': 0.07779016246267081}. Best is trial 174 with value: 0.8162172519657805.\u001b[0m\n",
      "\u001b[32m[I 2022-11-28 15:23:34,940]\u001b[0m Trial 188 finished with value: 0.6831537727904573 and parameters: {'tol': 0.16037792419602404, 'max_iter': 7406, 'selection': 'random', 'l1_ratio': 0.4038188119237794, 'alpha': 0.1175272724360454}. Best is trial 174 with value: 0.8162172519657805.\u001b[0m\n",
      "\u001b[32m[I 2022-11-28 15:23:37,272]\u001b[0m Trial 189 finished with value: 0.8152195682987443 and parameters: {'tol': 0.1371069972261135, 'max_iter': 6949, 'selection': 'random', 'l1_ratio': 0.4232097568819475, 'alpha': 0.0012760594907638137}. Best is trial 174 with value: 0.8162172519657805.\u001b[0m\n",
      "\u001b[32m[I 2022-11-28 15:23:38,403]\u001b[0m Trial 190 finished with value: 0.7830858819705925 and parameters: {'tol': 0.13443325344083873, 'max_iter': 5450, 'selection': 'random', 'l1_ratio': 0.36890255109917924, 'alpha': 0.03624190452036571}. Best is trial 174 with value: 0.8162172519657805.\u001b[0m\n",
      "\u001b[32m[I 2022-11-28 15:23:39,511]\u001b[0m Trial 191 finished with value: 0.7763426770441016 and parameters: {'tol': 0.11054604168901475, 'max_iter': 6938, 'selection': 'random', 'l1_ratio': 0.42277502641078973, 'alpha': 0.03943055347328735}. Best is trial 174 with value: 0.8162172519657805.\u001b[0m\n",
      "\u001b[32m[I 2022-11-28 15:23:41,150]\u001b[0m Trial 192 finished with value: 0.8135887863892887 and parameters: {'tol': 0.1845387679057438, 'max_iter': 7189, 'selection': 'random', 'l1_ratio': 0.4489006177408719, 'alpha': 0.004090336661272972}. Best is trial 174 with value: 0.8162172519657805.\u001b[0m\n",
      "\u001b[32m[I 2022-11-28 15:23:42,190]\u001b[0m Trial 193 finished with value: 0.7182600942887022 and parameters: {'tol': 0.14710268289139414, 'max_iter': 6484, 'selection': 'random', 'l1_ratio': 0.38684120759088186, 'alpha': 0.0771566873958368}. Best is trial 174 with value: 0.8162172519657805.\u001b[0m\n",
      "\u001b[32m[I 2022-11-28 15:23:43,305]\u001b[0m Trial 194 finished with value: 0.7792731519602807 and parameters: {'tol': 0.0945169073534109, 'max_iter': 7019, 'selection': 'random', 'l1_ratio': 0.40759198007470704, 'alpha': 0.037983571399808985}. Best is trial 174 with value: 0.8162172519657805.\u001b[0m\n",
      "\u001b[32m[I 2022-11-28 15:23:45,603]\u001b[0m Trial 195 finished with value: 0.8156344084712348 and parameters: {'tol': 0.03962857892428871, 'max_iter': 6835, 'selection': 'random', 'l1_ratio': 0.47641409180119987, 'alpha': 0.0007684687538857724}. Best is trial 174 with value: 0.8162172519657805.\u001b[0m\n",
      "\u001b[32m[I 2022-11-28 15:23:48,278]\u001b[0m Trial 196 finished with value: 0.8156778637131638 and parameters: {'tol': 0.03726473790751472, 'max_iter': 6676, 'selection': 'random', 'l1_ratio': 0.5181430526915021, 'alpha': 0.0006872088145268049}. Best is trial 174 with value: 0.8162172519657805.\u001b[0m\n",
      "\u001b[32m[I 2022-11-28 15:23:49,338]\u001b[0m Trial 197 finished with value: 0.7012097252052569 and parameters: {'tol': 0.02203740144355929, 'max_iter': 6699, 'selection': 'cyclic', 'l1_ratio': 0.5148725135308241, 'alpha': 0.0741192767194238}. Best is trial 174 with value: 0.8162172519657805.\u001b[0m\n",
      "\u001b[32m[I 2022-11-28 15:23:51,370]\u001b[0m Trial 198 finished with value: 0.8147895539959187 and parameters: {'tol': 0.031115286516007187, 'max_iter': 6789, 'selection': 'random', 'l1_ratio': 0.5257947865336408, 'alpha': 0.0017561697473540226}. Best is trial 174 with value: 0.8162172519657805.\u001b[0m\n",
      "\u001b[32m[I 2022-11-28 15:23:52,394]\u001b[0m Trial 199 finished with value: 0.6707668785917993 and parameters: {'tol': 0.043993605932711746, 'max_iter': 6557, 'selection': 'random', 'l1_ratio': 0.48722103942496064, 'alpha': 0.14216420279076367}. Best is trial 174 with value: 0.8162172519657805.\u001b[0m\n",
      "\u001b[32m[I 2022-11-28 15:23:53,468]\u001b[0m Trial 200 finished with value: 0.724797405098056 and parameters: {'tol': 0.05700509377576665, 'max_iter': 5976, 'selection': 'random', 'l1_ratio': 0.4730164655814305, 'alpha': 0.06173667511830782}. Best is trial 174 with value: 0.8162172519657805.\u001b[0m\n",
      "\u001b[32m[I 2022-11-28 15:23:55,235]\u001b[0m Trial 201 finished with value: 0.8140858362129745 and parameters: {'tol': 0.06078873526555792, 'max_iter': 6971, 'selection': 'random', 'l1_ratio': 0.44028161753904965, 'alpha': 0.003240060541970212}. Best is trial 174 with value: 0.8162172519657805.\u001b[0m\n",
      "\u001b[32m[I 2022-11-28 15:23:56,310]\u001b[0m Trial 202 finished with value: 0.7614432573693131 and parameters: {'tol': 0.07863410888935557, 'max_iter': 6372, 'selection': 'random', 'l1_ratio': 0.5635235143717653, 'alpha': 0.0403898153642356}. Best is trial 174 with value: 0.8162172519657805.\u001b[0m\n",
      "\u001b[32m[I 2022-11-28 15:23:59,042]\u001b[0m Trial 203 finished with value: 0.8155728504500319 and parameters: {'tol': 0.04068960364126329, 'max_iter': 6776, 'selection': 'random', 'l1_ratio': 0.36587606522115707, 'alpha': 0.000932392485467092}. Best is trial 174 with value: 0.8162172519657805.\u001b[0m\n",
      "\u001b[32m[I 2022-11-28 15:24:00,081]\u001b[0m Trial 204 finished with value: 0.7010225948012149 and parameters: {'tol': 0.03300906475447255, 'max_iter': 6724, 'selection': 'random', 'l1_ratio': 0.363744796130137, 'alpha': 0.10010848835527807}. Best is trial 174 with value: 0.8162172519657805.\u001b[0m\n",
      "\u001b[32m[I 2022-11-28 15:24:02,368]\u001b[0m Trial 205 finished with value: 0.8152295651112584 and parameters: {'tol': 0.04408818364344286, 'max_iter': 6980, 'selection': 'random', 'l1_ratio': 0.3410702748821553, 'alpha': 0.001375130567881655}. Best is trial 174 with value: 0.8162172519657805.\u001b[0m\n",
      "\u001b[32m[I 2022-11-28 15:24:03,442]\u001b[0m Trial 206 finished with value: 0.7644123767673068 and parameters: {'tol': 0.07176081156253081, 'max_iter': 6944, 'selection': 'random', 'l1_ratio': 0.5029573948306534, 'alpha': 0.04232407660761704}. Best is trial 174 with value: 0.8162172519657805.\u001b[0m\n",
      "\u001b[32m[I 2022-11-28 15:24:04,493]\u001b[0m Trial 207 finished with value: 0.6724381448597821 and parameters: {'tol': 0.02499298452708127, 'max_iter': 7327, 'selection': 'random', 'l1_ratio': 0.8816899065800062, 'alpha': 0.07354386023068532}. Best is trial 174 with value: 0.8162172519657805.\u001b[0m\n",
      "\u001b[32m[I 2022-11-28 15:24:05,609]\u001b[0m Trial 208 finished with value: 0.7801645794370354 and parameters: {'tol': 0.04452379368825415, 'max_iter': 7156, 'selection': 'random', 'l1_ratio': 0.33981112627748816, 'alpha': 0.04009307074077104}. Best is trial 174 with value: 0.8162172519657805.\u001b[0m\n",
      "\u001b[32m[I 2022-11-28 15:24:06,682]\u001b[0m Trial 209 finished with value: 0.6946651063433492 and parameters: {'tol': 0.017137779407798932, 'max_iter': 8352, 'selection': 'random', 'l1_ratio': 0.3708003650294558, 'alpha': 0.11041902705005598}. Best is trial 174 with value: 0.8162172519657805.\u001b[0m\n",
      "\u001b[32m[I 2022-11-28 15:24:08,949]\u001b[0m Trial 210 finished with value: 0.815485987954368 and parameters: {'tol': 0.0693811185600997, 'max_iter': 7012, 'selection': 'random', 'l1_ratio': 0.5339700902470932, 'alpha': 0.0008973465002316421}. Best is trial 174 with value: 0.8162172519657805.\u001b[0m\n",
      "\u001b[32m[I 2022-11-28 15:24:10,086]\u001b[0m Trial 211 finished with value: 0.7778301707125049 and parameters: {'tol': 0.06539493133771722, 'max_iter': 7005, 'selection': 'random', 'l1_ratio': 0.5384962685653467, 'alpha': 0.033921036588856875}. Best is trial 174 with value: 0.8162172519657805.\u001b[0m\n",
      "\u001b[32m[I 2022-11-28 15:24:11,210]\u001b[0m Trial 212 finished with value: 0.7778169256763698 and parameters: {'tol': 0.08672856302624049, 'max_iter': 7343, 'selection': 'random', 'l1_ratio': 0.5002841386212852, 'alpha': 0.035285330796670046}. Best is trial 174 with value: 0.8162172519657805.\u001b[0m\n",
      "\u001b[32m[I 2022-11-28 15:24:12,947]\u001b[0m Trial 213 finished with value: 0.8137137653233294 and parameters: {'tol': 0.04908358932562454, 'max_iter': 7086, 'selection': 'random', 'l1_ratio': 0.46682677346953694, 'alpha': 0.003860670052195593}. Best is trial 174 with value: 0.8162172519657805.\u001b[0m\n",
      "\u001b[32m[I 2022-11-28 15:24:14,670]\u001b[0m Trial 214 finished with value: 0.8142814206498238 and parameters: {'tol': 0.08232945375784666, 'max_iter': 8161, 'selection': 'random', 'l1_ratio': 0.5828732610529921, 'alpha': 0.0028030026772001117}. Best is trial 174 with value: 0.8162172519657805.\u001b[0m\n",
      "\u001b[32m[I 2022-11-28 15:24:15,709]\u001b[0m Trial 215 finished with value: 0.7031667644953745 and parameters: {'tol': 0.0643196419249001, 'max_iter': 5717, 'selection': 'random', 'l1_ratio': 0.5237131193976129, 'alpha': 0.06967764372119686}. Best is trial 174 with value: 0.8162172519657805.\u001b[0m\n",
      "\u001b[32m[I 2022-11-28 15:24:16,849]\u001b[0m Trial 216 finished with value: 0.7723448393087246 and parameters: {'tol': 0.034872807353759715, 'max_iter': 6572, 'selection': 'random', 'l1_ratio': 0.14897556486664576, 'alpha': 0.06681417855291669}. Best is trial 174 with value: 0.8162172519657805.\u001b[0m\n",
      "\u001b[32m[I 2022-11-28 15:24:17,932]\u001b[0m Trial 217 finished with value: 0.765418822083778 and parameters: {'tol': 0.09900084226453544, 'max_iter': 7774, 'selection': 'random', 'l1_ratio': 0.6154114850088306, 'alpha': 0.03650911214485985}. Best is trial 174 with value: 0.8162172519657805.\u001b[0m\n",
      "\u001b[32m[I 2022-11-28 15:24:19,951]\u001b[0m Trial 218 finished with value: 0.8147638707457382 and parameters: {'tol': 0.016137216600848388, 'max_iter': 6806, 'selection': 'random', 'l1_ratio': 0.5599099122203761, 'alpha': 0.0018273761282643025}. Best is trial 174 with value: 0.8162172519657805.\u001b[0m\n",
      "\u001b[32m[I 2022-11-28 15:24:22,400]\u001b[0m Trial 219 finished with value: 0.8155191094785861 and parameters: {'tol': 0.0549571358485304, 'max_iter': 7277, 'selection': 'random', 'l1_ratio': 0.298085279215119, 'alpha': 0.0010663082992510668}. Best is trial 174 with value: 0.8162172519657805.\u001b[0m\n",
      "\u001b[32m[I 2022-11-28 15:24:23,436]\u001b[0m Trial 220 finished with value: 0.7145241717483427 and parameters: {'tol': 0.05143785602216501, 'max_iter': 7264, 'selection': 'random', 'l1_ratio': 0.29611335362987135, 'alpha': 0.10111973184964401}. Best is trial 174 with value: 0.8162172519657805.\u001b[0m\n",
      "\u001b[32m[I 2022-11-28 15:24:25,961]\u001b[0m Trial 221 finished with value: 0.8153921240349383 and parameters: {'tol': 0.07549306218659134, 'max_iter': 7453, 'selection': 'random', 'l1_ratio': 0.392095127323236, 'alpha': 0.0011306305233270053}. Best is trial 174 with value: 0.8162172519657805.\u001b[0m\n",
      "\u001b[32m[I 2022-11-28 15:24:26,960]\u001b[0m Trial 222 finished with value: 0.6309941327198852 and parameters: {'tol': 0.07409020892580401, 'max_iter': 7507, 'selection': 'random', 'l1_ratio': 0.30783268677853937, 'alpha': 0.5653572869765406}. Best is trial 174 with value: 0.8162172519657805.\u001b[0m\n",
      "\u001b[32m[I 2022-11-28 15:24:28,078]\u001b[0m Trial 223 finished with value: 0.7770454181659165 and parameters: {'tol': 0.040940190572356525, 'max_iter': 7652, 'selection': 'random', 'l1_ratio': 0.38859224402253867, 'alpha': 0.040542043744956784}. Best is trial 174 with value: 0.8162172519657805.\u001b[0m\n",
      "\u001b[32m[I 2022-11-28 15:24:29,193]\u001b[0m Trial 224 finished with value: 0.7626705712684018 and parameters: {'tol': 0.06654920507288248, 'max_iter': 7390, 'selection': 'random', 'l1_ratio': 0.25896365911085206, 'alpha': 0.06363432578300304}. Best is trial 174 with value: 0.8162172519657805.\u001b[0m\n",
      "\u001b[32m[I 2022-11-28 15:24:30,984]\u001b[0m Trial 225 finished with value: 0.814289137997132 and parameters: {'tol': 0.0913469776360955, 'max_iter': 7985, 'selection': 'random', 'l1_ratio': 0.3576008074204857, 'alpha': 0.002883561935228405}. Best is trial 174 with value: 0.8162172519657805.\u001b[0m\n",
      "\u001b[32m[I 2022-11-28 15:24:32,175]\u001b[0m Trial 226 finished with value: 0.7873278170007072 and parameters: {'tol': 0.021034092353795553, 'max_iter': 7193, 'selection': 'random', 'l1_ratio': 0.19749371251527165, 'alpha': 0.04099555546922341}. Best is trial 174 with value: 0.8162172519657805.\u001b[0m\n",
      "\u001b[32m[I 2022-11-28 15:24:33,249]\u001b[0m Trial 227 finished with value: 0.7320401281640524 and parameters: {'tol': 0.05368455773803218, 'max_iter': 7806, 'selection': 'random', 'l1_ratio': 0.33155601624960745, 'alpha': 0.07913637808053575}. Best is trial 174 with value: 0.8162172519657805.\u001b[0m\n",
      "\u001b[32m[I 2022-11-28 15:24:34,366]\u001b[0m Trial 228 finished with value: 0.778538888175499 and parameters: {'tol': 0.08017053395053608, 'max_iter': 7453, 'selection': 'random', 'l1_ratio': 0.4891174660194588, 'alpha': 0.03525835092893341}. Best is trial 174 with value: 0.8162172519657805.\u001b[0m\n",
      "\u001b[32m[I 2022-11-28 15:24:35,567]\u001b[0m Trial 229 finished with value: 0.7879778565486668 and parameters: {'tol': 0.03940848146137019, 'max_iter': 7645, 'selection': 'random', 'l1_ratio': 0.2799091940169727, 'alpha': 0.0350058546755664}. Best is trial 174 with value: 0.8162172519657805.\u001b[0m\n",
      "\u001b[32m[I 2022-11-28 15:24:37,149]\u001b[0m Trial 230 finished with value: 0.813835003275238 and parameters: {'tol': 0.10123010974685609, 'max_iter': 7233, 'selection': 'cyclic', 'l1_ratio': 0.37634762165042734, 'alpha': 0.003783159133989197}. Best is trial 174 with value: 0.8162172519657805.\u001b[0m\n",
      "\u001b[32m[I 2022-11-28 15:24:39,387]\u001b[0m Trial 231 finished with value: 0.8152315189187715 and parameters: {'tol': 0.10778730861807204, 'max_iter': 6907, 'selection': 'random', 'l1_ratio': 0.4208439686922055, 'alpha': 0.0012671826216021495}. Best is trial 174 with value: 0.8162172519657805.\u001b[0m\n",
      "\u001b[32m[I 2022-11-28 15:24:40,443]\u001b[0m Trial 232 finished with value: 0.7255482199745198 and parameters: {'tol': 0.11336709979996212, 'max_iter': 6827, 'selection': 'random', 'l1_ratio': 0.4552772460521404, 'alpha': 0.06345853576963739}. Best is trial 174 with value: 0.8162172519657805.\u001b[0m\n",
      "\u001b[32m[I 2022-11-28 15:24:42,158]\u001b[0m Trial 233 finished with value: 0.8135614904827676 and parameters: {'tol': 0.07471291311392066, 'max_iter': 7050, 'selection': 'random', 'l1_ratio': 0.39804192186379495, 'alpha': 0.004209100530479033}. Best is trial 174 with value: 0.8162172519657805.\u001b[0m\n",
      "\u001b[32m[I 2022-11-28 15:24:43,288]\u001b[0m Trial 234 finished with value: 0.7803297665851898 and parameters: {'tol': 0.058033392367294594, 'max_iter': 7264, 'selection': 'random', 'l1_ratio': 0.4315365981682214, 'alpha': 0.03623732446549477}. Best is trial 174 with value: 0.8162172519657805.\u001b[0m\n",
      "\u001b[32m[I 2022-11-28 15:24:44,318]\u001b[0m Trial 235 finished with value: 0.7102344451563424 and parameters: {'tol': 0.09693943005079761, 'max_iter': 8252, 'selection': 'random', 'l1_ratio': 0.3376625871875006, 'alpha': 0.09277568119619962}. Best is trial 174 with value: 0.8162172519657805.\u001b[0m\n",
      "\u001b[32m[I 2022-11-28 15:25:09,519]\u001b[0m Trial 236 finished with value: 0.8162194759213496 and parameters: {'tol': 0.015159507662065634, 'max_iter': 2054, 'selection': 'random', 'l1_ratio': 0.3624267406950672, 'alpha': 2.2695899809139185e-05}. Best is trial 236 with value: 0.8162194759213496.\u001b[0m\n",
      "\u001b[32m[I 2022-11-28 15:25:12,447]\u001b[0m Trial 237 finished with value: 0.8158091250972566 and parameters: {'tol': 0.005682490499970751, 'max_iter': 1776, 'selection': 'random', 'l1_ratio': 0.3844618742741826, 'alpha': 0.0005558642208737883}. Best is trial 236 with value: 0.8162194759213496.\u001b[0m\n",
      "\u001b[32m[I 2022-11-28 15:25:13,497]\u001b[0m Trial 238 finished with value: 0.7383157547594821 and parameters: {'tol': 0.009308386472429852, 'max_iter': 1824, 'selection': 'random', 'l1_ratio': 0.3740438387541744, 'alpha': 0.06790929931511572}. Best is trial 236 with value: 0.8162194759213496.\u001b[0m\n",
      "\u001b[32m[I 2022-11-28 15:25:14,492]\u001b[0m Trial 239 finished with value: 0.629605679326889 and parameters: {'tol': 0.020014668682869982, 'max_iter': 8560, 'selection': 'random', 'l1_ratio': 0.38807742338804174, 'alpha': 1.2217887563518515}. Best is trial 236 with value: 0.8162194759213496.\u001b[0m\n",
      "\u001b[32m[I 2022-11-28 15:25:15,626]\u001b[0m Trial 240 finished with value: 0.779891512212086 and parameters: {'tol': 0.0010564788412316117, 'max_iter': 2079, 'selection': 'random', 'l1_ratio': 0.35884504236884296, 'alpha': 0.039533000779777866}. Best is trial 236 with value: 0.8162194759213496.\u001b[0m\n",
      "\u001b[32m[I 2022-11-28 15:25:17,401]\u001b[0m Trial 241 finished with value: 0.8140544627830657 and parameters: {'tol': 0.023979760535205952, 'max_iter': 2078, 'selection': 'random', 'l1_ratio': 0.4131392642915114, 'alpha': 0.003335787468099327}. Best is trial 236 with value: 0.8162194759213496.\u001b[0m\n",
      "\u001b[32m[I 2022-11-28 15:25:18,528]\u001b[0m Trial 242 finished with value: 0.7805003730371352 and parameters: {'tol': 0.035192393010627, 'max_iter': 5049, 'selection': 'random', 'l1_ratio': 0.403585855634729, 'alpha': 0.037127380793997036}. Best is trial 236 with value: 0.8162194759213496.\u001b[0m\n",
      "\u001b[32m[I 2022-11-28 15:25:19,553]\u001b[0m Trial 243 finished with value: 0.7792733902721818 and parameters: {'tol': 0.6077493298432884, 'max_iter': 1900, 'selection': 'random', 'l1_ratio': 0.44239545746850073, 'alpha': 0.034930329130950274}. Best is trial 236 with value: 0.8162194759213496.\u001b[0m\n",
      "\u001b[32m[I 2022-11-28 15:25:20,627]\u001b[0m Trial 244 finished with value: 0.7349181670098542 and parameters: {'tol': 0.06196895781200197, 'max_iter': 8090, 'selection': 'random', 'l1_ratio': 0.3810538705605902, 'alpha': 0.0689218225121728}. Best is trial 236 with value: 0.8162194759213496.\u001b[0m\n",
      "\u001b[32m[I 2022-11-28 15:25:21,761]\u001b[0m Trial 245 finished with value: 0.7809557312586726 and parameters: {'tol': 0.0014637771017345117, 'max_iter': 7532, 'selection': 'random', 'l1_ratio': 0.47566197526433285, 'alpha': 0.03418669928522104}. Best is trial 236 with value: 0.8162194759213496.\u001b[0m\n",
      "\u001b[32m[I 2022-11-28 15:25:23,363]\u001b[0m Trial 246 finished with value: 0.8128802928192078 and parameters: {'tol': 0.08171693035280445, 'max_iter': 1584, 'selection': 'random', 'l1_ratio': 0.4259660721697247, 'alpha': 0.005225060094047804}. Best is trial 236 with value: 0.8162194759213496.\u001b[0m\n",
      "\u001b[32m[I 2022-11-28 15:25:25,424]\u001b[0m Trial 247 finished with value: 0.8148408178303133 and parameters: {'tol': 0.11748660285415795, 'max_iter': 7863, 'selection': 'random', 'l1_ratio': 0.46024878093909233, 'alpha': 0.0015750518943717321}. Best is trial 236 with value: 0.8162194759213496.\u001b[0m\n",
      "\u001b[32m[I 2022-11-28 15:25:26,504]\u001b[0m Trial 248 finished with value: 0.7159529859419652 and parameters: {'tol': 0.03194195656833553, 'max_iter': 4158, 'selection': 'random', 'l1_ratio': 0.3605141109498345, 'alpha': 0.08396388340995856}. Best is trial 236 with value: 0.8162194759213496.\u001b[0m\n",
      "\u001b[32m[I 2022-11-28 15:25:28,893]\u001b[0m Trial 249 finished with value: 0.8149551550834053 and parameters: {'tol': 0.054973613224840484, 'max_iter': 7390, 'selection': 'random', 'l1_ratio': 0.1726839899449233, 'alpha': 0.0019499685825753572}. Best is trial 236 with value: 0.8162194759213496.\u001b[0m\n",
      "\u001b[32m[I 2022-11-28 15:25:31,681]\u001b[0m Trial 250 finished with value: 0.8156179550023392 and parameters: {'tol': 0.08509920303042122, 'max_iter': 1613, 'selection': 'random', 'l1_ratio': 0.3906366950462105, 'alpha': 0.0008508906260108072}. Best is trial 236 with value: 0.8162194759213496.\u001b[0m\n",
      "\u001b[32m[I 2022-11-28 15:25:32,763]\u001b[0m Trial 251 finished with value: 0.7449195008126751 and parameters: {'tol': 0.0719021229316521, 'max_iter': 1885, 'selection': 'random', 'l1_ratio': 0.39481115082583335, 'alpha': 0.061294018519206926}. Best is trial 236 with value: 0.8162194759213496.\u001b[0m\n",
      "\u001b[32m[I 2022-11-28 15:25:33,807]\u001b[0m Trial 252 finished with value: 0.6974288283860658 and parameters: {'tol': 0.043494922294059164, 'max_iter': 1389, 'selection': 'random', 'l1_ratio': 0.3191911656873361, 'alpha': 0.12026043878408686}. Best is trial 236 with value: 0.8162194759213496.\u001b[0m\n",
      "\u001b[32m[I 2022-11-28 15:25:34,869]\u001b[0m Trial 253 finished with value: 0.7569131461639779 and parameters: {'tol': 0.08614637860195987, 'max_iter': 2482, 'selection': 'random', 'l1_ratio': 0.36606116539598144, 'alpha': 0.05712686076369615}. Best is trial 236 with value: 0.8162194759213496.\u001b[0m\n",
      "\u001b[32m[I 2022-11-28 15:25:40,090]\u001b[0m Trial 254 finished with value: 0.8160650189957412 and parameters: {'tol': 0.017557091820666323, 'max_iter': 1192, 'selection': 'random', 'l1_ratio': 0.528552984076806, 'alpha': 0.0001808371963552552}. Best is trial 236 with value: 0.8162194759213496.\u001b[0m\n",
      "\u001b[32m[I 2022-11-28 15:25:41,156]\u001b[0m Trial 255 finished with value: 0.6754008283286896 and parameters: {'tol': 0.019669154999224756, 'max_iter': 1212, 'selection': 'random', 'l1_ratio': 0.5332062702443444, 'alpha': 0.09881333777666722}. Best is trial 236 with value: 0.8162194759213496.\u001b[0m\n",
      "\u001b[32m[I 2022-11-28 15:25:42,280]\u001b[0m Trial 256 finished with value: 0.7655457035270098 and parameters: {'tol': 0.0019719930804577394, 'max_iter': 1671, 'selection': 'random', 'l1_ratio': 0.512943146674333, 'alpha': 0.041236830443398514}. Best is trial 236 with value: 0.8162194759213496.\u001b[0m\n",
      "\u001b[32m[I 2022-11-28 15:25:43,411]\u001b[0m Trial 257 finished with value: 0.7665472698531319 and parameters: {'tol': 0.03346475455346942, 'max_iter': 1024, 'selection': 'random', 'l1_ratio': 0.48310690806215084, 'alpha': 0.04233711105597061}. Best is trial 236 with value: 0.8162194759213496.\u001b[0m\n",
      "\u001b[32m[I 2022-11-28 15:25:44,495]\u001b[0m Trial 258 finished with value: 0.7473704768722034 and parameters: {'tol': 0.05818712715806789, 'max_iter': 1303, 'selection': 'random', 'l1_ratio': 0.23125102318079144, 'alpha': 0.08579039540837892}. Best is trial 236 with value: 0.8162194759213496.\u001b[0m\n",
      "\u001b[32m[I 2022-11-28 15:25:45,593]\u001b[0m Trial 259 finished with value: 0.7674164699748793 and parameters: {'tol': 0.02098362793929061, 'max_iter': 1503, 'selection': 'cyclic', 'l1_ratio': 0.5312960529455606, 'alpha': 0.03944541142192634}. Best is trial 236 with value: 0.8162194759213496.\u001b[0m\n",
      "\u001b[32m[I 2022-11-28 15:25:46,621]\u001b[0m Trial 260 finished with value: 0.7710074595910553 and parameters: {'tol': 0.9231094821555755, 'max_iter': 2297, 'selection': 'random', 'l1_ratio': 0.5549906882195608, 'alpha': 0.036175494505539536}. Best is trial 236 with value: 0.8162194759213496.\u001b[0m\n",
      "\u001b[32m[I 2022-11-28 15:25:48,353]\u001b[0m Trial 261 finished with value: 0.8143291254378249 and parameters: {'tol': 0.04696539885060894, 'max_iter': 4633, 'selection': 'random', 'l1_ratio': 0.5041234076964952, 'alpha': 0.0027555862371631996}. Best is trial 236 with value: 0.8162194759213496.\u001b[0m\n",
      "\u001b[32m[I 2022-11-28 15:25:49,424]\u001b[0m Trial 262 finished with value: 0.6965707708837809 and parameters: {'tol': 0.06826489287113591, 'max_iter': 1189, 'selection': 'random', 'l1_ratio': 0.3529251629289892, 'alpha': 0.11156168549264944}. Best is trial 236 with value: 0.8162194759213496.\u001b[0m\n",
      "\u001b[32m[I 2022-11-28 15:26:06,581]\u001b[0m Trial 263 finished with value: 0.8161699553287203 and parameters: {'tol': 0.031755973425623814, 'max_iter': 8317, 'selection': 'random', 'l1_ratio': 0.09894155123657355, 'alpha': 0.00013920194661854552}. Best is trial 236 with value: 0.8162194759213496.\u001b[0m\n",
      "\u001b[32m[I 2022-11-28 15:26:07,794]\u001b[0m Trial 264 finished with value: 0.7690478153166832 and parameters: {'tol': 0.017433134858588856, 'max_iter': 8399, 'selection': 'random', 'l1_ratio': 0.10567222619500552, 'alpha': 0.08410789582675844}. Best is trial 236 with value: 0.8162194759213496.\u001b[0m\n",
      "\u001b[32m[I 2022-11-28 15:26:08,871]\u001b[0m Trial 265 finished with value: 0.7317754049058139 and parameters: {'tol': 0.0354413081643459, 'max_iter': 1409, 'selection': 'random', 'l1_ratio': 0.48832376687565177, 'alpha': 0.05729121024793801}. Best is trial 236 with value: 0.8162194759213496.\u001b[0m\n",
      "\u001b[32m[I 2022-11-28 15:26:09,861]\u001b[0m Trial 266 finished with value: 0.6295038491766364 and parameters: {'tol': 0.4813028007546544, 'max_iter': 8126, 'selection': 'random', 'l1_ratio': 0.3018348337618893, 'alpha': 1.4429041809381906}. Best is trial 236 with value: 0.8162194759213496.\u001b[0m\n",
      "\u001b[32m[I 2022-11-28 15:26:16,896]\u001b[0m Trial 267 finished with value: 0.8160455889590355 and parameters: {'tol': 0.0013566851665459123, 'max_iter': 1759, 'selection': 'random', 'l1_ratio': 0.08997190439483696, 'alpha': 0.0003795865123169935}. Best is trial 236 with value: 0.8162194759213496.\u001b[0m\n",
      "\u001b[32m[I 2022-11-28 15:27:08,144]\u001b[0m Trial 268 finished with value: 0.8162285684622925 and parameters: {'tol': 0.0004445159612605498, 'max_iter': 1760, 'selection': 'random', 'l1_ratio': 0.07868179670578737, 'alpha': 2.733295466151751e-06}. Best is trial 268 with value: 0.8162285684622925.\u001b[0m\n",
      "\u001b[32m[I 2022-11-28 15:27:10,916]\u001b[0m Trial 269 finished with value: 0.7942015901773741 and parameters: {'tol': 0.003110116885630847, 'max_iter': 1633, 'selection': 'random', 'l1_ratio': 0.10249648157527841, 'alpha': 0.03835367623681772}. Best is trial 268 with value: 0.8162285684622925.\u001b[0m\n",
      "\u001b[32m[I 2022-11-28 15:27:14,777]\u001b[0m Trial 270 finished with value: 0.8156434614639441 and parameters: {'tol': 0.018225237253571, 'max_iter': 1721, 'selection': 'random', 'l1_ratio': 0.08397991291145207, 'alpha': 0.001079966388795539}. Best is trial 268 with value: 0.8162285684622925.\u001b[0m\n",
      "\u001b[32m[I 2022-11-28 15:27:15,941]\u001b[0m Trial 271 finished with value: 0.7539376592231073 and parameters: {'tol': 0.0018332479862939038, 'max_iter': 1729, 'selection': 'random', 'l1_ratio': 0.06784957417389044, 'alpha': 0.14145011811826833}. Best is trial 268 with value: 0.8162285684622925.\u001b[0m\n",
      "\u001b[32m[I 2022-11-28 15:27:18,185]\u001b[0m Trial 272 finished with value: 0.7833328346235237 and parameters: {'tol': 0.023192087902266366, 'max_iter': 1843, 'selection': 'random', 'l1_ratio': 0.04690518844671753, 'alpha': 0.0699392365120689}. Best is trial 268 with value: 0.8162285684622925.\u001b[0m\n",
      "\u001b[32m[I 2022-11-28 15:27:20,547]\u001b[0m Trial 273 finished with value: 0.7921978447008159 and parameters: {'tol': 0.01774866177672622, 'max_iter': 2078, 'selection': 'random', 'l1_ratio': 0.08298386450530705, 'alpha': 0.043666424210947546}. Best is trial 268 with value: 0.8162285684622925.\u001b[0m\n",
      "\u001b[32m[I 2022-11-28 15:27:21,828]\u001b[0m Trial 274 finished with value: 0.7640731084337653 and parameters: {'tol': 0.004633175509324447, 'max_iter': 1948, 'selection': 'random', 'l1_ratio': 0.08435522689720443, 'alpha': 0.10362569298460275}. Best is trial 268 with value: 0.8162285684622925.\u001b[0m\n",
      "\u001b[32m[I 2022-11-28 15:27:31,631]\u001b[0m Trial 275 finished with value: 0.8152155739271637 and parameters: {'tol': 0.03208645638190309, 'max_iter': 1537, 'selection': 'random', 'l1_ratio': 0.055959784183103496, 'alpha': 0.0017761263748403773}. Best is trial 268 with value: 0.8162285684622925.\u001b[0m\n",
      "\u001b[32m[I 2022-11-28 15:27:32,866]\u001b[0m Trial 276 finished with value: 0.7721048591549308 and parameters: {'tol': 0.02019651030054524, 'max_iter': 2228, 'selection': 'random', 'l1_ratio': 0.1419638722122973, 'alpha': 0.06865203258945761}. Best is trial 268 with value: 0.8162285684622925.\u001b[0m\n",
      "\u001b[32m[I 2022-11-28 15:27:36,001]\u001b[0m Trial 277 finished with value: 0.7944351408490332 and parameters: {'tol': 0.0016580317355941836, 'max_iter': 1726, 'selection': 'random', 'l1_ratio': 0.11792798444812241, 'alpha': 0.03698312476112178}. Best is trial 268 with value: 0.8162285684622925.\u001b[0m\n",
      "\u001b[32m[I 2022-11-28 15:27:38,734]\u001b[0m Trial 278 finished with value: 0.7967363309984661 and parameters: {'tol': 0.03995759497158038, 'max_iter': 1483, 'selection': 'cyclic', 'l1_ratio': 0.025646223087133546, 'alpha': 0.03622990318184193}. Best is trial 268 with value: 0.8162285684622925.\u001b[0m\n",
      "\u001b[32m[I 2022-11-28 15:27:39,740]\u001b[0m Trial 279 finished with value: 0.651877876728061 and parameters: {'tol': 0.048097592464119765, 'max_iter': 1423, 'selection': 'random', 'l1_ratio': 0.10306362973830603, 'alpha': 1.0485205575341128}. Best is trial 268 with value: 0.8162285684622925.\u001b[0m\n",
      "\u001b[32m[I 2022-11-28 15:27:41,246]\u001b[0m Trial 280 finished with value: 0.7758631408315276 and parameters: {'tol': 0.02133662692274522, 'max_iter': 1721, 'selection': 'random', 'l1_ratio': 0.07886399402066308, 'alpha': 0.07907941502395409}. Best is trial 268 with value: 0.8162285684622925.\u001b[0m\n",
      "\u001b[32m[I 2022-11-28 15:27:45,109]\u001b[0m Trial 281 finished with value: 0.794495375096237 and parameters: {'tol': 0.0015602986820045517, 'max_iter': 1230, 'selection': 'random', 'l1_ratio': 0.060954061192425954, 'alpha': 0.04025897464931953}. Best is trial 268 with value: 0.8162285684622925.\u001b[0m\n",
      "\u001b[32m[I 2022-11-28 15:27:46,637]\u001b[0m Trial 282 finished with value: 0.7953755744794332 and parameters: {'tol': 0.046166806394537824, 'max_iter': 2010, 'selection': 'random', 'l1_ratio': 0.12266832245692008, 'alpha': 0.03491375960214299}. Best is trial 268 with value: 0.8162285684622925.\u001b[0m\n",
      "\u001b[32m[I 2022-11-28 15:27:47,769]\u001b[0m Trial 283 finished with value: 0.7479465658768158 and parameters: {'tol': 0.029074828932981054, 'max_iter': 2364, 'selection': 'random', 'l1_ratio': 0.09578051073672972, 'alpha': 0.13364696381346583}. Best is trial 268 with value: 0.8162285684622925.\u001b[0m\n",
      "\u001b[32m[I 2022-11-28 15:27:49,562]\u001b[0m Trial 284 finished with value: 0.813901491394476 and parameters: {'tol': 0.05362161837884208, 'max_iter': 8631, 'selection': 'random', 'l1_ratio': 0.32703253865907433, 'alpha': 0.003664074695819122}. Best is trial 268 with value: 0.8162285684622925.\u001b[0m\n",
      "\u001b[32m[I 2022-11-28 15:27:50,667]\u001b[0m Trial 285 finished with value: 0.7500195383350894 and parameters: {'tol': 0.021175858827728714, 'max_iter': 3731, 'selection': 'random', 'l1_ratio': 0.270474378016042, 'alpha': 0.07518233669007705}. Best is trial 268 with value: 0.8162285684622925.\u001b[0m\n",
      "\u001b[32m[I 2022-11-28 15:27:53,340]\u001b[0m Trial 286 finished with value: 0.8153734412206841 and parameters: {'tol': 0.036614120438055765, 'max_iter': 2653, 'selection': 'random', 'l1_ratio': 0.3421193784907098, 'alpha': 0.0012087526941839278}. Best is trial 268 with value: 0.8162285684622925.\u001b[0m\n",
      "\u001b[32m[I 2022-11-28 15:27:56,129]\u001b[0m Trial 287 finished with value: 0.8155320706582287 and parameters: {'tol': 0.057492903616115955, 'max_iter': 1743, 'selection': 'random', 'l1_ratio': 0.13537463500989028, 'alpha': 0.001174357458033838}. Best is trial 268 with value: 0.8162285684622925.\u001b[0m\n",
      "\u001b[32m[I 2022-11-28 15:27:57,171]\u001b[0m Trial 288 finished with value: 0.7538075297815513 and parameters: {'tol': 0.7791474658799263, 'max_iter': 1756, 'selection': 'random', 'l1_ratio': 0.12381568231430785, 'alpha': 0.10373575656845861}. Best is trial 268 with value: 0.8162285684622925.\u001b[0m\n",
      "\u001b[32m[I 2022-11-28 15:27:58,270]\u001b[0m Trial 289 finished with value: 0.7731496271255671 and parameters: {'tol': 0.32794208775506556, 'max_iter': 1918, 'selection': 'random', 'l1_ratio': 0.15469402650711606, 'alpha': 0.06277598442425703}. Best is trial 268 with value: 0.8162285684622925.\u001b[0m\n",
      "\u001b[32m[I 2022-11-28 15:28:02,154]\u001b[0m Trial 290 finished with value: 0.8156643157569702 and parameters: {'tol': 0.0016473646425705923, 'max_iter': 2132, 'selection': 'random', 'l1_ratio': 0.08961283676182696, 'alpha': 0.0010377257132617233}. Best is trial 268 with value: 0.8162285684622925.\u001b[0m\n",
      "\u001b[32m[I 2022-11-28 15:28:04,884]\u001b[0m Trial 291 finished with value: 0.7933191744813659 and parameters: {'tol': 0.0033390649230948945, 'max_iter': 2217, 'selection': 'random', 'l1_ratio': 0.0876970702973506, 'alpha': 0.04105097713169427}. Best is trial 268 with value: 0.8162285684622925.\u001b[0m\n",
      "\u001b[32m[I 2022-11-28 15:28:05,952]\u001b[0m Trial 292 finished with value: 0.6931379925545024 and parameters: {'tol': 0.017590376617448916, 'max_iter': 2057, 'selection': 'random', 'l1_ratio': 0.07066705241799201, 'alpha': 0.45143341863879344}. Best is trial 268 with value: 0.8162285684622925.\u001b[0m\n",
      "\u001b[32m[I 2022-11-28 15:28:07,134]\u001b[0m Trial 293 finished with value: 0.7825674833103263 and parameters: {'tol': 0.37650504555875725, 'max_iter': 8464, 'selection': 'random', 'l1_ratio': 0.05743805744015757, 'alpha': 0.0689160425295193}. Best is trial 268 with value: 0.8162285684622925.\u001b[0m\n",
      "\u001b[32m[I 2022-11-28 15:28:12,318]\u001b[0m Trial 294 finished with value: 0.7951608889910297 and parameters: {'tol': 0.00016714258537922633, 'max_iter': 1560, 'selection': 'random', 'l1_ratio': 0.004838190895233949, 'alpha': 0.04066477570387329}. Best is trial 268 with value: 0.8162285684622925.\u001b[0m\n",
      "\u001b[32m[I 2022-11-28 15:28:13,402]\u001b[0m Trial 295 finished with value: 0.6749700045522055 and parameters: {'tol': 0.03806086630646647, 'max_iter': 8293, 'selection': 'random', 'l1_ratio': 0.47256762422909027, 'alpha': 0.1152982585172861}. Best is trial 268 with value: 0.8162285684622925.\u001b[0m\n",
      "\u001b[32m[I 2022-11-28 15:28:14,456]\u001b[0m Trial 296 finished with value: 0.7919153648576562 and parameters: {'tol': 0.6496338532414792, 'max_iter': 1390, 'selection': 'random', 'l1_ratio': 0.044208569602282755, 'alpha': 0.03491392474201579}. Best is trial 268 with value: 0.8162285684622925.\u001b[0m\n",
      "\u001b[32m[I 2022-11-28 15:28:16,615]\u001b[0m Trial 297 finished with value: 0.81437362666294 and parameters: {'tol': 0.029168375465291285, 'max_iter': 1665, 'selection': 'random', 'l1_ratio': 0.4530336679897712, 'alpha': 0.0027581324182217085}. Best is trial 268 with value: 0.8162285684622925.\u001b[0m\n",
      "\u001b[32m[I 2022-11-28 15:28:18,481]\u001b[0m Trial 298 finished with value: 0.8155162205338558 and parameters: {'tol': 0.1590252903747652, 'max_iter': 1033, 'selection': 'cyclic', 'l1_ratio': 0.5088475758226452, 'alpha': 0.0008871991991127977}. Best is trial 268 with value: 0.8162285684622925.\u001b[0m\n",
      "\u001b[32m[I 2022-11-28 15:28:19,519]\u001b[0m Trial 299 finished with value: 0.7011347918224521 and parameters: {'tol': 0.020557216819084963, 'max_iter': 1859, 'selection': 'random', 'l1_ratio': 0.2027205407165465, 'alpha': 0.16123758598412455}. Best is trial 268 with value: 0.8162285684622925.\u001b[0m\n",
      "\u001b[32m[I 2022-11-28 15:28:20,563]\u001b[0m Trial 300 finished with value: 0.7045749192949338 and parameters: {'tol': 0.12873965089681094, 'max_iter': 8401, 'selection': 'random', 'l1_ratio': 0.3784917648262416, 'alpha': 0.08917234891987007}. Best is trial 268 with value: 0.8162285684622925.\u001b[0m\n",
      "\u001b[32m[I 2022-11-28 15:28:21,574]\u001b[0m Trial 301 finished with value: 0.6361777942454266 and parameters: {'tol': 0.26595064973295385, 'max_iter': 8267, 'selection': 'random', 'l1_ratio': 0.08029984658162154, 'alpha': 1.8407853431560783}. Best is trial 268 with value: 0.8162285684622925.\u001b[0m\n",
      "\u001b[32m[I 2022-11-28 15:28:22,937]\u001b[0m Trial 302 finished with value: 0.7786989466699165 and parameters: {'tol': 0.09145389002221321, 'max_iter': 1985, 'selection': 'random', 'l1_ratio': 0.10625295198900725, 'alpha': 0.06588307508099872}. Best is trial 268 with value: 0.8162285684622925.\u001b[0m\n",
      "\u001b[32m[I 2022-11-28 15:28:24,231]\u001b[0m Trial 303 finished with value: 0.7825238899268686 and parameters: {'tol': 0.19464244765687655, 'max_iter': 2141, 'selection': 'random', 'l1_ratio': 0.35709424113912713, 'alpha': 0.037185854587046444}. Best is trial 268 with value: 0.8162285684622925.\u001b[0m\n",
      "\u001b[32m[I 2022-11-28 15:28:25,391]\u001b[0m Trial 304 finished with value: 0.629722047733579 and parameters: {'tol': 0.0012642944563078518, 'max_iter': 2911, 'selection': 'random', 'l1_ratio': 0.49271119175293165, 'alpha': 0.8150089197622754}. Best is trial 268 with value: 0.8162285684622925.\u001b[0m\n",
      "\u001b[32m[I 2022-11-28 15:28:26,524]\u001b[0m Trial 305 finished with value: 0.7766840984687395 and parameters: {'tol': 0.054180525879049715, 'max_iter': 8080, 'selection': 'random', 'l1_ratio': 0.44860496012581025, 'alpha': 0.03804548475750474}. Best is trial 268 with value: 0.8162285684622925.\u001b[0m\n",
      "\u001b[32m[I 2022-11-28 15:28:27,579]\u001b[0m Trial 306 finished with value: 0.803869883003001 and parameters: {'tol': 0.4329066069355246, 'max_iter': 8625, 'selection': 'random', 'l1_ratio': 0.09406915071297534, 'alpha': 0.0007349125119989071}. Best is trial 268 with value: 0.8162285684622925.\u001b[0m\n",
      "\u001b[32m[I 2022-11-28 15:28:28,650]\u001b[0m Trial 307 finished with value: 0.6831704140701355 and parameters: {'tol': 0.033550342085826246, 'max_iter': 7913, 'selection': 'random', 'l1_ratio': 0.4712754356814047, 'alpha': 0.10078790697951864}. Best is trial 268 with value: 0.8162285684622925.\u001b[0m\n",
      "\u001b[32m[I 2022-11-28 15:28:31,104]\u001b[0m Trial 308 finished with value: 0.8155020212276155 and parameters: {'tol': 0.07001602603021516, 'max_iter': 6227, 'selection': 'random', 'l1_ratio': 0.17763488066082456, 'alpha': 0.0011912903051692879}. Best is trial 268 with value: 0.8162285684622925.\u001b[0m\n",
      "\u001b[32m[I 2022-11-28 15:28:32,191]\u001b[0m Trial 309 finished with value: 0.7367663241035217 and parameters: {'tol': 0.09313513460005038, 'max_iter': 5289, 'selection': 'random', 'l1_ratio': 0.37169808044623515, 'alpha': 0.06919889610848698}. Best is trial 268 with value: 0.8162285684622925.\u001b[0m\n",
      "\u001b[32m[I 2022-11-28 15:28:33,365]\u001b[0m Trial 310 finished with value: 0.7828154521552898 and parameters: {'tol': 0.018411615397155273, 'max_iter': 8161, 'selection': 'random', 'l1_ratio': 0.34961084959295813, 'alpha': 0.03730471834805838}. Best is trial 268 with value: 0.8162285684622925.\u001b[0m\n",
      "\u001b[32m[I 2022-11-28 15:28:34,405]\u001b[0m Trial 311 finished with value: 0.6738278979286975 and parameters: {'tol': 0.04377396369433066, 'max_iter': 9848, 'selection': 'random', 'l1_ratio': 0.517336327930282, 'alpha': 0.11564201326158008}. Best is trial 268 with value: 0.8162285684622925.\u001b[0m\n",
      "\u001b[32m[I 2022-11-28 15:28:35,466]\u001b[0m Trial 312 finished with value: 0.7071520297052212 and parameters: {'tol': 0.17258088824677614, 'max_iter': 1575, 'selection': 'random', 'l1_ratio': 0.48854576563295177, 'alpha': 0.06714385079855006}. Best is trial 268 with value: 0.8162285684622925.\u001b[0m\n",
      "\u001b[32m[I 2022-11-28 15:28:38,475]\u001b[0m Trial 313 finished with value: 0.7948509457765899 and parameters: {'tol': 0.06747723612929761, 'max_iter': 3305, 'selection': 'random', 'l1_ratio': 0.031068104958186744, 'alpha': 0.040877675991355986}. Best is trial 268 with value: 0.8162285684622925.\u001b[0m\n",
      "\u001b[32m[I 2022-11-28 15:28:39,666]\u001b[0m Trial 314 finished with value: 0.7884113840586758 and parameters: {'tol': 0.018710173681956925, 'max_iter': 1817, 'selection': 'random', 'l1_ratio': 0.32962193483677393, 'alpha': 0.03276247309076147}. Best is trial 268 with value: 0.8162285684622925.\u001b[0m\n",
      "\u001b[32m[I 2022-11-28 15:28:41,837]\u001b[0m Trial 315 finished with value: 0.8157965366969749 and parameters: {'tol': 0.14851042809671766, 'max_iter': 6585, 'selection': 'random', 'l1_ratio': 0.9553016023132572, 'alpha': 0.00038969713350906886}. Best is trial 268 with value: 0.8162285684622925.\u001b[0m\n",
      "\u001b[32m[I 2022-11-28 15:28:42,888]\u001b[0m Trial 316 finished with value: 0.6741053762374423 and parameters: {'tol': 0.13294242039348636, 'max_iter': 1404, 'selection': 'random', 'l1_ratio': 0.7284275301313827, 'alpha': 0.08141315544581623}. Best is trial 268 with value: 0.8162285684622925.\u001b[0m\n",
      "\u001b[32m[I 2022-11-28 15:28:44,548]\u001b[0m Trial 317 finished with value: 0.8144758921037186 and parameters: {'tol': 0.1598049368165567, 'max_iter': 6428, 'selection': 'random', 'l1_ratio': 0.8484685561013994, 'alpha': 0.0022071819275489126}. Best is trial 268 with value: 0.8162285684622925.\u001b[0m\n",
      "\u001b[32m[I 2022-11-28 15:28:46,690]\u001b[0m Trial 318 finished with value: 0.815728436579956 and parameters: {'tol': 0.0007960674905655614, 'max_iter': 6734, 'selection': 'cyclic', 'l1_ratio': 0.3894933409349879, 'alpha': 0.000688977012265188}. Best is trial 268 with value: 0.8162285684622925.\u001b[0m\n",
      "\u001b[32m[I 2022-11-28 15:28:49,166]\u001b[0m Trial 319 finished with value: 0.8155587945884581 and parameters: {'tol': 0.014844441777603891, 'max_iter': 6543, 'selection': 'random', 'l1_ratio': 0.9506374441336227, 'alpha': 0.0005982756583348405}. Best is trial 268 with value: 0.8162285684622925.\u001b[0m\n",
      "\u001b[32m[I 2022-11-28 15:28:50,178]\u001b[0m Trial 320 finished with value: 0.666255840154619 and parameters: {'tol': 0.1480422441834762, 'max_iter': 1304, 'selection': 'cyclic', 'l1_ratio': 0.6313065933596369, 'alpha': 0.12606563492495693}. Best is trial 268 with value: 0.8162285684622925.\u001b[0m\n",
      "\u001b[32m[I 2022-11-28 15:28:51,265]\u001b[0m Trial 321 finished with value: 0.7234014060598212 and parameters: {'tol': 0.0011400266053424686, 'max_iter': 8431, 'selection': 'cyclic', 'l1_ratio': 0.43641412156762577, 'alpha': 0.06718227438768685}. Best is trial 268 with value: 0.8162285684622925.\u001b[0m\n",
      "\u001b[32m[I 2022-11-28 15:28:52,387]\u001b[0m Trial 322 finished with value: 0.7669455586046606 and parameters: {'tol': 0.001602466790088861, 'max_iter': 6572, 'selection': 'cyclic', 'l1_ratio': 0.3957508364285395, 'alpha': 0.04744494875973371}. Best is trial 268 with value: 0.8162285684622925.\u001b[0m\n",
      "\u001b[32m[I 2022-11-28 15:28:53,486]\u001b[0m Trial 323 finished with value: 0.7763511549756881 and parameters: {'tol': 0.18062246104728075, 'max_iter': 7756, 'selection': 'cyclic', 'l1_ratio': 0.4212421588554468, 'alpha': 0.039485157629253996}. Best is trial 268 with value: 0.8162285684622925.\u001b[0m\n",
      "\u001b[32m[I 2022-11-28 15:28:54,490]\u001b[0m Trial 324 finished with value: 0.6291256056084162 and parameters: {'tol': 0.13498297670146153, 'max_iter': 2436, 'selection': 'cyclic', 'l1_ratio': 0.4551367198251303, 'alpha': 1.6173272794058378}. Best is trial 268 with value: 0.8162285684622925.\u001b[0m\n",
      "\u001b[32m[I 2022-11-28 15:28:57,438]\u001b[0m Trial 325 finished with value: 0.8161049130769539 and parameters: {'tol': 0.031131979972706166, 'max_iter': 7984, 'selection': 'cyclic', 'l1_ratio': 0.38720940318999464, 'alpha': 0.00016960282700414768}. Best is trial 268 with value: 0.8162285684622925.\u001b[0m\n",
      "\u001b[32m[I 2022-11-28 15:28:58,464]\u001b[0m Trial 326 finished with value: 0.6633874200215027 and parameters: {'tol': 0.22743663933740818, 'max_iter': 6062, 'selection': 'cyclic', 'l1_ratio': 0.9604926220110993, 'alpha': 0.08846616482417101}. Best is trial 268 with value: 0.8162285684622925.\u001b[0m\n",
      "\u001b[32m[I 2022-11-28 15:28:59,494]\u001b[0m Trial 327 finished with value: 0.6998757077806533 and parameters: {'tol': 0.03184167981500574, 'max_iter': 7844, 'selection': 'cyclic', 'l1_ratio': 0.9142128096657813, 'alpha': 0.04450597524237622}. Best is trial 268 with value: 0.8162285684622925.\u001b[0m\n",
      "\u001b[32m[I 2022-11-28 15:29:00,523]\u001b[0m Trial 328 finished with value: 0.6736731379270562 and parameters: {'tol': 0.020971885375827858, 'max_iter': 7969, 'selection': 'cyclic', 'l1_ratio': 0.3865140128516952, 'alpha': 0.1534734883152611}. Best is trial 268 with value: 0.8162285684622925.\u001b[0m\n",
      "\u001b[32m[I 2022-11-28 15:29:01,620]\u001b[0m Trial 329 finished with value: 0.7676736059686493 and parameters: {'tol': 0.03845614468463161, 'max_iter': 7644, 'selection': 'cyclic', 'l1_ratio': 0.6504313810984966, 'alpha': 0.0343815819386856}. Best is trial 268 with value: 0.8162285684622925.\u001b[0m\n",
      "\u001b[32m[I 2022-11-28 15:29:02,706]\u001b[0m Trial 330 finished with value: 0.6933249681623913 and parameters: {'tol': 0.000411153447879894, 'max_iter': 6696, 'selection': 'cyclic', 'l1_ratio': 0.40266821399078695, 'alpha': 0.10447803915548935}. Best is trial 268 with value: 0.8162285684622925.\u001b[0m\n",
      "\u001b[32m[I 2022-11-28 15:29:03,783]\u001b[0m Trial 331 finished with value: 0.7321188612101103 and parameters: {'tol': 0.025891589318222663, 'max_iter': 6300, 'selection': 'cyclic', 'l1_ratio': 0.37729989840148376, 'alpha': 0.07134458430582742}. Best is trial 268 with value: 0.8162285684622925.\u001b[0m\n",
      "\u001b[32m[I 2022-11-28 15:29:04,887]\u001b[0m Trial 332 finished with value: 0.7841545544220901 and parameters: {'tol': 0.04947657255721735, 'max_iter': 1636, 'selection': 'cyclic', 'l1_ratio': 0.3531814694366721, 'alpha': 0.035898887882032736}. Best is trial 268 with value: 0.8162285684622925.\u001b[0m\n",
      "\u001b[32m[I 2022-11-28 15:29:06,419]\u001b[0m Trial 333 finished with value: 0.8140531979501456 and parameters: {'tol': 0.01975356461174567, 'max_iter': 8110, 'selection': 'cyclic', 'l1_ratio': 0.7520111485181062, 'alpha': 0.0030519616548585937}. Best is trial 268 with value: 0.8162285684622925.\u001b[0m\n",
      "\u001b[32m[I 2022-11-28 15:29:07,433]\u001b[0m Trial 334 finished with value: 0.6725887102184205 and parameters: {'tol': 0.2044320297120656, 'max_iter': 1221, 'selection': 'random', 'l1_ratio': 0.07945519912666284, 'alpha': 0.6913011504842066}. Best is trial 268 with value: 0.8162285684622925.\u001b[0m\n",
      "\u001b[32m[I 2022-11-28 15:29:09,751]\u001b[0m Trial 335 finished with value: 0.8158432732464765 and parameters: {'tol': 7.78011202193261e-05, 'max_iter': 1890, 'selection': 'cyclic', 'l1_ratio': 0.41171954824450263, 'alpha': 0.0004809803257826925}. Best is trial 268 with value: 0.8162285684622925.\u001b[0m\n",
      "\u001b[32m[I 2022-11-28 15:29:12,991]\u001b[0m Trial 336 finished with value: 0.8160135164161826 and parameters: {'tol': 0.0011548013072599514, 'max_iter': 1906, 'selection': 'cyclic', 'l1_ratio': 0.41805506430526923, 'alpha': 0.00025927811904353175}. Best is trial 268 with value: 0.8162285684622925.\u001b[0m\n",
      "\u001b[32m[I 2022-11-28 15:29:14,026]\u001b[0m Trial 337 finished with value: 0.633410286369207 and parameters: {'tol': 0.01604189272741083, 'max_iter': 2321, 'selection': 'cyclic', 'l1_ratio': 0.7773994589876021, 'alpha': 0.19860788643890112}. Best is trial 268 with value: 0.8162285684622925.\u001b[0m\n",
      "\u001b[32m[I 2022-11-28 15:29:15,130]\u001b[0m Trial 338 finished with value: 0.7105295985792612 and parameters: {'tol': 0.00582307069982212, 'max_iter': 2026, 'selection': 'random', 'l1_ratio': 0.41643054670747537, 'alpha': 0.07623827035145467}. Best is trial 268 with value: 0.8162285684622925.\u001b[0m\n",
      "\u001b[32m[I 2022-11-28 15:29:22,471]\u001b[0m Trial 339 finished with value: 0.8161378821099773 and parameters: {'tol': 0.013789267218256459, 'max_iter': 2003, 'selection': 'cyclic', 'l1_ratio': 0.43194616701664346, 'alpha': 0.00012597955800360287}. Best is trial 268 with value: 0.8162285684622925.\u001b[0m\n",
      "\u001b[32m[I 2022-11-28 15:29:23,488]\u001b[0m Trial 340 finished with value: 0.6286351200462741 and parameters: {'tol': 0.0020030806986004335, 'max_iter': 2032, 'selection': 'cyclic', 'l1_ratio': 0.8250154410687369, 'alpha': 1.183147941060057}. Best is trial 268 with value: 0.8162285684622925.\u001b[0m\n",
      "\u001b[32m[I 2022-11-28 15:29:24,603]\u001b[0m Trial 341 finished with value: 0.7395425786209504 and parameters: {'tol': 0.00035731313249926715, 'max_iter': 2661, 'selection': 'cyclic', 'l1_ratio': 0.4285016357809893, 'alpha': 0.06046112270883478}. Best is trial 268 with value: 0.8162285684622925.\u001b[0m\n",
      "\u001b[32m[I 2022-11-28 15:29:25,724]\u001b[0m Trial 342 finished with value: 0.7786976313185476 and parameters: {'tol': 0.03222733502325258, 'max_iter': 2158, 'selection': 'cyclic', 'l1_ratio': 0.4209157550367896, 'alpha': 0.03782154738590467}. Best is trial 268 with value: 0.8162285684622925.\u001b[0m\n",
      "\u001b[32m[I 2022-11-28 15:29:26,762]\u001b[0m Trial 343 finished with value: 0.6810949023969087 and parameters: {'tol': 0.024027419823376236, 'max_iter': 2151, 'selection': 'cyclic', 'l1_ratio': 0.4081747148385487, 'alpha': 0.11836829018767213}. Best is trial 268 with value: 0.8162285684622925.\u001b[0m\n",
      "\u001b[32m[I 2022-11-28 15:29:27,888]\u001b[0m Trial 344 finished with value: 0.7793329407959383 and parameters: {'tol': 0.0007607425098847265, 'max_iter': 1925, 'selection': 'cyclic', 'l1_ratio': 0.4073389656338477, 'alpha': 0.03790876141600884}. Best is trial 268 with value: 0.8162285684622925.\u001b[0m\n",
      "\u001b[32m[I 2022-11-28 15:29:28,926]\u001b[0m Trial 345 finished with value: 0.7004398336266114 and parameters: {'tol': 0.04608836891649787, 'max_iter': 2269, 'selection': 'cyclic', 'l1_ratio': 0.4401938923946596, 'alpha': 0.08621832989936955}. Best is trial 268 with value: 0.8162285684622925.\u001b[0m\n",
      "\u001b[32m[I 2022-11-28 15:29:30,062]\u001b[0m Trial 346 finished with value: 0.785449396219279 and parameters: {'tol': 0.022310587688193023, 'max_iter': 7973, 'selection': 'cyclic', 'l1_ratio': 0.38847750130880043, 'alpha': 0.03356169750553945}. Best is trial 268 with value: 0.8162285684622925.\u001b[0m\n",
      "\u001b[32m[I 2022-11-28 15:29:31,999]\u001b[0m Trial 347 finished with value: 0.8145119520686158 and parameters: {'tol': 3.191906129527337e-05, 'max_iter': 2528, 'selection': 'cyclic', 'l1_ratio': 0.4371941754989489, 'alpha': 0.002486635717730728}. Best is trial 268 with value: 0.8162285684622925.\u001b[0m\n",
      "\u001b[32m[I 2022-11-28 15:29:34,953]\u001b[0m Trial 348 finished with value: 0.8160660831413066 and parameters: {'tol': 0.053868742959969705, 'max_iter': 5697, 'selection': 'cyclic', 'l1_ratio': 0.37235063746536967, 'alpha': 0.0002193495194860382}. Best is trial 268 with value: 0.8162285684622925.\u001b[0m\n",
      "\u001b[32m[I 2022-11-28 15:29:36,041]\u001b[0m Trial 349 finished with value: 0.7361786978376419 and parameters: {'tol': 0.051783949415518046, 'max_iter': 5856, 'selection': 'cyclic', 'l1_ratio': 0.3614014158272397, 'alpha': 0.07131457576793007}. Best is trial 268 with value: 0.8162285684622925.\u001b[0m\n",
      "\u001b[32m[I 2022-11-28 15:29:37,065]\u001b[0m Trial 350 finished with value: 0.6755322164681635 and parameters: {'tol': 0.042850417880982955, 'max_iter': 4550, 'selection': 'cyclic', 'l1_ratio': 0.3815752522189216, 'alpha': 0.135490795326182}. Best is trial 268 with value: 0.8162285684622925.\u001b[0m\n",
      "\u001b[32m[I 2022-11-28 15:29:39,033]\u001b[0m Trial 351 finished with value: 0.815479351060639 and parameters: {'tol': 0.02619311810660471, 'max_iter': 1761, 'selection': 'cyclic', 'l1_ratio': 0.34039520255517514, 'alpha': 0.0010820165327296246}. Best is trial 268 with value: 0.8162285684622925.\u001b[0m\n",
      "\u001b[32m[I 2022-11-28 15:29:40,181]\u001b[0m Trial 352 finished with value: 0.7812985406841948 and parameters: {'tol': 0.058098109610986416, 'max_iter': 2238, 'selection': 'cyclic', 'l1_ratio': 0.38029552586815973, 'alpha': 0.037428886620468935}. Best is trial 268 with value: 0.8162285684622925.\u001b[0m\n",
      "\u001b[32m[I 2022-11-28 15:29:41,241]\u001b[0m Trial 353 finished with value: 0.6987832931832215 and parameters: {'tol': 0.029351612595177417, 'max_iter': 5529, 'selection': 'cyclic', 'l1_ratio': 0.4053426090869398, 'alpha': 0.09558431563657743}. Best is trial 268 with value: 0.8162285684622925.\u001b[0m\n",
      "\u001b[32m[I 2022-11-28 15:29:42,364]\u001b[0m Trial 354 finished with value: 0.780469189376357 and parameters: {'tol': 0.06403240652761451, 'max_iter': 1934, 'selection': 'cyclic', 'l1_ratio': 0.3199918873618352, 'alpha': 0.04076440615327711}. Best is trial 268 with value: 0.8162285684622925.\u001b[0m\n",
      "\u001b[32m[I 2022-11-28 15:29:43,525]\u001b[0m Trial 355 finished with value: 0.7428323882665285 and parameters: {'tol': 0.0003666643659930646, 'max_iter': 8158, 'selection': 'cyclic', 'l1_ratio': 0.36133251782063863, 'alpha': 0.06696765795071744}. Best is trial 268 with value: 0.8162285684622925.\u001b[0m\n",
      "\u001b[32m[I 2022-11-28 15:29:46,542]\u001b[0m Trial 356 finished with value: 0.8160952629613769 and parameters: {'tol': 0.035153289629711766, 'max_iter': 5065, 'selection': 'cyclic', 'l1_ratio': 0.39969725467207645, 'alpha': 0.000178104044834484}. Best is trial 268 with value: 0.8162285684622925.\u001b[0m\n",
      "\u001b[32m[I 2022-11-28 15:29:47,552]\u001b[0m Trial 357 finished with value: 0.6297733501456985 and parameters: {'tol': 0.022997461468795367, 'max_iter': 3794, 'selection': 'cyclic', 'l1_ratio': 0.40918656193816666, 'alpha': 0.8963596737515747}. Best is trial 268 with value: 0.8162285684622925.\u001b[0m\n",
      "\u001b[32m[I 2022-11-28 15:29:49,313]\u001b[0m Trial 358 finished with value: 0.8147641701823629 and parameters: {'tol': 0.040832066640870406, 'max_iter': 4325, 'selection': 'cyclic', 'l1_ratio': 0.394510894877006, 'alpha': 0.0018880571204504084}. Best is trial 268 with value: 0.8162285684622925.\u001b[0m\n",
      "\u001b[32m[I 2022-11-28 15:29:50,347]\u001b[0m Trial 359 finished with value: 0.633795282113737 and parameters: {'tol': 0.016503837629576103, 'max_iter': 6083, 'selection': 'cyclic', 'l1_ratio': 0.42521023418415366, 'alpha': 0.3615368603561011}. Best is trial 268 with value: 0.8162285684622925.\u001b[0m\n",
      "\u001b[32m[I 2022-11-28 15:30:01,528]\u001b[0m Trial 360 finished with value: 0.8161927947108377 and parameters: {'tol': 0.03629727650221839, 'max_iter': 1806, 'selection': 'cyclic', 'l1_ratio': 0.3734500527443826, 'alpha': 6.70388173408287e-05}. Best is trial 268 with value: 0.8162285684622925.\u001b[0m\n",
      "\u001b[32m[I 2022-11-28 15:30:02,637]\u001b[0m Trial 361 finished with value: 0.7755779631992094 and parameters: {'tol': 0.04810912987334809, 'max_iter': 4889, 'selection': 'cyclic', 'l1_ratio': 0.38545993647746973, 'alpha': 0.04180171631049925}. Best is trial 268 with value: 0.8162285684622925.\u001b[0m\n",
      "\u001b[32m[I 2022-11-28 15:30:03,672]\u001b[0m Trial 362 finished with value: 0.704394972337048 and parameters: {'tol': 0.0702621301557241, 'max_iter': 1493, 'selection': 'cyclic', 'l1_ratio': 0.37073427640167467, 'alpha': 0.09206598161882934}. Best is trial 268 with value: 0.8162285684622925.\u001b[0m\n",
      "\u001b[32m[I 2022-11-28 15:30:04,744]\u001b[0m Trial 363 finished with value: 0.734482444451574 and parameters: {'tol': 0.03878701607908364, 'max_iter': 2977, 'selection': 'cyclic', 'l1_ratio': 0.4117038534354427, 'alpha': 0.06510185217626747}. Best is trial 268 with value: 0.8162285684622925.\u001b[0m\n",
      "\u001b[32m[I 2022-11-28 15:30:05,851]\u001b[0m Trial 364 finished with value: 0.7809874445746264 and parameters: {'tol': 0.06316899268368578, 'max_iter': 8236, 'selection': 'cyclic', 'l1_ratio': 0.37112643302094744, 'alpha': 0.038062465412124186}. Best is trial 268 with value: 0.8162285684622925.\u001b[0m\n",
      "\u001b[32m[I 2022-11-28 15:30:08,529]\u001b[0m Trial 365 finished with value: 0.8159655243575776 and parameters: {'tol': 0.03249942741822266, 'max_iter': 5245, 'selection': 'cyclic', 'l1_ratio': 0.40243530531989125, 'alpha': 0.0003106649514626}. Best is trial 268 with value: 0.8162285684622925.\u001b[0m\n",
      "\u001b[32m[I 2022-11-28 15:30:09,541]\u001b[0m Trial 366 finished with value: 0.6300014599024152 and parameters: {'tol': 0.2917343215555164, 'max_iter': 5577, 'selection': 'cyclic', 'l1_ratio': 0.397688140917718, 'alpha': 0.5324804312426367}. Best is trial 268 with value: 0.8162285684622925.\u001b[0m\n",
      "\u001b[32m[I 2022-11-28 15:30:10,564]\u001b[0m Trial 367 finished with value: 0.6754796587202461 and parameters: {'tol': 0.022281172630439675, 'max_iter': 5135, 'selection': 'cyclic', 'l1_ratio': 0.4320350654862718, 'alpha': 0.12093700687214334}. Best is trial 268 with value: 0.8162285684622925.\u001b[0m\n",
      "\u001b[32m[I 2022-11-28 15:30:11,674]\u001b[0m Trial 368 finished with value: 0.750883438542958 and parameters: {'tol': 0.0358880009271025, 'max_iter': 1846, 'selection': 'cyclic', 'l1_ratio': 0.6891519807957168, 'alpha': 0.037835475858483424}. Best is trial 268 with value: 0.8162285684622925.\u001b[0m\n",
      "\u001b[32m[I 2022-11-28 15:30:12,697]\u001b[0m Trial 369 finished with value: 0.6721056867251123 and parameters: {'tol': 0.05887694051926523, 'max_iter': 5334, 'selection': 'cyclic', 'l1_ratio': 0.39423833292970656, 'alpha': 0.16460930898720771}. Best is trial 268 with value: 0.8162285684622925.\u001b[0m\n",
      "\u001b[32m[I 2022-11-28 15:30:14,481]\u001b[0m Trial 370 finished with value: 0.8147526845227018 and parameters: {'tol': 0.0172152243190562, 'max_iter': 5719, 'selection': 'cyclic', 'l1_ratio': 0.3485001367069508, 'alpha': 0.0018814571700623438}. Best is trial 268 with value: 0.8162285684622925.\u001b[0m\n",
      "\u001b[32m[I 2022-11-28 15:30:15,569]\u001b[0m Trial 371 finished with value: 0.7189845110659344 and parameters: {'tol': 0.039930394912830215, 'max_iter': 5086, 'selection': 'cyclic', 'l1_ratio': 0.42157025588992014, 'alpha': 0.07140491762368766}. Best is trial 268 with value: 0.8162285684622925.\u001b[0m\n",
      "\u001b[32m[I 2022-11-28 15:30:37,822]\u001b[0m Trial 372 finished with value: 0.8161802496021807 and parameters: {'tol': 2.4202267152984708e-05, 'max_iter': 1864, 'selection': 'cyclic', 'l1_ratio': 0.3751743540626957, 'alpha': 8.45526059349519e-05}. Best is trial 268 with value: 0.8162285684622925.\u001b[0m\n",
      "\u001b[32m[I 2022-11-28 15:30:38,938]\u001b[0m Trial 373 finished with value: 0.7792080296068776 and parameters: {'tol': 0.09847915094518728, 'max_iter': 1971, 'selection': 'cyclic', 'l1_ratio': 0.37167406856984625, 'alpha': 0.03954787111968369}. Best is trial 268 with value: 0.8162285684622925.\u001b[0m\n",
      "\u001b[32m[I 2022-11-28 15:30:39,948]\u001b[0m Trial 374 finished with value: 0.6277790187604442 and parameters: {'tol': 0.019139617321677477, 'max_iter': 5303, 'selection': 'cyclic', 'l1_ratio': 0.9983904763689438, 'alpha': 1.2963074974537454}. Best is trial 268 with value: 0.8162285684622925.\u001b[0m\n",
      "\u001b[32m[I 2022-11-28 15:30:40,998]\u001b[0m Trial 375 finished with value: 0.7034204989597947 and parameters: {'tol': 0.07021680745048675, 'max_iter': 1821, 'selection': 'cyclic', 'l1_ratio': 0.34907187951867674, 'alpha': 0.0990383932310052}. Best is trial 268 with value: 0.8162285684622925.\u001b[0m\n",
      "\u001b[32m[I 2022-11-28 15:30:42,118]\u001b[0m Trial 376 finished with value: 0.7775427290044774 and parameters: {'tol': 0.05294809148651487, 'max_iter': 1605, 'selection': 'cyclic', 'l1_ratio': 0.41231243262840855, 'alpha': 0.03903870633051143}. Best is trial 268 with value: 0.8162285684622925.\u001b[0m\n",
      "\u001b[32m[I 2022-11-28 15:30:43,206]\u001b[0m Trial 377 finished with value: 0.7290888506864323 and parameters: {'tol': 0.03280278895566195, 'max_iter': 7788, 'selection': 'cyclic', 'l1_ratio': 0.375515938527554, 'alpha': 0.0734336839331148}. Best is trial 268 with value: 0.8162285684622925.\u001b[0m\n",
      "\u001b[32m[I 2022-11-28 15:30:44,317]\u001b[0m Trial 378 finished with value: 0.7723439784154302 and parameters: {'tol': 0.025328227800655405, 'max_iter': 8766, 'selection': 'cyclic', 'l1_ratio': 0.450092899262492, 'alpha': 0.040761159872366615}. Best is trial 268 with value: 0.8162285684622925.\u001b[0m\n",
      "\u001b[32m[I 2022-11-28 15:30:46,490]\u001b[0m Trial 379 finished with value: 0.8157859731593149 and parameters: {'tol': 0.11130829809866852, 'max_iter': 1813, 'selection': 'cyclic', 'l1_ratio': 0.35721175489415063, 'alpha': 0.0006129502988667221}. Best is trial 268 with value: 0.8162285684622925.\u001b[0m\n",
      "\u001b[32m[I 2022-11-28 15:30:47,557]\u001b[0m Trial 380 finished with value: 0.6755270891315458 and parameters: {'tol': 0.00023549375544567783, 'max_iter': 8309, 'selection': 'cyclic', 'l1_ratio': 0.40431059092893284, 'alpha': 0.12728182838253263}. Best is trial 268 with value: 0.8162285684622925.\u001b[0m\n",
      "\u001b[32m[I 2022-11-28 15:30:48,644]\u001b[0m Trial 381 finished with value: 0.7449793271169043 and parameters: {'tol': 0.07775604293176602, 'max_iter': 4807, 'selection': 'cyclic', 'l1_ratio': 0.33735967453992927, 'alpha': 0.0688751268027276}. Best is trial 268 with value: 0.8162285684622925.\u001b[0m\n",
      "\u001b[32m[I 2022-11-28 15:30:49,756]\u001b[0m Trial 382 finished with value: 0.781537826785555 and parameters: {'tol': 0.05166315026386738, 'max_iter': 1972, 'selection': 'cyclic', 'l1_ratio': 0.42882810636686114, 'alpha': 0.035410735826027086}. Best is trial 268 with value: 0.8162285684622925.\u001b[0m\n",
      "\u001b[32m[I 2022-11-28 15:30:50,777]\u001b[0m Trial 383 finished with value: 0.8082669273832626 and parameters: {'tol': 0.9905289863833566, 'max_iter': 8547, 'selection': 'cyclic', 'l1_ratio': 0.3845730272635437, 'alpha': 0.0025968941366743387}. Best is trial 268 with value: 0.8162285684622925.\u001b[0m\n",
      "\u001b[32m[I 2022-11-28 15:30:52,823]\u001b[0m Trial 384 finished with value: 0.8157527404598481 and parameters: {'tol': 0.023153944716587757, 'max_iter': 7993, 'selection': 'cyclic', 'l1_ratio': 0.36949041669335353, 'alpha': 0.0006626620863319388}. Best is trial 268 with value: 0.8162285684622925.\u001b[0m\n",
      "\u001b[32m[I 2022-11-28 15:30:53,846]\u001b[0m Trial 385 finished with value: 0.6976614448390248 and parameters: {'tol': 0.24314656938808, 'max_iter': 5411, 'selection': 'cyclic', 'l1_ratio': 0.40817580260179054, 'alpha': 0.09624317877184488}. Best is trial 268 with value: 0.8162285684622925.\u001b[0m\n",
      "\u001b[32m[I 2022-11-28 15:30:54,848]\u001b[0m Trial 386 finished with value: 0.7669166109094978 and parameters: {'tol': 0.7434816708602358, 'max_iter': 1705, 'selection': 'cyclic', 'l1_ratio': 0.45517776327652215, 'alpha': 0.04180877593073593}. Best is trial 268 with value: 0.8162285684622925.\u001b[0m\n",
      "\u001b[32m[I 2022-11-28 15:30:55,921]\u001b[0m Trial 387 finished with value: 0.7128461505311677 and parameters: {'tol': 0.03845624195393473, 'max_iter': 1428, 'selection': 'cyclic', 'l1_ratio': 0.43668643434704757, 'alpha': 0.07184290639645247}. Best is trial 268 with value: 0.8162285684622925.\u001b[0m\n",
      "\u001b[32m[I 2022-11-28 15:30:57,028]\u001b[0m Trial 388 finished with value: 0.7864021661256393 and parameters: {'tol': 0.08444957965053058, 'max_iter': 2206, 'selection': 'cyclic', 'l1_ratio': 0.3888828694767159, 'alpha': 0.03269981394551622}. Best is trial 268 with value: 0.8162285684622925.\u001b[0m\n",
      "\u001b[32m[I 2022-11-28 15:30:58,098]\u001b[0m Trial 389 finished with value: 0.7049287985170979 and parameters: {'tol': 0.018603121173800787, 'max_iter': 4784, 'selection': 'cyclic', 'l1_ratio': 0.3331080441554289, 'alpha': 0.09936789664686439}. Best is trial 268 with value: 0.8162285684622925.\u001b[0m\n",
      "\u001b[32m[I 2022-11-28 15:30:59,206]\u001b[0m Trial 390 finished with value: 0.7775087915076577 and parameters: {'tol': 0.06230290713018691, 'max_iter': 2393, 'selection': 'cyclic', 'l1_ratio': 0.3675914391637678, 'alpha': 0.041154858865325626}. Best is trial 268 with value: 0.8162285684622925.\u001b[0m\n",
      "\u001b[32m[I 2022-11-28 15:31:01,047]\u001b[0m Trial 391 finished with value: 0.8151064408368591 and parameters: {'tol': 0.04648275941327358, 'max_iter': 7876, 'selection': 'cyclic', 'l1_ratio': 0.397171775070996, 'alpha': 0.00142461706545324}. Best is trial 268 with value: 0.8162285684622925.\u001b[0m\n",
      "\u001b[32m[I 2022-11-28 15:31:02,110]\u001b[0m Trial 392 finished with value: 0.7252346093286505 and parameters: {'tol': 0.12025543859780774, 'max_iter': 1057, 'selection': 'cyclic', 'l1_ratio': 0.4225292374168321, 'alpha': 0.06824569151682619}. Best is trial 268 with value: 0.8162285684622925.\u001b[0m\n",
      "\u001b[32m[I 2022-11-28 15:31:03,113]\u001b[0m Trial 393 finished with value: 0.6752976891180447 and parameters: {'tol': 0.5699021133166737, 'max_iter': 5729, 'selection': 'cyclic', 'l1_ratio': 0.343957217440102, 'alpha': 0.15673925168785943}. Best is trial 268 with value: 0.8162285684622925.\u001b[0m\n",
      "\u001b[32m[I 2022-11-28 15:31:05,204]\u001b[0m Trial 394 finished with value: 0.8157837306427653 and parameters: {'tol': 0.016615373203951483, 'max_iter': 3398, 'selection': 'cyclic', 'l1_ratio': 0.363581843475541, 'alpha': 0.0006122062534377969}. Best is trial 268 with value: 0.8162285684622925.\u001b[0m\n",
      "\u001b[32m[I 2022-11-28 15:31:07,492]\u001b[0m Trial 395 finished with value: 0.8158776186516095 and parameters: {'tol': 0.1622000450632584, 'max_iter': 1855, 'selection': 'cyclic', 'l1_ratio': 0.44301802081261027, 'alpha': 0.0004066264603311127}. Best is trial 268 with value: 0.8162285684622925.\u001b[0m\n",
      "\u001b[32m[I 2022-11-28 15:31:08,563]\u001b[0m Trial 396 finished with value: 0.7184050882682871 and parameters: {'tol': 0.17845782344043704, 'max_iter': 1996, 'selection': 'cyclic', 'l1_ratio': 0.46622059323966886, 'alpha': 0.0652798123589579}. Best is trial 268 with value: 0.8162285684622925.\u001b[0m\n",
      "\u001b[32m[I 2022-11-28 15:31:09,675]\u001b[0m Trial 397 finished with value: 0.7741283101887099 and parameters: {'tol': 0.035466271817346316, 'max_iter': 1592, 'selection': 'cyclic', 'l1_ratio': 0.43999803198391496, 'alpha': 0.04012147285823444}. Best is trial 268 with value: 0.8162285684622925.\u001b[0m\n",
      "\u001b[32m[I 2022-11-28 15:31:10,739]\u001b[0m Trial 398 finished with value: 0.6771757974649624 and parameters: {'tol': 0.0005501736591336261, 'max_iter': 1846, 'selection': 'cyclic', 'l1_ratio': 0.4149359077147149, 'alpha': 0.12071699488274328}. Best is trial 268 with value: 0.8162285684622925.\u001b[0m\n",
      "\u001b[32m[I 2022-11-28 15:31:11,845]\u001b[0m Trial 399 finished with value: 0.7754507614187526 and parameters: {'tol': 0.058198377402960744, 'max_iter': 2103, 'selection': 'cyclic', 'l1_ratio': 0.44477965899021427, 'alpha': 0.03903386928020319}. Best is trial 268 with value: 0.8162285684622925.\u001b[0m\n",
      "\u001b[32m[I 2022-11-28 15:31:12,866]\u001b[0m Trial 400 finished with value: 0.6949393566705138 and parameters: {'tol': 0.09236962508918793, 'max_iter': 4058, 'selection': 'cyclic', 'l1_ratio': 0.46064806377550704, 'alpha': 0.0898733632635381}. Best is trial 268 with value: 0.8162285684622925.\u001b[0m\n",
      "\u001b[32m[I 2022-11-28 15:31:13,992]\u001b[0m Trial 401 finished with value: 0.7844717795546683 and parameters: {'tol': 0.018195495003043544, 'max_iter': 9027, 'selection': 'cyclic', 'l1_ratio': 0.3874182881068994, 'alpha': 0.03445388225523281}. Best is trial 268 with value: 0.8162285684622925.\u001b[0m\n",
      "\u001b[32m[I 2022-11-28 15:31:16,129]\u001b[0m Trial 402 finished with value: 0.8150659930110556 and parameters: {'tol': 8.020628029688226e-05, 'max_iter': 1719, 'selection': 'cyclic', 'l1_ratio': 0.40907179577156905, 'alpha': 0.0014433374137090566}. Best is trial 268 with value: 0.8162285684622925.\u001b[0m\n",
      "\u001b[32m[I 2022-11-28 15:31:17,160]\u001b[0m Trial 403 finished with value: 0.6934099425678522 and parameters: {'tol': 0.038116055549373015, 'max_iter': 1870, 'selection': 'cyclic', 'l1_ratio': 0.578450596050251, 'alpha': 0.07438807375162211}. Best is trial 268 with value: 0.8162285684622925.\u001b[0m\n",
      "\u001b[32m[I 2022-11-28 15:31:18,170]\u001b[0m Trial 404 finished with value: 0.7745108626080219 and parameters: {'tol': 0.5242508089776432, 'max_iter': 1515, 'selection': 'cyclic', 'l1_ratio': 0.4338089463954297, 'alpha': 0.03749653152556238}. Best is trial 268 with value: 0.8162285684622925.\u001b[0m\n",
      "\u001b[32m[I 2022-11-28 15:31:19,191]\u001b[0m Trial 405 finished with value: 0.6920353787761415 and parameters: {'tol': 0.07472612286905492, 'max_iter': 8479, 'selection': 'cyclic', 'l1_ratio': 0.3816550852745437, 'alpha': 0.11130258438349952}. Best is trial 268 with value: 0.8162285684622925.\u001b[0m\n",
      "\u001b[32m[I 2022-11-28 15:31:22,043]\u001b[0m Trial 406 finished with value: 0.8162006320892876 and parameters: {'tol': 0.21171523108937634, 'max_iter': 8190, 'selection': 'cyclic', 'l1_ratio': 0.4744564621185031, 'alpha': 4.57050945457404e-05}. Best is trial 268 with value: 0.8162285684622925.\u001b[0m\n",
      "\u001b[32m[I 2022-11-28 15:31:23,107]\u001b[0m Trial 407 finished with value: 0.7184319602011078 and parameters: {'tol': 0.15788701683201514, 'max_iter': 8237, 'selection': 'cyclic', 'l1_ratio': 0.4633745527342633, 'alpha': 0.06564204263931424}. Best is trial 268 with value: 0.8162285684622925.\u001b[0m\n",
      "\u001b[32m[I 2022-11-28 15:31:24,894]\u001b[0m Trial 408 finished with value: 0.8151500825897822 and parameters: {'tol': 0.17982948327062084, 'max_iter': 8110, 'selection': 'cyclic', 'l1_ratio': 0.4935862905574192, 'alpha': 0.001254951522913101}. Best is trial 268 with value: 0.8162285684622925.\u001b[0m\n",
      "\u001b[32m[I 2022-11-28 15:31:25,975]\u001b[0m Trial 409 finished with value: 0.7758917648273457 and parameters: {'tol': 0.21308440427331315, 'max_iter': 8314, 'selection': 'cyclic', 'l1_ratio': 0.4738481761993289, 'alpha': 0.03743059808827999}. Best is trial 268 with value: 0.8162285684622925.\u001b[0m\n",
      "\u001b[32m[I 2022-11-28 15:31:27,016]\u001b[0m Trial 410 finished with value: 0.705894879662158 and parameters: {'tol': 0.17060093067635207, 'max_iter': 8036, 'selection': 'cyclic', 'l1_ratio': 0.4842849654794254, 'alpha': 0.07089900738286149}. Best is trial 268 with value: 0.8162285684622925.\u001b[0m\n",
      "\u001b[32m[I 2022-11-28 15:31:28,130]\u001b[0m Trial 411 finished with value: 0.7801452441115899 and parameters: {'tol': 0.09308791128436378, 'max_iter': 8622, 'selection': 'cyclic', 'l1_ratio': 0.44343563200560454, 'alpha': 0.035892532496448706}. Best is trial 268 with value: 0.8162285684622925.\u001b[0m\n",
      "\u001b[32m[I 2022-11-28 15:31:29,127]\u001b[0m Trial 412 finished with value: 0.6297095819120246 and parameters: {'tol': 0.19545822780997493, 'max_iter': 9520, 'selection': 'cyclic', 'l1_ratio': 0.5506981393378689, 'alpha': 0.7409238533644814}. Best is trial 268 with value: 0.8162285684622925.\u001b[0m\n",
      "\u001b[32m[I 2022-11-28 15:31:30,150]\u001b[0m Trial 413 finished with value: 0.6751857195944676 and parameters: {'tol': 0.14491621619859812, 'max_iter': 7758, 'selection': 'cyclic', 'l1_ratio': 0.42244748450251135, 'alpha': 0.12689997865751687}. Best is trial 268 with value: 0.8162285684622925.\u001b[0m\n",
      "\u001b[32m[I 2022-11-28 15:31:31,147]\u001b[0m Trial 414 finished with value: 0.6289555846332331 and parameters: {'tol': 0.123614760470631, 'max_iter': 7979, 'selection': 'cyclic', 'l1_ratio': 0.47458058120473623, 'alpha': 1.7268784661934555}. Best is trial 268 with value: 0.8162285684622925.\u001b[0m\n",
      "\u001b[32m[I 2022-11-28 15:31:32,237]\u001b[0m Trial 415 finished with value: 0.779751027112388 and parameters: {'tol': 0.1994142998948332, 'max_iter': 8391, 'selection': 'cyclic', 'l1_ratio': 0.45007428999485327, 'alpha': 0.03591104767142346}. Best is trial 268 with value: 0.8162285684622925.\u001b[0m\n",
      "\u001b[32m[I 2022-11-28 15:31:33,273]\u001b[0m Trial 416 finished with value: 0.7037001546570167 and parameters: {'tol': 0.06542676728697347, 'max_iter': 7681, 'selection': 'cyclic', 'l1_ratio': 0.4048552548810624, 'alpha': 0.08688073809581671}. Best is trial 268 with value: 0.8162285684622925.\u001b[0m\n",
      "\u001b[32m[I 2022-11-28 15:31:35,240]\u001b[0m Trial 417 finished with value: 0.8155060822523537 and parameters: {'tol': 0.10967866274243837, 'max_iter': 8205, 'selection': 'cyclic', 'l1_ratio': 0.31144650929039097, 'alpha': 0.0010769707402001074}. Best is trial 268 with value: 0.8162285684622925.\u001b[0m\n",
      "\u001b[32m[I 2022-11-28 15:31:37,358]\u001b[0m Trial 418 finished with value: 0.8157401812268219 and parameters: {'tol': 0.050766071672015585, 'max_iter': 2580, 'selection': 'cyclic', 'l1_ratio': 0.5000996183080737, 'alpha': 0.000613664680148058}. Best is trial 268 with value: 0.8162285684622925.\u001b[0m\n",
      "\u001b[32m[I 2022-11-28 15:31:38,376]\u001b[0m Trial 419 finished with value: 0.7502532680309603 and parameters: {'tol': 0.944201698558333, 'max_iter': 8078, 'selection': 'cyclic', 'l1_ratio': 0.3523477247984003, 'alpha': 0.06124585032612465}. Best is trial 268 with value: 0.8162285684622925.\u001b[0m\n",
      "\u001b[32m[I 2022-11-28 15:31:39,376]\u001b[0m Trial 420 finished with value: 0.6299438376756552 and parameters: {'tol': 0.1628652185995206, 'max_iter': 8765, 'selection': 'cyclic', 'l1_ratio': 0.4345012089585843, 'alpha': 0.581347142545712}. Best is trial 268 with value: 0.8162285684622925.\u001b[0m\n",
      "\u001b[32m[I 2022-11-28 15:31:40,377]\u001b[0m Trial 421 finished with value: 0.6294933878196881 and parameters: {'tol': 0.034636596322155704, 'max_iter': 5214, 'selection': 'cyclic', 'l1_ratio': 0.5251031586861599, 'alpha': 1.024906699805491}. Best is trial 268 with value: 0.8162285684622925.\u001b[0m\n",
      "\u001b[32m[I 2022-11-28 15:31:41,389]\u001b[0m Trial 422 finished with value: 0.6680323374609753 and parameters: {'tol': 0.07549180585614719, 'max_iter': 1291, 'selection': 'cyclic', 'l1_ratio': 0.41943398126452497, 'alpha': 0.17970810841302504}. Best is trial 268 with value: 0.8162285684622925.\u001b[0m\n",
      "\u001b[32m[I 2022-11-28 15:31:42,487]\u001b[0m Trial 423 finished with value: 0.7654747733370172 and parameters: {'tol': 0.02026217274986976, 'max_iter': 7875, 'selection': 'cyclic', 'l1_ratio': 0.46611045331574436, 'alpha': 0.04387964428104201}. Best is trial 268 with value: 0.8162285684622925.\u001b[0m\n",
      "\u001b[32m[I 2022-11-28 15:31:43,517]\u001b[0m Trial 424 finished with value: 0.6978130569433919 and parameters: {'tol': 0.04004198388715953, 'max_iter': 2165, 'selection': 'cyclic', 'l1_ratio': 0.3944722882141594, 'alpha': 0.09941301690440402}. Best is trial 268 with value: 0.8162285684622925.\u001b[0m\n",
      "\u001b[32m[I 2022-11-28 15:31:45,561]\u001b[0m Trial 425 finished with value: 0.8157212952296187 and parameters: {'tol': 0.13995676313083266, 'max_iter': 8460, 'selection': 'cyclic', 'l1_ratio': 0.35339348796677944, 'alpha': 0.0007252745687185195}. Best is trial 268 with value: 0.8162285684622925.\u001b[0m\n",
      "\u001b[32m[I 2022-11-28 15:31:47,877]\u001b[0m Trial 426 finished with value: 0.7948313191425306 and parameters: {'tol': 0.055774414200999003, 'max_iter': 8263, 'selection': 'cyclic', 'l1_ratio': 0.05514678964918286, 'alpha': 0.039798756616663676}. Best is trial 268 with value: 0.8162285684622925.\u001b[0m\n",
      "\u001b[32m[I 2022-11-28 15:31:48,877]\u001b[0m Trial 427 finished with value: 0.6288313700095308 and parameters: {'tol': 0.10131621611478284, 'max_iter': 2047, 'selection': 'cyclic', 'l1_ratio': 0.4468671778348098, 'alpha': 1.9633008469280118}. Best is trial 268 with value: 0.8162285684622925.\u001b[0m\n",
      "\u001b[32m[I 2022-11-28 15:31:49,973]\u001b[0m Trial 428 finished with value: 0.7353078599996303 and parameters: {'tol': 0.019245941844606426, 'max_iter': 2399, 'selection': 'cyclic', 'l1_ratio': 0.3732431142116661, 'alpha': 0.07004490993158609}. Best is trial 268 with value: 0.8162285684622925.\u001b[0m\n",
      "\u001b[32m[I 2022-11-28 15:31:50,995]\u001b[0m Trial 429 finished with value: 0.6805146532803428 and parameters: {'tol': 0.07750192343247733, 'max_iter': 7624, 'selection': 'cyclic', 'l1_ratio': 0.3311184084310633, 'alpha': 0.14602472058276117}. Best is trial 268 with value: 0.8162285684622925.\u001b[0m\n",
      "\u001b[32m[I 2022-11-28 15:31:52,115]\u001b[0m Trial 430 finished with value: 0.7844138284640703 and parameters: {'tol': 0.04989658637458718, 'max_iter': 4939, 'selection': 'random', 'l1_ratio': 0.4051995617322042, 'alpha': 0.03390278475988367}. Best is trial 268 with value: 0.8162285684622925.\u001b[0m\n",
      "\u001b[32m[I 2022-11-28 15:31:53,131]\u001b[0m Trial 431 finished with value: 0.629326942753489 and parameters: {'tol': 0.021923855397727017, 'max_iter': 1650, 'selection': 'random', 'l1_ratio': 0.4221374435238078, 'alpha': 1.5026553454513176}. Best is trial 268 with value: 0.8162285684622925.\u001b[0m\n",
      "\u001b[32m[I 2022-11-28 15:31:55,701]\u001b[0m Trial 432 finished with value: 0.8160304419509552 and parameters: {'tol': 0.2333647651441739, 'max_iter': 7895, 'selection': 'cyclic', 'l1_ratio': 0.5044136619911004, 'alpha': 0.00021808502079364447}. Best is trial 268 with value: 0.8162285684622925.\u001b[0m\n",
      "\u001b[32m[I 2022-11-28 15:31:56,722]\u001b[0m Trial 433 finished with value: 0.6826258217413836 and parameters: {'tol': 0.22206464306297155, 'max_iter': 7975, 'selection': 'random', 'l1_ratio': 0.5073727057181586, 'alpha': 0.09462091751888713}. Best is trial 268 with value: 0.8162285684622925.\u001b[0m\n",
      "\u001b[32m[I 2022-11-28 15:31:58,770]\u001b[0m Trial 434 finished with value: 0.8158358298079457 and parameters: {'tol': 0.21383793821783015, 'max_iter': 7796, 'selection': 'cyclic', 'l1_ratio': 0.5339611938356448, 'alpha': 0.00045520012931685676}. Best is trial 268 with value: 0.8162285684622925.\u001b[0m\n",
      "\u001b[32m[I 2022-11-28 15:31:59,820]\u001b[0m Trial 435 finished with value: 0.7095742287664868 and parameters: {'tol': 0.36985932969405155, 'max_iter': 8103, 'selection': 'random', 'l1_ratio': 0.49130593401754796, 'alpha': 0.06501392426642548}. Best is trial 268 with value: 0.8162285684622925.\u001b[0m\n",
      "\u001b[32m[I 2022-11-28 15:32:00,892]\u001b[0m Trial 436 finished with value: 0.7707837864286506 and parameters: {'tol': 0.24503871393532833, 'max_iter': 7669, 'selection': 'cyclic', 'l1_ratio': 0.5184937795599873, 'alpha': 0.03834609716080207}. Best is trial 268 with value: 0.8162285684622925.\u001b[0m\n",
      "\u001b[32m[I 2022-11-28 15:32:01,988]\u001b[0m Trial 437 finished with value: 0.7711705600759744 and parameters: {'tol': 0.1931227925068241, 'max_iter': 7895, 'selection': 'random', 'l1_ratio': 0.48175242014196845, 'alpha': 0.039766253903389365}. Best is trial 268 with value: 0.8162285684622925.\u001b[0m\n",
      "\u001b[32m[I 2022-11-28 15:32:04,136]\u001b[0m Trial 438 finished with value: 0.8154862866977723 and parameters: {'tol': 0.19407493964235104, 'max_iter': 8277, 'selection': 'random', 'l1_ratio': 0.550753712021341, 'alpha': 0.0008849088974470418}. Best is trial 268 with value: 0.8162285684622925.\u001b[0m\n",
      "\u001b[32m[I 2022-11-28 15:32:05,996]\u001b[0m Trial 439 finished with value: 0.7759578693356511 and parameters: {'tol': 0.1554371243860919, 'max_iter': 8124, 'selection': 'cyclic', 'l1_ratio': 0.015184433439218006, 'alpha': 0.10619222962040588}. Best is trial 268 with value: 0.8162285684622925.\u001b[0m\n",
      "\u001b[32m[I 2022-11-28 15:32:07,175]\u001b[0m Trial 440 finished with value: 0.7730289190368005 and parameters: {'tol': 0.17648749198686142, 'max_iter': 2805, 'selection': 'random', 'l1_ratio': 0.11490931831251194, 'alpha': 0.07412732369713988}. Best is trial 268 with value: 0.8162285684622925.\u001b[0m\n",
      "\u001b[32m[I 2022-11-28 15:32:09,043]\u001b[0m Trial 441 finished with value: 0.8156380721592731 and parameters: {'tol': 0.2545850758117269, 'max_iter': 8574, 'selection': 'cyclic', 'l1_ratio': 0.4605958556944362, 'alpha': 0.0007796236447128984}. Best is trial 268 with value: 0.8162285684622925.\u001b[0m\n",
      "\u001b[32m[I 2022-11-28 15:32:10,202]\u001b[0m Trial 442 finished with value: 0.776344992140845 and parameters: {'tol': 0.13040814770241832, 'max_iter': 7550, 'selection': 'random', 'l1_ratio': 0.5030291266661229, 'alpha': 0.03604111103902488}. Best is trial 268 with value: 0.8162285684622925.\u001b[0m\n",
      "\u001b[32m[I 2022-11-28 15:32:11,246]\u001b[0m Trial 443 finished with value: 0.6871607423030617 and parameters: {'tol': 0.27747654298199664, 'max_iter': 7892, 'selection': 'cyclic', 'l1_ratio': 0.6028619987725319, 'alpha': 0.07630006929112292}. Best is trial 268 with value: 0.8162285684622925.\u001b[0m\n",
      "\u001b[32m[I 2022-11-28 15:32:12,278]\u001b[0m Trial 444 finished with value: 0.686461795922634 and parameters: {'tol': 0.32174572517060923, 'max_iter': 8279, 'selection': 'random', 'l1_ratio': 0.35863771130669514, 'alpha': 0.12631054008620599}. Best is trial 268 with value: 0.8162285684622925.\u001b[0m\n",
      "\u001b[32m[I 2022-11-28 15:32:13,390]\u001b[0m Trial 445 finished with value: 0.7697548526903057 and parameters: {'tol': 0.22837562102688122, 'max_iter': 4521, 'selection': 'random', 'l1_ratio': 0.477735370608944, 'alpha': 0.0407755772343505}. Best is trial 268 with value: 0.8162285684622925.\u001b[0m\n",
      "\u001b[32m[I 2022-11-28 15:32:15,987]\u001b[0m Trial 446 finished with value: 0.7971694910842428 and parameters: {'tol': 0.10115891043614787, 'max_iter': 8390, 'selection': 'cyclic', 'l1_ratio': 0.037463699788366264, 'alpha': 0.03500070901333776}. Best is trial 268 with value: 0.8162285684622925.\u001b[0m\n",
      "\u001b[32m[I 2022-11-28 15:32:17,020]\u001b[0m Trial 447 finished with value: 0.6436415046773848 and parameters: {'tol': 0.06290313489756953, 'max_iter': 8015, 'selection': 'random', 'l1_ratio': 0.13891883115271025, 'alpha': 0.9581462351608169}. Best is trial 268 with value: 0.8162285684622925.\u001b[0m\n",
      "\u001b[32m[I 2022-11-28 15:32:18,120]\u001b[0m Trial 448 finished with value: 0.7374525530406587 and parameters: {'tol': 0.08505089566601617, 'max_iter': 7721, 'selection': 'cyclic', 'l1_ratio': 0.38051458041310027, 'alpha': 0.06767669898002412}. Best is trial 268 with value: 0.8162285684622925.\u001b[0m\n",
      "\u001b[32m[I 2022-11-28 15:32:20,142]\u001b[0m Trial 449 finished with value: 0.8148033076133246 and parameters: {'tol': 0.03720550461332324, 'max_iter': 4305, 'selection': 'random', 'l1_ratio': 0.5401697748013442, 'alpha': 0.0016967526161812884}. Best is trial 268 with value: 0.8162285684622925.\u001b[0m\n",
      "\u001b[32m[I 2022-11-28 15:32:21,262]\u001b[0m Trial 450 finished with value: 0.7845762153650658 and parameters: {'tol': 0.11767085664029497, 'max_iter': 3844, 'selection': 'cyclic', 'l1_ratio': 0.3247116663859502, 'alpha': 0.036493791712229176}. Best is trial 268 with value: 0.8162285684622925.\u001b[0m\n",
      "\u001b[32m[I 2022-11-28 15:32:23,311]\u001b[0m Trial 451 finished with value: 0.815204595098391 and parameters: {'tol': 0.1649479055787732, 'max_iter': 7498, 'selection': 'random', 'l1_ratio': 0.5102007632355082, 'alpha': 0.0011852559149041278}. Best is trial 268 with value: 0.8162285684622925.\u001b[0m\n",
      "\u001b[32m[I 2022-11-28 15:32:24,390]\u001b[0m Trial 452 finished with value: 0.6942705938762103 and parameters: {'tol': 0.05344640339757179, 'max_iter': 8145, 'selection': 'random', 'l1_ratio': 0.4362653687559944, 'alpha': 0.09538659343162309}. Best is trial 268 with value: 0.8162285684622925.\u001b[0m\n",
      "\u001b[32m[I 2022-11-28 15:32:25,506]\u001b[0m Trial 453 finished with value: 0.7780789969846599 and parameters: {'tol': 0.03664969369473492, 'max_iter': 3488, 'selection': 'cyclic', 'l1_ratio': 0.36443481364707786, 'alpha': 0.04083173915752029}. Best is trial 268 with value: 0.8162285684622925.\u001b[0m\n",
      "\u001b[32m[I 2022-11-28 15:32:26,548]\u001b[0m Trial 454 finished with value: 0.655526961364756 and parameters: {'tol': 0.07606156008425613, 'max_iter': 1178, 'selection': 'random', 'l1_ratio': 0.45665308337902777, 'alpha': 0.22487554463675083}. Best is trial 268 with value: 0.8162285684622925.\u001b[0m\n",
      "\u001b[32m[I 2022-11-28 15:32:27,635]\u001b[0m Trial 455 finished with value: 0.7548495884728985 and parameters: {'tol': 0.21116326720561862, 'max_iter': 7833, 'selection': 'cyclic', 'l1_ratio': 0.06339955660297553, 'alpha': 0.14360085780206244}. Best is trial 268 with value: 0.8162285684622925.\u001b[0m\n",
      "\u001b[32m[I 2022-11-28 15:32:28,715]\u001b[0m Trial 456 finished with value: 0.7052104650045639 and parameters: {'tol': 0.018728675714948895, 'max_iter': 8460, 'selection': 'random', 'l1_ratio': 0.49289586918939426, 'alpha': 0.07087978761481298}. Best is trial 268 with value: 0.8162285684622925.\u001b[0m\n",
      "\u001b[32m[I 2022-11-28 15:32:29,833]\u001b[0m Trial 457 finished with value: 0.7817060577612451 and parameters: {'tol': 0.057269761856864, 'max_iter': 1503, 'selection': 'cyclic', 'l1_ratio': 0.3927131571224341, 'alpha': 0.03660869979042743}. Best is trial 268 with value: 0.8162285684622925.\u001b[0m\n",
      "\u001b[32m[I 2022-11-28 15:32:32,172]\u001b[0m Trial 458 finished with value: 0.8150330225222691 and parameters: {'tol': 0.14113217331843295, 'max_iter': 5169, 'selection': 'random', 'l1_ratio': 0.3794621394670728, 'alpha': 0.001520743656013086}. Best is trial 268 with value: 0.8162285684622925.\u001b[0m\n",
      "\u001b[32m[I 2022-11-28 15:32:33,187]\u001b[0m Trial 459 finished with value: 0.7045145580843828 and parameters: {'tol': 0.4826371336260513, 'max_iter': 7640, 'selection': 'cyclic', 'l1_ratio': 0.3435546587238292, 'alpha': 0.0950974634019108}. Best is trial 268 with value: 0.8162285684622925.\u001b[0m\n",
      "\u001b[32m[I 2022-11-28 15:32:34,226]\u001b[0m Trial 460 finished with value: 0.7424056651410036 and parameters: {'tol': 0.40892330186292775, 'max_iter': 5451, 'selection': 'random', 'l1_ratio': 0.3995611353669724, 'alpha': 0.06182748048513717}. Best is trial 268 with value: 0.8162285684622925.\u001b[0m\n",
      "\u001b[32m[I 2022-11-28 15:32:35,334]\u001b[0m Trial 461 finished with value: 0.7731258165934237 and parameters: {'tol': 0.036018015619008276, 'max_iter': 8697, 'selection': 'cyclic', 'l1_ratio': 0.5627278340041239, 'alpha': 0.035428958737255385}. Best is trial 268 with value: 0.8162285684622925.\u001b[0m\n",
      "\u001b[32m[I 2022-11-28 15:32:36,392]\u001b[0m Trial 462 finished with value: 0.8048987338494964 and parameters: {'tol': 0.8929124636391327, 'max_iter': 8926, 'selection': 'random', 'l1_ratio': 0.46645822522406066, 'alpha': 0.0017100981348367752}. Best is trial 268 with value: 0.8162285684622925.\u001b[0m\n",
      "\u001b[32m[I 2022-11-28 15:32:37,475]\u001b[0m Trial 463 finished with value: 0.7009118054683262 and parameters: {'tol': 0.020405699708780985, 'max_iter': 7933, 'selection': 'random', 'l1_ratio': 0.3094466459692327, 'alpha': 0.11569148038286312}. Best is trial 268 with value: 0.8162285684622925.\u001b[0m\n",
      "\u001b[32m[I 2022-11-28 15:32:39,750]\u001b[0m Trial 464 finished with value: 0.8158755374821474 and parameters: {'tol': 0.185504648336224, 'max_iter': 2236, 'selection': 'cyclic', 'l1_ratio': 0.3672607545486209, 'alpha': 0.0004355401775911994}. Best is trial 268 with value: 0.8162285684622925.\u001b[0m\n",
      "\u001b[32m[I 2022-11-28 15:32:40,821]\u001b[0m Trial 465 finished with value: 0.7463055915973233 and parameters: {'tol': 0.18401542976272015, 'max_iter': 1892, 'selection': 'cyclic', 'l1_ratio': 0.348581501036008, 'alpha': 0.06629452559483068}. Best is trial 268 with value: 0.8162285684622925.\u001b[0m\n",
      "\u001b[32m[I 2022-11-28 15:32:42,745]\u001b[0m Trial 466 finished with value: 0.7945255480414252 and parameters: {'tol': 0.19311154150209361, 'max_iter': 2288, 'selection': 'cyclic', 'l1_ratio': 0.10525808161600747, 'alpha': 0.03758584692352569}. Best is trial 268 with value: 0.8162285684622925.\u001b[0m\n",
      "\u001b[32m[I 2022-11-28 15:32:44,515]\u001b[0m Trial 467 finished with value: 0.8147490307477174 and parameters: {'tol': 0.16714320537586302, 'max_iter': 2266, 'selection': 'cyclic', 'l1_ratio': 0.3666555133499401, 'alpha': 0.0019049981841726814}. Best is trial 268 with value: 0.8162285684622925.\u001b[0m\n",
      "\u001b[32m[I 2022-11-28 15:32:45,588]\u001b[0m Trial 468 finished with value: 0.7497513299624309 and parameters: {'tol': 0.17212788238676266, 'max_iter': 2064, 'selection': 'cyclic', 'l1_ratio': 0.31985416777949216, 'alpha': 0.06765845634886732}. Best is trial 268 with value: 0.8162285684622925.\u001b[0m\n",
      "\u001b[32m[I 2022-11-28 15:32:46,632]\u001b[0m Trial 469 finished with value: 0.6825458077103665 and parameters: {'tol': 0.21641681808353155, 'max_iter': 9258, 'selection': 'cyclic', 'l1_ratio': 0.441282698135134, 'alpha': 0.1080656976853988}. Best is trial 268 with value: 0.8162285684622925.\u001b[0m\n",
      "\u001b[32m[I 2022-11-28 15:32:47,650]\u001b[0m Trial 470 finished with value: 0.6293911997769862 and parameters: {'tol': 0.2100307813321647, 'max_iter': 1672, 'selection': 'cyclic', 'l1_ratio': 0.52337793109179, 'alpha': 1.138839561965103}. Best is trial 268 with value: 0.8162285684622925.\u001b[0m\n",
      "\u001b[32m[I 2022-11-28 15:32:48,849]\u001b[0m Trial 471 finished with value: 0.7905808966143859 and parameters: {'tol': 0.15578958437378304, 'max_iter': 2084, 'selection': 'cyclic', 'l1_ratio': 0.22371920151418745, 'alpha': 0.03538078806567392}. Best is trial 268 with value: 0.8162285684622925.\u001b[0m\n",
      "\u001b[32m[I 2022-11-28 15:32:49,960]\u001b[0m Trial 472 finished with value: 0.7875531664224396 and parameters: {'tol': 0.1301023820938854, 'max_iter': 3147, 'selection': 'cyclic', 'l1_ratio': 0.3326264495255156, 'alpha': 0.03329877982126111}. Best is trial 268 with value: 0.8162285684622925.\u001b[0m\n",
      "\u001b[32m[I 2022-11-28 15:32:51,075]\u001b[0m Trial 473 finished with value: 0.7663372154074103 and parameters: {'tol': 0.1069681570500966, 'max_iter': 1351, 'selection': 'cyclic', 'l1_ratio': 0.15690902154701408, 'alpha': 0.07383805289592917}. Best is trial 268 with value: 0.8162285684622925.\u001b[0m\n",
      "\u001b[32m[I 2022-11-28 15:32:52,113]\u001b[0m Trial 474 finished with value: 0.6492310462309373 and parameters: {'tol': 0.24503308711667493, 'max_iter': 1818, 'selection': 'cyclic', 'l1_ratio': 0.4222387104830406, 'alpha': 0.29136938556596714}. Best is trial 268 with value: 0.8162285684622925.\u001b[0m\n",
      "\u001b[32m[I 2022-11-28 15:32:53,959]\u001b[0m Trial 475 finished with value: 0.8153639986553454 and parameters: {'tol': 0.18603703008979125, 'max_iter': 1953, 'selection': 'cyclic', 'l1_ratio': 0.4779810030133502, 'alpha': 0.001073691418791721}. Best is trial 268 with value: 0.8162285684622925.\u001b[0m\n",
      "\u001b[32m[I 2022-11-28 15:32:55,012]\u001b[0m Trial 476 finished with value: 0.6740272202108556 and parameters: {'tol': 0.0016056078260737938, 'max_iter': 2473, 'selection': 'cyclic', 'l1_ratio': 0.3625752821304328, 'alpha': 0.1593507292859786}. Best is trial 268 with value: 0.8162285684622925.\u001b[0m\n",
      "\u001b[32m[I 2022-11-28 15:32:57,326]\u001b[0m Trial 477 finished with value: 0.8158989522373373 and parameters: {'tol': 0.1990012438710366, 'max_iter': 8105, 'selection': 'cyclic', 'l1_ratio': 0.37940100233392016, 'alpha': 0.0003901593814730786}. Best is trial 268 with value: 0.8162285684622925.\u001b[0m\n",
      "\u001b[32m[I 2022-11-28 15:32:58,383]\u001b[0m Trial 478 finished with value: 0.735625903600404 and parameters: {'tol': 0.23236139304613884, 'max_iter': 8185, 'selection': 'cyclic', 'l1_ratio': 0.4019726057515145, 'alpha': 0.06561299905439481}. Best is trial 268 with value: 0.8162285684622925.\u001b[0m\n",
      "\u001b[32m[I 2022-11-28 15:32:59,502]\u001b[0m Trial 479 finished with value: 0.776716000704629 and parameters: {'tol': 0.08310936325391247, 'max_iter': 8138, 'selection': 'cyclic', 'l1_ratio': 0.502751255713016, 'alpha': 0.035844068791307214}. Best is trial 268 with value: 0.8162285684622925.\u001b[0m\n",
      "\u001b[32m[I 2022-11-28 15:33:00,516]\u001b[0m Trial 480 finished with value: 0.63002972182913 and parameters: {'tol': 0.059504506605704104, 'max_iter': 8348, 'selection': 'cyclic', 'l1_ratio': 0.45740076745949776, 'alpha': 0.41901813166483914}. Best is trial 268 with value: 0.8162285684622925.\u001b[0m\n",
      "\u001b[32m[I 2022-11-28 15:33:01,558]\u001b[0m Trial 481 finished with value: 0.6826411006000164 and parameters: {'tol': 0.014459980029526222, 'max_iter': 8550, 'selection': 'cyclic', 'l1_ratio': 0.4265109655942417, 'alpha': 0.11171923686627823}. Best is trial 268 with value: 0.8162285684622925.\u001b[0m\n",
      "\u001b[32m[I 2022-11-28 15:33:05,961]\u001b[0m Trial 482 finished with value: 0.8159275042941907 and parameters: {'tol': 0.03679268996369394, 'max_iter': 8028, 'selection': 'random', 'l1_ratio': 0.3848120607291048, 'alpha': 0.0003579593980757104}. Best is trial 268 with value: 0.8162285684622925.\u001b[0m\n",
      "\u001b[32m[I 2022-11-28 15:33:07,101]\u001b[0m Trial 483 finished with value: 0.7792751578459891 and parameters: {'tol': 0.04326649742395758, 'max_iter': 8043, 'selection': 'random', 'l1_ratio': 0.3814871164392935, 'alpha': 0.03910966080594395}. Best is trial 268 with value: 0.8162285684622925.\u001b[0m\n",
      "\u001b[32m[I 2022-11-28 15:33:08,198]\u001b[0m Trial 484 finished with value: 0.7327526394152554 and parameters: {'tol': 0.07030085144523092, 'max_iter': 7972, 'selection': 'random', 'l1_ratio': 0.39106544603378735, 'alpha': 0.06869036947292702}. Best is trial 268 with value: 0.8162285684622925.\u001b[0m\n",
      "\u001b[32m[I 2022-11-28 15:33:09,381]\u001b[0m Trial 485 finished with value: 0.7854655566465094 and parameters: {'tol': 0.032843263806078146, 'max_iter': 8309, 'selection': 'random', 'l1_ratio': 0.3451406427119025, 'alpha': 0.03502439972677226}. Best is trial 268 with value: 0.8162285684622925.\u001b[0m\n",
      "\u001b[32m[I 2022-11-28 15:33:12,261]\u001b[0m Trial 486 finished with value: 0.8158366392816043 and parameters: {'tol': 0.04857412337390161, 'max_iter': 8093, 'selection': 'random', 'l1_ratio': 0.37755185760996135, 'alpha': 0.0005095145539460105}. Best is trial 268 with value: 0.8162285684622925.\u001b[0m\n",
      "\u001b[32m[I 2022-11-28 15:33:13,341]\u001b[0m Trial 487 finished with value: 0.724715148307862 and parameters: {'tol': 0.01625003148341158, 'max_iter': 7808, 'selection': 'random', 'l1_ratio': 0.2904503297984491, 'alpha': 0.09434092622692883}. Best is trial 268 with value: 0.8162285684622925.\u001b[0m\n",
      "\u001b[32m[I 2022-11-28 15:33:14,500]\u001b[0m Trial 488 finished with value: 0.7765927191731434 and parameters: {'tol': 0.00038189065376164873, 'max_iter': 8243, 'selection': 'random', 'l1_ratio': 0.41000512790882876, 'alpha': 0.039834218382644955}. Best is trial 268 with value: 0.8162285684622925.\u001b[0m\n",
      "\u001b[32m[I 2022-11-28 15:33:15,723]\u001b[0m Trial 489 finished with value: 0.7717059082737754 and parameters: {'tol': 0.029077573072682602, 'max_iter': 7989, 'selection': 'random', 'l1_ratio': 0.11894890550685015, 'alpha': 0.07520176242274171}. Best is trial 268 with value: 0.8162285684622925.\u001b[0m\n",
      "\u001b[32m[I 2022-11-28 15:33:16,812]\u001b[0m Trial 490 finished with value: 0.6785515647915642 and parameters: {'tol': 0.06872645410888045, 'max_iter': 7801, 'selection': 'random', 'l1_ratio': 0.3608068000489509, 'alpha': 0.1369132689973091}. Best is trial 268 with value: 0.8162285684622925.\u001b[0m\n",
      "\u001b[32m[I 2022-11-28 15:33:17,970]\u001b[0m Trial 491 finished with value: 0.7880565086958843 and parameters: {'tol': 0.09173348572464583, 'max_iter': 8420, 'selection': 'random', 'l1_ratio': 0.3392574942411587, 'alpha': 0.03282736619181833}. Best is trial 268 with value: 0.8162285684622925.\u001b[0m\n",
      "\u001b[32m[I 2022-11-28 15:33:20,247]\u001b[0m Trial 492 finished with value: 0.8144071078993115 and parameters: {'tol': 0.04072834184541075, 'max_iter': 8087, 'selection': 'random', 'l1_ratio': 0.38518512562235346, 'alpha': 0.0026816112574875534}. Best is trial 268 with value: 0.8162285684622925.\u001b[0m\n",
      "\u001b[32m[I 2022-11-28 15:33:22,158]\u001b[0m Trial 493 finished with value: 0.7808126071895812 and parameters: {'tol': 0.01928754532657291, 'max_iter': 8240, 'selection': 'random', 'l1_ratio': 0.06556070742600581, 'alpha': 0.07171179573458833}. Best is trial 268 with value: 0.8162285684622925.\u001b[0m\n",
      "\u001b[32m[I 2022-11-28 15:33:23,293]\u001b[0m Trial 494 finished with value: 0.7809792241224901 and parameters: {'tol': 0.055692939446234796, 'max_iter': 7690, 'selection': 'random', 'l1_ratio': 0.3702375231451529, 'alpha': 0.038106550926601764}. Best is trial 268 with value: 0.8162285684622925.\u001b[0m\n",
      "\u001b[32m[I 2022-11-28 15:33:24,309]\u001b[0m Trial 495 finished with value: 0.6294826245131904 and parameters: {'tol': 0.018779034486058558, 'max_iter': 1004, 'selection': 'random', 'l1_ratio': 0.4066542570533323, 'alpha': 1.3451841437623446}. Best is trial 268 with value: 0.8162285684622925.\u001b[0m\n",
      "\u001b[32m[I 2022-11-28 15:33:32,325]\u001b[0m Trial 496 finished with value: 0.8158044691159648 and parameters: {'tol': 0.00032932373194374397, 'max_iter': 8478, 'selection': 'random', 'l1_ratio': 0.09159526448162653, 'alpha': 0.0008083477935649822}. Best is trial 268 with value: 0.8162285684622925.\u001b[0m\n",
      "\u001b[32m[I 2022-11-28 15:33:33,412]\u001b[0m Trial 497 finished with value: 0.6917491137753689 and parameters: {'tol': 0.07883001818558355, 'max_iter': 7861, 'selection': 'random', 'l1_ratio': 0.39765330802209325, 'alpha': 0.10756470396447645}. Best is trial 268 with value: 0.8162285684622925.\u001b[0m\n",
      "\u001b[32m[I 2022-11-28 15:33:57,805]\u001b[0m Trial 498 finished with value: 0.8162208342177327 and parameters: {'tol': 0.0379410414031682, 'max_iter': 7983, 'selection': 'random', 'l1_ratio': 0.3503458200054126, 'alpha': 1.9876149097987643e-05}. Best is trial 268 with value: 0.8162285684622925.\u001b[0m\n",
      "\u001b[32m[I 2022-11-28 15:33:58,824]\u001b[0m Trial 499 finished with value: 0.6720090431818359 and parameters: {'tol': 0.676423031801639, 'max_iter': 7860, 'selection': 'random', 'l1_ratio': 0.33768146879829963, 'alpha': 0.19302410882689244}. Best is trial 268 with value: 0.8162285684622925.\u001b[0m\n",
      "\u001b[32m[I 2022-11-28 15:33:59,931]\u001b[0m Trial 500 finished with value: 0.7554913075716547 and parameters: {'tol': 0.03733356536876044, 'max_iter': 7623, 'selection': 'random', 'l1_ratio': 0.31688807302738015, 'alpha': 0.06327883147638619}. Best is trial 268 with value: 0.8162285684622925.\u001b[0m\n",
      "\u001b[32m[I 2022-11-28 15:34:01,115]\u001b[0m Trial 501 finished with value: 0.7838507626043539 and parameters: {'tol': 0.026448524404948368, 'max_iter': 8018, 'selection': 'random', 'l1_ratio': 0.3534310082779138, 'alpha': 0.03620383302991575}. Best is trial 268 with value: 0.8162285684622925.\u001b[0m\n",
      "\u001b[32m[I 2022-11-28 15:34:02,140]\u001b[0m Trial 502 finished with value: 0.7011384532228627 and parameters: {'tol': 0.8007705745322224, 'max_iter': 7748, 'selection': 'random', 'l1_ratio': 0.3497512961819709, 'alpha': 0.09702963448705478}. Best is trial 268 with value: 0.8162285684622925.\u001b[0m\n",
      "\u001b[32m[I 2022-11-28 15:34:03,271]\u001b[0m Trial 503 finished with value: 0.7773669132599125 and parameters: {'tol': 0.048086729689315225, 'max_iter': 5902, 'selection': 'random', 'l1_ratio': 0.5327426668443349, 'alpha': 0.03437270238405504}. Best is trial 268 with value: 0.8162285684622925.\u001b[0m\n",
      "\u001b[32m[I 2022-11-28 15:34:04,288]\u001b[0m Trial 504 finished with value: 0.6300162640782629 and parameters: {'tol': 0.01702176012288191, 'max_iter': 8153, 'selection': 'random', 'l1_ratio': 0.3084037640213393, 'alpha': 0.6539627584309281}. Best is trial 268 with value: 0.8162285684622925.\u001b[0m\n",
      "\u001b[32m[I 2022-11-28 15:34:06,123]\u001b[0m Trial 505 finished with value: 0.8149739206681956 and parameters: {'tol': 0.051904511880518305, 'max_iter': 7923, 'selection': 'cyclic', 'l1_ratio': 0.3227903379744911, 'alpha': 0.0016744092478033447}. Best is trial 268 with value: 0.8162285684622925.\u001b[0m\n",
      "\u001b[32m[I 2022-11-28 15:34:09,365]\u001b[0m Trial 506 finished with value: 0.7873413719757587 and parameters: {'tol': 0.001254643463884559, 'max_iter': 5605, 'selection': 'random', 'l1_ratio': 0.03962607921638276, 'alpha': 0.060220835703336494}. Best is trial 268 with value: 0.8162285684622925.\u001b[0m\n",
      "\u001b[32m[I 2022-11-28 15:34:11,145]\u001b[0m Trial 507 finished with value: 0.8147592014026199 and parameters: {'tol': 0.030737826666544753, 'max_iter': 7535, 'selection': 'cyclic', 'l1_ratio': 0.3651701232502848, 'alpha': 0.0018787060972309364}. Best is trial 268 with value: 0.8162285684622925.\u001b[0m\n",
      "\u001b[32m[I 2022-11-28 15:34:12,338]\u001b[0m Trial 508 finished with value: 0.7656766128243755 and parameters: {'tol': 0.017923622513566176, 'max_iter': 4742, 'selection': 'random', 'l1_ratio': 0.185786506568328, 'alpha': 0.06940007606787747}. Best is trial 268 with value: 0.8162285684622925.\u001b[0m\n",
      "\u001b[32m[I 2022-11-28 15:34:20,497]\u001b[0m Trial 509 finished with value: 0.8161764773384705 and parameters: {'tol': 0.06625872584326375, 'max_iter': 8085, 'selection': 'cyclic', 'l1_ratio': 0.33491344704329273, 'alpha': 9.270924131433719e-05}. Best is trial 268 with value: 0.8162285684622925.\u001b[0m\n",
      "\u001b[32m[I 2022-11-28 15:34:21,563]\u001b[0m Trial 510 finished with value: 0.7091572506151083 and parameters: {'tol': 0.06660639020972492, 'max_iter': 8274, 'selection': 'cyclic', 'l1_ratio': 0.2610979440507653, 'alpha': 0.11923216612291877}. Best is trial 268 with value: 0.8162285684622925.\u001b[0m\n",
      "\u001b[32m[I 2022-11-28 15:34:22,642]\u001b[0m Trial 511 finished with value: 0.7759348976177268 and parameters: {'tol': 0.272972000828425, 'max_iter': 8057, 'selection': 'cyclic', 'l1_ratio': 0.35230886864475913, 'alpha': 0.04320018240350799}. Best is trial 268 with value: 0.8162285684622925.\u001b[0m\n",
      "\u001b[32m[I 2022-11-28 15:34:23,740]\u001b[0m Trial 512 finished with value: 0.7851785719614723 and parameters: {'tol': 0.23486778380826454, 'max_iter': 8609, 'selection': 'cyclic', 'l1_ratio': 0.30984539706306397, 'alpha': 0.03648684902355742}. Best is trial 268 with value: 0.8162285684622925.\u001b[0m\n",
      "\u001b[32m[I 2022-11-28 15:34:24,828]\u001b[0m Trial 513 finished with value: 0.7181396363139169 and parameters: {'tol': 0.04535901671885306, 'max_iter': 7939, 'selection': 'cyclic', 'l1_ratio': 0.32432123359735615, 'alpha': 0.09106248563039895}. Best is trial 268 with value: 0.8162285684622925.\u001b[0m\n",
      "\u001b[32m[I 2022-11-28 15:34:26,741]\u001b[0m Trial 514 finished with value: 0.8151488008249498 and parameters: {'tol': 0.03235451475268409, 'max_iter': 8151, 'selection': 'cyclic', 'l1_ratio': 0.3293885728847702, 'alpha': 0.001482577319472918}. Best is trial 268 with value: 0.8162285684622925.\u001b[0m\n",
      "\u001b[32m[I 2022-11-28 15:34:27,879]\u001b[0m Trial 515 finished with value: 0.785309037060428 and parameters: {'tol': 0.05396891738993417, 'max_iter': 8316, 'selection': 'cyclic', 'l1_ratio': 0.2860110741104976, 'alpha': 0.037309033922558216}. Best is trial 268 with value: 0.8162285684622925.\u001b[0m\n",
      "\u001b[32m[I 2022-11-28 15:34:28,916]\u001b[0m Trial 516 finished with value: 0.6754026401126386 and parameters: {'tol': 0.01843008832350531, 'max_iter': 7950, 'selection': 'cyclic', 'l1_ratio': 0.37163043321486416, 'alpha': 0.13977469172231052}. Best is trial 268 with value: 0.8162285684622925.\u001b[0m\n",
      "\u001b[32m[I 2022-11-28 15:34:30,003]\u001b[0m Trial 517 finished with value: 0.7389538928194221 and parameters: {'tol': 0.03636797703482309, 'max_iter': 8208, 'selection': 'cyclic', 'l1_ratio': 0.34676192844035925, 'alpha': 0.07176225174091024}. Best is trial 268 with value: 0.8162285684622925.\u001b[0m\n",
      "\u001b[32m[I 2022-11-28 15:34:32,012]\u001b[0m Trial 518 finished with value: 0.8155058825181773 and parameters: {'tol': 0.06670718314915505, 'max_iter': 7816, 'selection': 'cyclic', 'l1_ratio': 0.33603886048606163, 'alpha': 0.0010526027953698235}. Best is trial 268 with value: 0.8162285684622925.\u001b[0m\n",
      "\u001b[32m[I 2022-11-28 15:34:33,126]\u001b[0m Trial 519 finished with value: 0.7566905988957608 and parameters: {'tol': 0.0011227497530716941, 'max_iter': 5019, 'selection': 'cyclic', 'l1_ratio': 0.2916159951732579, 'alpha': 0.06550626525367062}. Best is trial 268 with value: 0.8162285684622925.\u001b[0m\n",
      "\u001b[32m[I 2022-11-28 15:34:35,435]\u001b[0m Trial 520 finished with value: 0.8158774655885079 and parameters: {'tol': 0.03553828818419363, 'max_iter': 8362, 'selection': 'cyclic', 'l1_ratio': 0.378813007608626, 'alpha': 0.0004259547113310006}. Best is trial 268 with value: 0.8162285684622925.\u001b[0m\n",
      "\u001b[32m[I 2022-11-28 15:34:38,429]\u001b[0m Trial 521 finished with value: 0.8159098426978179 and parameters: {'tol': 0.00016395313018399872, 'max_iter': 1408, 'selection': 'cyclic', 'l1_ratio': 0.35924665548972207, 'alpha': 0.0003899519721621499}. Best is trial 268 with value: 0.8162285684622925.\u001b[0m\n",
      "\u001b[32m[I 2022-11-28 15:34:39,573]\u001b[0m Trial 522 finished with value: 0.7816964216487238 and parameters: {'tol': 0.017693907479866905, 'max_iter': 1253, 'selection': 'cyclic', 'l1_ratio': 0.33591992294042605, 'alpha': 0.0388799274638024}. Best is trial 268 with value: 0.8162285684622925.\u001b[0m\n",
      "\u001b[32m[I 2022-11-28 15:34:40,662]\u001b[0m Trial 523 finished with value: 0.7139225566553182 and parameters: {'tol': 0.0020760844346008117, 'max_iter': 1395, 'selection': 'cyclic', 'l1_ratio': 0.3445652859641118, 'alpha': 0.08904658159288784}. Best is trial 268 with value: 0.8162285684622925.\u001b[0m\n",
      "\u001b[32m[I 2022-11-28 15:34:41,790]\u001b[0m Trial 524 finished with value: 0.7823691110522972 and parameters: {'tol': 0.01984167509080077, 'max_iter': 1513, 'selection': 'cyclic', 'l1_ratio': 0.3623487482274959, 'alpha': 0.037198534276069735}. Best is trial 268 with value: 0.8162285684622925.\u001b[0m\n",
      "\u001b[32m[I 2022-11-28 15:34:43,555]\u001b[0m Trial 525 finished with value: 0.7915547817939864 and parameters: {'tol': 0.0516621393681327, 'max_iter': 1272, 'selection': 'cyclic', 'l1_ratio': 0.12773989194462582, 'alpha': 0.04106113656363633}. Best is trial 268 with value: 0.8162285684622925.\u001b[0m\n",
      "\u001b[32m[I 2022-11-28 15:34:44,613]\u001b[0m Trial 526 finished with value: 0.7068840419673396 and parameters: {'tol': 0.30895936181279166, 'max_iter': 1493, 'selection': 'cyclic', 'l1_ratio': 0.31236613178318234, 'alpha': 0.10266705981845746}. Best is trial 268 with value: 0.8162285684622925.\u001b[0m\n",
      "\u001b[32m[I 2022-11-28 15:34:46,409]\u001b[0m Trial 527 finished with value: 0.7827160948961124 and parameters: {'tol': 0.03371783191771374, 'max_iter': 3624, 'selection': 'cyclic', 'l1_ratio': 0.07389453872336667, 'alpha': 0.06542257699249951}. Best is trial 268 with value: 0.8162285684622925.\u001b[0m\n",
      "\u001b[32m[I 2022-11-28 15:34:47,512]\u001b[0m Trial 528 finished with value: 0.7541064578597912 and parameters: {'tol': 0.012656134921394727, 'max_iter': 1216, 'selection': 'cyclic', 'l1_ratio': 0.5106492376294628, 'alpha': 0.04654059265879572}. Best is trial 268 with value: 0.8162285684622925.\u001b[0m\n",
      "\u001b[32m[I 2022-11-28 15:34:48,549]\u001b[0m Trial 529 finished with value: 0.7361720528159014 and parameters: {'tol': 0.4548859106077726, 'max_iter': 1687, 'selection': 'random', 'l1_ratio': 0.10028642597184297, 'alpha': 0.164872711816805}. Best is trial 268 with value: 0.8162285684622925.\u001b[0m\n",
      "\u001b[32m[I 2022-11-28 15:34:50,846]\u001b[0m Trial 530 finished with value: 0.8151359402836034 and parameters: {'tol': 0.07795675893775497, 'max_iter': 1013, 'selection': 'random', 'l1_ratio': 0.35567461588140376, 'alpha': 0.0014542681451102939}. Best is trial 268 with value: 0.8162285684622925.\u001b[0m\n",
      "\u001b[32m[I 2022-11-28 15:34:51,900]\u001b[0m Trial 531 finished with value: 0.6748963417387209 and parameters: {'tol': 0.002166582224191367, 'max_iter': 1592, 'selection': 'cyclic', 'l1_ratio': 0.5513021848463695, 'alpha': 0.0998591194319379}. Best is trial 268 with value: 0.8162285684622925.\u001b[0m\n",
      "\u001b[32m[I 2022-11-28 15:34:53,034]\u001b[0m Trial 532 finished with value: 0.7837511200155904 and parameters: {'tol': 0.05306886576772096, 'max_iter': 1483, 'selection': 'random', 'l1_ratio': 0.3940277822145139, 'alpha': 0.03482332669138514}. Best is trial 268 with value: 0.8162285684622925.\u001b[0m\n",
      "\u001b[32m[I 2022-11-28 15:34:54,241]\u001b[0m Trial 533 finished with value: 0.7887680986222898 and parameters: {'tol': 0.00035121950445024736, 'max_iter': 1346, 'selection': 'cyclic', 'l1_ratio': 0.3291545885434687, 'alpha': 0.032112486535839514}. Best is trial 268 with value: 0.8162285684622925.\u001b[0m\n",
      "\u001b[32m[I 2022-11-28 15:34:58,923]\u001b[0m Trial 534 finished with value: 0.7851846584380697 and parameters: {'tol': 0.030487056377069763, 'max_iter': 1168, 'selection': 'random', 'l1_ratio': 0.0017254806519202692, 'alpha': 0.0738218103074109}. Best is trial 268 with value: 0.8162285684622925.\u001b[0m\n",
      "\u001b[32m[I 2022-11-28 15:34:59,945]\u001b[0m Trial 535 finished with value: 0.6780000674313672 and parameters: {'tol': 0.061634671147454786, 'max_iter': 1739, 'selection': 'cyclic', 'l1_ratio': 0.3718257992493195, 'alpha': 0.13354485211819753}. Best is trial 268 with value: 0.8162285684622925.\u001b[0m\n",
      "\u001b[32m[I 2022-11-28 15:35:01,085]\u001b[0m Trial 536 finished with value: 0.7755456429686471 and parameters: {'tol': 0.030643176205499185, 'max_iter': 5364, 'selection': 'random', 'l1_ratio': 0.5839593001805972, 'alpha': 0.03352629698468772}. Best is trial 268 with value: 0.8162285684622925.\u001b[0m\n",
      "\u001b[32m[I 2022-11-28 15:35:03,379]\u001b[0m Trial 537 finished with value: 0.8158306635816541 and parameters: {'tol': 0.08937543455180583, 'max_iter': 1688, 'selection': 'cyclic', 'l1_ratio': 0.35718789343220436, 'alpha': 0.000528699978737134}. Best is trial 268 with value: 0.8162285684622925.\u001b[0m\n",
      "\u001b[32m[I 2022-11-28 15:35:05,673]\u001b[0m Trial 538 finished with value: 0.8153875740990633 and parameters: {'tol': 0.04041071091330587, 'max_iter': 7792, 'selection': 'random', 'l1_ratio': 0.4935497624654033, 'alpha': 0.001031763800966617}. Best is trial 268 with value: 0.8162285684622925.\u001b[0m\n",
      "\u001b[32m[I 2022-11-28 15:35:06,681]\u001b[0m Trial 539 finished with value: 0.6300368674254433 and parameters: {'tol': 0.022861153859716984, 'max_iter': 8850, 'selection': 'cyclic', 'l1_ratio': 0.3855974172477822, 'alpha': 0.48297037776286755}. Best is trial 268 with value: 0.8162285684622925.\u001b[0m\n",
      "\u001b[32m[I 2022-11-28 15:35:07,772]\u001b[0m Trial 540 finished with value: 0.7361740425149096 and parameters: {'tol': 0.06597761846673572, 'max_iter': 8496, 'selection': 'random', 'l1_ratio': 0.3451268988868215, 'alpha': 0.0737870408963448}. Best is trial 268 with value: 0.8162285684622925.\u001b[0m\n",
      "\u001b[32m[I 2022-11-28 15:35:08,867]\u001b[0m Trial 541 finished with value: 0.7397206946793298 and parameters: {'tol': 0.0007736130900779098, 'max_iter': 7971, 'selection': 'cyclic', 'l1_ratio': 0.3975771706385984, 'alpha': 0.06407180528919586}. Best is trial 268 with value: 0.8162285684622925.\u001b[0m\n",
      "\u001b[32m[I 2022-11-28 15:35:14,249]\u001b[0m Trial 542 finished with value: 0.8160255736188726 and parameters: {'tol': 0.04715326578316512, 'max_iter': 5152, 'selection': 'random', 'l1_ratio': 0.2981256208847756, 'alpha': 0.0002959880501710922}. Best is trial 268 with value: 0.8162285684622925.\u001b[0m\n",
      "\u001b[32m[I 2022-11-28 15:35:15,318]\u001b[0m Trial 543 finished with value: 0.7027220754409813 and parameters: {'tol': 0.08278546178897839, 'max_iter': 4962, 'selection': 'random', 'l1_ratio': 0.30000206388851514, 'alpha': 0.11316978925794144}. Best is trial 268 with value: 0.8162285684622925.\u001b[0m\n",
      "\u001b[32m[I 2022-11-28 15:35:16,554]\u001b[0m Trial 544 finished with value: 0.7886776124027529 and parameters: {'tol': 0.05939931245021714, 'max_iter': 7691, 'selection': 'random', 'l1_ratio': 0.2670182445892874, 'alpha': 0.035020063584369404}. Best is trial 268 with value: 0.8162285684622925.\u001b[0m\n",
      "\u001b[32m[I 2022-11-28 15:35:21,962]\u001b[0m Trial 545 finished with value: 0.8160699674467911 and parameters: {'tol': 0.09791700465565563, 'max_iter': 5279, 'selection': 'random', 'l1_ratio': 0.3162886305008789, 'alpha': 0.00023420397095645038}. Best is trial 268 with value: 0.8162285684622925.\u001b[0m\n",
      "\u001b[32m[I 2022-11-28 15:35:23,061]\u001b[0m Trial 546 finished with value: 0.7453020669057627 and parameters: {'tol': 0.09291998086524317, 'max_iter': 5833, 'selection': 'random', 'l1_ratio': 0.3280540366685243, 'alpha': 0.06994781776042398}. Best is trial 268 with value: 0.8162285684622925.\u001b[0m\n",
      "\u001b[32m[I 2022-11-28 15:35:24,221]\u001b[0m Trial 547 finished with value: 0.7849303714595253 and parameters: {'tol': 0.11155417797733012, 'max_iter': 5364, 'selection': 'random', 'l1_ratio': 0.2760402602004093, 'alpha': 0.03837674769925482}. Best is trial 268 with value: 0.8162285684622925.\u001b[0m\n",
      "\u001b[32m[I 2022-11-28 15:35:25,316]\u001b[0m Trial 548 finished with value: 0.7291523901226572 and parameters: {'tol': 0.09554845421481126, 'max_iter': 5613, 'selection': 'random', 'l1_ratio': 0.29777341251061173, 'alpha': 0.088669667656067}. Best is trial 268 with value: 0.8162285684622925.\u001b[0m\n",
      "\u001b[32m[I 2022-11-28 15:35:26,471]\u001b[0m Trial 549 finished with value: 0.7851763546261599 and parameters: {'tol': 0.07735064177773548, 'max_iter': 5071, 'selection': 'random', 'l1_ratio': 0.3238926488319472, 'alpha': 0.036152902246730394}. Best is trial 268 with value: 0.8162285684622925.\u001b[0m\n",
      "\u001b[32m[I 2022-11-28 15:35:27,612]\u001b[0m Trial 550 finished with value: 0.779404714583372 and parameters: {'tol': 0.07314908524859857, 'max_iter': 4900, 'selection': 'random', 'l1_ratio': 0.31104724934917, 'alpha': 0.042207758633504566}. Best is trial 268 with value: 0.8162285684622925.\u001b[0m\n",
      "\u001b[32m[I 2022-11-28 15:35:28,662]\u001b[0m Trial 551 finished with value: 0.7011698705163032 and parameters: {'tol': 0.3429324607815944, 'max_iter': 5183, 'selection': 'random', 'l1_ratio': 0.31131031960215544, 'alpha': 0.11320012445325918}. Best is trial 268 with value: 0.8162285684622925.\u001b[0m\n",
      "\u001b[32m[I 2022-11-28 15:35:29,830]\u001b[0m Trial 552 finished with value: 0.790618715817113 and parameters: {'tol': 0.10125269291762914, 'max_iter': 4781, 'selection': 'random', 'l1_ratio': 0.28681195564972434, 'alpha': 0.03231014172454997}. Best is trial 268 with value: 0.8162285684622925.\u001b[0m\n",
      "\u001b[32m[I 2022-11-28 15:35:31,817]\u001b[0m Trial 553 finished with value: 0.782100767605611 and parameters: {'tol': 0.054431753967571356, 'max_iter': 5435, 'selection': 'random', 'l1_ratio': 0.050043020595813004, 'alpha': 0.07242220715818315}. Best is trial 268 with value: 0.8162285684622925.\u001b[0m\n",
      "\u001b[32m[I 2022-11-28 15:35:33,048]\u001b[0m Trial 554 finished with value: 0.790770187613637 and parameters: {'tol': 0.04822672928320199, 'max_iter': 5053, 'selection': 'random', 'l1_ratio': 0.23077973884559672, 'alpha': 0.03482525494319921}. Best is trial 268 with value: 0.8162285684622925.\u001b[0m\n",
      "\u001b[32m[I 2022-11-28 15:35:34,096]\u001b[0m Trial 555 finished with value: 0.6705279884580284 and parameters: {'tol': 0.1061878855301305, 'max_iter': 5380, 'selection': 'random', 'l1_ratio': 0.5254823750904358, 'alpha': 0.13325453712813543}. Best is trial 268 with value: 0.8162285684622925.\u001b[0m\n",
      "\u001b[32m[I 2022-11-28 15:35:37,641]\u001b[0m Trial 556 finished with value: 0.8158090423613817 and parameters: {'tol': 0.07810184269616004, 'max_iter': 5105, 'selection': 'random', 'l1_ratio': 0.2502180483797574, 'alpha': 0.0006201086029978153}. Best is trial 268 with value: 0.8162285684622925.\u001b[0m\n",
      "\u001b[32m[I 2022-11-28 15:35:54,880]\u001b[0m Trial 557 finished with value: 0.8162101913929701 and parameters: {'tol': 0.06163505290817608, 'max_iter': 4952, 'selection': 'random', 'l1_ratio': 0.33129921582829375, 'alpha': 4.0713806565216445e-05}. Best is trial 268 with value: 0.8162285684622925.\u001b[0m\n",
      "\u001b[32m[I 2022-11-28 15:35:55,981]\u001b[0m Trial 558 finished with value: 0.7434999816323932 and parameters: {'tol': 0.08520849340713774, 'max_iter': 4697, 'selection': 'random', 'l1_ratio': 0.31744873894331804, 'alpha': 0.07302559099831558}. Best is trial 268 with value: 0.8162285684622925.\u001b[0m\n",
      "\u001b[32m[I 2022-11-28 15:35:57,007]\u001b[0m Trial 559 finished with value: 0.6299386196311259 and parameters: {'tol': 0.06446454982024152, 'max_iter': 4490, 'selection': 'random', 'l1_ratio': 0.28335574163884947, 'alpha': 0.9056069534634508}. Best is trial 268 with value: 0.8162285684622925.\u001b[0m\n",
      "\u001b[32m[I 2022-11-28 15:35:58,166]\u001b[0m Trial 560 finished with value: 0.7860258527954331 and parameters: {'tol': 0.11852756950093932, 'max_iter': 4983, 'selection': 'random', 'l1_ratio': 0.3349486486420156, 'alpha': 0.034922611523159654}. Best is trial 268 with value: 0.8162285684622925.\u001b[0m\n",
      "\u001b[32m[I 2022-11-28 15:36:01,950]\u001b[0m Trial 561 finished with value: 0.8159123738887432 and parameters: {'tol': 0.04961533200732662, 'max_iter': 5200, 'selection': 'random', 'l1_ratio': 0.3054832722921247, 'alpha': 0.00043198449531310065}. Best is trial 268 with value: 0.8162285684622925.\u001b[0m\n",
      "\u001b[32m[I 2022-11-28 15:36:03,002]\u001b[0m Trial 562 finished with value: 0.7125770151319728 and parameters: {'tol': 0.09772468716983441, 'max_iter': 5119, 'selection': 'random', 'l1_ratio': 0.32868167047620467, 'alpha': 0.093448470904014}. Best is trial 268 with value: 0.8162285684622925.\u001b[0m\n",
      "\u001b[32m[I 2022-11-28 15:36:04,114]\u001b[0m Trial 563 finished with value: 0.7592207390025705 and parameters: {'tol': 0.06899057089173063, 'max_iter': 5323, 'selection': 'random', 'l1_ratio': 0.307878563546, 'alpha': 0.06103679640982216}. Best is trial 268 with value: 0.8162285684622925.\u001b[0m\n",
      "\u001b[32m[I 2022-11-28 15:36:05,165]\u001b[0m Trial 564 finished with value: 0.6740478206118483 and parameters: {'tol': 0.04601270040407261, 'max_iter': 4903, 'selection': 'random', 'l1_ratio': 0.3424727896745561, 'alpha': 0.1695578964280259}. Best is trial 268 with value: 0.8162285684622925.\u001b[0m\n",
      "\u001b[32m[I 2022-11-28 15:36:08,852]\u001b[0m Trial 565 finished with value: 0.8156157284991847 and parameters: {'tol': 0.023821552594372325, 'max_iter': 3978, 'selection': 'random', 'l1_ratio': 0.14684926831907472, 'alpha': 0.0010301493576650544}. Best is trial 268 with value: 0.8162285684622925.\u001b[0m\n",
      "\u001b[32m[I 2022-11-28 15:36:12,598]\u001b[0m Trial 566 finished with value: 0.8157622062654063 and parameters: {'tol': 0.06573880937242993, 'max_iter': 2004, 'selection': 'random', 'l1_ratio': 0.08390905366250148, 'alpha': 0.0008879460739594242}. Best is trial 268 with value: 0.8162285684622925.\u001b[0m\n",
      "\u001b[32m[I 2022-11-28 15:36:13,638]\u001b[0m Trial 567 finished with value: 0.6423272491861651 and parameters: {'tol': 0.09035199979944919, 'max_iter': 9997, 'selection': 'random', 'l1_ratio': 0.17078470890273295, 'alpha': 0.8012650903878366}. Best is trial 268 with value: 0.8162285684622925.\u001b[0m\n",
      "\u001b[32m[I 2022-11-28 15:36:15,116]\u001b[0m Trial 568 finished with value: 0.7798969448950338 and parameters: {'tol': 0.03994318781686332, 'max_iter': 5257, 'selection': 'random', 'l1_ratio': 0.11263372968578524, 'alpha': 0.06239844445171862}. Best is trial 268 with value: 0.8162285684622925.\u001b[0m\n",
      "\u001b[32m[I 2022-11-28 15:36:20,726]\u001b[0m Trial 569 finished with value: 0.8160206939526337 and parameters: {'tol': 0.026840149288836677, 'max_iter': 4214, 'selection': 'random', 'l1_ratio': 0.2857149466772457, 'alpha': 0.0003078727762958669}. Best is trial 268 with value: 0.8162285684622925.\u001b[0m\n",
      "\u001b[32m[I 2022-11-28 15:36:26,058]\u001b[0m Trial 570 finished with value: 0.8160038525575076 and parameters: {'tol': 0.016502849852556994, 'max_iter': 4384, 'selection': 'random', 'l1_ratio': 0.28605588311869834, 'alpha': 0.000328947743294177}. Best is trial 268 with value: 0.8162285684622925.\u001b[0m\n",
      "\u001b[32m[I 2022-11-28 15:36:27,159]\u001b[0m Trial 571 finished with value: 0.7304460400397257 and parameters: {'tol': 0.022889332141560595, 'max_iter': 4567, 'selection': 'random', 'l1_ratio': 0.2493187809128759, 'alpha': 0.10064229591724758}. Best is trial 268 with value: 0.8162285684622925.\u001b[0m\n",
      "\u001b[32m[I 2022-11-28 15:36:28,371]\u001b[0m Trial 572 finished with value: 0.7842842062173435 and parameters: {'tol': 0.020028618984317993, 'max_iter': 4815, 'selection': 'random', 'l1_ratio': 0.27656341696434494, 'alpha': 0.03903835921341502}. Best is trial 268 with value: 0.8162285684622925.\u001b[0m\n",
      "\u001b[32m[I 2022-11-28 15:36:29,384]\u001b[0m Trial 573 finished with value: 0.6295150097158506 and parameters: {'tol': 0.26106991663852497, 'max_iter': 3155, 'selection': 'random', 'l1_ratio': 0.26765863918046734, 'alpha': 1.5969348873848108}. Best is trial 268 with value: 0.8162285684622925.\u001b[0m\n",
      "\u001b[32m[I 2022-11-28 15:36:30,391]\u001b[0m Trial 574 finished with value: 0.6293304089949789 and parameters: {'tol': 0.04215424985957941, 'max_iter': 5677, 'selection': 'random', 'l1_ratio': 0.31823399776537625, 'alpha': 1.7065964537544525}. Best is trial 268 with value: 0.8162285684622925.\u001b[0m\n",
      "\u001b[32m[I 2022-11-28 15:36:31,521]\u001b[0m Trial 575 finished with value: 0.7818704342052746 and parameters: {'tol': 0.04756735580863057, 'max_iter': 5516, 'selection': 'random', 'l1_ratio': 0.30235106237190557, 'alpha': 0.040312110148496186}. Best is trial 268 with value: 0.8162285684622925.\u001b[0m\n",
      "\u001b[32m[I 2022-11-28 15:36:32,561]\u001b[0m Trial 576 finished with value: 0.7603519999303164 and parameters: {'tol': 0.5071093468312493, 'max_iter': 5012, 'selection': 'random', 'l1_ratio': 0.21661016435926891, 'alpha': 0.07111722262661774}. Best is trial 268 with value: 0.8162285684622925.\u001b[0m\n",
      "\u001b[32m[I 2022-11-28 15:36:33,759]\u001b[0m Trial 577 finished with value: 0.7902232515754629 and parameters: {'tol': 0.017457691739329866, 'max_iter': 1987, 'selection': 'random', 'l1_ratio': 0.2910531715152126, 'alpha': 0.03236433524242277}. Best is trial 268 with value: 0.8162285684622925.\u001b[0m\n",
      "\u001b[32m[I 2022-11-28 15:36:36,208]\u001b[0m Trial 578 finished with value: 0.7676957979174163 and parameters: {'tol': 0.00010291944351844065, 'max_iter': 2729, 'selection': 'random', 'l1_ratio': 0.025222233068737984, 'alpha': 0.13433247067921547}. Best is trial 268 with value: 0.8162285684622925.\u001b[0m\n",
      "\u001b[32m[I 2022-11-28 15:36:37,296]\u001b[0m Trial 579 finished with value: 0.6865888903232247 and parameters: {'tol': 0.03567012970159813, 'max_iter': 4090, 'selection': 'random', 'l1_ratio': 0.48803103853386887, 'alpha': 0.09415691689039282}. Best is trial 268 with value: 0.8162285684622925.\u001b[0m\n",
      "\u001b[32m[I 2022-11-28 15:36:38,312]\u001b[0m Trial 580 finished with value: 0.6291695238177023 and parameters: {'tol': 0.059445215633838144, 'max_iter': 4248, 'selection': 'random', 'l1_ratio': 0.3326588802100236, 'alpha': 1.9022982869290899}. Best is trial 268 with value: 0.8162285684622925.\u001b[0m\n",
      "\u001b[32m[I 2022-11-28 15:36:39,451]\u001b[0m Trial 581 finished with value: 0.7759441788706392 and parameters: {'tol': 0.019374579018454484, 'max_iter': 5530, 'selection': 'random', 'l1_ratio': 0.5411973558845374, 'alpha': 0.034829163323740586}. Best is trial 268 with value: 0.8162285684622925.\u001b[0m\n",
      "\u001b[32m[I 2022-11-28 15:36:40,599]\u001b[0m Trial 582 finished with value: 0.7565294058072377 and parameters: {'tol': 0.03398149886445208, 'max_iter': 2439, 'selection': 'random', 'l1_ratio': 0.29364970214799346, 'alpha': 0.06538520916691161}. Best is trial 268 with value: 0.8162285684622925.\u001b[0m\n",
      "\u001b[32m[I 2022-11-28 15:36:41,669]\u001b[0m Trial 583 finished with value: 0.7924199705082577 and parameters: {'tol': 0.5439314256204502, 'max_iter': 2119, 'selection': 'random', 'l1_ratio': 0.06318192238570619, 'alpha': 0.03300734194564459}. Best is trial 268 with value: 0.8162285684622925.\u001b[0m\n",
      "\u001b[32m[I 2022-11-28 15:36:47,208]\u001b[0m Trial 584 finished with value: 0.8160588167686393 and parameters: {'tol': 0.05570604568302786, 'max_iter': 8688, 'selection': 'random', 'l1_ratio': 0.12834138774198092, 'alpha': 0.00033124480625975196}. Best is trial 268 with value: 0.8162285684622925.\u001b[0m\n",
      "\u001b[32m[I 2022-11-28 15:36:53,654]\u001b[0m Trial 585 finished with value: 0.8159428975342171 and parameters: {'tol': 0.05568621868711125, 'max_iter': 8461, 'selection': 'random', 'l1_ratio': 0.14246740483012627, 'alpha': 0.0005280632732421891}. Best is trial 268 with value: 0.8162285684622925.\u001b[0m\n",
      "\u001b[32m[I 2022-11-28 15:36:55,091]\u001b[0m Trial 586 finished with value: 0.7773592147855342 and parameters: {'tol': 0.0179547109474771, 'max_iter': 8605, 'selection': 'random', 'l1_ratio': 0.10763820761841722, 'alpha': 0.06807553240539303}. Best is trial 268 with value: 0.8162285684622925.\u001b[0m\n",
      "\u001b[32m[I 2022-11-28 15:36:56,331]\u001b[0m Trial 587 finished with value: 0.7489374147009895 and parameters: {'tol': 5.887345968016598e-06, 'max_iter': 8822, 'selection': 'random', 'l1_ratio': 0.1342532404976069, 'alpha': 0.11141576718105008}. Best is trial 268 with value: 0.8162285684622925.\u001b[0m\n",
      "\u001b[32m[I 2022-11-28 15:37:04,334]\u001b[0m Trial 588 finished with value: 0.8158315049954504 and parameters: {'tol': 0.033934785155552906, 'max_iter': 4740, 'selection': 'random', 'l1_ratio': 0.13322174154771466, 'alpha': 0.0007177404642754967}. Best is trial 268 with value: 0.8162285684622925.\u001b[0m\n",
      "\u001b[32m[I 2022-11-28 15:37:06,223]\u001b[0m Trial 589 finished with value: 0.7935208781321537 and parameters: {'tol': 0.04845815224352082, 'max_iter': 5226, 'selection': 'random', 'l1_ratio': 0.10461036797333956, 'alpha': 0.03937614046215204}. Best is trial 268 with value: 0.8162285684622925.\u001b[0m\n",
      "\u001b[32m[I 2022-11-28 15:37:07,304]\u001b[0m Trial 590 finished with value: 0.6540736272490512 and parameters: {'tol': 0.017248675804920177, 'max_iter': 1800, 'selection': 'random', 'l1_ratio': 0.08855637202380846, 'alpha': 1.1038826843606722}. Best is trial 268 with value: 0.8162285684622925.\u001b[0m\n",
      "\u001b[32m[I 2022-11-28 15:37:08,487]\u001b[0m Trial 591 finished with value: 0.7773015190947243 and parameters: {'tol': 0.06438824121232832, 'max_iter': 9280, 'selection': 'random', 'l1_ratio': 0.11614963728603522, 'alpha': 0.06630989464265405}. Best is trial 268 with value: 0.8162285684622925.\u001b[0m\n",
      "\u001b[32m[I 2022-11-28 15:37:09,721]\u001b[0m Trial 592 finished with value: 0.7894137786100731 and parameters: {'tol': 0.03316434208642474, 'max_iter': 8712, 'selection': 'random', 'l1_ratio': 0.19077202315835612, 'alpha': 0.03889840470825567}. Best is trial 268 with value: 0.8162285684622925.\u001b[0m\n",
      "\u001b[32m[I 2022-11-28 15:37:10,813]\u001b[0m Trial 593 finished with value: 0.7498656002850768 and parameters: {'tol': 0.048744308900249056, 'max_iter': 8959, 'selection': 'cyclic', 'l1_ratio': 0.16854067326793523, 'alpha': 0.09834376625493169}. Best is trial 268 with value: 0.8162285684622925.\u001b[0m\n",
      "\u001b[32m[I 2022-11-28 15:37:13,635]\u001b[0m Trial 594 finished with value: 0.8156215533543392 and parameters: {'tol': 0.02075443837789023, 'max_iter': 9563, 'selection': 'random', 'l1_ratio': 0.15929704926315996, 'alpha': 0.0010083860064529382}. Best is trial 268 with value: 0.8162285684622925.\u001b[0m\n",
      "\u001b[32m[I 2022-11-28 15:37:14,781]\u001b[0m Trial 595 finished with value: 0.7725544539753171 and parameters: {'tol': 0.00029460399844514346, 'max_iter': 9191, 'selection': 'random', 'l1_ratio': 0.5010862229126806, 'alpha': 0.03824318770670175}. Best is trial 268 with value: 0.8162285684622925.\u001b[0m\n",
      "\u001b[32m[I 2022-11-28 15:37:17,197]\u001b[0m Trial 596 finished with value: 0.8155126126847341 and parameters: {'tol': 0.07204654835647828, 'max_iter': 8619, 'selection': 'cyclic', 'l1_ratio': 0.09839150033805616, 'alpha': 0.0012559311178532368}. Best is trial 268 with value: 0.8162285684622925.\u001b[0m\n",
      "\u001b[32m[I 2022-11-28 15:37:18,248]\u001b[0m Trial 597 finished with value: 0.7493668098538638 and parameters: {'tol': 0.6108971451968374, 'max_iter': 2941, 'selection': 'random', 'l1_ratio': 0.07453504188634694, 'alpha': 0.14527589335632635}. Best is trial 268 with value: 0.8162285684622925.\u001b[0m\n",
      "\u001b[32m[I 2022-11-28 15:37:19,327]\u001b[0m Trial 598 finished with value: 0.7038051728420145 and parameters: {'tol': 0.0322037597740827, 'max_iter': 8879, 'selection': 'cyclic', 'l1_ratio': 0.5160660498467008, 'alpha': 0.07043833546737685}. Best is trial 268 with value: 0.8162285684622925.\u001b[0m\n",
      "\u001b[32m[I 2022-11-28 15:37:26,835]\u001b[0m Trial 599 finished with value: 0.8160799331163714 and parameters: {'tol': 0.05073176329701988, 'max_iter': 2265, 'selection': 'random', 'l1_ratio': 0.11193957698208498, 'alpha': 0.0003034583674820235}. Best is trial 268 with value: 0.8162285684622925.\u001b[0m\n",
      "\u001b[32m[I 2022-11-28 15:37:31,873]\u001b[0m Trial 600 finished with value: 0.816034758150185 and parameters: {'tol': 0.06353452039667035, 'max_iter': 6143, 'selection': 'random', 'l1_ratio': 0.11774065264888099, 'alpha': 0.00038302910529590384}. Best is trial 268 with value: 0.8162285684622925.\u001b[0m\n",
      "\u001b[32m[I 2022-11-28 15:37:33,302]\u001b[0m Trial 601 finished with value: 0.7919163008787297 and parameters: {'tol': 0.08302712262651281, 'max_iter': 5617, 'selection': 'random', 'l1_ratio': 0.12148561344975764, 'alpha': 0.04077307873364683}. Best is trial 268 with value: 0.8162285684622925.\u001b[0m\n",
      "\u001b[32m[I 2022-11-28 15:37:34,471]\u001b[0m Trial 602 finished with value: 0.7648146778621592 and parameters: {'tol': 0.0770024268646304, 'max_iter': 5911, 'selection': 'random', 'l1_ratio': 0.15218688144919346, 'alpha': 0.077256175927452}. Best is trial 268 with value: 0.8162285684622925.\u001b[0m\n",
      "\u001b[32m[I 2022-11-28 15:37:36,027]\u001b[0m Trial 603 finished with value: 0.7950808466246216 and parameters: {'tol': 0.09832152371809814, 'max_iter': 2222, 'selection': 'random', 'l1_ratio': 0.12961256615143252, 'alpha': 0.03500604020890941}. Best is trial 268 with value: 0.8162285684622925.\u001b[0m\n",
      "\u001b[32m[I 2022-11-28 15:37:37,106]\u001b[0m Trial 604 finished with value: 0.7146437816197533 and parameters: {'tol': 0.0670255744190288, 'max_iter': 6055, 'selection': 'random', 'l1_ratio': 0.13474685926239177, 'alpha': 0.19484724059104963}. Best is trial 268 with value: 0.8162285684622925.\u001b[0m\n",
      "\u001b[32m[I 2022-11-28 15:37:38,255]\u001b[0m Trial 605 finished with value: 0.749629697360052 and parameters: {'tol': 0.05950382822554997, 'max_iter': 6198, 'selection': 'random', 'l1_ratio': 0.1266914481825924, 'alpha': 0.1127294052552202}. Best is trial 268 with value: 0.8162285684622925.\u001b[0m\n",
      "\u001b[32m[I 2022-11-28 15:37:39,853]\u001b[0m Trial 606 finished with value: 0.7942775063563103 and parameters: {'tol': 0.1174212322671547, 'max_iter': 5767, 'selection': 'random', 'l1_ratio': 0.09594280661319482, 'alpha': 0.03845070489786586}. Best is trial 268 with value: 0.8162285684622925.\u001b[0m\n",
      "\u001b[32m[I 2022-11-28 15:37:41,112]\u001b[0m Trial 607 finished with value: 0.7769778197672845 and parameters: {'tol': 0.07653552683034937, 'max_iter': 5466, 'selection': 'random', 'l1_ratio': 0.10987797384889259, 'alpha': 0.06821118588367205}. Best is trial 268 with value: 0.8162285684622925.\u001b[0m\n",
      "\u001b[32m[I 2022-11-28 15:37:48,641]\u001b[0m Trial 608 finished with value: 0.8160860241855549 and parameters: {'tol': 0.0537575151920237, 'max_iter': 6293, 'selection': 'random', 'l1_ratio': 0.0953062934990406, 'alpha': 0.00029988655877686177}. Best is trial 268 with value: 0.8162285684622925.\u001b[0m\n",
      "\u001b[32m[I 2022-11-28 15:37:50,960]\u001b[0m Trial 609 finished with value: 0.7954157777890112 and parameters: {'tol': 0.05823495415523334, 'max_iter': 5716, 'selection': 'random', 'l1_ratio': 0.07812282151625721, 'alpha': 0.03735312572924791}. Best is trial 268 with value: 0.8162285684622925.\u001b[0m\n",
      "\u001b[32m[I 2022-11-28 15:37:52,145]\u001b[0m Trial 610 finished with value: 0.7608307932184064 and parameters: {'tol': 0.09401425252918119, 'max_iter': 6250, 'selection': 'random', 'l1_ratio': 0.09431758061439637, 'alpha': 0.1055531668274466}. Best is trial 268 with value: 0.8162285684622925.\u001b[0m\n",
      "\u001b[32m[I 2022-11-28 15:37:53,758]\u001b[0m Trial 611 finished with value: 0.7831968584903654 and parameters: {'tol': 0.08220042957823517, 'max_iter': 6003, 'selection': 'random', 'l1_ratio': 0.06696101398189516, 'alpha': 0.06543371602702994}. Best is trial 268 with value: 0.8162285684622925.\u001b[0m\n",
      "\u001b[32m[I 2022-11-28 15:37:55,335]\u001b[0m Trial 612 finished with value: 0.7948925277632357 and parameters: {'tol': 0.049538874248355215, 'max_iter': 6128, 'selection': 'random', 'l1_ratio': 0.11413764267607315, 'alpha': 0.036222384057504164}. Best is trial 268 with value: 0.8162285684622925.\u001b[0m\n",
      "\u001b[32m[I 2022-11-28 15:37:56,523]\u001b[0m Trial 613 finished with value: 0.7702732228418758 and parameters: {'tol': 0.10364758663311245, 'max_iter': 6279, 'selection': 'random', 'l1_ratio': 0.08472062815021408, 'alpha': 0.08940462281705114}. Best is trial 268 with value: 0.8162285684622925.\u001b[0m\n",
      "\u001b[32m[I 2022-11-28 15:37:58,097]\u001b[0m Trial 614 finished with value: 0.793729923595337 and parameters: {'tol': 0.06326551756489925, 'max_iter': 6386, 'selection': 'random', 'l1_ratio': 0.1196089827877119, 'alpha': 0.037871658562429945}. Best is trial 268 with value: 0.8162285684622925.\u001b[0m\n",
      "\u001b[32m[I 2022-11-28 15:37:59,287]\u001b[0m Trial 615 finished with value: 0.7612102329733798 and parameters: {'tol': 0.13627717960685978, 'max_iter': 5823, 'selection': 'random', 'l1_ratio': 0.0493195390307529, 'alpha': 0.13589399007363864}. Best is trial 268 with value: 0.8162285684622925.\u001b[0m\n",
      "\u001b[32m[I 2022-11-28 15:38:00,834]\u001b[0m Trial 616 finished with value: 0.794512892052138 and parameters: {'tol': 0.045795412770182786, 'max_iter': 8537, 'selection': 'random', 'l1_ratio': 0.14837868356355544, 'alpha': 0.03479449129151069}. Best is trial 268 with value: 0.8162285684622925.\u001b[0m\n",
      "\u001b[32m[I 2022-11-28 15:38:03,375]\u001b[0m Trial 617 finished with value: 0.814791415570435 and parameters: {'tol': 0.06266471238252964, 'max_iter': 6439, 'selection': 'random', 'l1_ratio': 0.10672575794782983, 'alpha': 0.0022913801062216686}. Best is trial 268 with value: 0.8162285684622925.\u001b[0m\n",
      "\u001b[32m[I 2022-11-28 15:38:04,614]\u001b[0m Trial 618 finished with value: 0.7731314850926789 and parameters: {'tol': 0.07767210562072684, 'max_iter': 8357, 'selection': 'random', 'l1_ratio': 0.09191989724521571, 'alpha': 0.08059110758658924}. Best is trial 268 with value: 0.8162285684622925.\u001b[0m\n",
      "\u001b[32m[I 2022-11-28 15:38:11,279]\u001b[0m Trial 619 finished with value: 0.8152532035340652 and parameters: {'tol': 0.03965387439953228, 'max_iter': 2375, 'selection': 'random', 'l1_ratio': 0.07775528289846251, 'alpha': 0.001674967674956086}. Best is trial 268 with value: 0.8162285684622925.\u001b[0m\n",
      "\u001b[32m[I 2022-11-28 15:38:12,446]\u001b[0m Trial 620 finished with value: 0.7725173686852067 and parameters: {'tol': 0.11835859165420587, 'max_iter': 8393, 'selection': 'random', 'l1_ratio': 0.14966227146203318, 'alpha': 0.06642922168378797}. Best is trial 268 with value: 0.8162285684622925.\u001b[0m\n",
      "\u001b[32m[I 2022-11-28 15:38:13,877]\u001b[0m Trial 621 finished with value: 0.788054533519847 and parameters: {'tol': 0.04460379779642297, 'max_iter': 8218, 'selection': 'random', 'l1_ratio': 0.12249407149731803, 'alpha': 0.04705253803054798}. Best is trial 268 with value: 0.8162285684622925.\u001b[0m\n",
      "\u001b[32m[I 2022-11-28 15:38:16,667]\u001b[0m Trial 622 finished with value: 0.815216843421992 and parameters: {'tol': 0.22532890450251258, 'max_iter': 5971, 'selection': 'random', 'l1_ratio': 0.10634709101337696, 'alpha': 0.0016919659433626863}. Best is trial 268 with value: 0.8162285684622925.\u001b[0m\n",
      "\u001b[32m[I 2022-11-28 15:38:21,474]\u001b[0m Trial 623 finished with value: 0.8160751823198362 and parameters: {'tol': 0.2965070324502034, 'max_iter': 2106, 'selection': 'random', 'l1_ratio': 0.057394069823058655, 'alpha': 0.000337055317782231}. Best is trial 268 with value: 0.8162285684622925.\u001b[0m\n",
      "\u001b[32m[I 2022-11-28 15:38:22,509]\u001b[0m Trial 624 finished with value: 0.6931649152137385 and parameters: {'tol': 0.36174661207017933, 'max_iter': 2515, 'selection': 'random', 'l1_ratio': 0.0993831405846067, 'alpha': 0.33732408290879673}. Best is trial 268 with value: 0.8162285684622925.\u001b[0m\n",
      "\u001b[32m[I 2022-11-28 15:38:24,042]\u001b[0m Trial 625 finished with value: 0.7736006327018033 and parameters: {'tol': 0.2794828366466044, 'max_iter': 2321, 'selection': 'random', 'l1_ratio': 0.046992913943791084, 'alpha': 0.09783649406629492}. Best is trial 268 with value: 0.8162285684622925.\u001b[0m\n",
      "\u001b[32m[I 2022-11-28 15:38:26,651]\u001b[0m Trial 626 finished with value: 0.7936638601603502 and parameters: {'tol': 0.08650836123550247, 'max_iter': 9056, 'selection': 'random', 'l1_ratio': 0.032573932473198286, 'alpha': 0.04385777348541803}. Best is trial 268 with value: 0.8162285684622925.\u001b[0m\n",
      "\u001b[32m[I 2022-11-28 15:38:35,734]\u001b[0m Trial 627 finished with value: 0.8159092516406301 and parameters: {'tol': 0.03477055422702477, 'max_iter': 2160, 'selection': 'random', 'l1_ratio': 0.06699907249885279, 'alpha': 0.0006513423497253091}. Best is trial 268 with value: 0.8162285684622925.\u001b[0m\n",
      "\u001b[32m[I 2022-11-28 15:38:36,938]\u001b[0m Trial 628 finished with value: 0.7564659283102706 and parameters: {'tol': 0.06532918781025918, 'max_iter': 2001, 'selection': 'random', 'l1_ratio': 0.05921143054263023, 'alpha': 0.14227064348449642}. Best is trial 268 with value: 0.8162285684622925.\u001b[0m\n",
      "\u001b[32m[I 2022-11-28 15:38:59,552]\u001b[0m Trial 629 finished with value: 0.8161927852830382 and parameters: {'tol': 0.10730436708792054, 'max_iter': 1926, 'selection': 'random', 'l1_ratio': 0.047250376122363845, 'alpha': 0.00010085378848013983}. Best is trial 268 with value: 0.8162285684622925.\u001b[0m\n",
      "\u001b[32m[I 2022-11-28 15:39:00,766]\u001b[0m Trial 630 finished with value: 0.7865391004975906 and parameters: {'tol': 0.40107522874032975, 'max_iter': 2109, 'selection': 'random', 'l1_ratio': 0.013249619087327524, 'alpha': 0.06653967781181624}. Best is trial 268 with value: 0.8162285684622925.\u001b[0m\n",
      "\u001b[32m[I 2022-11-28 15:39:18,693]\u001b[0m Trial 631 finished with value: 0.8161624756000927 and parameters: {'tol': 0.1104205096423527, 'max_iter': 1873, 'selection': 'random', 'l1_ratio': 0.05938996387875342, 'alpha': 0.00016378408620981242}. Best is trial 268 with value: 0.8162285684622925.\u001b[0m\n",
      "\u001b[32m[I 2022-11-28 15:39:19,755]\u001b[0m Trial 632 finished with value: 0.6927097740742221 and parameters: {'tol': 0.13118607149971567, 'max_iter': 2177, 'selection': 'random', 'l1_ratio': 0.030444056428931787, 'alpha': 0.8490410697199302}. Best is trial 268 with value: 0.8162285684622925.\u001b[0m\n",
      "\u001b[32m[I 2022-11-28 15:39:22,338]\u001b[0m Trial 633 finished with value: 0.7933061225244897 and parameters: {'tol': 0.11955901976236857, 'max_iter': 1846, 'selection': 'random', 'l1_ratio': 0.048997634502440574, 'alpha': 0.04377027065902789}. Best is trial 268 with value: 0.8162285684622925.\u001b[0m\n",
      "\u001b[32m[I 2022-11-28 15:39:24,774]\u001b[0m Trial 634 finished with value: 0.7774151309444822 and parameters: {'tol': 0.1121554183136429, 'max_iter': 1981, 'selection': 'random', 'l1_ratio': 0.016551982648409097, 'alpha': 0.09951274006153737}. Best is trial 268 with value: 0.8162285684622925.\u001b[0m\n",
      "\u001b[32m[I 2022-11-28 15:39:26,403]\u001b[0m Trial 635 finished with value: 0.7945130502450719 and parameters: {'tol': 0.14592473513711457, 'max_iter': 2319, 'selection': 'random', 'l1_ratio': 0.06505173394044807, 'alpha': 0.03989070234619162}. Best is trial 268 with value: 0.8162285684622925.\u001b[0m\n",
      "\u001b[32m[I 2022-11-28 15:39:30,778]\u001b[0m Trial 636 finished with value: 0.8157774130290998 and parameters: {'tol': 0.10805632240811021, 'max_iter': 1952, 'selection': 'random', 'l1_ratio': 0.03790793694707201, 'alpha': 0.0009160591858369537}. Best is trial 268 with value: 0.8162285684622925.\u001b[0m\n",
      "\u001b[32m[I 2022-11-28 15:39:32,413]\u001b[0m Trial 637 finished with value: 0.7837589331313202 and parameters: {'tol': 0.10651976313693663, 'max_iter': 1777, 'selection': 'random', 'l1_ratio': 0.04293697345675885, 'alpha': 0.0693082181982182}. Best is trial 268 with value: 0.8162285684622925.\u001b[0m\n",
      "\u001b[32m[I 2022-11-28 15:39:34,090]\u001b[0m Trial 638 finished with value: 0.7944033434627548 and parameters: {'tol': 0.13652055524322937, 'max_iter': 2149, 'selection': 'random', 'l1_ratio': 0.06411705062259829, 'alpha': 0.04018739109187098}. Best is trial 268 with value: 0.8162285684622925.\u001b[0m\n",
      "\u001b[32m[I 2022-11-28 15:39:35,611]\u001b[0m Trial 639 finished with value: 0.7735159116857911 and parameters: {'tol': 0.09550334468121954, 'max_iter': 1683, 'selection': 'random', 'l1_ratio': 0.04536499402889799, 'alpha': 0.09889843740057834}. Best is trial 268 with value: 0.8162285684622925.\u001b[0m\n",
      "\u001b[32m[I 2022-11-28 15:39:38,772]\u001b[0m Trial 640 finished with value: 0.7962138698057069 and parameters: {'tol': 0.12518722534401486, 'max_iter': 2696, 'selection': 'random', 'l1_ratio': 0.02283778539924517, 'alpha': 0.03763251413038829}. Best is trial 268 with value: 0.8162285684622925.\u001b[0m\n",
      "\u001b[32m[I 2022-11-28 15:39:42,679]\u001b[0m Trial 641 finished with value: 0.8158546097250714 and parameters: {'tol': 0.1557425961860013, 'max_iter': 2530, 'selection': 'random', 'l1_ratio': 0.059235091792072044, 'alpha': 0.0007568953944902644}. Best is trial 268 with value: 0.8162285684622925.\u001b[0m\n",
      "\u001b[32m[I 2022-11-28 15:39:54,440]\u001b[0m Trial 642 finished with value: 0.8161492042042452 and parameters: {'tol': 0.09226485752923194, 'max_iter': 1890, 'selection': 'random', 'l1_ratio': 0.08346042626379838, 'alpha': 0.0001817688410837104}. Best is trial 268 with value: 0.8162285684622925.\u001b[0m\n",
      "\u001b[32m[I 2022-11-28 15:39:55,493]\u001b[0m Trial 643 finished with value: 0.6589926352456776 and parameters: {'tol': 0.1018498071441712, 'max_iter': 1890, 'selection': 'random', 'l1_ratio': 0.06856655837828701, 'alpha': 1.2306615629571747}. Best is trial 268 with value: 0.8162285684622925.\u001b[0m\n",
      "\u001b[32m[I 2022-11-28 15:39:57,019]\u001b[0m Trial 644 finished with value: 0.7840420392819337 and parameters: {'tol': 0.13315056474858986, 'max_iter': 2102, 'selection': 'random', 'l1_ratio': 0.07638075200196441, 'alpha': 0.061585538770311844}. Best is trial 268 with value: 0.8162285684622925.\u001b[0m\n",
      "\u001b[32m[I 2022-11-28 15:39:58,605]\u001b[0m Trial 645 finished with value: 0.7671774807105669 and parameters: {'tol': 0.09564834568243782, 'max_iter': 1644, 'selection': 'random', 'l1_ratio': 0.03295613191961526, 'alpha': 0.12908999395480025}. Best is trial 268 with value: 0.8162285684622925.\u001b[0m\n",
      "\u001b[32m[I 2022-11-28 15:40:00,164]\u001b[0m Trial 646 finished with value: 0.7814895056204847 and parameters: {'tol': 0.1427584530687485, 'max_iter': 1982, 'selection': 'random', 'l1_ratio': 0.04998847693267693, 'alpha': 0.07387271107501367}. Best is trial 268 with value: 0.8162285684622925.\u001b[0m\n",
      "\u001b[32m[I 2022-11-28 15:40:01,793]\u001b[0m Trial 647 finished with value: 0.796054889355927 and parameters: {'tol': 0.12109153586309976, 'max_iter': 2365, 'selection': 'random', 'l1_ratio': 0.07820500602836784, 'alpha': 0.03594294599086747}. Best is trial 268 with value: 0.8162285684622925.\u001b[0m\n",
      "\u001b[32m[I 2022-11-28 15:40:03,426]\u001b[0m Trial 648 finished with value: 0.7966348010127197 and parameters: {'tol': 0.09804225202500218, 'max_iter': 1818, 'selection': 'random', 'l1_ratio': 0.0886172176727207, 'alpha': 0.03432119749401023}. Best is trial 268 with value: 0.8162285684622925.\u001b[0m\n",
      "\u001b[32m[I 2022-11-28 15:40:04,960]\u001b[0m Trial 649 finished with value: 0.7724766567077053 and parameters: {'tol': 0.08793406936963924, 'max_iter': 2191, 'selection': 'random', 'l1_ratio': 0.054652390396299225, 'alpha': 0.09742801853784502}. Best is trial 268 with value: 0.8162285684622925.\u001b[0m\n",
      "\u001b[32m[I 2022-11-28 15:40:07,440]\u001b[0m Trial 650 finished with value: 0.7980478538142022 and parameters: {'tol': 0.08944072212801389, 'max_iter': 1949, 'selection': 'random', 'l1_ratio': 0.05842518183602737, 'alpha': 0.03251804408824553}. Best is trial 268 with value: 0.8162285684622925.\u001b[0m\n",
      "\u001b[32m[I 2022-11-28 15:40:08,506]\u001b[0m Trial 651 finished with value: 0.7805714523215415 and parameters: {'tol': 0.442720478928159, 'max_iter': 1640, 'selection': 'random', 'l1_ratio': 0.02203084952204945, 'alpha': 0.07082117243966508}. Best is trial 268 with value: 0.8162285684622925.\u001b[0m\n",
      "\u001b[32m[I 2022-11-28 15:40:09,628]\u001b[0m Trial 652 finished with value: 0.7378753993214855 and parameters: {'tol': 0.12434484701610551, 'max_iter': 1829, 'selection': 'random', 'l1_ratio': 0.07806410538985901, 'alpha': 0.18135669656267892}. Best is trial 268 with value: 0.8162285684622925.\u001b[0m\n",
      "\u001b[32m[I 2022-11-28 15:40:16,919]\u001b[0m Trial 653 finished with value: 0.8159984615544464 and parameters: {'tol': 0.11087636574809547, 'max_iter': 2079, 'selection': 'random', 'l1_ratio': 0.08880921478766032, 'alpha': 0.0004715070956809955}. Best is trial 268 with value: 0.8162285684622925.\u001b[0m\n",
      "\u001b[32m[I 2022-11-28 15:40:21,749]\u001b[0m Trial 654 finished with value: 0.7964541022571268 and parameters: {'tol': 0.08133275032218532, 'max_iter': 2221, 'selection': 'random', 'l1_ratio': 0.011380553976546068, 'alpha': 0.037102221189786476}. Best is trial 268 with value: 0.8162285684622925.\u001b[0m\n",
      "\u001b[32m[I 2022-11-28 15:40:42,603]\u001b[0m Trial 655 finished with value: 0.8161773751804211 and parameters: {'tol': 0.07912260286019288, 'max_iter': 1577, 'selection': 'random', 'l1_ratio': 0.0682582866970262, 'alpha': 0.0001306084586130815}. Best is trial 268 with value: 0.8162285684622925.\u001b[0m\n",
      "\u001b[32m[I 2022-11-28 15:41:12,406]\u001b[0m Trial 656 finished with value: 0.8162139789941856 and parameters: {'tol': 0.11357309569640356, 'max_iter': 1565, 'selection': 'random', 'l1_ratio': 0.03612132142088151, 'alpha': 4.941911765315251e-05}. Best is trial 268 with value: 0.8162285684622925.\u001b[0m\n",
      "\u001b[32m[I 2022-11-28 15:41:13,992]\u001b[0m Trial 657 finished with value: 0.7719895236468884 and parameters: {'tol': 0.1266550362137802, 'max_iter': 1475, 'selection': 'random', 'l1_ratio': 0.036090076209014874, 'alpha': 0.10902444383735113}. Best is trial 268 with value: 0.8162285684622925.\u001b[0m\n",
      "\u001b[32m[I 2022-11-28 15:41:16,473]\u001b[0m Trial 658 finished with value: 0.7842189180975719 and parameters: {'tol': 0.11490327680542584, 'max_iter': 1644, 'selection': 'random', 'l1_ratio': 0.03325407263245232, 'alpha': 0.07040000498385102}. Best is trial 268 with value: 0.8162285684622925.\u001b[0m\n",
      "\u001b[32m[I 2022-11-28 15:41:51,822]\u001b[0m Trial 659 finished with value: 0.8161754561899113 and parameters: {'tol': 0.15453888575765196, 'max_iter': 1668, 'selection': 'random', 'l1_ratio': 0.0036877769835782087, 'alpha': 0.0001507861034558155}. Best is trial 268 with value: 0.8162285684622925.\u001b[0m\n",
      "\u001b[32m[I 2022-11-28 15:41:55,013]\u001b[0m Trial 660 finished with value: 0.7946223652537845 and parameters: {'tol': 0.1324716635630375, 'max_iter': 1626, 'selection': 'random', 'l1_ratio': 0.017556655655521912, 'alpha': 0.04191220155266839}. Best is trial 268 with value: 0.8162285684622925.\u001b[0m\n",
      "\u001b[32m[I 2022-11-28 15:41:57,067]\u001b[0m Trial 661 finished with value: 0.7672770259884931 and parameters: {'tol': 0.14631629741508853, 'max_iter': 1754, 'selection': 'random', 'l1_ratio': 0.008156142720128795, 'alpha': 0.15341481849499566}. Best is trial 268 with value: 0.8162285684622925.\u001b[0m\n",
      "\u001b[32m[I 2022-11-28 15:42:03,133]\u001b[0m Trial 662 finished with value: 0.7957741028426515 and parameters: {'tol': 0.30928699233707285, 'max_iter': 1633, 'selection': 'random', 'l1_ratio': 0.00018963823432113086, 'alpha': 0.03899849614090038}. Best is trial 268 with value: 0.8162285684622925.\u001b[0m\n",
      "\u001b[32m[I 2022-11-28 15:42:04,781]\u001b[0m Trial 663 finished with value: 0.7806987934393329 and parameters: {'tol': 0.15705880891180754, 'max_iter': 1459, 'selection': 'random', 'l1_ratio': 0.032049776767667564, 'alpha': 0.08141346855484624}. Best is trial 268 with value: 0.8162285684622925.\u001b[0m\n",
      "\u001b[32m[I 2022-11-28 15:42:09,774]\u001b[0m Trial 664 finished with value: 0.7970525449648609 and parameters: {'tol': 0.17057591092443727, 'max_iter': 1794, 'selection': 'random', 'l1_ratio': 0.0038740790079954956, 'alpha': 0.035512554575756326}. Best is trial 268 with value: 0.8162285684622925.\u001b[0m\n",
      "\u001b[32m[I 2022-11-28 15:42:14,872]\u001b[0m Trial 665 finished with value: 0.8159360449968995 and parameters: {'tol': 0.14146848812352458, 'max_iter': 1522, 'selection': 'random', 'l1_ratio': 0.04694535595060305, 'alpha': 0.0006159611644345328}. Best is trial 268 with value: 0.8162285684622925.\u001b[0m\n",
      "\u001b[32m[I 2022-11-28 15:42:16,524]\u001b[0m Trial 666 finished with value: 0.7843297183660151 and parameters: {'tol': 0.16198368602740748, 'max_iter': 1918, 'selection': 'random', 'l1_ratio': 0.033673396720402524, 'alpha': 0.06966974446814836}. Best is trial 268 with value: 0.8162285684622925.\u001b[0m\n",
      "\u001b[32m[I 2022-11-28 15:42:17,728]\u001b[0m Trial 667 finished with value: 0.7650791106609792 and parameters: {'tol': 0.14241990113370986, 'max_iter': 1772, 'selection': 'random', 'l1_ratio': 0.06123616435409201, 'alpha': 0.11446881438915064}. Best is trial 268 with value: 0.8162285684622925.\u001b[0m\n",
      "\u001b[32m[I 2022-11-28 15:42:20,321]\u001b[0m Trial 668 finished with value: 0.7983111348790379 and parameters: {'tol': 0.17394008425029014, 'max_iter': 1569, 'selection': 'random', 'l1_ratio': 0.02747400075069054, 'alpha': 0.0324283926744858}. Best is trial 268 with value: 0.8162285684622925.\u001b[0m\n",
      "\u001b[32m[I 2022-11-28 15:42:24,500]\u001b[0m Trial 669 finished with value: 0.815688022392681 and parameters: {'tol': 0.10362891657618489, 'max_iter': 1901, 'selection': 'random', 'l1_ratio': 0.05712100355690991, 'alpha': 0.0010463105767604987}. Best is trial 268 with value: 0.8162285684622925.\u001b[0m\n",
      "\u001b[32m[I 2022-11-28 15:42:27,075]\u001b[0m Trial 670 finished with value: 0.7841138612655276 and parameters: {'tol': 0.12451676466579462, 'max_iter': 1358, 'selection': 'random', 'l1_ratio': 0.019251221233992623, 'alpha': 0.07381635482368953}. Best is trial 268 with value: 0.8162285684622925.\u001b[0m\n",
      "\u001b[32m[I 2022-11-28 15:42:32,131]\u001b[0m Trial 671 finished with value: 0.81599762485455 and parameters: {'tol': 0.1518176949616309, 'max_iter': 1957, 'selection': 'random', 'l1_ratio': 0.07557098630065208, 'alpha': 0.0004798157203396278}. Best is trial 268 with value: 0.8162285684622925.\u001b[0m\n",
      "\u001b[32m[I 2022-11-28 15:42:34,655]\u001b[0m Trial 672 finished with value: 0.7973956903250711 and parameters: {'tol': 0.12189322628350341, 'max_iter': 1715, 'selection': 'random', 'l1_ratio': 0.042030028061576775, 'alpha': 0.03441060925566048}. Best is trial 268 with value: 0.8162285684622925.\u001b[0m\n",
      "\u001b[32m[I 2022-11-28 15:42:42,026]\u001b[0m Trial 673 finished with value: 0.816025779314746 and parameters: {'tol': 0.11246352179742156, 'max_iter': 1536, 'selection': 'random', 'l1_ratio': 0.06574846908918833, 'alpha': 0.0004339660925363837}. Best is trial 268 with value: 0.8162285684622925.\u001b[0m\n",
      "\u001b[32m[I 2022-11-28 15:42:43,556]\u001b[0m Trial 674 finished with value: 0.779527767057451 and parameters: {'tol': 0.10213249043009856, 'max_iter': 1969, 'selection': 'random', 'l1_ratio': 0.08423904213096803, 'alpha': 0.06956098122186588}. Best is trial 268 with value: 0.8162285684622925.\u001b[0m\n",
      "\u001b[32m[I 2022-11-28 15:42:46,339]\u001b[0m Trial 675 finished with value: 0.7749532558025424 and parameters: {'tol': 0.14781240289437872, 'max_iter': 2085, 'selection': 'random', 'l1_ratio': 0.0032227162040219482, 'alpha': 0.11779685156948451}. Best is trial 268 with value: 0.8162285684622925.\u001b[0m\n",
      "\u001b[32m[I 2022-11-28 15:42:54,371]\u001b[0m Trial 676 finished with value: 0.8160997008554775 and parameters: {'tol': 0.19268297775018633, 'max_iter': 1714, 'selection': 'random', 'l1_ratio': 0.050427388168009075, 'alpha': 0.0002928071268292246}. Best is trial 268 with value: 0.8162285684622925.\u001b[0m\n",
      "\u001b[32m[I 2022-11-28 15:42:55,439]\u001b[0m Trial 677 finished with value: 0.6960152889957355 and parameters: {'tol': 0.1792748758616744, 'max_iter': 1606, 'selection': 'random', 'l1_ratio': 0.04543895557586714, 'alpha': 0.5963418410965001}. Best is trial 268 with value: 0.8162285684622925.\u001b[0m\n",
      "\u001b[32m[I 2022-11-28 15:42:58,050]\u001b[0m Trial 678 finished with value: 0.7963763216614699 and parameters: {'tol': 0.15015017438450634, 'max_iter': 1759, 'selection': 'random', 'l1_ratio': 0.022169424364721323, 'alpha': 0.03725524314870251}. Best is trial 268 with value: 0.8162285684622925.\u001b[0m\n",
      "\u001b[32m[I 2022-11-28 15:42:59,603]\u001b[0m Trial 679 finished with value: 0.7846041300749279 and parameters: {'tol': 0.19367038951139443, 'max_iter': 1396, 'selection': 'random', 'l1_ratio': 0.051267352931359235, 'alpha': 0.065231404286059}. Best is trial 268 with value: 0.8162285684622925.\u001b[0m\n",
      "\u001b[32m[I 2022-11-28 15:43:01,197]\u001b[0m Trial 680 finished with value: 0.7941711636001103 and parameters: {'tol': 0.20285199784270536, 'max_iter': 1554, 'selection': 'random', 'l1_ratio': 0.07878078507508054, 'alpha': 0.03974378122335281}. Best is trial 268 with value: 0.8162285684622925.\u001b[0m\n",
      "\u001b[32m[I 2022-11-28 15:43:02,273]\u001b[0m Trial 681 finished with value: 0.7280396117204126 and parameters: {'tol': 0.21526765380941007, 'max_iter': 1741, 'selection': 'random', 'l1_ratio': 0.0631697599025962, 'alpha': 0.24314006162720608}. Best is trial 268 with value: 0.8162285684622925.\u001b[0m\n",
      "\u001b[32m[I 2022-11-28 15:43:03,347]\u001b[0m Trial 682 finished with value: 0.7764597611143771 and parameters: {'tol': 0.7183694998014831, 'max_iter': 1901, 'selection': 'random', 'l1_ratio': 0.003142836380417638, 'alpha': 0.09301887898219477}. Best is trial 268 with value: 0.8162285684622925.\u001b[0m\n",
      "\u001b[32m[I 2022-11-28 15:43:04,884]\u001b[0m Trial 683 finished with value: 0.7967366357555589 and parameters: {'tol': 0.18819021290914106, 'max_iter': 2064, 'selection': 'random', 'l1_ratio': 0.0929975797521387, 'alpha': 0.0339199077990755}. Best is trial 268 with value: 0.8162285684622925.\u001b[0m\n",
      "\u001b[32m[I 2022-11-28 15:43:08,719]\u001b[0m Trial 684 finished with value: 0.8156681160267916 and parameters: {'tol': 0.20270444101005378, 'max_iter': 1410, 'selection': 'random', 'l1_ratio': 0.036642405305486334, 'alpha': 0.0011086309418276738}. Best is trial 268 with value: 0.8162285684622925.\u001b[0m\n",
      "\u001b[32m[I 2022-11-28 15:43:09,939]\u001b[0m Trial 685 finished with value: 0.7602705434979304 and parameters: {'tol': 0.17458037285398326, 'max_iter': 2213, 'selection': 'random', 'l1_ratio': 0.051133046850657754, 'alpha': 0.13735093007843854}. Best is trial 268 with value: 0.8162285684622925.\u001b[0m\n",
      "\u001b[32m[I 2022-11-28 15:43:32,602]\u001b[0m Trial 686 finished with value: 0.8162140673798081 and parameters: {'tol': 0.1671170271782575, 'max_iter': 1866, 'selection': 'random', 'l1_ratio': 0.07591407498195632, 'alpha': 4.54222095707789e-05}. Best is trial 268 with value: 0.8162285684622925.\u001b[0m\n",
      "\u001b[32m[I 2022-11-28 15:43:34,139]\u001b[0m Trial 687 finished with value: 0.7806228877626882 and parameters: {'tol': 0.1716056493365796, 'max_iter': 1820, 'selection': 'random', 'l1_ratio': 0.06881531523114183, 'alpha': 0.07108818805865626}. Best is trial 268 with value: 0.8162285684622925.\u001b[0m\n",
      "\u001b[32m[I 2022-11-28 15:43:36,720]\u001b[0m Trial 688 finished with value: 0.7973644469086799 and parameters: {'tol': 0.19680640397842483, 'max_iter': 1649, 'selection': 'random', 'l1_ratio': 0.026338519996965216, 'alpha': 0.03476118686307665}. Best is trial 268 with value: 0.8162285684622925.\u001b[0m\n",
      "\u001b[32m[I 2022-11-28 15:43:38,257]\u001b[0m Trial 689 finished with value: 0.7716349909603548 and parameters: {'tol': 0.18062708214020362, 'max_iter': 1977, 'selection': 'random', 'l1_ratio': 0.048202304603305546, 'alpha': 0.1032664275126222}. Best is trial 268 with value: 0.8162285684622925.\u001b[0m\n",
      "\u001b[32m[I 2022-11-28 15:43:41,640]\u001b[0m Trial 690 finished with value: 0.8155223245835944 and parameters: {'tol': 0.16145156935556648, 'max_iter': 1817, 'selection': 'random', 'l1_ratio': 0.07425452977789954, 'alpha': 0.001288543204331048}. Best is trial 268 with value: 0.8162285684622925.\u001b[0m\n",
      "\u001b[32m[I 2022-11-28 15:43:42,854]\u001b[0m Trial 691 finished with value: 0.7805079898501306 and parameters: {'tol': 0.1641059335708765, 'max_iter': 2333, 'selection': 'random', 'l1_ratio': 0.09224548918825315, 'alpha': 0.06552750434973345}. Best is trial 268 with value: 0.8162285684622925.\u001b[0m\n",
      "\u001b[32m[I 2022-11-28 15:43:46,663]\u001b[0m Trial 692 finished with value: 0.8158355769037515 and parameters: {'tol': 0.18461255884792743, 'max_iter': 1575, 'selection': 'random', 'l1_ratio': 0.043325171555698365, 'alpha': 0.0008073410513621127}. Best is trial 268 with value: 0.8162285684622925.\u001b[0m\n",
      "\u001b[32m[I 2022-11-28 15:43:48,235]\u001b[0m Trial 693 finished with value: 0.7933617807187333 and parameters: {'tol': 0.2139082008427511, 'max_iter': 2057, 'selection': 'random', 'l1_ratio': 0.061220475408756705, 'alpha': 0.0426929086067761}. Best is trial 268 with value: 0.8162285684622925.\u001b[0m\n",
      "\u001b[32m[I 2022-11-28 15:43:49,289]\u001b[0m Trial 694 finished with value: 0.6852604457854292 and parameters: {'tol': 0.15946350063799355, 'max_iter': 1342, 'selection': 'random', 'l1_ratio': 0.019857606732545538, 'alpha': 1.4045490643050844}. Best is trial 268 with value: 0.8162285684622925.\u001b[0m\n",
      "\u001b[32m[I 2022-11-28 15:43:51,008]\u001b[0m Trial 695 finished with value: 0.7947323312659336 and parameters: {'tol': 0.1456539733397765, 'max_iter': 1714, 'selection': 'random', 'l1_ratio': 0.07890750854566761, 'alpha': 0.038601780181288424}. Best is trial 268 with value: 0.8162285684622925.\u001b[0m\n",
      "\u001b[32m[I 2022-11-28 15:44:09,467]\u001b[0m Trial 696 finished with value: 0.8161804266333837 and parameters: {'tol': 0.2558888200340558, 'max_iter': 1876, 'selection': 'random', 'l1_ratio': 0.022676794372286153, 'alpha': 0.00013285739598098835}. Best is trial 268 with value: 0.8162285684622925.\u001b[0m\n",
      "\u001b[32m[I 2022-11-28 15:44:10,964]\u001b[0m Trial 697 finished with value: 0.7764937000149682 and parameters: {'tol': 0.2530755315131325, 'max_iter': 1882, 'selection': 'random', 'l1_ratio': 0.03383534012373052, 'alpha': 0.094656253066717}. Best is trial 268 with value: 0.8162285684622925.\u001b[0m\n",
      "\u001b[32m[I 2022-11-28 15:44:12,660]\u001b[0m Trial 698 finished with value: 0.7864027069763275 and parameters: {'tol': 0.20482139123746423, 'max_iter': 1563, 'selection': 'random', 'l1_ratio': 0.021418575294885868, 'alpha': 0.06566271967744619}. Best is trial 268 with value: 0.8162285684622925.\u001b[0m\n",
      "\u001b[32m[I 2022-11-28 15:44:14,244]\u001b[0m Trial 699 finished with value: 0.7640844232145563 and parameters: {'tol': 0.17408479683584904, 'max_iter': 1781, 'selection': 'random', 'l1_ratio': 0.01593443327700427, 'alpha': 0.16076670771855145}. Best is trial 268 with value: 0.8162285684622925.\u001b[0m\n",
      "\u001b[32m[I 2022-11-28 15:44:15,322]\u001b[0m Trial 700 finished with value: 0.6931758541476674 and parameters: {'tol': 0.22766958135540483, 'max_iter': 1303, 'selection': 'random', 'l1_ratio': 0.009762840395635908, 'alpha': 1.517978734188946}. Best is trial 268 with value: 0.8162285684622925.\u001b[0m\n",
      "\u001b[32m[I 2022-11-28 15:44:21,087]\u001b[0m Trial 701 finished with value: 0.7964592578424827 and parameters: {'tol': 0.17437056227271555, 'max_iter': 1839, 'selection': 'random', 'l1_ratio': 0.0015903516683391512, 'alpha': 0.03710629239051406}. Best is trial 268 with value: 0.8162285684622925.\u001b[0m\n",
      "\u001b[32m[I 2022-11-28 15:44:22,630]\u001b[0m Trial 702 finished with value: 0.7834106486497426 and parameters: {'tol': 0.2032299425566842, 'max_iter': 1517, 'selection': 'random', 'l1_ratio': 0.04983944333208397, 'alpha': 0.06869796519912408}. Best is trial 268 with value: 0.8162285684622925.\u001b[0m\n",
      "\u001b[32m[I 2022-11-28 15:44:30,761]\u001b[0m Trial 703 finished with value: 0.8161047628387261 and parameters: {'tol': 0.14496270891333296, 'max_iter': 1919, 'selection': 'random', 'l1_ratio': 0.04291400237115908, 'alpha': 0.0002853227314977383}. Best is trial 268 with value: 0.8162285684622925.\u001b[0m\n",
      "\u001b[32m[I 2022-11-28 15:44:31,911]\u001b[0m Trial 704 finished with value: 0.7199634369642425 and parameters: {'tol': 0.1575736779297356, 'max_iter': 1725, 'selection': 'random', 'l1_ratio': 0.033363424711351106, 'alpha': 0.39639109935731875}. Best is trial 268 with value: 0.8162285684622925.\u001b[0m\n",
      "\u001b[32m[I 2022-11-28 15:44:35,258]\u001b[0m Trial 705 finished with value: 0.7759582049237289 and parameters: {'tol': 0.14805364606280097, 'max_iter': 1434, 'selection': 'random', 'l1_ratio': 0.0011372476739422155, 'alpha': 0.11415157302589844}. Best is trial 268 with value: 0.8162285684622925.\u001b[0m\n",
      "\u001b[32m[I 2022-11-28 15:44:37,985]\u001b[0m Trial 706 finished with value: 0.7959896536782913 and parameters: {'tol': 0.13044831396340847, 'max_iter': 1971, 'selection': 'cyclic', 'l1_ratio': 0.02895613002070031, 'alpha': 0.038035839735098845}. Best is trial 268 with value: 0.8162285684622925.\u001b[0m\n",
      "\u001b[32m[I 2022-11-28 15:44:40,613]\u001b[0m Trial 707 finished with value: 0.7964130275692933 and parameters: {'tol': 0.18883741896262535, 'max_iter': 1648, 'selection': 'random', 'l1_ratio': 0.039438181882754844, 'alpha': 0.036802070782798235}. Best is trial 268 with value: 0.8162285684622925.\u001b[0m\n",
      "\u001b[32m[I 2022-11-28 15:44:48,010]\u001b[0m Trial 708 finished with value: 0.8160743672137606 and parameters: {'tol': 0.14141790134459134, 'max_iter': 1896, 'selection': 'random', 'l1_ratio': 0.06050216233736206, 'alpha': 0.00033959158496754227}. Best is trial 268 with value: 0.8162285684622925.\u001b[0m\n",
      "\u001b[32m[I 2022-11-28 15:44:50,070]\u001b[0m Trial 709 finished with value: 0.7820212551023451 and parameters: {'tol': 0.1842648247558989, 'max_iter': 1646, 'selection': 'cyclic', 'l1_ratio': 0.02213341205015708, 'alpha': 0.08033029006625768}. Best is trial 268 with value: 0.8162285684622925.\u001b[0m\n",
      "\u001b[32m[I 2022-11-28 15:44:52,631]\u001b[0m Trial 710 finished with value: 0.7970480476964185 and parameters: {'tol': 0.16062219947503634, 'max_iter': 1494, 'selection': 'random', 'l1_ratio': 0.03695507979870281, 'alpha': 0.035369969413484664}. Best is trial 268 with value: 0.8162285684622925.\u001b[0m\n",
      "\u001b[32m[I 2022-11-28 15:44:54,121]\u001b[0m Trial 711 finished with value: 0.781256250087483 and parameters: {'tol': 0.16610306002898073, 'max_iter': 2059, 'selection': 'random', 'l1_ratio': 0.06671139414976186, 'alpha': 0.07011428121327516}. Best is trial 268 with value: 0.8162285684622925.\u001b[0m\n",
      "\u001b[32m[I 2022-11-28 15:44:55,677]\u001b[0m Trial 712 finished with value: 0.7673340076794473 and parameters: {'tol': 0.138465829678375, 'max_iter': 1815, 'selection': 'cyclic', 'l1_ratio': 0.04162421357288936, 'alpha': 0.12209391872415082}. Best is trial 268 with value: 0.8162285684622925.\u001b[0m\n",
      "\u001b[32m[I 2022-11-28 15:44:58,178]\u001b[0m Trial 713 finished with value: 0.7942765639056162 and parameters: {'tol': 0.1259697143090675, 'max_iter': 1979, 'selection': 'random', 'l1_ratio': 0.021595026917524542, 'alpha': 0.04272010306028447}. Best is trial 268 with value: 0.8162285684622925.\u001b[0m\n",
      "\u001b[32m[I 2022-11-28 15:45:07,014]\u001b[0m Trial 714 finished with value: 0.8161436460310437 and parameters: {'tol': 0.19330273474685133, 'max_iter': 1156, 'selection': 'random', 'l1_ratio': 0.07972741861099303, 'alpha': 0.00019248855983942158}. Best is trial 268 with value: 0.8162285684622925.\u001b[0m\n",
      "\u001b[32m[I 2022-11-28 15:45:09,618]\u001b[0m Trial 715 finished with value: 0.8158004281426317 and parameters: {'tol': 0.20504119898204937, 'max_iter': 1039, 'selection': 'cyclic', 'l1_ratio': 0.05138330724631975, 'alpha': 0.0008592224006052957}. Best is trial 268 with value: 0.8162285684622925.\u001b[0m\n",
      "\u001b[32m[I 2022-11-28 15:45:10,817]\u001b[0m Trial 716 finished with value: 0.7727683095053941 and parameters: {'tol': 0.2212463301109665, 'max_iter': 1485, 'selection': 'random', 'l1_ratio': 0.06483965229492981, 'alpha': 0.09168028316565151}. Best is trial 268 with value: 0.8162285684622925.\u001b[0m\n",
      "\u001b[32m[I 2022-11-28 15:45:12,329]\u001b[0m Trial 717 finished with value: 0.7955448695140361 and parameters: {'tol': 0.18899217079923078, 'max_iter': 1199, 'selection': 'random', 'l1_ratio': 0.07732632967026515, 'alpha': 0.03702562286497586}. Best is trial 268 with value: 0.8162285684622925.\u001b[0m\n",
      "\u001b[32m[I 2022-11-28 15:45:17,075]\u001b[0m Trial 718 finished with value: 0.787031507788464 and parameters: {'tol': 0.2117409058779354, 'max_iter': 1211, 'selection': 'random', 'l1_ratio': 0.0009158833469010974, 'alpha': 0.06705258556499999}. Best is trial 268 with value: 0.8162285684622925.\u001b[0m\n",
      "\u001b[32m[I 2022-11-28 15:45:24,310]\u001b[0m Trial 719 finished with value: 0.8161446240266228 and parameters: {'tol': 0.24164604907753529, 'max_iter': 1313, 'selection': 'cyclic', 'l1_ratio': 0.03974165249597279, 'alpha': 0.00020571760799243868}. Best is trial 268 with value: 0.8162285684622925.\u001b[0m\n",
      "\u001b[32m[I 2022-11-28 15:45:25,936]\u001b[0m Trial 720 finished with value: 0.796532842114077 and parameters: {'tol': 0.25584864218794795, 'max_iter': 1119, 'selection': 'random', 'l1_ratio': 0.02480156569876311, 'alpha': 0.03692052617515158}. Best is trial 268 with value: 0.8162285684622925.\u001b[0m\n",
      "\u001b[32m[I 2022-11-28 15:45:27,491]\u001b[0m Trial 721 finished with value: 0.7733293769835146 and parameters: {'tol': 0.262089880021452, 'max_iter': 1228, 'selection': 'cyclic', 'l1_ratio': 0.05494031792089248, 'alpha': 0.0952708230439189}. Best is trial 268 with value: 0.8162285684622925.\u001b[0m\n",
      "\u001b[32m[I 2022-11-28 15:45:28,525]\u001b[0m Trial 722 finished with value: 0.6857062176676818 and parameters: {'tol': 0.24435745834516548, 'max_iter': 1325, 'selection': 'random', 'l1_ratio': 0.0460185711726154, 'alpha': 0.7610981749693098}. Best is trial 268 with value: 0.8162285684622925.\u001b[0m\n",
      "\u001b[32m[I 2022-11-28 15:45:29,990]\u001b[0m Trial 723 finished with value: 0.7634673015919337 and parameters: {'tol': 0.22783343440340736, 'max_iter': 1146, 'selection': 'random', 'l1_ratio': 0.02756983729450234, 'alpha': 0.14980553719541004}. Best is trial 268 with value: 0.8162285684622925.\u001b[0m\n",
      "\u001b[32m[I 2022-11-28 15:45:33,473]\u001b[0m Trial 724 finished with value: 0.7955720101391497 and parameters: {'tol': 0.2091010621264604, 'max_iter': 1360, 'selection': 'cyclic', 'l1_ratio': 0.0020250143737566284, 'alpha': 0.039553430816117}. Best is trial 268 with value: 0.8162285684622925.\u001b[0m\n",
      "\u001b[32m[I 2022-11-28 15:45:35,292]\u001b[0m Trial 725 finished with value: 0.8151306744588463 and parameters: {'tol': 0.232366388064699, 'max_iter': 1021, 'selection': 'random', 'l1_ratio': 0.6993156434653708, 'alpha': 0.0010729989522915329}. Best is trial 268 with value: 0.8162285684622925.\u001b[0m\n",
      "\u001b[32m[I 2022-11-28 15:45:36,314]\u001b[0m Trial 726 finished with value: 0.6777162300716972 and parameters: {'tol': 0.23086098237548486, 'max_iter': 1333, 'selection': 'random', 'l1_ratio': 0.07420132347007202, 'alpha': 0.6416489852845694}. Best is trial 268 with value: 0.8162285684622925.\u001b[0m\n",
      "\u001b[32m[I 2022-11-28 15:45:38,230]\u001b[0m Trial 727 finished with value: 0.7850299962845118 and parameters: {'tol': 0.2005155071190009, 'max_iter': 1300, 'selection': 'cyclic', 'l1_ratio': 0.0409044502024846, 'alpha': 0.0664984738422905}. Best is trial 268 with value: 0.8162285684622925.\u001b[0m\n",
      "\u001b[32m[I 2022-11-28 15:45:39,853]\u001b[0m Trial 728 finished with value: 0.796566561073112 and parameters: {'tol': 0.2503101960418206, 'max_iter': 1516, 'selection': 'random', 'l1_ratio': 0.02493053579086248, 'alpha': 0.03683474985851606}. Best is trial 268 with value: 0.8162285684622925.\u001b[0m\n",
      "\u001b[32m[I 2022-11-28 15:45:41,344]\u001b[0m Trial 729 finished with value: 0.7706519315091065 and parameters: {'tol': 0.1765701408654133, 'max_iter': 1397, 'selection': 'random', 'l1_ratio': 0.0502180325882049, 'alpha': 0.10516452072414931}. Best is trial 268 with value: 0.8162285684622925.\u001b[0m\n",
      "\u001b[32m[I 2022-11-28 15:45:42,886]\u001b[0m Trial 730 finished with value: 0.7964731843837596 and parameters: {'tol': 0.1845013752051977, 'max_iter': 1619, 'selection': 'random', 'l1_ratio': 0.07867296014389161, 'alpha': 0.035072893848674}. Best is trial 268 with value: 0.8162285684622925.\u001b[0m\n",
      "\u001b[32m[I 2022-11-28 15:45:45,551]\u001b[0m Trial 731 finished with value: 0.815997974376361 and parameters: {'tol': 0.28063251918161025, 'max_iter': 1690, 'selection': 'cyclic', 'l1_ratio': 0.060639825713800874, 'alpha': 0.0004885496952623659}. Best is trial 268 with value: 0.8162285684622925.\u001b[0m\n",
      "\u001b[32m[I 2022-11-28 15:45:46,738]\u001b[0m Trial 732 finished with value: 0.7781901617484781 and parameters: {'tol': 0.21004137248596755, 'max_iter': 1475, 'selection': 'random', 'l1_ratio': 0.09243315062418099, 'alpha': 0.07008464793293372}. Best is trial 268 with value: 0.8162285684622925.\u001b[0m\n",
      "\u001b[32m[I 2022-11-28 15:45:50,868]\u001b[0m Trial 733 finished with value: 0.8157008419646917 and parameters: {'tol': 0.16209586082102673, 'max_iter': 1190, 'selection': 'random', 'l1_ratio': 0.02736096670298364, 'alpha': 0.0010626753723624322}. Best is trial 268 with value: 0.8162285684622925.\u001b[0m\n",
      "\u001b[32m[I 2022-11-28 15:45:52,677]\u001b[0m Trial 734 finished with value: 0.7849585796269849 and parameters: {'tol': 0.23878590476056885, 'max_iter': 1748, 'selection': 'cyclic', 'l1_ratio': 0.04501459473415495, 'alpha': 0.06589495317206935}. Best is trial 268 with value: 0.8162285684622925.\u001b[0m\n",
      "\u001b[32m[I 2022-11-28 15:45:53,756]\u001b[0m Trial 735 finished with value: 0.7574135730463275 and parameters: {'tol': 0.18968585330691395, 'max_iter': 1514, 'selection': 'random', 'l1_ratio': 0.6629396297041953, 'alpha': 0.03703502392264043}. Best is trial 268 with value: 0.8162285684622925.\u001b[0m\n",
      "\u001b[32m[I 2022-11-28 15:45:54,942]\u001b[0m Trial 736 finished with value: 0.761208257606707 and parameters: {'tol': 0.21894734971716698, 'max_iter': 1911, 'selection': 'random', 'l1_ratio': 0.06915417581040736, 'alpha': 0.12010984659787116}. Best is trial 268 with value: 0.8162285684622925.\u001b[0m\n",
      "\u001b[32m[I 2022-11-28 15:45:56,156]\u001b[0m Trial 737 finished with value: 0.7146856975827389 and parameters: {'tol': 0.14897436864610103, 'max_iter': 1694, 'selection': 'cyclic', 'l1_ratio': 0.0019022715135292786, 'alpha': 0.9862098284200581}. Best is trial 268 with value: 0.8162285684622925.\u001b[0m\n",
      "\u001b[32m[I 2022-11-28 15:45:59,783]\u001b[0m Trial 738 finished with value: 0.8158709121758658 and parameters: {'tol': 0.17373641021815078, 'max_iter': 1224, 'selection': 'random', 'l1_ratio': 0.0374447193551969, 'alpha': 0.0007483927817844088}. Best is trial 268 with value: 0.8162285684622925.\u001b[0m\n",
      "\u001b[32m[I 2022-11-28 15:46:00,863]\u001b[0m Trial 739 finished with value: 0.8034602279124017 and parameters: {'tol': 0.6471276362924117, 'max_iter': 2052, 'selection': 'random', 'l1_ratio': 0.09413896559483917, 'alpha': 0.00029905341623387253}. Best is trial 268 with value: 0.8162285684622925.\u001b[0m\n",
      "\u001b[32m[I 2022-11-28 15:46:02,370]\u001b[0m Trial 740 finished with value: 0.7837582594422405 and parameters: {'tol': 0.19162234820952953, 'max_iter': 1819, 'selection': 'random', 'l1_ratio': 0.0559221274290259, 'alpha': 0.06643508962078111}. Best is trial 268 with value: 0.8162285684622925.\u001b[0m\n",
      "\u001b[32m[I 2022-11-28 15:46:04,689]\u001b[0m Trial 741 finished with value: 0.79615178521416 and parameters: {'tol': 0.13761002658647242, 'max_iter': 2194, 'selection': 'cyclic', 'l1_ratio': 0.07318835509367867, 'alpha': 0.03604983361012503}. Best is trial 268 with value: 0.8162285684622925.\u001b[0m\n",
      "\u001b[32m[I 2022-11-28 15:46:05,892]\u001b[0m Trial 742 finished with value: 0.7466557310158304 and parameters: {'tol': 0.16203678788368622, 'max_iter': 1563, 'selection': 'random', 'l1_ratio': 0.03875057621839316, 'alpha': 0.20906204182856386}. Best is trial 268 with value: 0.8162285684622925.\u001b[0m\n",
      "\u001b[32m[I 2022-11-28 15:46:07,574]\u001b[0m Trial 743 finished with value: 0.7783210655694013 and parameters: {'tol': 0.2246754095049985, 'max_iter': 1856, 'selection': 'random', 'l1_ratio': 0.018710753243766406, 'alpha': 0.09458204915793537}. Best is trial 268 with value: 0.8162285684622925.\u001b[0m\n",
      "\u001b[32m[I 2022-11-28 15:46:08,634]\u001b[0m Trial 744 finished with value: 0.687057524879806 and parameters: {'tol': 0.1342376344678866, 'max_iter': 1391, 'selection': 'cyclic', 'l1_ratio': 0.021287799504660802, 'alpha': 1.2668136230050857}. Best is trial 268 with value: 0.8162285684622925.\u001b[0m\n",
      "\u001b[32m[I 2022-11-28 15:46:09,709]\u001b[0m Trial 745 finished with value: 0.7091746689430529 and parameters: {'tol': 0.19948768321593227, 'max_iter': 1671, 'selection': 'random', 'l1_ratio': 0.8138417930948121, 'alpha': 0.04063476755754971}. Best is trial 268 with value: 0.8162285684622925.\u001b[0m\n",
      "\u001b[32m[I 2022-11-28 15:46:10,916]\u001b[0m Trial 746 finished with value: 0.7796833711244571 and parameters: {'tol': 0.17200976125900053, 'max_iter': 1982, 'selection': 'random', 'l1_ratio': 0.08775087132936647, 'alpha': 0.06824582835796059}. Best is trial 268 with value: 0.8162285684622925.\u001b[0m\n",
      "\u001b[32m[I 2022-11-28 15:46:12,305]\u001b[0m Trial 747 finished with value: 0.7518806695542933 and parameters: {'tol': 0.15211425816758714, 'max_iter': 2173, 'selection': 'cyclic', 'l1_ratio': 0.0673076223249103, 'alpha': 0.14783803022929293}. Best is trial 268 with value: 0.8162285684622925.\u001b[0m\n",
      "\u001b[32m[I 2022-11-28 15:46:13,378]\u001b[0m Trial 748 finished with value: 0.7938462196471303 and parameters: {'tol': 0.5750386853787287, 'max_iter': 1038, 'selection': 'random', 'l1_ratio': 0.05525822406854273, 'alpha': 0.029896110742915285}. Best is trial 268 with value: 0.8162285684622925.\u001b[0m\n",
      "\u001b[32m[I 2022-11-28 15:46:14,431]\u001b[0m Trial 749 finished with value: 0.692083992012368 and parameters: {'tol': 0.12014477241421725, 'max_iter': 1666, 'selection': 'random', 'l1_ratio': 0.4741031489901206, 'alpha': 0.0907909369891652}. Best is trial 268 with value: 0.8162285684622925.\u001b[0m\n",
      "\u001b[32m[I 2022-11-28 15:46:17,256]\u001b[0m Trial 750 finished with value: 0.8160402747474828 and parameters: {'tol': 0.24480077644290907, 'max_iter': 1361, 'selection': 'cyclic', 'l1_ratio': 0.044503480255087484, 'alpha': 0.00041526484477851324}. Best is trial 268 with value: 0.8162285684622925.\u001b[0m\n",
      "\u001b[32m[I 2022-11-28 15:46:19,927]\u001b[0m Trial 751 finished with value: 0.7951979963255544 and parameters: {'tol': 0.2693019415068784, 'max_iter': 1840, 'selection': 'random', 'l1_ratio': 0.01523232416442031, 'alpha': 0.040452666092749674}. Best is trial 268 with value: 0.8162285684622925.\u001b[0m\n",
      "\u001b[32m[I 2022-11-28 15:46:20,946]\u001b[0m Trial 752 finished with value: 0.6773488218529222 and parameters: {'tol': 0.18483776962759085, 'max_iter': 2442, 'selection': 'random', 'l1_ratio': 0.09417882314300095, 'alpha': 0.5184182955871298}. Best is trial 268 with value: 0.8162285684622925.\u001b[0m\n",
      "\u001b[32m[I 2022-11-28 15:46:26,987]\u001b[0m Trial 753 finished with value: 0.7964744869278786 and parameters: {'tol': 0.12815257384790488, 'max_iter': 2061, 'selection': 'random', 'l1_ratio': 0.0006168427591394521, 'alpha': 0.037075182652772855}. Best is trial 268 with value: 0.8162285684622925.\u001b[0m\n",
      "\u001b[32m[I 2022-11-28 15:46:29,657]\u001b[0m Trial 754 finished with value: 0.8159229808566719 and parameters: {'tol': 0.2155430712030399, 'max_iter': 1525, 'selection': 'cyclic', 'l1_ratio': 0.07146296642721757, 'alpha': 0.0006201114059842541}. Best is trial 268 with value: 0.8162285684622925.\u001b[0m\n",
      "\u001b[32m[I 2022-11-28 15:46:31,245]\u001b[0m Trial 755 finished with value: 0.7697934077120059 and parameters: {'tol': 0.1567898663744725, 'max_iter': 1779, 'selection': 'random', 'l1_ratio': 0.032878915574885904, 'alpha': 0.11912921715748388}. Best is trial 268 with value: 0.8162285684622925.\u001b[0m\n",
      "\u001b[32m[I 2022-11-28 15:46:32,311]\u001b[0m Trial 756 finished with value: 0.7792042123531524 and parameters: {'tol': 0.7588657433118027, 'max_iter': 1194, 'selection': 'random', 'l1_ratio': 0.049955832251950154, 'alpha': 0.06880675401663733}. Best is trial 268 with value: 0.8162285684622925.\u001b[0m\n",
      "\u001b[32m[I 2022-11-28 15:46:34,571]\u001b[0m Trial 757 finished with value: 0.795790665476456 and parameters: {'tol': 0.11135696414143059, 'max_iter': 2315, 'selection': 'cyclic', 'l1_ratio': 0.07751143119316661, 'alpha': 0.03661527645768361}. Best is trial 268 with value: 0.8162285684622925.\u001b[0m\n",
      "\u001b[32m[I 2022-11-28 15:46:35,585]\u001b[0m Trial 758 finished with value: 0.6708588532425507 and parameters: {'tol': 0.1967985636298664, 'max_iter': 1554, 'selection': 'random', 'l1_ratio': 0.7442955203081916, 'alpha': 0.09421095191431872}. Best is trial 268 with value: 0.8162285684622925.\u001b[0m\n",
      "\u001b[32m[I 2022-11-28 15:46:40,630]\u001b[0m Trial 759 finished with value: 0.8159550955126742 and parameters: {'tol': 0.1388574243425113, 'max_iter': 1924, 'selection': 'random', 'l1_ratio': 0.10351153524196859, 'alpha': 0.0005370866528016903}. Best is trial 268 with value: 0.8162285684622925.\u001b[0m\n",
      "\u001b[32m[I 2022-11-28 15:46:58,816]\u001b[0m Trial 760 finished with value: 0.8162209659123105 and parameters: {'tol': 0.1674923307974936, 'max_iter': 1698, 'selection': 'cyclic', 'l1_ratio': 0.057507641476331806, 'alpha': 2.8101827482559572e-05}. Best is trial 268 with value: 0.8162285684622925.\u001b[0m\n",
      "\u001b[32m[I 2022-11-28 15:46:59,869]\u001b[0m Trial 761 finished with value: 0.7053489133182467 and parameters: {'tol': 0.15196139385467794, 'max_iter': 1395, 'selection': 'cyclic', 'l1_ratio': 0.47845955646016364, 'alpha': 0.07256983869579217}. Best is trial 268 with value: 0.8162285684622925.\u001b[0m\n",
      "\u001b[32m[I 2022-11-28 15:47:02,022]\u001b[0m Trial 762 finished with value: 0.7931429395463229 and parameters: {'tol': 0.11443322602601097, 'max_iter': 1980, 'selection': 'cyclic', 'l1_ratio': 0.08315952876246832, 'alpha': 0.041744272719426434}. Best is trial 268 with value: 0.8162285684622925.\u001b[0m\n",
      "\u001b[32m[I 2022-11-28 15:47:03,053]\u001b[0m Trial 763 finished with value: 0.7819420306148952 and parameters: {'tol': 0.8283973176677899, 'max_iter': 2146, 'selection': 'cyclic', 'l1_ratio': 0.021635101517121585, 'alpha': 0.06425904622980436}. Best is trial 268 with value: 0.8162285684622925.\u001b[0m\n",
      "\u001b[32m[I 2022-11-28 15:47:12,632]\u001b[0m Trial 764 finished with value: 0.8161629596240245 and parameters: {'tol': 0.16876538013512044, 'max_iter': 1779, 'selection': 'cyclic', 'l1_ratio': 0.05911067683898755, 'alpha': 0.00016297575845074531}. Best is trial 268 with value: 0.8162285684622925.\u001b[0m\n",
      "\u001b[32m[I 2022-11-28 15:47:14,616]\u001b[0m Trial 765 finished with value: 0.7951719300536788 and parameters: {'tol': 0.17564903683863495, 'max_iter': 1581, 'selection': 'cyclic', 'l1_ratio': 0.0960448820503637, 'alpha': 0.03691062736084974}. Best is trial 268 with value: 0.8162285684622925.\u001b[0m\n",
      "\u001b[32m[I 2022-11-28 15:47:15,826]\u001b[0m Trial 766 finished with value: 0.7613079860681686 and parameters: {'tol': 0.1910989804058448, 'max_iter': 1422, 'selection': 'cyclic', 'l1_ratio': 0.06334702925441227, 'alpha': 0.12419654913452517}. Best is trial 268 with value: 0.8162285684622925.\u001b[0m\n",
      "\u001b[32m[I 2022-11-28 15:47:18,498]\u001b[0m Trial 767 finished with value: 0.8159106274408325 and parameters: {'tol': 0.15784475838460388, 'max_iter': 1702, 'selection': 'cyclic', 'l1_ratio': 0.07949889122550964, 'alpha': 0.0006356520611169739}. Best is trial 268 with value: 0.8162285684622925.\u001b[0m\n",
      "\u001b[32m[I 2022-11-28 15:47:19,824]\u001b[0m Trial 768 finished with value: 0.7775064331019594 and parameters: {'tol': 0.16961087269216085, 'max_iter': 1004, 'selection': 'cyclic', 'l1_ratio': 0.10406662717279508, 'alpha': 0.06879068073722638}. Best is trial 268 with value: 0.8162285684622925.\u001b[0m\n",
      "\u001b[32m[I 2022-11-28 15:47:21,013]\u001b[0m Trial 769 finished with value: 0.7830707108730973 and parameters: {'tol': 0.23790917737276301, 'max_iter': 1315, 'selection': 'cyclic', 'l1_ratio': 0.4628681235893869, 'alpha': 0.03307881331506154}. Best is trial 268 with value: 0.8162285684622925.\u001b[0m\n",
      "\u001b[32m[I 2022-11-28 15:47:22,544]\u001b[0m Trial 770 finished with value: 0.7705703226721784 and parameters: {'tol': 0.1754282632231643, 'max_iter': 1756, 'selection': 'cyclic', 'l1_ratio': 0.06199537144426549, 'alpha': 0.09939308577614385}. Best is trial 268 with value: 0.8162285684622925.\u001b[0m\n",
      "\u001b[32m[I 2022-11-28 15:47:23,687]\u001b[0m Trial 771 finished with value: 0.7452296392900187 and parameters: {'tol': 0.21675309808838356, 'max_iter': 1483, 'selection': 'cyclic', 'l1_ratio': 0.0727073084985499, 'alpha': 0.16160266046408964}. Best is trial 268 with value: 0.8162285684622925.\u001b[0m\n",
      "\u001b[32m[I 2022-11-28 15:47:26,540]\u001b[0m Trial 772 finished with value: 0.8159221056310422 and parameters: {'tol': 0.12603735645394354, 'max_iter': 1178, 'selection': 'cyclic', 'l1_ratio': 0.033492347974925236, 'alpha': 0.000653193932803279}. Best is trial 268 with value: 0.8162285684622925.\u001b[0m\n",
      "\u001b[32m[I 2022-11-28 15:47:28,538]\u001b[0m Trial 773 finished with value: 0.7931239987673642 and parameters: {'tol': 0.0907347911298485, 'max_iter': 1631, 'selection': 'cyclic', 'l1_ratio': 0.09763281277789501, 'alpha': 0.040721407478946293}. Best is trial 268 with value: 0.8162285684622925.\u001b[0m\n",
      "\u001b[32m[I 2022-11-28 15:47:30,495]\u001b[0m Trial 774 finished with value: 0.7844987266845905 and parameters: {'tol': 0.10586945604026202, 'max_iter': 1820, 'selection': 'cyclic', 'l1_ratio': 0.04965229291712281, 'alpha': 0.06621000402081387}. Best is trial 268 with value: 0.8162285684622925.\u001b[0m\n",
      "\u001b[32m[I 2022-11-28 15:47:33,470]\u001b[0m Trial 775 finished with value: 0.7980884185863154 and parameters: {'tol': 0.17262774092844083, 'max_iter': 1595, 'selection': 'cyclic', 'l1_ratio': 0.020279794675699465, 'alpha': 0.03282446519796953}. Best is trial 268 with value: 0.8162285684622925.\u001b[0m\n",
      "\u001b[32m[I 2022-11-28 15:47:34,484]\u001b[0m Trial 776 finished with value: 0.6295292151224318 and parameters: {'tol': 0.14295986764957602, 'max_iter': 2094, 'selection': 'cyclic', 'l1_ratio': 0.4853463976422667, 'alpha': 1.0655860714204746}. Best is trial 268 with value: 0.8162285684622925.\u001b[0m\n",
      "\u001b[32m[I 2022-11-28 15:47:35,663]\u001b[0m Trial 777 finished with value: 0.7646919493127214 and parameters: {'tol': 0.2148733845728869, 'max_iter': 1275, 'selection': 'cyclic', 'l1_ratio': 0.07947922770496528, 'alpha': 0.10496295639904807}. Best is trial 268 with value: 0.8162285684622925.\u001b[0m\n",
      "\u001b[32m[I 2022-11-28 15:47:37,442]\u001b[0m Trial 778 finished with value: 0.7822778610596678 and parameters: {'tol': 0.20078776406862045, 'max_iter': 1867, 'selection': 'cyclic', 'l1_ratio': 0.06017862687922069, 'alpha': 0.06960599241740166}. Best is trial 268 with value: 0.8162285684622925.\u001b[0m\n",
      "\u001b[32m[I 2022-11-28 15:47:38,540]\u001b[0m Trial 779 finished with value: 0.7140610781557621 and parameters: {'tol': 0.08100490511879227, 'max_iter': 2267, 'selection': 'cyclic', 'l1_ratio': 0.8787908475670091, 'alpha': 0.03617570193651824}. Best is trial 268 with value: 0.8162285684622925.\u001b[0m\n",
      "\u001b[32m[I 2022-11-28 15:47:39,646]\u001b[0m Trial 780 finished with value: 0.7773253485171281 and parameters: {'tol': 0.15550127024552277, 'max_iter': 3301, 'selection': 'cyclic', 'l1_ratio': 0.4606610977631243, 'alpha': 0.037121878155520864}. Best is trial 268 with value: 0.8162285684622925.\u001b[0m\n",
      "\u001b[32m[I 2022-11-28 15:47:40,824]\u001b[0m Trial 781 finished with value: 0.7701351676362475 and parameters: {'tol': 0.10529634925970044, 'max_iter': 1468, 'selection': 'cyclic', 'l1_ratio': 0.10546008303683135, 'alpha': 0.08226462346941159}. Best is trial 268 with value: 0.8162285684622925.\u001b[0m\n",
      "\u001b[32m[I 2022-11-28 15:47:43,433]\u001b[0m Trial 782 finished with value: 0.797353479795335 and parameters: {'tol': 0.1262638530852343, 'max_iter': 1704, 'selection': 'cyclic', 'l1_ratio': 0.04033394626223195, 'alpha': 0.03449346416470731}. Best is trial 268 with value: 0.8162285684622925.\u001b[0m\n",
      "\u001b[32m[I 2022-11-28 15:47:45,646]\u001b[0m Trial 783 finished with value: 0.7981164310576082 and parameters: {'tol': 0.1892706474726556, 'max_iter': 1958, 'selection': 'cyclic', 'l1_ratio': 0.08549384824042884, 'alpha': 0.031609690093751176}. Best is trial 268 with value: 0.8162285684622925.\u001b[0m\n",
      "\u001b[32m[I 2022-11-28 15:47:49,741]\u001b[0m Trial 784 finished with value: 0.8152992687341065 and parameters: {'tol': 0.25485668044495774, 'max_iter': 1814, 'selection': 'cyclic', 'l1_ratio': 0.02075834623823447, 'alpha': 0.0017272589126817609}. Best is trial 268 with value: 0.8162285684622925.\u001b[0m\n",
      "\u001b[32m[I 2022-11-28 15:47:50,874]\u001b[0m Trial 785 finished with value: 0.7567959465684948 and parameters: {'tol': 0.15511533703302394, 'max_iter': 1331, 'selection': 'cyclic', 'l1_ratio': 0.0734498851063903, 'alpha': 0.12905968658379804}. Best is trial 268 with value: 0.8162285684622925.\u001b[0m\n",
      "\u001b[32m[I 2022-11-28 15:47:51,901]\u001b[0m Trial 786 finished with value: 0.8098273903499624 and parameters: {'tol': 0.6851517757821645, 'max_iter': 2051, 'selection': 'cyclic', 'l1_ratio': 0.05488800094777513, 'alpha': 0.000562542368388322}. Best is trial 268 with value: 0.8162285684622925.\u001b[0m\n",
      "\u001b[32m[I 2022-11-28 15:47:52,956]\u001b[0m Trial 787 finished with value: 0.6950764837924442 and parameters: {'tol': 0.08068526439419277, 'max_iter': 1609, 'selection': 'cyclic', 'l1_ratio': 0.03606798006538966, 'alpha': 0.7135878077344975}. Best is trial 268 with value: 0.8162285684622925.\u001b[0m\n",
      "\u001b[32m[I 2022-11-28 15:47:54,774]\u001b[0m Trial 788 finished with value: 0.7824745595539633 and parameters: {'tol': 0.1709586217523675, 'max_iter': 1760, 'selection': 'cyclic', 'l1_ratio': 0.05780584478289848, 'alpha': 0.06968575433470325}. Best is trial 268 with value: 0.8162285684622925.\u001b[0m\n",
      "\u001b[32m[I 2022-11-28 15:47:56,876]\u001b[0m Trial 789 finished with value: 0.7788726712453125 and parameters: {'tol': 0.1371942852716027, 'max_iter': 1480, 'selection': 'cyclic', 'l1_ratio': 0.013946935652778894, 'alpha': 0.09483822256651372}. Best is trial 268 with value: 0.8162285684622925.\u001b[0m\n",
      "\u001b[32m[I 2022-11-28 15:47:58,911]\u001b[0m Trial 790 finished with value: 0.7631094270796716 and parameters: {'tol': 0.10397808183903298, 'max_iter': 2241, 'selection': 'cyclic', 'l1_ratio': 0.0008111227823567255, 'alpha': 0.18962295678112762}. Best is trial 268 with value: 0.8162285684622925.\u001b[0m\n",
      "\u001b[32m[I 2022-11-28 15:48:00,007]\u001b[0m Trial 791 finished with value: 0.7673270984366872 and parameters: {'tol': 0.2030667128741816, 'max_iter': 1170, 'selection': 'cyclic', 'l1_ratio': 0.44490107976142024, 'alpha': 0.04402671065081845}. Best is trial 268 with value: 0.8162285684622925.\u001b[0m\n",
      "\u001b[32m[I 2022-11-28 15:48:02,044]\u001b[0m Trial 792 finished with value: 0.794235409965341 and parameters: {'tol': 0.1208385954741469, 'max_iter': 2556, 'selection': 'cyclic', 'l1_ratio': 0.09767258222096802, 'alpha': 0.038603329715031956}. Best is trial 268 with value: 0.8162285684622925.\u001b[0m\n",
      "\u001b[32m[I 2022-11-28 15:48:03,802]\u001b[0m Trial 793 finished with value: 0.7832841597079973 and parameters: {'tol': 0.22968863811294546, 'max_iter': 1990, 'selection': 'cyclic', 'l1_ratio': 0.06964867142568265, 'alpha': 0.06500775079527546}. Best is trial 268 with value: 0.8162285684622925.\u001b[0m\n",
      "\u001b[32m[I 2022-11-28 15:48:05,477]\u001b[0m Trial 794 finished with value: 0.7664192081845507 and parameters: {'tol': 0.08372821019200642, 'max_iter': 1649, 'selection': 'cyclic', 'l1_ratio': 0.033573844434007225, 'alpha': 0.13205857984637712}. Best is trial 268 with value: 0.8162285684622925.\u001b[0m\n",
      "\u001b[32m[I 2022-11-28 15:48:12,810]\u001b[0m Trial 795 finished with value: 0.8161548262750526 and parameters: {'tol': 0.17873012345317246, 'max_iter': 1873, 'selection': 'cyclic', 'l1_ratio': 0.08590622057082256, 'alpha': 0.00017114508337256353}. Best is trial 268 with value: 0.8162285684622925.\u001b[0m\n",
      "\u001b[32m[I 2022-11-28 15:48:20,106]\u001b[0m Trial 796 finished with value: 0.8161612249435333 and parameters: {'tol': 0.1785804331568378, 'max_iter': 1908, 'selection': 'cyclic', 'l1_ratio': 0.10123937881021139, 'alpha': 0.0001549430468319777}. Best is trial 268 with value: 0.8162285684622925.\u001b[0m\n",
      "\u001b[32m[I 2022-11-28 15:48:22,568]\u001b[0m Trial 797 finished with value: 0.8157542410570836 and parameters: {'tol': 0.18579462101890581, 'max_iter': 1862, 'selection': 'cyclic', 'l1_ratio': 0.12610024408480497, 'alpha': 0.0008449762983290002}. Best is trial 268 with value: 0.8162285684622925.\u001b[0m\n",
      "\u001b[32m[I 2022-11-28 15:48:25,269]\u001b[0m Trial 798 finished with value: 0.8159623933922161 and parameters: {'tol': 0.18764233692846782, 'max_iter': 1836, 'selection': 'cyclic', 'l1_ratio': 0.11269496021843325, 'alpha': 0.0005171045513053867}. Best is trial 268 with value: 0.8162285684622925.\u001b[0m\n",
      "\u001b[32m[I 2022-11-28 15:48:26,276]\u001b[0m Trial 799 finished with value: 0.629993444868864 and parameters: {'tol': 0.1761037803271354, 'max_iter': 1600, 'selection': 'cyclic', 'l1_ratio': 0.10657305670510539, 'alpha': 1.9989165459917357}. Best is trial 268 with value: 0.8162285684622925.\u001b[0m\n",
      "\u001b[32m[I 2022-11-28 15:48:29,928]\u001b[0m Trial 800 finished with value: 0.8160757487676938 and parameters: {'tol': 0.20960644229189435, 'max_iter': 2129, 'selection': 'cyclic', 'l1_ratio': 0.11391036484132411, 'alpha': 0.00030892215429691964}. Best is trial 268 with value: 0.8162285684622925.\u001b[0m\n",
      "\u001b[32m[I 2022-11-28 15:48:31,139]\u001b[0m Trial 801 finished with value: 0.7666288758998474 and parameters: {'tol': 0.16841788694754634, 'max_iter': 1372, 'selection': 'cyclic', 'l1_ratio': 0.08293417717003379, 'alpha': 0.09862895762099277}. Best is trial 268 with value: 0.8162285684622925.\u001b[0m\n",
      "\u001b[32m[I 2022-11-28 15:48:32,733]\u001b[0m Trial 802 finished with value: 0.7807827783244228 and parameters: {'tol': 0.16632446481672172, 'max_iter': 1736, 'selection': 'cyclic', 'l1_ratio': 0.09273582461945877, 'alpha': 0.0652318340769848}. Best is trial 268 with value: 0.8162285684622925.\u001b[0m\n",
      "\u001b[32m[I 2022-11-28 15:48:33,829]\u001b[0m Trial 803 finished with value: 0.7669378501479062 and parameters: {'tol': 0.19704715454402832, 'max_iter': 2030, 'selection': 'cyclic', 'l1_ratio': 0.627628340337872, 'alpha': 0.035456167661380544}. Best is trial 268 with value: 0.8162285684622925.\u001b[0m\n",
      "\u001b[32m[I 2022-11-28 15:48:35,345]\u001b[0m Trial 804 finished with value: 0.7773531449115696 and parameters: {'tol': 0.15183381764263776, 'max_iter': 1437, 'selection': 'cyclic', 'l1_ratio': 0.09548396052990982, 'alpha': 0.07124363083091925}. Best is trial 268 with value: 0.8162285684622925.\u001b[0m\n",
      "\u001b[32m[I 2022-11-28 15:48:37,155]\u001b[0m Trial 805 finished with value: 0.7959545559901967 and parameters: {'tol': 0.2245694545148981, 'max_iter': 1784, 'selection': 'cyclic', 'l1_ratio': 0.11655457860395546, 'alpha': 0.03440196244524495}. Best is trial 268 with value: 0.8162285684622925.\u001b[0m\n",
      "\u001b[32m[I 2022-11-28 15:48:38,346]\u001b[0m Trial 806 finished with value: 0.7688984141699992 and parameters: {'tol': 0.18949334158148928, 'max_iter': 1916, 'selection': 'random', 'l1_ratio': 0.07280161059134173, 'alpha': 0.09774465137085214}. Best is trial 268 with value: 0.8162285684622925.\u001b[0m\n",
      "\u001b[32m[I 2022-11-28 15:48:39,381]\u001b[0m Trial 807 finished with value: 0.6541780386060929 and parameters: {'tol': 0.1618269509372839, 'max_iter': 1539, 'selection': 'cyclic', 'l1_ratio': 0.08417217961872486, 'alpha': 1.151946421541542}. Best is trial 268 with value: 0.8162285684622925.\u001b[0m\n",
      "\u001b[32m[I 2022-11-28 15:48:40,579]\u001b[0m Trial 808 finished with value: 0.7934721948979803 and parameters: {'tol': 0.14419101476797397, 'max_iter': 2309, 'selection': 'random', 'l1_ratio': 0.13021274703088367, 'alpha': 0.03758649418400957}. Best is trial 268 with value: 0.8162285684622925.\u001b[0m\n",
      "\u001b[32m[I 2022-11-28 15:48:41,596]\u001b[0m Trial 809 finished with value: 0.6509678860002694 and parameters: {'tol': 0.17185156386863573, 'max_iter': 2121, 'selection': 'random', 'l1_ratio': 0.06312883127734636, 'alpha': 1.6685365782562271}. Best is trial 268 with value: 0.8162285684622925.\u001b[0m\n",
      "\u001b[32m[I 2022-11-28 15:48:43,865]\u001b[0m Trial 810 finished with value: 0.815433718204936 and parameters: {'tol': 0.20469486405905163, 'max_iter': 1640, 'selection': 'cyclic', 'l1_ratio': 0.09934174588765922, 'alpha': 0.001372371440628895}. Best is trial 268 with value: 0.8162285684622925.\u001b[0m\n",
      "\u001b[32m[I 2022-11-28 15:48:44,875]\u001b[0m Trial 811 finished with value: 0.6493884541791779 and parameters: {'tol': 0.23452411820511804, 'max_iter': 1938, 'selection': 'random', 'l1_ratio': 0.0590132029285823, 'alpha': 1.862186893277857}. Best is trial 268 with value: 0.8162285684622925.\u001b[0m\n",
      "\u001b[32m[I 2022-11-28 15:48:45,905]\u001b[0m Trial 812 finished with value: 0.6823181144405676 and parameters: {'tol': 0.17983688573413767, 'max_iter': 1153, 'selection': 'random', 'l1_ratio': 0.09310530326312333, 'alpha': 0.47240422796669035}. Best is trial 268 with value: 0.8162285684622925.\u001b[0m\n",
      "\u001b[32m[I 2022-11-28 15:48:47,587]\u001b[0m Trial 813 finished with value: 0.7816121141561113 and parameters: {'tol': 0.13311809332466037, 'max_iter': 1738, 'selection': 'cyclic', 'l1_ratio': 0.08108275727326451, 'alpha': 0.06622158767760644}. Best is trial 268 with value: 0.8162285684622925.\u001b[0m\n",
      "\u001b[32m[I 2022-11-28 15:48:49,274]\u001b[0m Trial 814 finished with value: 0.7975619976830041 and parameters: {'tol': 0.20358489943546348, 'max_iter': 1532, 'selection': 'random', 'l1_ratio': 0.048402268585430674, 'alpha': 0.033906948423797746}. Best is trial 268 with value: 0.8162285684622925.\u001b[0m\n",
      "\u001b[32m[I 2022-11-28 15:48:50,368]\u001b[0m Trial 815 finished with value: 0.7484014195031011 and parameters: {'tol': 0.15502463641100003, 'max_iter': 2098, 'selection': 'random', 'l1_ratio': 0.1180736309543297, 'alpha': 0.1192224837518156}. Best is trial 268 with value: 0.8162285684622925.\u001b[0m\n",
      "\u001b[32m[I 2022-11-28 15:48:52,138]\u001b[0m Trial 816 finished with value: 0.7840143682391019 and parameters: {'tol': 0.1841399265007599, 'max_iter': 1358, 'selection': 'cyclic', 'l1_ratio': 0.06561367822609739, 'alpha': 0.06414319708435529}. Best is trial 268 with value: 0.8162285684622925.\u001b[0m\n",
      "\u001b[32m[I 2022-11-28 15:48:53,151]\u001b[0m Trial 817 finished with value: 0.628236337912336 and parameters: {'tol': 0.1360092821087198, 'max_iter': 1827, 'selection': 'random', 'l1_ratio': 0.6056970510551578, 'alpha': 1.7633104775764146}. Best is trial 268 with value: 0.8162285684622925.\u001b[0m\n",
      "\u001b[32m[I 2022-11-28 15:48:55,651]\u001b[0m Trial 818 finished with value: 0.79702448739957 and parameters: {'tol': 0.2228012561187145, 'max_iter': 1611, 'selection': 'cyclic', 'l1_ratio': 0.03599088087488044, 'alpha': 0.0353906630853874}. Best is trial 268 with value: 0.8162285684622925.\u001b[0m\n",
      "\u001b[32m[I 2022-11-28 15:49:06,695]\u001b[0m Trial 819 finished with value: 0.8161558557249283 and parameters: {'tol': 0.15893703604122716, 'max_iter': 1912, 'selection': 'random', 'l1_ratio': 0.08110789262156992, 'alpha': 0.00016944827495112358}. Best is trial 268 with value: 0.8162285684622925.\u001b[0m\n",
      "\u001b[32m[I 2022-11-28 15:49:10,455]\u001b[0m Trial 820 finished with value: 0.8157883376826847 and parameters: {'tol': 0.1494425589939636, 'max_iter': 1978, 'selection': 'random', 'l1_ratio': 0.11007080908901389, 'alpha': 0.0008124874897939546}. Best is trial 268 with value: 0.8162285684622925.\u001b[0m\n",
      "\u001b[32m[I 2022-11-28 15:49:11,506]\u001b[0m Trial 821 finished with value: 0.6813475649516935 and parameters: {'tol': 0.12227977201534414, 'max_iter': 2394, 'selection': 'cyclic', 'l1_ratio': 0.5684161389460752, 'alpha': 0.08521722166236048}. Best is trial 268 with value: 0.8162285684622925.\u001b[0m\n",
      "\u001b[32m[I 2022-11-28 15:49:12,566]\u001b[0m Trial 822 finished with value: 0.6615409466392841 and parameters: {'tol': 0.1365217934709857, 'max_iter': 2163, 'selection': 'random', 'l1_ratio': 0.05407668207689195, 'alpha': 1.4384994999045073}. Best is trial 268 with value: 0.8162285684622925.\u001b[0m\n",
      "\u001b[32m[I 2022-11-28 15:49:17,325]\u001b[0m Trial 823 finished with value: 0.8159493955931968 and parameters: {'tol': 0.14862904857721396, 'max_iter': 1906, 'selection': 'random', 'l1_ratio': 0.07952123394752361, 'alpha': 0.0005657063441165199}. Best is trial 268 with value: 0.8162285684622925.\u001b[0m\n",
      "\u001b[32m[I 2022-11-28 15:49:19,013]\u001b[0m Trial 824 finished with value: 0.7927304378494394 and parameters: {'tol': 0.1595275428272167, 'max_iter': 2219, 'selection': 'cyclic', 'l1_ratio': 0.13590666355210745, 'alpha': 0.03851652165893953}. Best is trial 268 with value: 0.8162285684622925.\u001b[0m\n",
      "\u001b[32m[I 2022-11-28 15:49:20,632]\u001b[0m Trial 825 finished with value: 0.7667752865796484 and parameters: {'tol': 0.11980486923912062, 'max_iter': 1892, 'selection': 'random', 'l1_ratio': 0.017953002277900018, 'alpha': 0.14489819884000882}. Best is trial 268 with value: 0.8162285684622925.\u001b[0m\n",
      "\u001b[32m[I 2022-11-28 15:49:22,173]\u001b[0m Trial 826 finished with value: 0.7838163258847416 and parameters: {'tol': 0.1654636985194951, 'max_iter': 1743, 'selection': 'random', 'l1_ratio': 0.04253603210377602, 'alpha': 0.069237281406528}. Best is trial 268 with value: 0.8162285684622925.\u001b[0m\n",
      "\u001b[32m[I 2022-11-28 15:49:24,294]\u001b[0m Trial 827 finished with value: 0.7953088357436289 and parameters: {'tol': 0.10443303591026076, 'max_iter': 2061, 'selection': 'cyclic', 'l1_ratio': 0.09863108121097351, 'alpha': 0.03651507883417846}. Best is trial 268 with value: 0.8162285684622925.\u001b[0m\n",
      "\u001b[32m[I 2022-11-28 15:49:29,133]\u001b[0m Trial 828 finished with value: 0.815945033554757 and parameters: {'tol': 0.13269682819680223, 'max_iter': 2301, 'selection': 'random', 'l1_ratio': 0.06307698457380272, 'alpha': 0.0005865021622591842}. Best is trial 268 with value: 0.8162285684622925.\u001b[0m\n",
      "\u001b[32m[I 2022-11-28 15:49:30,655]\u001b[0m Trial 829 finished with value: 0.774633723389283 and parameters: {'tol': 0.17253365580537025, 'max_iter': 1788, 'selection': 'random', 'l1_ratio': 0.03498078394455009, 'alpha': 0.10045446477969722}. Best is trial 268 with value: 0.8162285684622925.\u001b[0m\n",
      "\u001b[32m[I 2022-11-28 15:49:32,440]\u001b[0m Trial 830 finished with value: 0.7834453427621525 and parameters: {'tol': 0.11715411084828778, 'max_iter': 2020, 'selection': 'cyclic', 'l1_ratio': 0.07419888845753775, 'alpha': 0.06370810760165427}. Best is trial 268 with value: 0.8162285684622925.\u001b[0m\n",
      "\u001b[32m[I 2022-11-28 15:49:34,852]\u001b[0m Trial 831 finished with value: 0.7978986414141487 and parameters: {'tol': 0.15489555963310025, 'max_iter': 1679, 'selection': 'random', 'l1_ratio': 0.054175536408176656, 'alpha': 0.0329564148425343}. Best is trial 268 with value: 0.8162285684622925.\u001b[0m\n",
      "\u001b[32m[I 2022-11-28 15:49:36,044]\u001b[0m Trial 832 finished with value: 0.7955316768333844 and parameters: {'tol': 0.38979129419352854, 'max_iter': 1880, 'selection': 'cyclic', 'l1_ratio': 0.102985382971791, 'alpha': 0.03562711695185}. Best is trial 268 with value: 0.8162285684622925.\u001b[0m\n",
      "\u001b[32m[I 2022-11-28 15:49:37,124]\u001b[0m Trial 833 finished with value: 0.7750835549098328 and parameters: {'tol': 0.42271756208523553, 'max_iter': 2195, 'selection': 'random', 'l1_ratio': 0.022181357569811235, 'alpha': 0.09124951893784707}. Best is trial 268 with value: 0.8162285684622925.\u001b[0m\n",
      "\u001b[32m[I 2022-11-28 15:49:40,794]\u001b[0m Trial 834 finished with value: 0.8158973597190542 and parameters: {'tol': 0.2728582663885076, 'max_iter': 1673, 'selection': 'random', 'l1_ratio': 0.0896611831896593, 'alpha': 0.0006518101454924299}. Best is trial 268 with value: 0.8162285684622925.\u001b[0m\n",
      "\u001b[32m[I 2022-11-28 15:49:42,659]\u001b[0m Trial 835 finished with value: 0.7846489270972602 and parameters: {'tol': 0.1731393905138279, 'max_iter': 2428, 'selection': 'cyclic', 'l1_ratio': 0.04958328868893247, 'alpha': 0.065816837295176}. Best is trial 268 with value: 0.8162285684622925.\u001b[0m\n",
      "\u001b[32m[I 2022-11-28 15:49:43,840]\u001b[0m Trial 836 finished with value: 0.755920417845536 and parameters: {'tol': 0.13976513977634486, 'max_iter': 3700, 'selection': 'random', 'l1_ratio': 0.07127043581683147, 'alpha': 0.1330078339285283}. Best is trial 268 with value: 0.8162285684622925.\u001b[0m\n",
      "\u001b[32m[I 2022-11-28 15:49:48,596]\u001b[0m Trial 837 finished with value: 0.8158284150167548 and parameters: {'tol': 0.0978426044538214, 'max_iter': 1969, 'selection': 'random', 'l1_ratio': 0.13813967426108106, 'alpha': 0.0007144654813420531}. Best is trial 268 with value: 0.8162285684622925.\u001b[0m\n",
      "\u001b[32m[I 2022-11-28 15:49:50,741]\u001b[0m Trial 838 finished with value: 0.7655126353981059 and parameters: {'tol': 0.1850307249818628, 'max_iter': 1776, 'selection': 'cyclic', 'l1_ratio': 0.0005564424184250558, 'alpha': 0.17391294275871177}. Best is trial 268 with value: 0.8162285684622925.\u001b[0m\n",
      "\u001b[32m[I 2022-11-28 15:49:51,762]\u001b[0m Trial 839 finished with value: 0.6681037382437514 and parameters: {'tol': 0.29407453422010715, 'max_iter': 1582, 'selection': 'random', 'l1_ratio': 0.03716921574851822, 'alpha': 1.5764829301654792}. Best is trial 268 with value: 0.8162285684622925.\u001b[0m\n",
      "\u001b[32m[I 2022-11-28 15:49:53,617]\u001b[0m Trial 840 finished with value: 0.7913823925520423 and parameters: {'tol': 0.12432789207847852, 'max_iter': 2105, 'selection': 'cyclic', 'l1_ratio': 0.11974535045385279, 'alpha': 0.042033571823328814}. Best is trial 268 with value: 0.8162285684622925.\u001b[0m\n",
      "\u001b[32m[I 2022-11-28 15:49:55,366]\u001b[0m Trial 841 finished with value: 0.7951829116380031 and parameters: {'tol': 0.10109470296538813, 'max_iter': 1892, 'selection': 'random', 'l1_ratio': 0.091857983018342, 'alpha': 0.03696648180052309}. Best is trial 268 with value: 0.8162285684622925.\u001b[0m\n",
      "\u001b[32m[I 2022-11-28 15:49:57,174]\u001b[0m Trial 842 finished with value: 0.7795972985189704 and parameters: {'tol': 0.15112049899887786, 'max_iter': 1552, 'selection': 'random', 'l1_ratio': 0.02177928893313639, 'alpha': 0.08863619051226744}. Best is trial 268 with value: 0.8162285684622925.\u001b[0m\n",
      "\u001b[32m[I 2022-11-28 15:49:58,227]\u001b[0m Trial 843 finished with value: 0.6778902676881717 and parameters: {'tol': 0.20819372369242808, 'max_iter': 2585, 'selection': 'cyclic', 'l1_ratio': 0.04836076061208015, 'alpha': 0.9226454347903694}. Best is trial 268 with value: 0.8162285684622925.\u001b[0m\n",
      "\u001b[32m[I 2022-11-28 15:49:59,305]\u001b[0m Trial 844 finished with value: 0.7903000710727923 and parameters: {'tol': 0.9073114108095848, 'max_iter': 1862, 'selection': 'random', 'l1_ratio': 0.06806648271145198, 'alpha': 0.03775066363250776}. Best is trial 268 with value: 0.8162285684622925.\u001b[0m\n",
      "\u001b[32m[I 2022-11-28 15:50:00,850]\u001b[0m Trial 845 finished with value: 0.7784120624672011 and parameters: {'tol': 0.1656183648435629, 'max_iter': 2063, 'selection': 'random', 'l1_ratio': 0.08240838374719056, 'alpha': 0.07242562154920476}. Best is trial 268 with value: 0.8162285684622925.\u001b[0m\n",
      "\u001b[32m[I 2022-11-28 15:50:01,892]\u001b[0m Trial 846 finished with value: 0.7418152537488387 and parameters: {'tol': 0.4681335022329406, 'max_iter': 1479, 'selection': 'cyclic', 'l1_ratio': 0.021020012883259588, 'alpha': 0.27157480764460296}. Best is trial 268 with value: 0.8162285684622925.\u001b[0m\n",
      "\u001b[32m[I 2022-11-28 15:50:03,093]\u001b[0m Trial 847 finished with value: 0.7878556406011791 and parameters: {'tol': 0.11214844435532728, 'max_iter': 1723, 'selection': 'random', 'l1_ratio': 0.23734270808721175, 'alpha': 0.03762556114642956}. Best is trial 268 with value: 0.8162285684622925.\u001b[0m\n",
      "\u001b[32m[I 2022-11-28 15:50:04,482]\u001b[0m Trial 848 finished with value: 0.7658482312743686 and parameters: {'tol': 0.19570491114099361, 'max_iter': 9694, 'selection': 'cyclic', 'l1_ratio': 0.05946725594227592, 'alpha': 0.11392658904085338}. Best is trial 268 with value: 0.8162285684622925.\u001b[0m\n",
      "\u001b[32m[I 2022-11-28 15:50:10,084]\u001b[0m Trial 849 finished with value: 0.816049608234565 and parameters: {'tol': 0.08749616992746456, 'max_iter': 1990, 'selection': 'random', 'l1_ratio': 0.21503059704842248, 'alpha': 0.0003022704667315117}. Best is trial 268 with value: 0.8162285684622925.\u001b[0m\n",
      "\u001b[32m[I 2022-11-28 15:50:11,154]\u001b[0m Trial 850 finished with value: 0.6916168461122979 and parameters: {'tol': 0.24505070946061625, 'max_iter': 2218, 'selection': 'random', 'l1_ratio': 0.6460838141364696, 'alpha': 0.06808554577717765}. Best is trial 268 with value: 0.8162285684622925.\u001b[0m\n",
      "\u001b[32m[I 2022-11-28 15:50:41,915]\u001b[0m Trial 851 finished with value: 0.8161882581541196 and parameters: {'tol': 0.13761031536323365, 'max_iter': 1761, 'selection': 'cyclic', 'l1_ratio': 0.0003102362004882356, 'alpha': 0.00012117116046860346}. Best is trial 268 with value: 0.8162285684622925.\u001b[0m\n",
      "\u001b[32m[I 2022-11-28 15:50:45,091]\u001b[0m Trial 852 finished with value: 0.7960287194822374 and parameters: {'tol': 0.1290283234751969, 'max_iter': 1832, 'selection': 'random', 'l1_ratio': 0.019975343705379317, 'alpha': 0.03815390226616767}. Best is trial 268 with value: 0.8162285684622925.\u001b[0m\n",
      "\u001b[32m[I 2022-11-28 15:50:50,426]\u001b[0m Trial 853 finished with value: 0.8157681712724294 and parameters: {'tol': 0.13689935289298527, 'max_iter': 2051, 'selection': 'cyclic', 'l1_ratio': 0.009532307333696453, 'alpha': 0.0009600451895063922}. Best is trial 268 with value: 0.8162285684622925.\u001b[0m\n",
      "\u001b[32m[I 2022-11-28 15:50:52,081]\u001b[0m Trial 854 finished with value: 0.775270413814039 and parameters: {'tol': 0.1479665891516186, 'max_iter': 1738, 'selection': 'random', 'l1_ratio': 0.022871206444723985, 'alpha': 0.10438704174825884}. Best is trial 268 with value: 0.8162285684622925.\u001b[0m\n",
      "\u001b[32m[I 2022-11-28 15:51:25,497]\u001b[0m Trial 855 finished with value: 0.8161955165720806 and parameters: {'tol': 0.1152499212610213, 'max_iter': 2378, 'selection': 'random', 'l1_ratio': 0.005614235380643153, 'alpha': 0.00010187521707277582}. Best is trial 268 with value: 0.8162285684622925.\u001b[0m\n",
      "\u001b[32m[I 2022-11-28 15:51:28,187]\u001b[0m Trial 856 finished with value: 0.7877254897564379 and parameters: {'tol': 0.12501596012799088, 'max_iter': 2216, 'selection': 'cyclic', 'l1_ratio': 0.004644284955909175, 'alpha': 0.06406549218921707}. Best is trial 268 with value: 0.8162285684622925.\u001b[0m\n",
      "\u001b[32m[I 2022-11-28 15:51:32,936]\u001b[0m Trial 857 finished with value: 0.7958273912277185 and parameters: {'tol': 0.14759421338349368, 'max_iter': 2015, 'selection': 'random', 'l1_ratio': 0.005012462187614322, 'alpha': 0.038831019957849745}. Best is trial 268 with value: 0.8162285684622925.\u001b[0m\n",
      "\u001b[32m[I 2022-11-28 15:51:38,611]\u001b[0m Trial 858 finished with value: 0.7861615548638394 and parameters: {'tol': 0.14045777616631744, 'max_iter': 2249, 'selection': 'random', 'l1_ratio': 1.4294954482743476e-05, 'alpha': 0.07041498562287157}. Best is trial 268 with value: 0.8162285684622925.\u001b[0m\n",
      "\u001b[32m[I 2022-11-28 15:51:55,091]\u001b[0m Trial 859 finished with value: 0.8156822031526132 and parameters: {'tol': 0.1657160916299313, 'max_iter': 2417, 'selection': 'cyclic', 'l1_ratio': 0.00019267929008081556, 'alpha': 0.0011212945319575773}. Best is trial 268 with value: 0.8162285684622925.\u001b[0m\n",
      "\u001b[32m[I 2022-11-28 15:51:56,792]\u001b[0m Trial 860 finished with value: 0.7699220233851356 and parameters: {'tol': 0.11120196628879067, 'max_iter': 2343, 'selection': 'random', 'l1_ratio': 0.016326451350376824, 'alpha': 0.1315054612351474}. Best is trial 268 with value: 0.8162285684622925.\u001b[0m\n",
      "\u001b[32m[I 2022-11-28 15:51:59,370]\u001b[0m Trial 861 finished with value: 0.7940295461246126 and parameters: {'tol': 0.12493031092053863, 'max_iter': 8177, 'selection': 'random', 'l1_ratio': 0.02130179185775815, 'alpha': 0.04339349398845826}. Best is trial 268 with value: 0.8162285684622925.\u001b[0m\n",
      "\u001b[32m[I 2022-11-28 15:52:01,744]\u001b[0m Trial 862 finished with value: 0.7789995197605672 and parameters: {'tol': 0.15543661758130262, 'max_iter': 2116, 'selection': 'cyclic', 'l1_ratio': 0.004566630135342545, 'alpha': 0.0983384347780366}. Best is trial 268 with value: 0.8162285684622925.\u001b[0m\n",
      "\u001b[32m[I 2022-11-28 15:52:25,677]\u001b[0m Trial 863 finished with value: 0.8162032592392701 and parameters: {'tol': 0.16520401674470073, 'max_iter': 2744, 'selection': 'random', 'l1_ratio': 0.030813869552645395, 'alpha': 7.779906518766202e-05}. Best is trial 268 with value: 0.8162285684622925.\u001b[0m\n",
      "\u001b[32m[I 2022-11-28 15:52:28,265]\u001b[0m Trial 864 finished with value: 0.7977954951499845 and parameters: {'tol': 0.16552300307459425, 'max_iter': 2778, 'selection': 'random', 'l1_ratio': 0.02841619380343552, 'alpha': 0.03370929036170762}. Best is trial 268 with value: 0.8162285684622925.\u001b[0m\n",
      "\u001b[32m[I 2022-11-28 15:52:30,958]\u001b[0m Trial 865 finished with value: 0.7861582772823273 and parameters: {'tol': 0.13590360303866353, 'max_iter': 2951, 'selection': 'random', 'l1_ratio': 0.020934558131944697, 'alpha': 0.06670958986244857}. Best is trial 268 with value: 0.8162285684622925.\u001b[0m\n",
      "\u001b[32m[I 2022-11-28 15:52:34,216]\u001b[0m Trial 866 finished with value: 0.7958390578179482 and parameters: {'tol': 0.11868871924579735, 'max_iter': 2660, 'selection': 'random', 'l1_ratio': 0.022548523875088586, 'alpha': 0.03859097838483681}. Best is trial 268 with value: 0.8162285684622925.\u001b[0m\n",
      "\u001b[32m[I 2022-11-28 15:52:36,784]\u001b[0m Trial 867 finished with value: 0.7968541508010618 and parameters: {'tol': 0.14578064811932467, 'max_iter': 3516, 'selection': 'random', 'l1_ratio': 0.03458532180757176, 'alpha': 0.03587289978130052}. Best is trial 268 with value: 0.8162285684622925.\u001b[0m\n",
      "\u001b[32m[I 2022-11-28 15:52:38,141]\u001b[0m Trial 868 finished with value: 0.7197560661313188 and parameters: {'tol': 0.10986636786978352, 'max_iter': 2314, 'selection': 'random', 'l1_ratio': 0.0003861072907394977, 'alpha': 0.8589420869376043}. Best is trial 268 with value: 0.8162285684622925.\u001b[0m\n",
      "\u001b[32m[I 2022-11-28 15:52:45,759]\u001b[0m Trial 869 finished with value: 0.8158193171033528 and parameters: {'tol': 0.16091116474191816, 'max_iter': 2234, 'selection': 'random', 'l1_ratio': 0.0023796302044647695, 'alpha': 0.0008734008112118439}. Best is trial 268 with value: 0.8162285684622925.\u001b[0m\n",
      "\u001b[32m[I 2022-11-28 15:52:47,360]\u001b[0m Trial 870 finished with value: 0.775735033618355 and parameters: {'tol': 0.14271388531390589, 'max_iter': 2551, 'selection': 'random', 'l1_ratio': 0.03149819250318433, 'alpha': 0.09834405530785402}. Best is trial 268 with value: 0.8162285684622925.\u001b[0m\n",
      "\u001b[32m[I 2022-11-28 15:52:48,770]\u001b[0m Trial 871 finished with value: 0.7571436531120842 and parameters: {'tol': 0.1054330544567192, 'max_iter': 2074, 'selection': 'random', 'l1_ratio': 0.03834663520230047, 'alpha': 0.16356880251853012}. Best is trial 268 with value: 0.8162285684622925.\u001b[0m\n",
      "\u001b[32m[I 2022-11-28 15:52:53,852]\u001b[0m Trial 872 finished with value: 0.7875290167494632 and parameters: {'tol': 0.12797224729419254, 'max_iter': 2455, 'selection': 'random', 'l1_ratio': 0.00048452958295319704, 'alpha': 0.06530272809936258}. Best is trial 268 with value: 0.8162285684622925.\u001b[0m\n",
      "\u001b[32m[I 2022-11-28 15:52:56,468]\u001b[0m Trial 873 finished with value: 0.7944494743627757 and parameters: {'tol': 0.17348724675715854, 'max_iter': 2487, 'selection': 'random', 'l1_ratio': 0.03797937932388778, 'alpha': 0.0416225587742282}. Best is trial 268 with value: 0.8162285684622925.\u001b[0m\n",
      "\u001b[32m[I 2022-11-28 15:53:00,101]\u001b[0m Trial 874 finished with value: 0.797187710151267 and parameters: {'tol': 0.08741834244579068, 'max_iter': 3861, 'selection': 'random', 'l1_ratio': 0.02873885327460355, 'alpha': 0.03512556598263507}. Best is trial 268 with value: 0.8162285684622925.\u001b[0m\n",
      "\u001b[32m[I 2022-11-28 15:53:05,918]\u001b[0m Trial 875 finished with value: 0.8157232070799569 and parameters: {'tol': 0.1543166117871431, 'max_iter': 1761, 'selection': 'random', 'l1_ratio': 0.02199101333783989, 'alpha': 0.0010279381867454478}. Best is trial 268 with value: 0.8162285684622925.\u001b[0m\n",
      "\u001b[32m[I 2022-11-28 15:53:07,576]\u001b[0m Trial 876 finished with value: 0.779319398784111 and parameters: {'tol': 0.11486094164615653, 'max_iter': 2719, 'selection': 'random', 'l1_ratio': 0.03518493092222787, 'alpha': 0.08481868611597389}. Best is trial 268 with value: 0.8162285684622925.\u001b[0m\n",
      "\u001b[32m[I 2022-11-28 15:53:08,773]\u001b[0m Trial 877 finished with value: 0.7626282440003219 and parameters: {'tol': 0.1422389382239676, 'max_iter': 8332, 'selection': 'random', 'l1_ratio': 0.0493809575014718, 'alpha': 0.13106733693248174}. Best is trial 268 with value: 0.8162285684622925.\u001b[0m\n",
      "\u001b[32m[I 2022-11-28 15:53:16,077]\u001b[0m Trial 878 finished with value: 0.8155716288567451 and parameters: {'tol': 0.18071879302599675, 'max_iter': 2448, 'selection': 'random', 'l1_ratio': 0.013761976543435327, 'alpha': 0.0012981642269733291}. Best is trial 268 with value: 0.8162285684622925.\u001b[0m\n",
      "\u001b[32m[I 2022-11-28 15:53:17,147]\u001b[0m Trial 879 finished with value: 0.7837056942422019 and parameters: {'tol': 0.5945181702370408, 'max_iter': 3178, 'selection': 'random', 'l1_ratio': 0.0011865018548973122, 'alpha': 0.06335687296853403}. Best is trial 268 with value: 0.8162285684622925.\u001b[0m\n",
      "\u001b[32m[I 2022-11-28 15:53:19,477]\u001b[0m Trial 880 finished with value: 0.7844226225562274 and parameters: {'tol': 0.08020564076799475, 'max_iter': 1616, 'selection': 'random', 'l1_ratio': 0.04639613884326544, 'alpha': 0.0670476182197407}. Best is trial 268 with value: 0.8162285684622925.\u001b[0m\n",
      "\u001b[32m[I 2022-11-28 15:53:26,402]\u001b[0m Trial 881 finished with value: 0.7972619004189522 and parameters: {'tol': 0.1320020538805805, 'max_iter': 1963, 'selection': 'random', 'l1_ratio': 0.0005574690983407155, 'alpha': 0.03497584677001167}. Best is trial 268 with value: 0.8162285684622925.\u001b[0m\n",
      "\u001b[32m[I 2022-11-28 15:53:27,464]\u001b[0m Trial 882 finished with value: 0.6747519890921455 and parameters: {'tol': 0.16585561964240653, 'max_iter': 8103, 'selection': 'random', 'l1_ratio': 0.5134423597364921, 'alpha': 0.10929313722960328}. Best is trial 268 with value: 0.8162285684622925.\u001b[0m\n",
      "\u001b[32m[I 2022-11-28 15:53:29,919]\u001b[0m Trial 883 finished with value: 0.7968240998973548 and parameters: {'tol': 0.0881632439440623, 'max_iter': 2263, 'selection': 'random', 'l1_ratio': 0.04416282884884018, 'alpha': 0.03567380212344492}. Best is trial 268 with value: 0.8162285684622925.\u001b[0m\n",
      "\u001b[32m[I 2022-11-28 15:53:32,435]\u001b[0m Trial 884 finished with value: 0.7850119422386441 and parameters: {'tol': 0.1100608941580311, 'max_iter': 2084, 'selection': 'random', 'l1_ratio': 0.021929191910935883, 'alpha': 0.07024015194717682}. Best is trial 268 with value: 0.8162285684622925.\u001b[0m\n",
      "\u001b[32m[I 2022-11-28 15:53:34,631]\u001b[0m Trial 885 finished with value: 0.8152542997410817 and parameters: {'tol': 0.18091978461405245, 'max_iter': 1744, 'selection': 'random', 'l1_ratio': 0.49818302482264915, 'alpha': 0.0011551010016995489}. Best is trial 268 with value: 0.8162285684622925.\u001b[0m\n",
      "\u001b[32m[I 2022-11-28 15:53:37,963]\u001b[0m Trial 886 finished with value: 0.8155542821731463 and parameters: {'tol': 0.15278597114843193, 'max_iter': 1968, 'selection': 'random', 'l1_ratio': 0.05504637238202005, 'alpha': 0.001272007369268501}. Best is trial 268 with value: 0.8162285684622925.\u001b[0m\n",
      "\u001b[32m[I 2022-11-28 15:53:41,191]\u001b[0m Trial 887 finished with value: 0.795246687999688 and parameters: {'tol': 0.12603080087545976, 'max_iter': 2859, 'selection': 'random', 'l1_ratio': 0.019705741594852277, 'alpha': 0.040190219259535837}. Best is trial 268 with value: 0.8162285684622925.\u001b[0m\n",
      "\u001b[32m[I 2022-11-28 15:53:42,742]\u001b[0m Trial 888 finished with value: 0.7782316424209379 and parameters: {'tol': 0.10390071416030194, 'max_iter': 1661, 'selection': 'random', 'l1_ratio': 0.04875125978837471, 'alpha': 0.08337599482200893}. Best is trial 268 with value: 0.8162285684622925.\u001b[0m\n",
      "\u001b[32m[I 2022-11-28 15:53:43,851]\u001b[0m Trial 889 finished with value: 0.769839626651039 and parameters: {'tol': 0.07762232189315993, 'max_iter': 2607, 'selection': 'random', 'l1_ratio': 0.5960691651704106, 'alpha': 0.03557998684906715}. Best is trial 268 with value: 0.8162285684622925.\u001b[0m\n",
      "\u001b[32m[I 2022-11-28 15:53:44,898]\u001b[0m Trial 890 finished with value: 0.6684561471624186 and parameters: {'tol': 0.16558116215788843, 'max_iter': 1848, 'selection': 'random', 'l1_ratio': 0.7177162631779695, 'alpha': 0.10502517935233474}. Best is trial 268 with value: 0.8162285684622925.\u001b[0m\n",
      "\u001b[32m[I 2022-11-28 15:53:47,452]\u001b[0m Trial 891 finished with value: 0.7962045409285415 and parameters: {'tol': 0.13808247906742238, 'max_iter': 8475, 'selection': 'random', 'l1_ratio': 0.036711386455245465, 'alpha': 0.03738255302479591}. Best is trial 268 with value: 0.8162285684622925.\u001b[0m\n",
      "\u001b[32m[I 2022-11-28 15:53:51,244]\u001b[0m Trial 892 finished with value: 0.8158050006948279 and parameters: {'tol': 0.19364701770811782, 'max_iter': 2114, 'selection': 'random', 'l1_ratio': 0.054895265957928506, 'alpha': 0.0008495565924798241}. Best is trial 268 with value: 0.8162285684622925.\u001b[0m\n",
      "\u001b[32m[I 2022-11-28 15:53:52,313]\u001b[0m Trial 893 finished with value: 0.6993657405195427 and parameters: {'tol': 0.07578748280669777, 'max_iter': 1575, 'selection': 'random', 'l1_ratio': 0.5348500441973579, 'alpha': 0.07337314924255371}. Best is trial 268 with value: 0.8162285684622925.\u001b[0m\n",
      "\u001b[32m[I 2022-11-28 15:53:57,280]\u001b[0m Trial 894 finished with value: 0.7982013944755231 and parameters: {'tol': 0.0998750880040773, 'max_iter': 1887, 'selection': 'random', 'l1_ratio': 0.022192666280493538, 'alpha': 0.032561622174421954}. Best is trial 268 with value: 0.8162285684622925.\u001b[0m\n",
      "\u001b[32m[I 2022-11-28 15:53:58,490]\u001b[0m Trial 895 finished with value: 0.7592414361424938 and parameters: {'tol': 0.15695436719814337, 'max_iter': 2261, 'selection': 'random', 'l1_ratio': 0.059709828173357904, 'alpha': 0.13309132047647}. Best is trial 268 with value: 0.8162285684622925.\u001b[0m\n",
      "\u001b[32m[I 2022-11-28 15:53:59,678]\u001b[0m Trial 896 finished with value: 0.7847740517809254 and parameters: {'tol': 0.12483514851313383, 'max_iter': 8257, 'selection': 'random', 'l1_ratio': 0.34401792412466287, 'alpha': 0.03574381249385866}. Best is trial 268 with value: 0.8162285684622925.\u001b[0m\n",
      "\u001b[32m[I 2022-11-28 15:54:01,465]\u001b[0m Trial 897 finished with value: 0.7847102556797848 and parameters: {'tol': 0.16922852486337103, 'max_iter': 1676, 'selection': 'random', 'l1_ratio': 0.03529004660014058, 'alpha': 0.06819628845952448}. Best is trial 268 with value: 0.8162285684622925.\u001b[0m\n",
      "\u001b[32m[I 2022-11-28 15:54:03,026]\u001b[0m Trial 898 finished with value: 0.7701867486363831 and parameters: {'tol': 0.13864549524657055, 'max_iter': 1503, 'selection': 'random', 'l1_ratio': 0.06530733294390563, 'alpha': 0.09837285522690536}. Best is trial 268 with value: 0.8162285684622925.\u001b[0m\n",
      "\u001b[32m[I 2022-11-28 15:54:06,356]\u001b[0m Trial 899 finished with value: 0.7955784592567571 and parameters: {'tol': 0.1837196090986354, 'max_iter': 1935, 'selection': 'random', 'l1_ratio': 0.018454981363494723, 'alpha': 0.03934987589175508}. Best is trial 268 with value: 0.8162285684622925.\u001b[0m\n",
      "\u001b[32m[I 2022-11-28 15:54:31,625]\u001b[0m Trial 900 finished with value: 0.8162003879196726 and parameters: {'tol': 0.11663536912550958, 'max_iter': 8111, 'selection': 'random', 'l1_ratio': 0.04215293109184931, 'alpha': 8.349698490533577e-05}. Best is trial 268 with value: 0.8162285684622925.\u001b[0m\n",
      "\u001b[32m[I 2022-11-28 15:54:32,699]\u001b[0m Trial 901 finished with value: 0.7925066142928323 and parameters: {'tol': 0.9554620576955652, 'max_iter': 7490, 'selection': 'random', 'l1_ratio': 0.017971020811112747, 'alpha': 0.03408257320581063}. Best is trial 268 with value: 0.8162285684622925.\u001b[0m\n",
      "\u001b[32m[I 2022-11-28 15:54:36,127]\u001b[0m Trial 902 finished with value: 0.7658324347186152 and parameters: {'tol': 0.1021085833449987, 'max_iter': 8102, 'selection': 'random', 'l1_ratio': 0.0002177569144345623, 'alpha': 0.1723003931962548}. Best is trial 268 with value: 0.8162285684622925.\u001b[0m\n",
      "\u001b[32m[I 2022-11-28 15:54:38,603]\u001b[0m Trial 903 finished with value: 0.7840473200975854 and parameters: {'tol': 0.09321953180131552, 'max_iter': 7937, 'selection': 'random', 'l1_ratio': 0.03848961339103257, 'alpha': 0.0697864309926862}. Best is trial 268 with value: 0.8162285684622925.\u001b[0m\n",
      "\u001b[32m[I 2022-11-28 15:54:40,960]\u001b[0m Trial 904 finished with value: 0.8152854526748579 and parameters: {'tol': 0.06838216339973173, 'max_iter': 8072, 'selection': 'random', 'l1_ratio': 0.18884952116250756, 'alpha': 0.0014945773968674384}. Best is trial 268 with value: 0.8162285684622925.\u001b[0m\n",
      "\u001b[32m[I 2022-11-28 15:55:17,244]\u001b[0m Trial 905 finished with value: 0.8156123794639625 and parameters: {'tol': 0.11420863523777036, 'max_iter': 8251, 'selection': 'random', 'l1_ratio': 0.0001129643181215236, 'alpha': 0.0012422386478056332}. Best is trial 268 with value: 0.8162285684622925.\u001b[0m\n",
      "\u001b[32m[I 2022-11-28 15:55:22,970]\u001b[0m Trial 906 finished with value: 0.8157353180592326 and parameters: {'tol': 0.07401877984468658, 'max_iter': 8466, 'selection': 'random', 'l1_ratio': 0.03318170570105543, 'alpha': 0.0009937742157056634}. Best is trial 268 with value: 0.8162285684622925.\u001b[0m\n",
      "\u001b[32m[I 2022-11-28 15:55:24,578]\u001b[0m Trial 907 finished with value: 0.770425412121689 and parameters: {'tol': 0.11367353000661312, 'max_iter': 7732, 'selection': 'random', 'l1_ratio': 0.04386173390730885, 'alpha': 0.10962306188132294}. Best is trial 268 with value: 0.8162285684622925.\u001b[0m\n",
      "\u001b[32m[I 2022-11-28 15:55:25,653]\u001b[0m Trial 908 finished with value: 0.7817186117951171 and parameters: {'tol': 0.8678946945860719, 'max_iter': 8272, 'selection': 'random', 'l1_ratio': 0.029014336874834252, 'alpha': 0.06547930479824207}. Best is trial 268 with value: 0.8162285684622925.\u001b[0m\n",
      "\u001b[32m[I 2022-11-28 15:55:26,726]\u001b[0m Trial 909 finished with value: 0.7588985146232055 and parameters: {'tol': 0.34970267159838914, 'max_iter': 7800, 'selection': 'random', 'l1_ratio': 0.6747564580367746, 'alpha': 0.03589134466173701}. Best is trial 268 with value: 0.8162285684622925.\u001b[0m\n",
      "\u001b[32m[I 2022-11-28 15:55:27,792]\u001b[0m Trial 910 finished with value: 0.7041285994218212 and parameters: {'tol': 0.08843051927224507, 'max_iter': 7978, 'selection': 'random', 'l1_ratio': 0.5651162096633667, 'alpha': 0.06382105394687196}. Best is trial 268 with value: 0.8162285684622925.\u001b[0m\n",
      "\u001b[32m[I 2022-11-28 15:55:30,143]\u001b[0m Trial 911 finished with value: 0.7964283685404889 and parameters: {'tol': 0.12146642541114415, 'max_iter': 8379, 'selection': 'cyclic', 'l1_ratio': 0.05622918622793508, 'alpha': 0.036118177732760624}. Best is trial 268 with value: 0.8162285684622925.\u001b[0m\n",
      "\u001b[32m[I 2022-11-28 15:55:32,461]\u001b[0m Trial 912 finished with value: 0.7752537090006957 and parameters: {'tol': 0.06756426667300597, 'max_iter': 8022, 'selection': 'random', 'l1_ratio': 0.019198888835530906, 'alpha': 0.10692733880985486}. Best is trial 268 with value: 0.8162285684622925.\u001b[0m\n",
      "\u001b[32m[I 2022-11-28 15:55:33,600]\u001b[0m Trial 913 finished with value: 0.7776568777708965 and parameters: {'tol': 0.09738981973625471, 'max_iter': 8520, 'selection': 'random', 'l1_ratio': 0.4893932024219553, 'alpha': 0.03578822210824734}. Best is trial 268 with value: 0.8162285684622925.\u001b[0m\n",
      "\u001b[32m[I 2022-11-28 15:55:34,639]\u001b[0m Trial 914 finished with value: 0.6654861157114528 and parameters: {'tol': 0.13779460182316425, 'max_iter': 8289, 'selection': 'cyclic', 'l1_ratio': 0.05058946895224303, 'alpha': 1.3629095623081968}. Best is trial 268 with value: 0.8162285684622925.\u001b[0m\n",
      "\u001b[32m[I 2022-11-28 15:56:15,313]\u001b[0m Trial 915 finished with value: 0.8156196489734526 and parameters: {'tol': 0.0683302377187232, 'max_iter': 7916, 'selection': 'random', 'l1_ratio': 2.919337852720481e-05, 'alpha': 0.0012297627836765975}. Best is trial 268 with value: 0.8162285684622925.\u001b[0m\n",
      "\u001b[32m[I 2022-11-28 15:56:17,417]\u001b[0m Trial 916 finished with value: 0.8153887296110995 and parameters: {'tol': 0.10650437373145677, 'max_iter': 8343, 'selection': 'cyclic', 'l1_ratio': 0.2529970600248585, 'alpha': 0.0012880040736642107}. Best is trial 268 with value: 0.8162285684622925.\u001b[0m\n",
      "\u001b[32m[I 2022-11-28 15:56:18,521]\u001b[0m Trial 917 finished with value: 0.7424075437254195 and parameters: {'tol': 0.13544483332125867, 'max_iter': 8120, 'selection': 'random', 'l1_ratio': 0.3544155295860691, 'alpha': 0.06826282866479509}. Best is trial 268 with value: 0.8162285684622925.\u001b[0m\n",
      "\u001b[32m[I 2022-11-28 15:56:20,877]\u001b[0m Trial 918 finished with value: 0.7768468873856739 and parameters: {'tol': 0.11927915047713916, 'max_iter': 8159, 'selection': 'random', 'l1_ratio': 0.020084462153326946, 'alpha': 0.10013103346459207}. Best is trial 268 with value: 0.8162285684622925.\u001b[0m\n",
      "\u001b[32m[I 2022-11-28 15:56:23,169]\u001b[0m Trial 919 finished with value: 0.7948661413447711 and parameters: {'tol': 0.09090180112040362, 'max_iter': 1509, 'selection': 'cyclic', 'l1_ratio': 0.06432248666880376, 'alpha': 0.03924716581775774}. Best is trial 268 with value: 0.8162285684622925.\u001b[0m\n",
      "\u001b[32m[I 2022-11-28 15:56:24,204]\u001b[0m Trial 920 finished with value: 0.6320390391266696 and parameters: {'tol': 0.07072675507882242, 'max_iter': 7681, 'selection': 'random', 'l1_ratio': 0.781452902983304, 'alpha': 0.2075588109107665}. Best is trial 268 with value: 0.8162285684622925.\u001b[0m\n",
      "\u001b[32m[I 2022-11-28 15:56:25,851]\u001b[0m Trial 921 finished with value: 0.785415645424089 and parameters: {'tol': 0.14709941230162285, 'max_iter': 8791, 'selection': 'random', 'l1_ratio': 0.03281752184461678, 'alpha': 0.06659565463383972}. Best is trial 268 with value: 0.8162285684622925.\u001b[0m\n",
      "\u001b[32m[I 2022-11-28 15:56:26,942]\u001b[0m Trial 922 finished with value: 0.7115959581956477 and parameters: {'tol': 0.12167355569708309, 'max_iter': 7815, 'selection': 'cyclic', 'l1_ratio': 0.04221390723720749, 'alpha': 0.42653599583232815}. Best is trial 268 with value: 0.8162285684622925.\u001b[0m\n",
      "\u001b[32m[I 2022-11-28 15:56:28,000]\u001b[0m Trial 923 finished with value: 0.6710016304240689 and parameters: {'tol': 0.08003534074531313, 'max_iter': 1704, 'selection': 'random', 'l1_ratio': 0.5090005370747044, 'alpha': 0.13499719890628323}. Best is trial 268 with value: 0.8162285684622925.\u001b[0m\n",
      "\u001b[32m[I 2022-11-28 15:56:29,151]\u001b[0m Trial 924 finished with value: 0.7846392301546335 and parameters: {'tol': 0.09472594040359061, 'max_iter': 8084, 'selection': 'random', 'l1_ratio': 0.33460881767756784, 'alpha': 0.03623765737942809}. Best is trial 268 with value: 0.8162285684622925.\u001b[0m\n",
      "\u001b[32m[I 2022-11-28 15:56:30,215]\u001b[0m Trial 925 finished with value: 0.7161690585647276 and parameters: {'tol': 0.1834462119257591, 'max_iter': 3079, 'selection': 'cyclic', 'l1_ratio': 0.06149791042844245, 'alpha': 0.31607242899450494}. Best is trial 268 with value: 0.8162285684622925.\u001b[0m\n",
      "\u001b[32m[I 2022-11-28 15:56:35,716]\u001b[0m Trial 926 finished with value: 0.8158748141238139 and parameters: {'tol': 0.05538816238258493, 'max_iter': 2131, 'selection': 'random', 'l1_ratio': 0.015805136027420834, 'alpha': 0.0007570862009622807}. Best is trial 268 with value: 0.8162285684622925.\u001b[0m\n",
      "\u001b[32m[I 2022-11-28 15:56:39,354]\u001b[0m Trial 927 finished with value: 0.8158853723583367 and parameters: {'tol': 0.1528945888498485, 'max_iter': 8686, 'selection': 'random', 'l1_ratio': 0.04298070755365943, 'alpha': 0.0007165223596348046}. Best is trial 268 with value: 0.8162285684622925.\u001b[0m\n",
      "\u001b[32m[I 2022-11-28 15:56:54,000]\u001b[0m Trial 928 finished with value: 0.8162248860919596 and parameters: {'tol': 0.13025445558365426, 'max_iter': 2346, 'selection': 'cyclic', 'l1_ratio': 0.5454310449700926, 'alpha': 9.298859707061953e-06}. Best is trial 268 with value: 0.8162285684622925.\u001b[0m\n",
      "\u001b[32m[I 2022-11-28 15:56:55,038]\u001b[0m Trial 929 finished with value: 0.6864632093820441 and parameters: {'tol': 0.11449544537175484, 'max_iter': 2700, 'selection': 'random', 'l1_ratio': 0.5366437237881274, 'alpha': 0.08574634773995216}. Best is trial 268 with value: 0.8162285684622925.\u001b[0m\n",
      "\u001b[32m[I 2022-11-28 15:56:56,144]\u001b[0m Trial 930 finished with value: 0.7256707339375302 and parameters: {'tol': 0.10412683703146429, 'max_iter': 2300, 'selection': 'random', 'l1_ratio': 0.5006409955837299, 'alpha': 0.05833165756547096}. Best is trial 268 with value: 0.8162285684622925.\u001b[0m\n",
      "\u001b[32m[I 2022-11-28 15:56:57,256]\u001b[0m Trial 931 finished with value: 0.7819391593299587 and parameters: {'tol': 0.12294129732982916, 'max_iter': 2558, 'selection': 'cyclic', 'l1_ratio': 0.4772699823409467, 'alpha': 0.033467183560348224}. Best is trial 268 with value: 0.8162285684622925.\u001b[0m\n",
      "\u001b[32m[I 2022-11-28 15:56:58,313]\u001b[0m Trial 932 finished with value: 0.663773118501054 and parameters: {'tol': 0.09086473647079596, 'max_iter': 2400, 'selection': 'random', 'l1_ratio': 0.556949328807824, 'alpha': 0.15070369032828998}. Best is trial 268 with value: 0.8162285684622925.\u001b[0m\n",
      "\u001b[32m[I 2022-11-28 15:57:01,903]\u001b[0m Trial 933 finished with value: 0.8159431585144308 and parameters: {'tol': 0.1246282479402841, 'max_iter': 2524, 'selection': 'random', 'l1_ratio': 0.49279820496945576, 'alpha': 0.0002968564268952888}. Best is trial 268 with value: 0.8162285684622925.\u001b[0m\n",
      "\u001b[32m[I 2022-11-28 15:57:02,940]\u001b[0m Trial 934 finished with value: 0.695019421791887 and parameters: {'tol': 0.1406231528590567, 'max_iter': 2427, 'selection': 'cyclic', 'l1_ratio': 0.4682462876553453, 'alpha': 0.08842750637991792}. Best is trial 268 with value: 0.8162285684622925.\u001b[0m\n",
      "\u001b[32m[I 2022-11-28 15:57:04,050]\u001b[0m Trial 935 finished with value: 0.7637947951581754 and parameters: {'tol': 0.10128023857367806, 'max_iter': 2720, 'selection': 'random', 'l1_ratio': 0.5647965498688139, 'alpha': 0.03939600717710116}. Best is trial 268 with value: 0.8162285684622925.\u001b[0m\n",
      "\u001b[32m[I 2022-11-28 15:57:05,117]\u001b[0m Trial 936 finished with value: 0.6995472271029821 and parameters: {'tol': 0.06234579668440892, 'max_iter': 2257, 'selection': 'random', 'l1_ratio': 0.5917837718513931, 'alpha': 0.06669765178671447}. Best is trial 268 with value: 0.8162285684622925.\u001b[0m\n",
      "\u001b[32m[I 2022-11-28 15:57:06,220]\u001b[0m Trial 937 finished with value: 0.7642137213460057 and parameters: {'tol': 0.0764579134350085, 'max_iter': 7896, 'selection': 'cyclic', 'l1_ratio': 0.5810301233993157, 'alpha': 0.03849072432836574}. Best is trial 268 with value: 0.8162285684622925.\u001b[0m\n",
      "\u001b[32m[I 2022-11-28 15:57:07,284]\u001b[0m Trial 938 finished with value: 0.6748830681765593 and parameters: {'tol': 0.11171298317037795, 'max_iter': 8193, 'selection': 'random', 'l1_ratio': 0.5481320301955714, 'alpha': 0.10155064398222963}. Best is trial 268 with value: 0.8162285684622925.\u001b[0m\n",
      "\u001b[32m[I 2022-11-28 15:57:08,453]\u001b[0m Trial 939 finished with value: 0.7757227151061716 and parameters: {'tol': 0.13707044986562986, 'max_iter': 2405, 'selection': 'random', 'l1_ratio': 0.5269585962507726, 'alpha': 0.03547320698920185}. Best is trial 268 with value: 0.8162285684622925.\u001b[0m\n",
      "\u001b[32m[I 2022-11-28 15:57:10,295]\u001b[0m Trial 940 finished with value: 0.8148538108287802 and parameters: {'tol': 0.036372152025083, 'max_iter': 2225, 'selection': 'cyclic', 'l1_ratio': 0.6216204654157157, 'alpha': 0.0014580819644255166}. Best is trial 268 with value: 0.8162285684622925.\u001b[0m\n",
      "\u001b[32m[I 2022-11-28 15:57:12,489]\u001b[0m Trial 941 finished with value: 0.8156509450052849 and parameters: {'tol': 0.13303827679666813, 'max_iter': 7557, 'selection': 'random', 'l1_ratio': 0.5854269813635642, 'alpha': 0.0006862893993646378}. Best is trial 268 with value: 0.8162285684622925.\u001b[0m\n",
      "\u001b[32m[I 2022-11-28 15:57:13,590]\u001b[0m Trial 942 finished with value: 0.7048567237506236 and parameters: {'tol': 0.020148819194553066, 'max_iter': 8447, 'selection': 'cyclic', 'l1_ratio': 0.5444471405786483, 'alpha': 0.06575332738233018}. Best is trial 268 with value: 0.8162285684622925.\u001b[0m\n",
      "\u001b[32m[I 2022-11-28 15:57:18,170]\u001b[0m Trial 943 finished with value: 0.8161083412433041 and parameters: {'tol': 0.08828181622574843, 'max_iter': 2099, 'selection': 'random', 'l1_ratio': 0.5726265839503006, 'alpha': 0.00013661925828019689}. Best is trial 268 with value: 0.8162285684622925.\u001b[0m\n",
      "\u001b[32m[I 2022-11-28 15:57:19,313]\u001b[0m Trial 944 finished with value: 0.715340705113238 and parameters: {'tol': 0.04856569203903695, 'max_iter': 3357, 'selection': 'random', 'l1_ratio': 0.5155688581238711, 'alpha': 0.06042626468025348}. Best is trial 268 with value: 0.8162285684622925.\u001b[0m\n",
      "\u001b[32m[I 2022-11-28 15:57:20,447]\u001b[0m Trial 945 finished with value: 0.6697884356775923 and parameters: {'tol': 0.11006412005808502, 'max_iter': 2920, 'selection': 'cyclic', 'l1_ratio': 0.5369024165976803, 'alpha': 0.13369899938288834}. Best is trial 268 with value: 0.8162285684622925.\u001b[0m\n",
      "\u001b[32m[I 2022-11-28 15:57:24,208]\u001b[0m Trial 946 finished with value: 0.7804678674220622 and parameters: {'tol': 0.14910734801911674, 'max_iter': 1553, 'selection': 'random', 'l1_ratio': 0.0006249718780163265, 'alpha': 0.09344721315804318}. Best is trial 268 with value: 0.8162285684622925.\u001b[0m\n",
      "\u001b[32m[I 2022-11-28 15:57:25,447]\u001b[0m Trial 947 finished with value: 0.7667299427969229 and parameters: {'tol': 0.06778604746833264, 'max_iter': 1744, 'selection': 'random', 'l1_ratio': 0.5236361168123076, 'alpha': 0.0401180101351116}. Best is trial 268 with value: 0.8162285684622925.\u001b[0m\n",
      "\u001b[32m[I 2022-11-28 15:57:26,592]\u001b[0m Trial 948 finished with value: 0.7834402637776693 and parameters: {'tol': 0.019633717438082402, 'max_iter': 8006, 'selection': 'cyclic', 'l1_ratio': 0.3548136599085056, 'alpha': 0.03650574954274071}. Best is trial 268 with value: 0.8162285684622925.\u001b[0m\n",
      "\u001b[32m[I 2022-11-28 15:57:35,251]\u001b[0m Trial 949 finished with value: 0.8159424422789389 and parameters: {'tol': 0.09352077916849454, 'max_iter': 2600, 'selection': 'random', 'l1_ratio': 0.022424022556893235, 'alpha': 0.0006240801647948121}. Best is trial 268 with value: 0.8162285684622925.\u001b[0m\n",
      "\u001b[32m[I 2022-11-28 15:57:36,274]\u001b[0m Trial 950 finished with value: 0.6285408582009074 and parameters: {'tol': 0.13245258353105488, 'max_iter': 7733, 'selection': 'random', 'l1_ratio': 0.916758055605754, 'alpha': 1.0273159898525426}. Best is trial 268 with value: 0.8162285684622925.\u001b[0m\n",
      "\u001b[32m[I 2022-11-28 15:57:37,381]\u001b[0m Trial 951 finished with value: 0.747028883780157 and parameters: {'tol': 0.053212143158516634, 'max_iter': 1432, 'selection': 'cyclic', 'l1_ratio': 0.31860805874381676, 'alpha': 0.07008299588009319}. Best is trial 268 with value: 0.8162285684622925.\u001b[0m\n",
      "\u001b[32m[I 2022-11-28 15:57:40,873]\u001b[0m Trial 952 finished with value: 0.7976678441625988 and parameters: {'tol': 0.11906281140719921, 'max_iter': 8556, 'selection': 'random', 'l1_ratio': 0.021355770563831707, 'alpha': 0.03399074603097452}. Best is trial 268 with value: 0.8162285684622925.\u001b[0m\n",
      "\u001b[32m[I 2022-11-28 15:57:41,939]\u001b[0m Trial 953 finished with value: 0.7662036714039578 and parameters: {'tol': 0.533499593332564, 'max_iter': 2093, 'selection': 'random', 'l1_ratio': 0.04424730509825662, 'alpha': 0.11360838495165491}. Best is trial 268 with value: 0.8162285684622925.\u001b[0m\n",
      "\u001b[32m[I 2022-11-28 15:57:43,009]\u001b[0m Trial 954 finished with value: 0.7392557368779948 and parameters: {'tol': 0.6360130551795823, 'max_iter': 1751, 'selection': 'cyclic', 'l1_ratio': 0.36298014250333205, 'alpha': 0.06773444232925692}. Best is trial 268 with value: 0.8162285684622925.\u001b[0m\n",
      "\u001b[32m[I 2022-11-28 15:57:44,197]\u001b[0m Trial 955 finished with value: 0.7652600283356279 and parameters: {'tol': 0.15629925426857952, 'max_iter': 8312, 'selection': 'random', 'l1_ratio': 0.607587918214365, 'alpha': 0.03692666316943749}. Best is trial 268 with value: 0.8162285684622925.\u001b[0m\n",
      "\u001b[32m[I 2022-11-28 15:57:47,726]\u001b[0m Trial 956 finished with value: 0.7973771328104347 and parameters: {'tol': 0.07488705686095407, 'max_iter': 2385, 'selection': 'random', 'l1_ratio': 0.03362185298093373, 'alpha': 0.034615525811290904}. Best is trial 268 with value: 0.8162285684622925.\u001b[0m\n",
      "\u001b[32m[I 2022-11-28 15:57:49,391]\u001b[0m Trial 957 finished with value: 0.770536392020912 and parameters: {'tol': 0.03246975957039763, 'max_iter': 1621, 'selection': 'cyclic', 'l1_ratio': 0.05788550063518283, 'alpha': 0.10169883864300329}. Best is trial 268 with value: 0.8162285684622925.\u001b[0m\n",
      "\u001b[32m[I 2022-11-28 15:57:50,565]\u001b[0m Trial 958 finished with value: 0.7428981274649247 and parameters: {'tol': 0.10779693607206822, 'max_iter': 2011, 'selection': 'random', 'l1_ratio': 0.34240624136945186, 'alpha': 0.06954039241602494}. Best is trial 268 with value: 0.8162285684622925.\u001b[0m\n",
      "\u001b[32m[I 2022-11-28 15:57:59,443]\u001b[0m Trial 959 finished with value: 0.8159478834538387 and parameters: {'tol': 0.14311651321200958, 'max_iter': 1840, 'selection': 'random', 'l1_ratio': 0.02322402475304389, 'alpha': 0.0006130153717076205}. Best is trial 268 with value: 0.8162285684622925.\u001b[0m\n",
      "\u001b[32m[I 2022-11-28 15:58:00,484]\u001b[0m Trial 960 finished with value: 0.8092302830103414 and parameters: {'tol': 0.4946810812549652, 'max_iter': 8151, 'selection': 'cyclic', 'l1_ratio': 0.5068322550840105, 'alpha': 0.0012878436610447319}. Best is trial 268 with value: 0.8162285684622925.\u001b[0m\n",
      "\u001b[32m[I 2022-11-28 15:58:48,467]\u001b[0m Trial 961 finished with value: 0.8161278555583007 and parameters: {'tol': 0.0004264588396781354, 'max_iter': 1468, 'selection': 'random', 'l1_ratio': 0.0004501529268847865, 'alpha': 0.0002597221357460649}. Best is trial 268 with value: 0.8162285684622925.\u001b[0m\n",
      "\u001b[32m[I 2022-11-28 15:58:49,507]\u001b[0m Trial 962 finished with value: 0.6310179085563392 and parameters: {'tol': 0.04230889331774289, 'max_iter': 7956, 'selection': 'random', 'l1_ratio': 0.48184035860633284, 'alpha': 0.3607936928529445}. Best is trial 268 with value: 0.8162285684622925.\u001b[0m\n",
      "\u001b[32m[I 2022-11-28 15:58:50,539]\u001b[0m Trial 963 finished with value: 0.6662991361464528 and parameters: {'tol': 0.09158978345512726, 'max_iter': 2190, 'selection': 'cyclic', 'l1_ratio': 0.5482259729403165, 'alpha': 0.14469180081575594}. Best is trial 268 with value: 0.8162285684622925.\u001b[0m\n",
      "\u001b[32m[I 2022-11-28 15:58:51,973]\u001b[0m Trial 964 finished with value: 0.7838267136563263 and parameters: {'tol': 0.16247683573675667, 'max_iter': 1753, 'selection': 'random', 'l1_ratio': 0.06553483324406409, 'alpha': 0.06423836568331932}. Best is trial 268 with value: 0.8162285684622925.\u001b[0m\n",
      "\u001b[32m[I 2022-11-28 15:58:55,580]\u001b[0m Trial 965 finished with value: 0.7967296326853943 and parameters: {'tol': 0.017554983534141793, 'max_iter': 1985, 'selection': 'random', 'l1_ratio': 0.039904268932172714, 'alpha': 0.03599376459295917}. Best is trial 268 with value: 0.8162285684622925.\u001b[0m\n",
      "\u001b[32m[I 2022-11-28 15:59:13,791]\u001b[0m Trial 966 finished with value: 0.8161955328627639 and parameters: {'tol': 0.12976750144972032, 'max_iter': 3951, 'selection': 'cyclic', 'l1_ratio': 0.018560239684350152, 'alpha': 9.984167032303831e-05}. Best is trial 268 with value: 0.8162285684622925.\u001b[0m\n",
      "\u001b[32m[I 2022-11-28 15:59:15,811]\u001b[0m Trial 967 finished with value: 0.7785032402089167 and parameters: {'tol': 0.1643753351530724, 'max_iter': 3267, 'selection': 'cyclic', 'l1_ratio': 0.015322263147191685, 'alpha': 0.09573814702898319}. Best is trial 268 with value: 0.8162285684622925.\u001b[0m\n",
      "\u001b[32m[I 2022-11-28 15:59:18,887]\u001b[0m Trial 968 finished with value: 0.7946492548117384 and parameters: {'tol': 0.1357468870579531, 'max_iter': 8197, 'selection': 'cyclic', 'l1_ratio': 0.01760673750642494, 'alpha': 0.041794010229276084}. Best is trial 268 with value: 0.8162285684622925.\u001b[0m\n",
      "\u001b[32m[I 2022-11-28 15:59:21,758]\u001b[0m Trial 969 finished with value: 0.7968174943025343 and parameters: {'tol': 0.14763234322144925, 'max_iter': 4120, 'selection': 'cyclic', 'l1_ratio': 0.021051301029432916, 'alpha': 0.03607883075301113}. Best is trial 268 with value: 0.8162285684622925.\u001b[0m\n",
      "\u001b[32m[I 2022-11-28 15:59:24,443]\u001b[0m Trial 970 finished with value: 0.7847377341632733 and parameters: {'tol': 0.12842220953698644, 'max_iter': 3639, 'selection': 'cyclic', 'l1_ratio': 0.0027996504814459394, 'alpha': 0.07531877789904853}. Best is trial 268 with value: 0.8162285684622925.\u001b[0m\n",
      "\u001b[32m[I 2022-11-28 15:59:26,174]\u001b[0m Trial 971 finished with value: 0.7686382037430051 and parameters: {'tol': 0.16952817551811367, 'max_iter': 4633, 'selection': 'cyclic', 'l1_ratio': 0.03191993231182312, 'alpha': 0.1248189692689923}. Best is trial 268 with value: 0.8162285684622925.\u001b[0m\n",
      "\u001b[32m[I 2022-11-28 15:59:29,436]\u001b[0m Trial 972 finished with value: 0.7971927063305531 and parameters: {'tol': 0.01765367177622901, 'max_iter': 3495, 'selection': 'cyclic', 'l1_ratio': 0.01306310856011347, 'alpha': 0.03512824444913142}. Best is trial 268 with value: 0.8162285684622925.\u001b[0m\n",
      "\u001b[32m[I 2022-11-28 15:59:31,413]\u001b[0m Trial 973 finished with value: 0.7836767462870813 and parameters: {'tol': 0.15368655076378213, 'max_iter': 4423, 'selection': 'cyclic', 'l1_ratio': 0.0391627780175992, 'alpha': 0.07077103750224902}. Best is trial 268 with value: 0.8162285684622925.\u001b[0m\n",
      "\u001b[32m[I 2022-11-28 15:59:35,324]\u001b[0m Trial 974 finished with value: 0.7969171683115202 and parameters: {'tol': 0.05562464595481344, 'max_iter': 3862, 'selection': 'cyclic', 'l1_ratio': 0.0019533684427920587, 'alpha': 0.035874208472220975}. Best is trial 268 with value: 0.8162285684622925.\u001b[0m\n",
      "\u001b[32m[I 2022-11-28 15:59:36,425]\u001b[0m Trial 975 finished with value: 0.7849183929200395 and parameters: {'tol': 0.1218265799544982, 'max_iter': 3101, 'selection': 'cyclic', 'l1_ratio': 0.3653261891641312, 'alpha': 0.03476494946778716}. Best is trial 268 with value: 0.8162285684622925.\u001b[0m\n",
      "\u001b[32m[I 2022-11-28 15:59:37,506]\u001b[0m Trial 976 finished with value: 0.6756152360609415 and parameters: {'tol': 0.00010803662634206957, 'max_iter': 4418, 'selection': 'cyclic', 'l1_ratio': 0.5205142292035031, 'alpha': 0.09899118526646221}. Best is trial 268 with value: 0.8162285684622925.\u001b[0m\n",
      "\u001b[32m[I 2022-11-28 15:59:38,828]\u001b[0m Trial 977 finished with value: 0.7538555781989883 and parameters: {'tol': 0.19593137102673897, 'max_iter': 2713, 'selection': 'cyclic', 'l1_ratio': 0.03624646417215025, 'alpha': 0.1809895463772797}. Best is trial 268 with value: 0.8162285684622925.\u001b[0m\n",
      "\u001b[32m[I 2022-11-28 15:59:41,096]\u001b[0m Trial 978 finished with value: 0.8160451663717766 and parameters: {'tol': 0.32943578887642283, 'max_iter': 3936, 'selection': 'cyclic', 'l1_ratio': 0.3317226019434933, 'alpha': 0.0002686625673528327}. Best is trial 268 with value: 0.8162285684622925.\u001b[0m\n",
      "\u001b[32m[I 2022-11-28 15:59:43,372]\u001b[0m Trial 979 finished with value: 0.7855218877846205 and parameters: {'tol': 0.03750915319785661, 'max_iter': 7830, 'selection': 'cyclic', 'l1_ratio': 0.020023876139808, 'alpha': 0.06896780006699106}. Best is trial 268 with value: 0.8162285684622925.\u001b[0m\n",
      "\u001b[32m[I 2022-11-28 15:59:47,061]\u001b[0m Trial 980 finished with value: 0.8153163363444347 and parameters: {'tol': 0.14091254412791404, 'max_iter': 8381, 'selection': 'cyclic', 'l1_ratio': 0.04037412981564907, 'alpha': 0.0016626354723151176}. Best is trial 268 with value: 0.8162285684622925.\u001b[0m\n",
      "\u001b[32m[I 2022-11-28 15:59:49,950]\u001b[0m Trial 981 finished with value: 0.7959807196249011 and parameters: {'tol': 0.1804020826434254, 'max_iter': 4240, 'selection': 'cyclic', 'l1_ratio': 0.01702308253751769, 'alpha': 0.038270861106394424}. Best is trial 268 with value: 0.8162285684622925.\u001b[0m\n",
      "\u001b[32m[I 2022-11-28 15:59:51,886]\u001b[0m Trial 982 finished with value: 0.8152321878766209 and parameters: {'tol': 0.08584695590275528, 'max_iter': 2805, 'selection': 'cyclic', 'l1_ratio': 0.4558161153800899, 'alpha': 0.0012253904084802995}. Best is trial 268 with value: 0.8162285684622925.\u001b[0m\n",
      "\u001b[32m[I 2022-11-28 15:59:54,769]\u001b[0m Trial 983 finished with value: 0.7805196706687122 and parameters: {'tol': 0.06892039079195596, 'max_iter': 2554, 'selection': 'cyclic', 'l1_ratio': 0.00032049914295199933, 'alpha': 0.09333092857715325}. Best is trial 268 with value: 0.8162285684622925.\u001b[0m\n",
      "\u001b[32m[I 2022-11-28 15:59:55,839]\u001b[0m Trial 984 finished with value: 0.6866862816781899 and parameters: {'tol': 0.16394741333727839, 'max_iter': 8069, 'selection': 'cyclic', 'l1_ratio': 0.05009331210150664, 'alpha': 0.6849490143255754}. Best is trial 268 with value: 0.8162285684622925.\u001b[0m\n",
      "\u001b[32m[I 2022-11-28 15:59:56,867]\u001b[0m Trial 985 finished with value: 0.6350652090264243 and parameters: {'tol': 0.12091942429857665, 'max_iter': 2902, 'selection': 'cyclic', 'l1_ratio': 0.26536909576295603, 'alpha': 0.5709326355225124}. Best is trial 268 with value: 0.8162285684622925.\u001b[0m\n",
      "\u001b[32m[I 2022-11-28 15:59:57,958]\u001b[0m Trial 986 finished with value: 0.71130799056717 and parameters: {'tol': 0.025756722641486415, 'max_iter': 3957, 'selection': 'cyclic', 'l1_ratio': 0.4901775098029308, 'alpha': 0.06487728119105121}. Best is trial 268 with value: 0.8162285684622925.\u001b[0m\n",
      "\u001b[32m[I 2022-11-28 15:59:59,061]\u001b[0m Trial 987 finished with value: 0.7755318111213002 and parameters: {'tol': 0.10394916012988417, 'max_iter': 1354, 'selection': 'cyclic', 'l1_ratio': 0.34771102569501966, 'alpha': 0.043856611889433204}. Best is trial 268 with value: 0.8162285684622925.\u001b[0m\n",
      "\u001b[32m[I 2022-11-28 16:00:00,824]\u001b[0m Trial 988 finished with value: 0.8154442988478137 and parameters: {'tol': 0.1338035604528917, 'max_iter': 1495, 'selection': 'cyclic', 'l1_ratio': 0.3769558483363009, 'alpha': 0.0010961414413709555}. Best is trial 268 with value: 0.8162285684622925.\u001b[0m\n",
      "\u001b[32m[I 2022-11-28 16:00:01,869]\u001b[0m Trial 989 finished with value: 0.6916989168767523 and parameters: {'tol': 0.05328545660234656, 'max_iter': 2476, 'selection': 'cyclic', 'l1_ratio': 0.31761535407358626, 'alpha': 0.13239221173365298}. Best is trial 268 with value: 0.8162285684622925.\u001b[0m\n",
      "\u001b[32m[I 2022-11-28 16:00:04,646]\u001b[0m Trial 990 finished with value: 0.8160300124314904 and parameters: {'tol': 0.14989675922557483, 'max_iter': 2356, 'selection': 'cyclic', 'l1_ratio': 0.06304217259440127, 'alpha': 0.00042562610010533355}. Best is trial 268 with value: 0.8162285684622925.\u001b[0m\n",
      "\u001b[32m[I 2022-11-28 16:00:06,707]\u001b[0m Trial 991 finished with value: 0.785372618696455 and parameters: {'tol': 0.20021995144938848, 'max_iter': 8646, 'selection': 'cyclic', 'l1_ratio': 0.03360637982863314, 'alpha': 0.06688554970104083}. Best is trial 268 with value: 0.8162285684622925.\u001b[0m\n",
      "\u001b[32m[I 2022-11-28 16:00:09,491]\u001b[0m Trial 992 finished with value: 0.7961632113954963 and parameters: {'tol': 0.17075820352740262, 'max_iter': 1602, 'selection': 'cyclic', 'l1_ratio': 0.02099148021012767, 'alpha': 0.03773859568898188}. Best is trial 268 with value: 0.8162285684622925.\u001b[0m\n",
      "\u001b[32m[I 2022-11-28 16:00:11,098]\u001b[0m Trial 993 finished with value: 0.7741248503595103 and parameters: {'tol': 0.0002477513028186462, 'max_iter': 7620, 'selection': 'cyclic', 'l1_ratio': 0.04705752163866132, 'alpha': 0.09672494643333714}. Best is trial 268 with value: 0.8162285684622925.\u001b[0m\n",
      "\u001b[32m[I 2022-11-28 16:00:13,976]\u001b[0m Trial 994 finished with value: 0.8159133316422815 and parameters: {'tol': 0.06796976976121832, 'max_iter': 2158, 'selection': 'cyclic', 'l1_ratio': 0.2094361381399122, 'alpha': 0.000510796223617583}. Best is trial 268 with value: 0.8162285684622925.\u001b[0m\n",
      "\u001b[32m[I 2022-11-28 16:00:16,370]\u001b[0m Trial 995 finished with value: 0.7958476783623359 and parameters: {'tol': 0.03456811261437527, 'max_iter': 3639, 'selection': 'random', 'l1_ratio': 0.06127256185396397, 'alpha': 0.037216059040511104}. Best is trial 268 with value: 0.8162285684622925.\u001b[0m\n",
      "\u001b[32m[I 2022-11-28 16:00:17,405]\u001b[0m Trial 996 finished with value: 0.7021420014146008 and parameters: {'tol': 0.09563285612121931, 'max_iter': 1681, 'selection': 'cyclic', 'l1_ratio': 0.5554895406638463, 'alpha': 0.06751882700287871}. Best is trial 268 with value: 0.8162285684622925.\u001b[0m\n",
      "\u001b[32m[I 2022-11-28 16:00:58,351]\u001b[0m Trial 997 finished with value: 0.8161629476659696 and parameters: {'tol': 0.12227600471429424, 'max_iter': 7936, 'selection': 'random', 'l1_ratio': 0.0009603274134105458, 'alpha': 0.00018111005946212634}. Best is trial 268 with value: 0.8162285684622925.\u001b[0m\n",
      "\u001b[32m[I 2022-11-28 16:00:59,514]\u001b[0m Trial 998 finished with value: 0.7811822912688156 and parameters: {'tol': 0.1856373568058441, 'max_iter': 8245, 'selection': 'random', 'l1_ratio': 0.4768898400414419, 'alpha': 0.034009845679281406}. Best is trial 268 with value: 0.8162285684622925.\u001b[0m\n",
      "\u001b[32m[I 2022-11-28 16:01:01,095]\u001b[0m Trial 999 finished with value: 0.7672490589231475 and parameters: {'tol': 0.1513566444480781, 'max_iter': 1976, 'selection': 'cyclic', 'l1_ratio': 0.039056868904541076, 'alpha': 0.1243657040564136}. Best is trial 268 with value: 0.8162285684622925.\u001b[0m\n"
     ]
    }
   ],
   "source": [
    "def objective(trial):\n",
    "    param = {\n",
    "        'tol' : trial.suggest_uniform('tol' , 1e-6 , 1.0),\n",
    "        'max_iter' : trial.suggest_int('max_iter', 1000, 10000),\n",
    "        'selection' : trial.suggest_categorical('selection' , ['cyclic','random']),\n",
    "        'l1_ratio' : trial.suggest_uniform('l1_ratio' , 1e-6 , 1.0),\n",
    "        'alpha' : trial.suggest_uniform('alpha' , 1e-6 , 2.0),\n",
    "    }\n",
    "    random.seed(777)\n",
    "    model = ElasticNet(**param, random_state=777)\n",
    "    ElasticNet_model = model.fit(h_train_X, h_train_y)\n",
    "    preds = ElasticNet_model.predict(h_valid_X)\n",
    "    # pred_labels = np.rint(preds)\n",
    "    loss = roc_auc_score(h_valid_y, preds)\n",
    "    return loss\n",
    "study_ElasticNet = optuna.create_study(direction='maximize', sampler=sampler)\n",
    "study_ElasticNet.optimize(objective, n_trials=1000)"
   ]
  },
  {
   "cell_type": "code",
   "execution_count": null,
   "metadata": {},
   "outputs": [],
   "source": [
    "def objective(trial):\n",
    "    param = {\n",
    "        'tol' : trial.suggest_uniform('tol' , 1e-6 , 1.0),\n",
    "        'max_iter' : trial.suggest_int('max_iter', 1000, 10000),\n",
    "        'loss' : trial.suggest_categorical('loss' , ['squared_error','huber', 'epsilon_insensitive', 'squared_epsilon_insensitive']),\n",
    "        'penalty' : 'elasticnet',\n",
    "        'l1_ratio' : trial.suggest_uniform('l1_ratio' , 1e-6 , 1.0),\n",
    "        'alpha' : trial.suggest_uniform('alpha' , 1e-6 , 2.0),\n",
    "        'learning_rate' : trial.suggest_categorical('learning_rate' , ['constant','optimal', 'invscaling', 'adaptive']),\n",
    "        'eta0' : trial.suggest_uniform('eta0' , 1e-6 , 1.0),\n",
    "        'power_t' : trial.suggest_uniform('power_t' , 1e-6 , 1.0),\n",
    "        'early_stopping' : True,\n",
    "        'validation_fraction' : 0.2,\n",
    "        'n_iter_no_change' : trial.suggest_int('n_iter_no_change', 5, 50),\n",
    "    }\n",
    "    if param['loss'] in ['huber', 'epsilon_insensitive', 'squared_epsilon_insensitive']:\n",
    "        param['epsilon'] = trial.suggest_uniform('epsilon' , 1e-6 , 1.0)\n",
    "\n",
    "    model = RANSACRegressor(**param, random_state=777)\n",
    "    RANSAC_model = model.fit(h_train_X, h_train_y)\n",
    "    preds = RANSAC_model.predict(h_valid_X)\n",
    "    pred_labels = np.rint(preds)\n",
    "    loss = roc_auc_score(h_valid_y, pred_labels)\n",
    "    return loss\n",
    "study_RANSAC = optuna.create_study(direction='maximize', sampler=sampler)\n",
    "study_RANSAC.optimize(objective, n_trials=1000)"
   ]
  },
  {
   "cell_type": "code",
   "execution_count": null,
   "metadata": {},
   "outputs": [],
   "source": [
    "def objective(trial):\n",
    "    param = {\n",
    "        'nu' : trial.suggest_uniform('nu' , 0.0 , 1.0),\n",
    "        'max_iter' : trial.suggest_int('max_iter', 1000, 10000),\n",
    "        'tol' : trial.suggest_uniform('tol' , 1e-6 , 1.0),\n",
    "        'learning_rate' : trial.suggest_categorical('learning_rate' , ['constant','optimal', 'invscaling', 'adaptive']),\n",
    "        'eta0' : trial.suggest_uniform('eta0' , 1e-6 , 1.0),\n",
    "        'power_t' : trial.suggest_uniform('power_t' , 1e-6 , 1.0)\n",
    "    }\n",
    "    random.seed(777)\n",
    "    model = SGDOneClassSVM(**param, random_state=777)\n",
    "    SGDOneClass_model = model.fit(h_train_X, h_train_y)\n",
    "    preds = SGDOneClass_model.predict(h_valid_X)\n",
    "    loss = roc_auc_score(h_valid_y, preds)\n",
    "    return loss\n",
    "study_SGDOneClass = optuna.create_study(direction='maximize', sampler=sampler)\n",
    "study_SGDOneClass.optimize(objective, n_trials=1000)"
   ]
  },
  {
   "cell_type": "markdown",
   "metadata": {},
   "source": [
    "## Support vector model paramter search"
   ]
  },
  {
   "cell_type": "code",
   "execution_count": null,
   "metadata": {},
   "outputs": [],
   "source": [
    "def objective(trial):\n",
    "    param = {\n",
    "        'alpha' : trial.suggest_uniform('alpha' , 0.0 , 1.0),\n",
    "    }\n",
    "    model = BernoulliNB(**param)\n",
    "    Bernoulli_model = model.fit(h_train_X, h_train_y)\n",
    "    preds = Bernoulli_model.predict(h_valid_X)\n",
    "    pred_labels = np.rint(preds)\n",
    "    loss = roc_auc_score(h_valid_y, pred_labels)\n",
    "    return loss\n",
    "study_Bernoulli = optuna.create_study(direction='maximize', sampler=sampler)\n",
    "study_Bernoulli.optimize(objective, n_trials=1000)"
   ]
  },
  {
   "cell_type": "code",
   "execution_count": 2,
   "metadata": {},
   "outputs": [
    {
     "name": "stderr",
     "output_type": "stream",
     "text": [
      "\u001b[32m[I 2022-11-26 15:02:01,774]\u001b[0m A new study created in memory with name: no-name-6c8a18e4-34ed-4118-bdae-4e5a252efcdf\u001b[0m\n"
     ]
    }
   ],
   "source": [
    "def objective(trial):\n",
    "    param = {\n",
    "        'tol' : trial.suggest_uniform('tol' , 1e-6 , 1.0),\n",
    "        # 'max_iter' : trial.suggest_int('max_iter', 1000, 10000),\n",
    "        'kernel' : trial.suggest_categorical('kernel' , ['linear', 'poly', 'rbf', 'sigmoid']),\n",
    "        'gamma' : trial.suggest_categorical('gamma' , ['scale', 'auto']),\n",
    "        'tol' : trial.suggest_uniform('tol' , 1e-6 , 1),\n",
    "        'C' : trial.suggest_uniform('alpha' , 1e-6 , 10),\n",
    "        'epsilon' : trial.suggest_uniform('epsilon' , 1e-6 , 1.0),\n",
    "    }\n",
    "    if param['kernel'] in ['poly', 'sigmoid']:\n",
    "        if param['kernel'] == 'poly':\n",
    "            param['degree'] = trial.suggest_int('degree', 1, 10)\n",
    "        param['coef0'] = trial.suggest_uniform('l1_ratio' , 1e-6 , 1.0)\n",
    "    \n",
    "    model = SVR(**param)\n",
    "    SVR_model = model.fit(h_train_X, h_train_y)\n",
    "    preds = SVR_model.predict(h_valid_X)\n",
    "    pred_labels = np.rint(preds)\n",
    "    loss = roc_auc_score(h_valid_y, pred_labels)\n",
    "    return loss\n",
    "study_SVR = optuna.create_study(direction='maximize', sampler=sampler)\n",
    "study_SVR.optimize(objective, n_trials=1000)"
   ]
  },
  {
   "cell_type": "markdown",
   "metadata": {},
   "source": [
    "## LGBM parameter serach"
   ]
  },
  {
   "cell_type": "code",
   "execution_count": 2,
   "metadata": {},
   "outputs": [
    {
     "name": "stderr",
     "output_type": "stream",
     "text": [
      "/tmp/ipykernel_90738/1542862549.py:4: ExperimentalWarning: WeightsAndBiasesCallback is experimental (supported from v2.9.0). The interface can change in the future.\n",
      "  wandbc = WeightsAndBiasesCallback(wandb_kwargs=wandb_kwargs)\n",
      "Failed to detect the name of this notebook, you can set it manually with the WANDB_NOTEBOOK_NAME environment variable to enable code saving.\n",
      "\u001b[34m\u001b[1mwandb\u001b[0m: Currently logged in as: \u001b[33mjmkim_\u001b[0m. Use \u001b[1m`wandb login --relogin`\u001b[0m to force relogin\n"
     ]
    },
    {
     "data": {
      "text/html": [
       "Tracking run with wandb version 0.13.5"
      ],
      "text/plain": [
       "<IPython.core.display.HTML object>"
      ]
     },
     "metadata": {},
     "output_type": "display_data"
    },
    {
     "data": {
      "text/html": [
       "Run data is saved locally in <code>/opt/ml/input/JMKIM/wandb/run-20221130_173310-37uoram7</code>"
      ],
      "text/plain": [
       "<IPython.core.display.HTML object>"
      ]
     },
     "metadata": {},
     "output_type": "display_data"
    },
    {
     "data": {
      "text/html": [
       "Syncing run <strong><a href=\"https://wandb.ai/jmkim_/lgb-optuna/runs/37uoram7\" target=\"_blank\">unique-glitter-20</a></strong> to <a href=\"https://wandb.ai/jmkim_/lgb-optuna\" target=\"_blank\">Weights & Biases</a> (<a href=\"https://wandb.me/run\" target=\"_blank\">docs</a>)<br/>"
      ],
      "text/plain": [
       "<IPython.core.display.HTML object>"
      ]
     },
     "metadata": {},
     "output_type": "display_data"
    },
    {
     "name": "stderr",
     "output_type": "stream",
     "text": [
      "/tmp/ipykernel_90738/1542862549.py:6: ExperimentalWarning: track_in_wandb is experimental (supported from v3.0.0). The interface can change in the future.\n",
      "  @wandbc.track_in_wandb()\n",
      "\u001b[32m[I 2022-11-30 17:33:16,309]\u001b[0m A new study created in memory with name: no-name-351beb0e-f300-4864-962b-78f3a2b6a736\u001b[0m\n"
     ]
    },
    {
     "name": "stdout",
     "output_type": "stream",
     "text": [
      "[LightGBM] [Warning] lambda_l1 is set=8.09013813952634e-06, reg_alpha=0.0 will be ignored. Current value: lambda_l1=8.09013813952634e-06\n",
      "[LightGBM] [Warning] bagging_fraction is set=0.6373362152887747, subsample=1.0 will be ignored. Current value: bagging_fraction=0.6373362152887747\n",
      "[LightGBM] [Warning] feature_fraction is set=0.7358455013823457, colsample_bytree=1.0 will be ignored. Current value: feature_fraction=0.7358455013823457\n",
      "[LightGBM] [Warning] min_data_in_leaf is set=18, min_child_samples=93 will be ignored. Current value: min_data_in_leaf=18\n",
      "[LightGBM] [Warning] lambda_l2 is set=1.1857274872193908e-05, reg_lambda=0.0 will be ignored. Current value: lambda_l2=1.1857274872193908e-05\n"
     ]
    },
    {
     "name": "stderr",
     "output_type": "stream",
     "text": [
      "\u001b[32m[I 2022-11-30 18:12:55,699]\u001b[0m Trial 0 finished with value: 0.8621601557256083 and parameters: {'objective': 'cross_entropy', 'max_depth': 3, 'learning_rate': 0.023965198184953764, 'n_estimators': 8369, 'min_child_samples': 93, 'lambda_l1': 8.09013813952634e-06, 'lambda_l2': 1.1857274872193908e-05, 'path_smooth': 2.2183258107863225e-07, 'num_leaves': 140, 'min_data_in_leaf': 18, 'max_bin': 112, 'feature_fraction': 0.7358455013823457, 'bagging_fraction': 0.6373362152887747}. Best is trial 0 with value: 0.8621601557256083.\u001b[0m\n"
     ]
    },
    {
     "name": "stdout",
     "output_type": "stream",
     "text": [
      "[LightGBM] [Warning] lambda_l1 is set=7.793138524702794e-08, reg_alpha=0.0 will be ignored. Current value: lambda_l1=7.793138524702794e-08\n",
      "[LightGBM] [Warning] bagging_fraction is set=0.6012475776818278, subsample=1.0 will be ignored. Current value: bagging_fraction=0.6012475776818278\n",
      "[LightGBM] [Warning] feature_fraction is set=0.7489355297282327, colsample_bytree=1.0 will be ignored. Current value: feature_fraction=0.7489355297282327\n",
      "[LightGBM] [Warning] min_data_in_leaf is set=65, min_child_samples=40 will be ignored. Current value: min_data_in_leaf=65\n",
      "[LightGBM] [Warning] lambda_l2 is set=5.568912592525814e-08, reg_lambda=0.0 will be ignored. Current value: lambda_l2=5.568912592525814e-08\n"
     ]
    },
    {
     "name": "stderr",
     "output_type": "stream",
     "text": [
      "\u001b[32m[I 2022-11-30 18:24:58,977]\u001b[0m Trial 1 finished with value: 0.8654467835998472 and parameters: {'objective': 'binary', 'max_depth': 11, 'learning_rate': 0.04537017362092559, 'n_estimators': 2761, 'min_child_samples': 40, 'lambda_l1': 7.793138524702794e-08, 'lambda_l2': 5.568912592525814e-08, 'path_smooth': 8.979258351381595e-07, 'num_leaves': 63, 'min_data_in_leaf': 65, 'max_bin': 237, 'feature_fraction': 0.7489355297282327, 'bagging_fraction': 0.6012475776818278}. Best is trial 1 with value: 0.8654467835998472.\u001b[0m\n"
     ]
    },
    {
     "name": "stdout",
     "output_type": "stream",
     "text": [
      "[LightGBM] [Warning] lambda_l1 is set=1.3504606405290654e-06, reg_alpha=0.0 will be ignored. Current value: lambda_l1=1.3504606405290654e-06\n",
      "[LightGBM] [Warning] bagging_fraction is set=0.7448094317092934, subsample=1.0 will be ignored. Current value: bagging_fraction=0.7448094317092934\n",
      "[LightGBM] [Warning] feature_fraction is set=0.6183490776349688, colsample_bytree=1.0 will be ignored. Current value: feature_fraction=0.6183490776349688\n",
      "[LightGBM] [Warning] min_data_in_leaf is set=80, min_child_samples=62 will be ignored. Current value: min_data_in_leaf=80\n",
      "[LightGBM] [Warning] lambda_l2 is set=1.1304209523340012e-08, reg_lambda=0.0 will be ignored. Current value: lambda_l2=1.1304209523340012e-08\n"
     ]
    },
    {
     "name": "stderr",
     "output_type": "stream",
     "text": [
      "\u001b[32m[I 2022-11-30 18:46:37,283]\u001b[0m Trial 2 finished with value: 0.8652564369668044 and parameters: {'objective': 'cross_entropy', 'max_depth': 5, 'learning_rate': 0.03552805397960183, 'n_estimators': 5233, 'min_child_samples': 62, 'lambda_l1': 1.3504606405290654e-06, 'lambda_l2': 1.1304209523340012e-08, 'path_smooth': 4.173364449604953e-06, 'num_leaves': 183, 'min_data_in_leaf': 80, 'max_bin': 119, 'feature_fraction': 0.6183490776349688, 'bagging_fraction': 0.7448094317092934}. Best is trial 1 with value: 0.8654467835998472.\u001b[0m\n"
     ]
    },
    {
     "name": "stdout",
     "output_type": "stream",
     "text": [
      "[LightGBM] [Warning] lambda_l1 is set=7.742869968546266e-07, reg_alpha=0.0 will be ignored. Current value: lambda_l1=7.742869968546266e-07\n",
      "[LightGBM] [Warning] bagging_fraction is set=0.5107769041950028, subsample=1.0 will be ignored. Current value: bagging_fraction=0.5107769041950028\n",
      "[LightGBM] [Warning] feature_fraction is set=0.6798074999663026, colsample_bytree=1.0 will be ignored. Current value: feature_fraction=0.6798074999663026\n",
      "[LightGBM] [Warning] min_data_in_leaf is set=42, min_child_samples=57 will be ignored. Current value: min_data_in_leaf=42\n",
      "[LightGBM] [Warning] lambda_l2 is set=1.4707533372708972e-05, reg_lambda=0.0 will be ignored. Current value: lambda_l2=1.4707533372708972e-05\n"
     ]
    },
    {
     "name": "stderr",
     "output_type": "stream",
     "text": [
      "\u001b[32m[I 2022-11-30 20:56:06,866]\u001b[0m Trial 3 finished with value: 0.8663504281708264 and parameters: {'objective': 'binary', 'max_depth': 12, 'learning_rate': 0.003757448986688627, 'n_estimators': 5623, 'min_child_samples': 57, 'lambda_l1': 7.742869968546266e-07, 'lambda_l2': 1.4707533372708972e-05, 'path_smooth': 3.769193132689633e-08, 'num_leaves': 146, 'min_data_in_leaf': 42, 'max_bin': 153, 'feature_fraction': 0.6798074999663026, 'bagging_fraction': 0.5107769041950028}. Best is trial 3 with value: 0.8663504281708264.\u001b[0m\n"
     ]
    },
    {
     "name": "stdout",
     "output_type": "stream",
     "text": [
      "[LightGBM] [Warning] lambda_l1 is set=6.246865795612923e-07, reg_alpha=0.0 will be ignored. Current value: lambda_l1=6.246865795612923e-07\n",
      "[LightGBM] [Warning] bagging_fraction is set=0.7187164843565222, subsample=1.0 will be ignored. Current value: bagging_fraction=0.7187164843565222\n",
      "[LightGBM] [Warning] feature_fraction is set=0.8395097215390547, colsample_bytree=1.0 will be ignored. Current value: feature_fraction=0.8395097215390547\n",
      "[LightGBM] [Warning] min_data_in_leaf is set=86, min_child_samples=36 will be ignored. Current value: min_data_in_leaf=86\n",
      "[LightGBM] [Warning] lambda_l2 is set=1.1623519829192828e-08, reg_lambda=0.0 will be ignored. Current value: lambda_l2=1.1623519829192828e-08\n"
     ]
    },
    {
     "name": "stderr",
     "output_type": "stream",
     "text": [
      "\u001b[32m[I 2022-11-30 21:43:58,862]\u001b[0m Trial 4 finished with value: 0.8621089618533742 and parameters: {'objective': 'cross_entropy', 'max_depth': 4, 'learning_rate': 0.008817903457666037, 'n_estimators': 5327, 'min_child_samples': 36, 'lambda_l1': 6.246865795612923e-07, 'lambda_l2': 1.1623519829192828e-08, 'path_smooth': 3.0558674531010326e-08, 'num_leaves': 148, 'min_data_in_leaf': 86, 'max_bin': 166, 'feature_fraction': 0.8395097215390547, 'bagging_fraction': 0.7187164843565222}. Best is trial 3 with value: 0.8663504281708264.\u001b[0m\n"
     ]
    },
    {
     "name": "stdout",
     "output_type": "stream",
     "text": [
      "[LightGBM] [Warning] lambda_l1 is set=1.5395577746201769e-07, reg_alpha=0.0 will be ignored. Current value: lambda_l1=1.5395577746201769e-07\n",
      "[LightGBM] [Warning] bagging_fraction is set=0.6599109264908691, subsample=1.0 will be ignored. Current value: bagging_fraction=0.6599109264908691\n",
      "[LightGBM] [Warning] feature_fraction is set=0.5117794317165487, colsample_bytree=1.0 will be ignored. Current value: feature_fraction=0.5117794317165487\n",
      "[LightGBM] [Warning] min_data_in_leaf is set=67, min_child_samples=90 will be ignored. Current value: min_data_in_leaf=67\n",
      "[LightGBM] [Warning] lambda_l2 is set=1.6091375151327235e-07, reg_lambda=0.0 will be ignored. Current value: lambda_l2=1.6091375151327235e-07\n"
     ]
    },
    {
     "name": "stderr",
     "output_type": "stream",
     "text": [
      "\u001b[32m[I 2022-11-30 21:47:41,841]\u001b[0m Trial 5 finished with value: 0.8604723149828511 and parameters: {'objective': 'cross_entropy', 'max_depth': 4, 'learning_rate': 0.4770637172354527, 'n_estimators': 3429, 'min_child_samples': 90, 'lambda_l1': 1.5395577746201769e-07, 'lambda_l2': 1.6091375151327235e-07, 'path_smooth': 0.00010744916431686771, 'num_leaves': 173, 'min_data_in_leaf': 67, 'max_bin': 148, 'feature_fraction': 0.5117794317165487, 'bagging_fraction': 0.6599109264908691}. Best is trial 3 with value: 0.8663504281708264.\u001b[0m\n"
     ]
    },
    {
     "name": "stdout",
     "output_type": "stream",
     "text": [
      "[LightGBM] [Warning] lambda_l1 is set=2.0246746967152848e-07, reg_alpha=0.0 will be ignored. Current value: lambda_l1=2.0246746967152848e-07\n",
      "[LightGBM] [Warning] bagging_fraction is set=0.5810067212290936, subsample=1.0 will be ignored. Current value: bagging_fraction=0.5810067212290936\n",
      "[LightGBM] [Warning] feature_fraction is set=0.8900849833714146, colsample_bytree=1.0 will be ignored. Current value: feature_fraction=0.8900849833714146\n",
      "[LightGBM] [Warning] min_data_in_leaf is set=13, min_child_samples=32 will be ignored. Current value: min_data_in_leaf=13\n",
      "[LightGBM] [Warning] lambda_l2 is set=4.229005234665855e-05, reg_lambda=0.0 will be ignored. Current value: lambda_l2=4.229005234665855e-05\n"
     ]
    },
    {
     "name": "stderr",
     "output_type": "stream",
     "text": [
      "\u001b[32m[I 2022-11-30 21:49:20,187]\u001b[0m Trial 6 finished with value: 0.8571911912008306 and parameters: {'objective': 'binary', 'max_depth': 13, 'learning_rate': 0.3659431202433013, 'n_estimators': 1402, 'min_child_samples': 32, 'lambda_l1': 2.0246746967152848e-07, 'lambda_l2': 4.229005234665855e-05, 'path_smooth': 0.0009949418900135276, 'num_leaves': 161, 'min_data_in_leaf': 13, 'max_bin': 250, 'feature_fraction': 0.8900849833714146, 'bagging_fraction': 0.5810067212290936}. Best is trial 3 with value: 0.8663504281708264.\u001b[0m\n"
     ]
    },
    {
     "name": "stdout",
     "output_type": "stream",
     "text": [
      "[LightGBM] [Warning] lambda_l1 is set=6.667380713006627e-06, reg_alpha=0.0 will be ignored. Current value: lambda_l1=6.667380713006627e-06\n",
      "[LightGBM] [Warning] bagging_fraction is set=0.712837180422895, subsample=1.0 will be ignored. Current value: bagging_fraction=0.712837180422895\n",
      "[LightGBM] [Warning] feature_fraction is set=0.647150360092577, colsample_bytree=1.0 will be ignored. Current value: feature_fraction=0.647150360092577\n",
      "[LightGBM] [Warning] min_data_in_leaf is set=25, min_child_samples=6 will be ignored. Current value: min_data_in_leaf=25\n",
      "[LightGBM] [Warning] lambda_l2 is set=1.2529435095128308e-05, reg_lambda=0.0 will be ignored. Current value: lambda_l2=1.2529435095128308e-05\n"
     ]
    },
    {
     "name": "stderr",
     "output_type": "stream",
     "text": [
      "\u001b[32m[I 2022-11-30 21:52:36,408]\u001b[0m Trial 7 finished with value: 0.8636718817542025 and parameters: {'objective': 'binary', 'max_depth': 14, 'learning_rate': 0.15297555478638752, 'n_estimators': 2534, 'min_child_samples': 6, 'lambda_l1': 6.667380713006627e-06, 'lambda_l2': 1.2529435095128308e-05, 'path_smooth': 2.316717147746947e-06, 'num_leaves': 167, 'min_data_in_leaf': 25, 'max_bin': 212, 'feature_fraction': 0.647150360092577, 'bagging_fraction': 0.712837180422895}. Best is trial 3 with value: 0.8663504281708264.\u001b[0m\n"
     ]
    },
    {
     "name": "stdout",
     "output_type": "stream",
     "text": [
      "[LightGBM] [Warning] lambda_l1 is set=1.2242096024682502e-06, reg_alpha=0.0 will be ignored. Current value: lambda_l1=1.2242096024682502e-06\n",
      "[LightGBM] [Warning] bagging_fraction is set=0.8081208008262204, subsample=1.0 will be ignored. Current value: bagging_fraction=0.8081208008262204\n",
      "[LightGBM] [Warning] feature_fraction is set=0.5067569163275346, colsample_bytree=1.0 will be ignored. Current value: feature_fraction=0.5067569163275346\n",
      "[LightGBM] [Warning] min_data_in_leaf is set=65, min_child_samples=43 will be ignored. Current value: min_data_in_leaf=65\n",
      "[LightGBM] [Warning] lambda_l2 is set=2.6549112632588423e-08, reg_lambda=0.0 will be ignored. Current value: lambda_l2=2.6549112632588423e-08\n"
     ]
    },
    {
     "name": "stderr",
     "output_type": "stream",
     "text": [
      "\u001b[32m[I 2022-11-30 22:10:32,553]\u001b[0m Trial 8 finished with value: 0.8662096078923768 and parameters: {'objective': 'cross_entropy', 'max_depth': 12, 'learning_rate': 0.015686409016513518, 'n_estimators': 1147, 'min_child_samples': 43, 'lambda_l1': 1.2242096024682502e-06, 'lambda_l2': 2.6549112632588423e-08, 'path_smooth': 0.0001851236657325161, 'num_leaves': 118, 'min_data_in_leaf': 65, 'max_bin': 229, 'feature_fraction': 0.5067569163275346, 'bagging_fraction': 0.8081208008262204}. Best is trial 3 with value: 0.8663504281708264.\u001b[0m\n"
     ]
    },
    {
     "name": "stdout",
     "output_type": "stream",
     "text": [
      "[LightGBM] [Warning] lambda_l1 is set=1.6997150743496004e-05, reg_alpha=0.0 will be ignored. Current value: lambda_l1=1.6997150743496004e-05\n",
      "[LightGBM] [Warning] bagging_fraction is set=0.7681060138388102, subsample=1.0 will be ignored. Current value: bagging_fraction=0.7681060138388102\n",
      "[LightGBM] [Warning] feature_fraction is set=0.7544202416604087, colsample_bytree=1.0 will be ignored. Current value: feature_fraction=0.7544202416604087\n",
      "[LightGBM] [Warning] min_data_in_leaf is set=86, min_child_samples=28 will be ignored. Current value: min_data_in_leaf=86\n",
      "[LightGBM] [Warning] lambda_l2 is set=2.558321068797796e-08, reg_lambda=0.0 will be ignored. Current value: lambda_l2=2.558321068797796e-08\n"
     ]
    },
    {
     "name": "stderr",
     "output_type": "stream",
     "text": [
      "\u001b[32m[I 2022-11-30 22:12:43,605]\u001b[0m Trial 9 finished with value: 0.8593726641350229 and parameters: {'objective': 'binary', 'max_depth': 4, 'learning_rate': 0.4616040032583131, 'n_estimators': 1156, 'min_child_samples': 28, 'lambda_l1': 1.6997150743496004e-05, 'lambda_l2': 2.558321068797796e-08, 'path_smooth': 2.462786506980637e-08, 'num_leaves': 89, 'min_data_in_leaf': 86, 'max_bin': 110, 'feature_fraction': 0.7544202416604087, 'bagging_fraction': 0.7681060138388102}. Best is trial 3 with value: 0.8663504281708264.\u001b[0m\n"
     ]
    },
    {
     "name": "stdout",
     "output_type": "stream",
     "text": [
      "[LightGBM] [Warning] lambda_l1 is set=1.1701422302987875e-08, reg_alpha=0.0 will be ignored. Current value: lambda_l1=1.1701422302987875e-08\n",
      "[LightGBM] [Warning] bagging_fraction is set=0.5019513328033253, subsample=1.0 will be ignored. Current value: bagging_fraction=0.5019513328033253\n",
      "[LightGBM] [Warning] feature_fraction is set=0.6128815889065602, colsample_bytree=1.0 will be ignored. Current value: feature_fraction=0.6128815889065602\n",
      "[LightGBM] [Warning] min_data_in_leaf is set=41, min_child_samples=67 will be ignored. Current value: min_data_in_leaf=41\n",
      "[LightGBM] [Warning] lambda_l2 is set=1.514244546950089e-06, reg_lambda=0.0 will be ignored. Current value: lambda_l2=1.514244546950089e-06\n"
     ]
    },
    {
     "name": "stderr",
     "output_type": "stream",
     "text": [
      "\u001b[32m[I 2022-12-01 00:10:03,609]\u001b[0m Trial 10 finished with value: 0.8602919919955238 and parameters: {'objective': 'binary', 'max_depth': 9, 'learning_rate': 0.0011346718284596584, 'n_estimators': 8225, 'min_child_samples': 67, 'lambda_l1': 1.1701422302987875e-08, 'lambda_l2': 1.514244546950089e-06, 'path_smooth': 1.0221500021102691e-07, 'num_leaves': 40, 'min_data_in_leaf': 41, 'max_bin': 197, 'feature_fraction': 0.6128815889065602, 'bagging_fraction': 0.5019513328033253}. Best is trial 3 with value: 0.8663504281708264.\u001b[0m\n"
     ]
    },
    {
     "name": "stdout",
     "output_type": "stream",
     "text": [
      "[LightGBM] [Warning] lambda_l1 is set=2.0281502771134802e-06, reg_alpha=0.0 will be ignored. Current value: lambda_l1=2.0281502771134802e-06\n",
      "[LightGBM] [Warning] bagging_fraction is set=0.881378823619513, subsample=1.0 will be ignored. Current value: bagging_fraction=0.881378823619513\n",
      "[LightGBM] [Warning] feature_fraction is set=0.5109657623647793, colsample_bytree=1.0 will be ignored. Current value: feature_fraction=0.5109657623647793\n",
      "[LightGBM] [Warning] min_data_in_leaf is set=45, min_child_samples=54 will be ignored. Current value: min_data_in_leaf=45\n",
      "[LightGBM] [Warning] lambda_l2 is set=1.1905119852415031e-06, reg_lambda=0.0 will be ignored. Current value: lambda_l2=1.1905119852415031e-06\n"
     ]
    },
    {
     "name": "stderr",
     "output_type": "stream",
     "text": [
      "\u001b[32m[I 2022-12-01 01:54:38,681]\u001b[0m Trial 11 finished with value: 0.8660157189580127 and parameters: {'objective': 'cross_entropy', 'max_depth': 10, 'learning_rate': 0.0029055609921674504, 'n_estimators': 6252, 'min_child_samples': 54, 'lambda_l1': 2.0281502771134802e-06, 'lambda_l2': 1.1905119852415031e-06, 'path_smooth': 4.382195681565747e-05, 'num_leaves': 114, 'min_data_in_leaf': 45, 'max_bin': 153, 'feature_fraction': 0.5109657623647793, 'bagging_fraction': 0.881378823619513}. Best is trial 3 with value: 0.8663504281708264.\u001b[0m\n"
     ]
    },
    {
     "name": "stdout",
     "output_type": "stream",
     "text": [
      "[LightGBM] [Warning] lambda_l1 is set=8.986040465602197e-05, reg_alpha=0.0 will be ignored. Current value: lambda_l1=8.986040465602197e-05\n",
      "[LightGBM] [Warning] bagging_fraction is set=0.8404330925762327, subsample=1.0 will be ignored. Current value: bagging_fraction=0.8404330925762327\n",
      "[LightGBM] [Warning] feature_fraction is set=0.5651388533061754, colsample_bytree=1.0 will be ignored. Current value: feature_fraction=0.5651388533061754\n",
      "[LightGBM] [Warning] min_data_in_leaf is set=46, min_child_samples=71 will be ignored. Current value: min_data_in_leaf=46\n",
      "[LightGBM] [Warning] lambda_l2 is set=1.9681978581061574e-07, reg_lambda=0.0 will be ignored. Current value: lambda_l2=1.9681978581061574e-07\n"
     ]
    },
    {
     "name": "stderr",
     "output_type": "stream",
     "text": [
      "\u001b[32m[I 2022-12-01 03:08:14,174]\u001b[0m Trial 12 finished with value: 0.8670172167848542 and parameters: {'objective': 'binary', 'max_depth': 12, 'learning_rate': 0.006303437371629695, 'n_estimators': 6876, 'min_child_samples': 71, 'lambda_l1': 8.986040465602197e-05, 'lambda_l2': 1.9681978581061574e-07, 'path_smooth': 2.5772018880316357e-05, 'num_leaves': 118, 'min_data_in_leaf': 46, 'max_bin': 193, 'feature_fraction': 0.5651388533061754, 'bagging_fraction': 0.8404330925762327}. Best is trial 12 with value: 0.8670172167848542.\u001b[0m\n"
     ]
    },
    {
     "name": "stdout",
     "output_type": "stream",
     "text": [
      "[LightGBM] [Warning] lambda_l1 is set=4.750446113986196e-05, reg_alpha=0.0 will be ignored. Current value: lambda_l1=4.750446113986196e-05\n",
      "[LightGBM] [Warning] bagging_fraction is set=0.8873814318645048, subsample=1.0 will be ignored. Current value: bagging_fraction=0.8873814318645048\n",
      "[LightGBM] [Warning] feature_fraction is set=0.5738040144973052, colsample_bytree=1.0 will be ignored. Current value: feature_fraction=0.5738040144973052\n",
      "[LightGBM] [Warning] min_data_in_leaf is set=34, min_child_samples=77 will be ignored. Current value: min_data_in_leaf=34\n",
      "[LightGBM] [Warning] lambda_l2 is set=2.973793812356837e-07, reg_lambda=0.0 will be ignored. Current value: lambda_l2=2.973793812356837e-07\n"
     ]
    },
    {
     "name": "stderr",
     "output_type": "stream",
     "text": [
      "\u001b[32m[I 2022-12-01 05:14:04,395]\u001b[0m Trial 13 finished with value: 0.8668999258965717 and parameters: {'objective': 'binary', 'max_depth': 15, 'learning_rate': 0.004221895748020529, 'n_estimators': 6935, 'min_child_samples': 77, 'lambda_l1': 4.750446113986196e-05, 'lambda_l2': 2.973793812356837e-07, 'path_smooth': 8.981452112922886e-06, 'num_leaves': 118, 'min_data_in_leaf': 34, 'max_bin': 186, 'feature_fraction': 0.5738040144973052, 'bagging_fraction': 0.8873814318645048}. Best is trial 12 with value: 0.8670172167848542.\u001b[0m\n"
     ]
    },
    {
     "name": "stdout",
     "output_type": "stream",
     "text": [
      "[LightGBM] [Warning] lambda_l1 is set=8.522015172713497e-05, reg_alpha=0.0 will be ignored. Current value: lambda_l1=8.522015172713497e-05\n",
      "[LightGBM] [Warning] bagging_fraction is set=0.8996460835046367, subsample=1.0 will be ignored. Current value: bagging_fraction=0.8996460835046367\n",
      "[LightGBM] [Warning] feature_fraction is set=0.5728424776934163, colsample_bytree=1.0 will be ignored. Current value: feature_fraction=0.5728424776934163\n",
      "[LightGBM] [Warning] min_data_in_leaf is set=29, min_child_samples=82 will be ignored. Current value: min_data_in_leaf=29\n",
      "[LightGBM] [Warning] lambda_l2 is set=2.912761798588167e-07, reg_lambda=0.0 will be ignored. Current value: lambda_l2=2.912761798588167e-07\n"
     ]
    },
    {
     "name": "stderr",
     "output_type": "stream",
     "text": [
      "\u001b[33m[W 2022-12-01 06:17:35,767]\u001b[0m Trial 14 failed because of the following error: KeyboardInterrupt()\u001b[0m\n",
      "Traceback (most recent call last):\n",
      "  File \"/opt/conda/envs/dkt/lib/python3.8/site-packages/optuna/study/_optimize.py\", line 196, in _run_trial\n",
      "    value_or_values = func(trial)\n",
      "  File \"/opt/conda/envs/dkt/lib/python3.8/site-packages/optuna/integration/wandb.py\", line 228, in wrapper\n",
      "    return func(trial)\n",
      "  File \"/tmp/ipykernel_90738/1542862549.py\", line 31, in objective\n",
      "    lgb_model = model.fit(h_train_X, h_train_y, eval_set=[(h_valid_X, h_valid_y)], verbose=0, early_stopping_rounds=25)\n",
      "  File \"/opt/conda/envs/dkt/lib/python3.8/site-packages/lightgbm/sklearn.py\", line 895, in fit\n",
      "    super().fit(X, y, sample_weight=sample_weight, init_score=init_score,\n",
      "  File \"/opt/conda/envs/dkt/lib/python3.8/site-packages/lightgbm/sklearn.py\", line 748, in fit\n",
      "    self._Booster = train(\n",
      "  File \"/opt/conda/envs/dkt/lib/python3.8/site-packages/lightgbm/engine.py\", line 292, in train\n",
      "    booster.update(fobj=fobj)\n",
      "  File \"/opt/conda/envs/dkt/lib/python3.8/site-packages/lightgbm/basic.py\", line 3021, in update\n",
      "    _safe_call(_LIB.LGBM_BoosterUpdateOneIter(\n",
      "KeyboardInterrupt\n"
     ]
    },
    {
     "ename": "KeyboardInterrupt",
     "evalue": "",
     "output_type": "error",
     "traceback": [
      "\u001b[0;31m---------------------------------------------------------------------------\u001b[0m",
      "\u001b[0;31mKeyboardInterrupt\u001b[0m                         Traceback (most recent call last)",
      "Cell \u001b[0;32mIn [2], line 36\u001b[0m\n\u001b[1;32m     33\u001b[0m     \u001b[39mreturn\u001b[39;00m loss\n\u001b[1;32m     35\u001b[0m study_lgb \u001b[39m=\u001b[39m optuna\u001b[39m.\u001b[39mcreate_study(direction\u001b[39m=\u001b[39m\u001b[39m'\u001b[39m\u001b[39mmaximize\u001b[39m\u001b[39m'\u001b[39m, sampler\u001b[39m=\u001b[39msampler)\n\u001b[0;32m---> 36\u001b[0m study_lgb\u001b[39m.\u001b[39;49moptimize(objective, n_trials\u001b[39m=\u001b[39;49m\u001b[39m100\u001b[39;49m, callbacks\u001b[39m=\u001b[39;49m[wandbc])\n",
      "File \u001b[0;32m/opt/conda/envs/dkt/lib/python3.8/site-packages/optuna/study/study.py:419\u001b[0m, in \u001b[0;36mStudy.optimize\u001b[0;34m(self, func, n_trials, timeout, n_jobs, catch, callbacks, gc_after_trial, show_progress_bar)\u001b[0m\n\u001b[1;32m    315\u001b[0m \u001b[39mdef\u001b[39;00m \u001b[39moptimize\u001b[39m(\n\u001b[1;32m    316\u001b[0m     \u001b[39mself\u001b[39m,\n\u001b[1;32m    317\u001b[0m     func: ObjectiveFuncType,\n\u001b[0;32m   (...)\u001b[0m\n\u001b[1;32m    324\u001b[0m     show_progress_bar: \u001b[39mbool\u001b[39m \u001b[39m=\u001b[39m \u001b[39mFalse\u001b[39;00m,\n\u001b[1;32m    325\u001b[0m ) \u001b[39m-\u001b[39m\u001b[39m>\u001b[39m \u001b[39mNone\u001b[39;00m:\n\u001b[1;32m    326\u001b[0m     \u001b[39m\"\"\"Optimize an objective function.\u001b[39;00m\n\u001b[1;32m    327\u001b[0m \n\u001b[1;32m    328\u001b[0m \u001b[39m    Optimization is done by choosing a suitable set of hyperparameter values from a given\u001b[39;00m\n\u001b[0;32m   (...)\u001b[0m\n\u001b[1;32m    416\u001b[0m \u001b[39m            If nested invocation of this method occurs.\u001b[39;00m\n\u001b[1;32m    417\u001b[0m \u001b[39m    \"\"\"\u001b[39;00m\n\u001b[0;32m--> 419\u001b[0m     _optimize(\n\u001b[1;32m    420\u001b[0m         study\u001b[39m=\u001b[39;49m\u001b[39mself\u001b[39;49m,\n\u001b[1;32m    421\u001b[0m         func\u001b[39m=\u001b[39;49mfunc,\n\u001b[1;32m    422\u001b[0m         n_trials\u001b[39m=\u001b[39;49mn_trials,\n\u001b[1;32m    423\u001b[0m         timeout\u001b[39m=\u001b[39;49mtimeout,\n\u001b[1;32m    424\u001b[0m         n_jobs\u001b[39m=\u001b[39;49mn_jobs,\n\u001b[1;32m    425\u001b[0m         catch\u001b[39m=\u001b[39;49mcatch,\n\u001b[1;32m    426\u001b[0m         callbacks\u001b[39m=\u001b[39;49mcallbacks,\n\u001b[1;32m    427\u001b[0m         gc_after_trial\u001b[39m=\u001b[39;49mgc_after_trial,\n\u001b[1;32m    428\u001b[0m         show_progress_bar\u001b[39m=\u001b[39;49mshow_progress_bar,\n\u001b[1;32m    429\u001b[0m     )\n",
      "File \u001b[0;32m/opt/conda/envs/dkt/lib/python3.8/site-packages/optuna/study/_optimize.py:66\u001b[0m, in \u001b[0;36m_optimize\u001b[0;34m(study, func, n_trials, timeout, n_jobs, catch, callbacks, gc_after_trial, show_progress_bar)\u001b[0m\n\u001b[1;32m     64\u001b[0m \u001b[39mtry\u001b[39;00m:\n\u001b[1;32m     65\u001b[0m     \u001b[39mif\u001b[39;00m n_jobs \u001b[39m==\u001b[39m \u001b[39m1\u001b[39m:\n\u001b[0;32m---> 66\u001b[0m         _optimize_sequential(\n\u001b[1;32m     67\u001b[0m             study,\n\u001b[1;32m     68\u001b[0m             func,\n\u001b[1;32m     69\u001b[0m             n_trials,\n\u001b[1;32m     70\u001b[0m             timeout,\n\u001b[1;32m     71\u001b[0m             catch,\n\u001b[1;32m     72\u001b[0m             callbacks,\n\u001b[1;32m     73\u001b[0m             gc_after_trial,\n\u001b[1;32m     74\u001b[0m             reseed_sampler_rng\u001b[39m=\u001b[39;49m\u001b[39mFalse\u001b[39;49;00m,\n\u001b[1;32m     75\u001b[0m             time_start\u001b[39m=\u001b[39;49m\u001b[39mNone\u001b[39;49;00m,\n\u001b[1;32m     76\u001b[0m             progress_bar\u001b[39m=\u001b[39;49mprogress_bar,\n\u001b[1;32m     77\u001b[0m         )\n\u001b[1;32m     78\u001b[0m     \u001b[39melse\u001b[39;00m:\n\u001b[1;32m     79\u001b[0m         \u001b[39mif\u001b[39;00m n_jobs \u001b[39m==\u001b[39m \u001b[39m-\u001b[39m\u001b[39m1\u001b[39m:\n",
      "File \u001b[0;32m/opt/conda/envs/dkt/lib/python3.8/site-packages/optuna/study/_optimize.py:160\u001b[0m, in \u001b[0;36m_optimize_sequential\u001b[0;34m(study, func, n_trials, timeout, catch, callbacks, gc_after_trial, reseed_sampler_rng, time_start, progress_bar)\u001b[0m\n\u001b[1;32m    157\u001b[0m         \u001b[39mbreak\u001b[39;00m\n\u001b[1;32m    159\u001b[0m \u001b[39mtry\u001b[39;00m:\n\u001b[0;32m--> 160\u001b[0m     frozen_trial \u001b[39m=\u001b[39m _run_trial(study, func, catch)\n\u001b[1;32m    161\u001b[0m \u001b[39mfinally\u001b[39;00m:\n\u001b[1;32m    162\u001b[0m     \u001b[39m# The following line mitigates memory problems that can be occurred in some\u001b[39;00m\n\u001b[1;32m    163\u001b[0m     \u001b[39m# environments (e.g., services that use computing containers such as CircleCI).\u001b[39;00m\n\u001b[1;32m    164\u001b[0m     \u001b[39m# Please refer to the following PR for further details:\u001b[39;00m\n\u001b[1;32m    165\u001b[0m     \u001b[39m# https://github.com/optuna/optuna/pull/325.\u001b[39;00m\n\u001b[1;32m    166\u001b[0m     \u001b[39mif\u001b[39;00m gc_after_trial:\n",
      "File \u001b[0;32m/opt/conda/envs/dkt/lib/python3.8/site-packages/optuna/study/_optimize.py:234\u001b[0m, in \u001b[0;36m_run_trial\u001b[0;34m(study, func, catch)\u001b[0m\n\u001b[1;32m    227\u001b[0m         \u001b[39massert\u001b[39;00m \u001b[39mFalse\u001b[39;00m, \u001b[39m\"\u001b[39m\u001b[39mShould not reach.\u001b[39m\u001b[39m\"\u001b[39m\n\u001b[1;32m    229\u001b[0m \u001b[39mif\u001b[39;00m (\n\u001b[1;32m    230\u001b[0m     frozen_trial\u001b[39m.\u001b[39mstate \u001b[39m==\u001b[39m TrialState\u001b[39m.\u001b[39mFAIL\n\u001b[1;32m    231\u001b[0m     \u001b[39mand\u001b[39;00m func_err \u001b[39mis\u001b[39;00m \u001b[39mnot\u001b[39;00m \u001b[39mNone\u001b[39;00m\n\u001b[1;32m    232\u001b[0m     \u001b[39mand\u001b[39;00m \u001b[39mnot\u001b[39;00m \u001b[39misinstance\u001b[39m(func_err, catch)\n\u001b[1;32m    233\u001b[0m ):\n\u001b[0;32m--> 234\u001b[0m     \u001b[39mraise\u001b[39;00m func_err\n\u001b[1;32m    235\u001b[0m \u001b[39mreturn\u001b[39;00m frozen_trial\n",
      "File \u001b[0;32m/opt/conda/envs/dkt/lib/python3.8/site-packages/optuna/study/_optimize.py:196\u001b[0m, in \u001b[0;36m_run_trial\u001b[0;34m(study, func, catch)\u001b[0m\n\u001b[1;32m    194\u001b[0m \u001b[39mwith\u001b[39;00m get_heartbeat_thread(trial\u001b[39m.\u001b[39m_trial_id, study\u001b[39m.\u001b[39m_storage):\n\u001b[1;32m    195\u001b[0m     \u001b[39mtry\u001b[39;00m:\n\u001b[0;32m--> 196\u001b[0m         value_or_values \u001b[39m=\u001b[39m func(trial)\n\u001b[1;32m    197\u001b[0m     \u001b[39mexcept\u001b[39;00m exceptions\u001b[39m.\u001b[39mTrialPruned \u001b[39mas\u001b[39;00m e:\n\u001b[1;32m    198\u001b[0m         \u001b[39m# TODO(mamu): Handle multi-objective cases.\u001b[39;00m\n\u001b[1;32m    199\u001b[0m         state \u001b[39m=\u001b[39m TrialState\u001b[39m.\u001b[39mPRUNED\n",
      "File \u001b[0;32m/opt/conda/envs/dkt/lib/python3.8/site-packages/optuna/integration/wandb.py:228\u001b[0m, in \u001b[0;36mWeightsAndBiasesCallback.track_in_wandb.<locals>.decorator.<locals>.wrapper\u001b[0;34m(trial)\u001b[0m\n\u001b[1;32m    225\u001b[0m     run \u001b[39m=\u001b[39m \u001b[39mself\u001b[39m\u001b[39m.\u001b[39m_initialize_run()\n\u001b[1;32m    226\u001b[0m     run\u001b[39m.\u001b[39mname \u001b[39m=\u001b[39m \u001b[39mf\u001b[39m\u001b[39m\"\u001b[39m\u001b[39mtrial/\u001b[39m\u001b[39m{\u001b[39;00mtrial\u001b[39m.\u001b[39mnumber\u001b[39m}\u001b[39;00m\u001b[39m/\u001b[39m\u001b[39m{\u001b[39;00mrun\u001b[39m.\u001b[39mname\u001b[39m}\u001b[39;00m\u001b[39m\"\u001b[39m\n\u001b[0;32m--> 228\u001b[0m \u001b[39mreturn\u001b[39;00m func(trial)\n",
      "Cell \u001b[0;32mIn [2], line 31\u001b[0m, in \u001b[0;36mobjective\u001b[0;34m(trial)\u001b[0m\n\u001b[1;32m     29\u001b[0m categorical \u001b[39m=\u001b[39m [\u001b[39m0\u001b[39m, \u001b[39m1\u001b[39m, \u001b[39m2\u001b[39m, \u001b[39m3\u001b[39m, ]\n\u001b[1;32m     30\u001b[0m model \u001b[39m=\u001b[39m lgb\u001b[39m.\u001b[39mLGBMRegressor(\u001b[39m*\u001b[39m\u001b[39m*\u001b[39mparam, categorical_feature\u001b[39m=\u001b[39mcategorical, random_state\u001b[39m=\u001b[39mseed)\n\u001b[0;32m---> 31\u001b[0m lgb_model \u001b[39m=\u001b[39m model\u001b[39m.\u001b[39;49mfit(h_train_X, h_train_y, eval_set\u001b[39m=\u001b[39;49m[(h_valid_X, h_valid_y)], verbose\u001b[39m=\u001b[39;49m\u001b[39m0\u001b[39;49m, early_stopping_rounds\u001b[39m=\u001b[39;49m\u001b[39m25\u001b[39;49m)\n\u001b[1;32m     32\u001b[0m loss \u001b[39m=\u001b[39m roc_auc_score(h_valid_y, lgb_model\u001b[39m.\u001b[39mpredict(h_valid_X))\n\u001b[1;32m     33\u001b[0m \u001b[39mreturn\u001b[39;00m loss\n",
      "File \u001b[0;32m/opt/conda/envs/dkt/lib/python3.8/site-packages/lightgbm/sklearn.py:895\u001b[0m, in \u001b[0;36mLGBMRegressor.fit\u001b[0;34m(self, X, y, sample_weight, init_score, eval_set, eval_names, eval_sample_weight, eval_init_score, eval_metric, early_stopping_rounds, verbose, feature_name, categorical_feature, callbacks, init_model)\u001b[0m\n\u001b[1;32m    888\u001b[0m \u001b[39mdef\u001b[39;00m \u001b[39mfit\u001b[39m(\u001b[39mself\u001b[39m, X, y,\n\u001b[1;32m    889\u001b[0m         sample_weight\u001b[39m=\u001b[39m\u001b[39mNone\u001b[39;00m, init_score\u001b[39m=\u001b[39m\u001b[39mNone\u001b[39;00m,\n\u001b[1;32m    890\u001b[0m         eval_set\u001b[39m=\u001b[39m\u001b[39mNone\u001b[39;00m, eval_names\u001b[39m=\u001b[39m\u001b[39mNone\u001b[39;00m, eval_sample_weight\u001b[39m=\u001b[39m\u001b[39mNone\u001b[39;00m,\n\u001b[1;32m    891\u001b[0m         eval_init_score\u001b[39m=\u001b[39m\u001b[39mNone\u001b[39;00m, eval_metric\u001b[39m=\u001b[39m\u001b[39mNone\u001b[39;00m, early_stopping_rounds\u001b[39m=\u001b[39m\u001b[39mNone\u001b[39;00m,\n\u001b[1;32m    892\u001b[0m         verbose\u001b[39m=\u001b[39m\u001b[39m'\u001b[39m\u001b[39mwarn\u001b[39m\u001b[39m'\u001b[39m, feature_name\u001b[39m=\u001b[39m\u001b[39m'\u001b[39m\u001b[39mauto\u001b[39m\u001b[39m'\u001b[39m, categorical_feature\u001b[39m=\u001b[39m\u001b[39m'\u001b[39m\u001b[39mauto\u001b[39m\u001b[39m'\u001b[39m,\n\u001b[1;32m    893\u001b[0m         callbacks\u001b[39m=\u001b[39m\u001b[39mNone\u001b[39;00m, init_model\u001b[39m=\u001b[39m\u001b[39mNone\u001b[39;00m):\n\u001b[1;32m    894\u001b[0m     \u001b[39m\"\"\"Docstring is inherited from the LGBMModel.\"\"\"\u001b[39;00m\n\u001b[0;32m--> 895\u001b[0m     \u001b[39msuper\u001b[39;49m()\u001b[39m.\u001b[39;49mfit(X, y, sample_weight\u001b[39m=\u001b[39;49msample_weight, init_score\u001b[39m=\u001b[39;49minit_score,\n\u001b[1;32m    896\u001b[0m                 eval_set\u001b[39m=\u001b[39;49meval_set, eval_names\u001b[39m=\u001b[39;49meval_names, eval_sample_weight\u001b[39m=\u001b[39;49meval_sample_weight,\n\u001b[1;32m    897\u001b[0m                 eval_init_score\u001b[39m=\u001b[39;49meval_init_score, eval_metric\u001b[39m=\u001b[39;49meval_metric,\n\u001b[1;32m    898\u001b[0m                 early_stopping_rounds\u001b[39m=\u001b[39;49mearly_stopping_rounds, verbose\u001b[39m=\u001b[39;49mverbose, feature_name\u001b[39m=\u001b[39;49mfeature_name,\n\u001b[1;32m    899\u001b[0m                 categorical_feature\u001b[39m=\u001b[39;49mcategorical_feature, callbacks\u001b[39m=\u001b[39;49mcallbacks, init_model\u001b[39m=\u001b[39;49minit_model)\n\u001b[1;32m    900\u001b[0m     \u001b[39mreturn\u001b[39;00m \u001b[39mself\u001b[39m\n",
      "File \u001b[0;32m/opt/conda/envs/dkt/lib/python3.8/site-packages/lightgbm/sklearn.py:748\u001b[0m, in \u001b[0;36mLGBMModel.fit\u001b[0;34m(self, X, y, sample_weight, init_score, group, eval_set, eval_names, eval_sample_weight, eval_class_weight, eval_init_score, eval_group, eval_metric, early_stopping_rounds, verbose, feature_name, categorical_feature, callbacks, init_model)\u001b[0m\n\u001b[1;32m    745\u001b[0m evals_result \u001b[39m=\u001b[39m {}\n\u001b[1;32m    746\u001b[0m callbacks\u001b[39m.\u001b[39mappend(record_evaluation(evals_result))\n\u001b[0;32m--> 748\u001b[0m \u001b[39mself\u001b[39m\u001b[39m.\u001b[39m_Booster \u001b[39m=\u001b[39m train(\n\u001b[1;32m    749\u001b[0m     params\u001b[39m=\u001b[39;49mparams,\n\u001b[1;32m    750\u001b[0m     train_set\u001b[39m=\u001b[39;49mtrain_set,\n\u001b[1;32m    751\u001b[0m     num_boost_round\u001b[39m=\u001b[39;49m\u001b[39mself\u001b[39;49m\u001b[39m.\u001b[39;49mn_estimators,\n\u001b[1;32m    752\u001b[0m     valid_sets\u001b[39m=\u001b[39;49mvalid_sets,\n\u001b[1;32m    753\u001b[0m     valid_names\u001b[39m=\u001b[39;49meval_names,\n\u001b[1;32m    754\u001b[0m     fobj\u001b[39m=\u001b[39;49m\u001b[39mself\u001b[39;49m\u001b[39m.\u001b[39;49m_fobj,\n\u001b[1;32m    755\u001b[0m     feval\u001b[39m=\u001b[39;49meval_metrics_callable,\n\u001b[1;32m    756\u001b[0m     init_model\u001b[39m=\u001b[39;49minit_model,\n\u001b[1;32m    757\u001b[0m     feature_name\u001b[39m=\u001b[39;49mfeature_name,\n\u001b[1;32m    758\u001b[0m     callbacks\u001b[39m=\u001b[39;49mcallbacks\n\u001b[1;32m    759\u001b[0m )\n\u001b[1;32m    761\u001b[0m \u001b[39mif\u001b[39;00m evals_result:\n\u001b[1;32m    762\u001b[0m     \u001b[39mself\u001b[39m\u001b[39m.\u001b[39m_evals_result \u001b[39m=\u001b[39m evals_result\n",
      "File \u001b[0;32m/opt/conda/envs/dkt/lib/python3.8/site-packages/lightgbm/engine.py:292\u001b[0m, in \u001b[0;36mtrain\u001b[0;34m(params, train_set, num_boost_round, valid_sets, valid_names, fobj, feval, init_model, feature_name, categorical_feature, early_stopping_rounds, evals_result, verbose_eval, learning_rates, keep_training_booster, callbacks)\u001b[0m\n\u001b[1;32m    284\u001b[0m \u001b[39mfor\u001b[39;00m cb \u001b[39min\u001b[39;00m callbacks_before_iter:\n\u001b[1;32m    285\u001b[0m     cb(callback\u001b[39m.\u001b[39mCallbackEnv(model\u001b[39m=\u001b[39mbooster,\n\u001b[1;32m    286\u001b[0m                             params\u001b[39m=\u001b[39mparams,\n\u001b[1;32m    287\u001b[0m                             iteration\u001b[39m=\u001b[39mi,\n\u001b[1;32m    288\u001b[0m                             begin_iteration\u001b[39m=\u001b[39minit_iteration,\n\u001b[1;32m    289\u001b[0m                             end_iteration\u001b[39m=\u001b[39minit_iteration \u001b[39m+\u001b[39m num_boost_round,\n\u001b[1;32m    290\u001b[0m                             evaluation_result_list\u001b[39m=\u001b[39m\u001b[39mNone\u001b[39;00m))\n\u001b[0;32m--> 292\u001b[0m booster\u001b[39m.\u001b[39;49mupdate(fobj\u001b[39m=\u001b[39;49mfobj)\n\u001b[1;32m    294\u001b[0m evaluation_result_list \u001b[39m=\u001b[39m []\n\u001b[1;32m    295\u001b[0m \u001b[39m# check evaluation result.\u001b[39;00m\n",
      "File \u001b[0;32m/opt/conda/envs/dkt/lib/python3.8/site-packages/lightgbm/basic.py:3021\u001b[0m, in \u001b[0;36mBooster.update\u001b[0;34m(self, train_set, fobj)\u001b[0m\n\u001b[1;32m   3019\u001b[0m \u001b[39mif\u001b[39;00m \u001b[39mself\u001b[39m\u001b[39m.\u001b[39m__set_objective_to_none:\n\u001b[1;32m   3020\u001b[0m     \u001b[39mraise\u001b[39;00m LightGBMError(\u001b[39m'\u001b[39m\u001b[39mCannot update due to null objective function.\u001b[39m\u001b[39m'\u001b[39m)\n\u001b[0;32m-> 3021\u001b[0m _safe_call(_LIB\u001b[39m.\u001b[39;49mLGBM_BoosterUpdateOneIter(\n\u001b[1;32m   3022\u001b[0m     \u001b[39mself\u001b[39;49m\u001b[39m.\u001b[39;49mhandle,\n\u001b[1;32m   3023\u001b[0m     ctypes\u001b[39m.\u001b[39;49mbyref(is_finished)))\n\u001b[1;32m   3024\u001b[0m \u001b[39mself\u001b[39m\u001b[39m.\u001b[39m__is_predicted_cur_iter \u001b[39m=\u001b[39m [\u001b[39mFalse\u001b[39;00m \u001b[39mfor\u001b[39;00m _ \u001b[39min\u001b[39;00m \u001b[39mrange\u001b[39m(\u001b[39mself\u001b[39m\u001b[39m.\u001b[39m__num_dataset)]\n\u001b[1;32m   3025\u001b[0m \u001b[39mreturn\u001b[39;00m is_finished\u001b[39m.\u001b[39mvalue \u001b[39m==\u001b[39m \u001b[39m1\u001b[39m\n",
      "\u001b[0;31mKeyboardInterrupt\u001b[0m: "
     ]
    }
   ],
   "source": [
    "import wandb\n",
    "import lightgbm as lgb\n",
    "wandb_kwargs = {\"project\": \"lgb-optuna\"}\n",
    "wandbc = WeightsAndBiasesCallback(wandb_kwargs=wandb_kwargs)\n",
    "\n",
    "@wandbc.track_in_wandb()\n",
    "def objective(trial):\n",
    "    param = {\n",
    "        # 'objective': 'binary', # 이진 분류\n",
    "        \"objective\": trial.suggest_categorical(\"objective\", [\"binary\", \"cross_entropy\"]),\n",
    "        'verbose': -1,\n",
    "        'metric': 'AUC',\n",
    "        'max_depth': trial.suggest_int('max_depth',3, 15),\n",
    "        'learning_rate': trial.suggest_loguniform(\"learning_rate\", 0.001, 1.0),\n",
    "        'n_estimators': trial.suggest_int('n_estimators', 100, 10000),\n",
    "        'min_child_samples': trial.suggest_int('min_child_samples', 5, 100),\n",
    "        # 'subsample': trial.suggest_loguniform('subsample', 0.4, 1),\n",
    "        'lambda_l1' : trial.suggest_loguniform('lambda_l1', 1e-8, 1e-4),\n",
    "        'lambda_l2' : trial.suggest_loguniform('lambda_l2', 1e-8, 1e-4),\n",
    "        'path_smooth' : trial.suggest_loguniform('path_smooth', 1e-8, 1e-3),\n",
    "        'num_leaves' : trial.suggest_int('num_leaves', 30, 200),\n",
    "        'min_data_in_leaf' : trial.suggest_int('min_data_in_leaf', 10, 100),\n",
    "        'max_bin' : trial.suggest_int('max_bin', 100, 255),\n",
    "        'feature_fraction' : trial.suggest_uniform('feature_fraction', 0.5, 0.9),\n",
    "        'bagging_fraction' : trial.suggest_uniform('bagging_fraction', 0.5, 0.9),\n",
    "        # 'device' : 'gpu',\n",
    "        # 'reg_alpha' : None,\n",
    "    }\n",
    "    categorical = [0, 1, 2, 3, ]\n",
    "    model = lgb.LGBMRegressor(**param, categorical_feature=categorical, random_state=seed)\n",
    "    lgb_model = model.fit(h_train_X, h_train_y, eval_set=[(h_valid_X, h_valid_y)], verbose=0, early_stopping_rounds=25)\n",
    "    loss = roc_auc_score(h_valid_y, lgb_model.predict(h_valid_X))\n",
    "    return loss\n",
    "        \n",
    "study_lgb = optuna.create_study(direction='maximize', sampler=sampler)\n",
    "study_lgb.optimize(objective, n_trials=100, callbacks=[wandbc])"
   ]
  },
  {
   "cell_type": "code",
   "execution_count": 4,
   "metadata": {},
   "outputs": [
    {
     "data": {
      "text/plain": [
       "0.8670530333639976"
      ]
     },
     "execution_count": 4,
     "metadata": {},
     "output_type": "execute_result"
    }
   ],
   "source": [
    "lgbm_param = {'objective': 'binary', 'max_depth': 12, 'learning_rate': 0.006303437371629695, 'n_estimators': 6876, 'min_child_samples': 71, 'lambda_l1': 8.986040465602197e-05, 'lambda_l2': 1.9681978581061574e-07, 'path_smooth': 2.5772018880316357e-05, 'num_leaves': 118, 'min_data_in_leaf': 46, 'max_bin': 193, 'feature_fraction': 0.5651388533061754, 'bagging_fraction': 0.8404330925762327}\n",
    "categorical = [0, 1, 2, 3, ]\n",
    "model = lgb.LGBMRegressor(**lgbm_param, categorical_feature=categorical, random_state=seed)\n",
    "lgb_model = model.fit(h_train_X, h_train_y, eval_set=[(h_valid_X, h_valid_y)], verbose=0, early_stopping_rounds=25)\n",
    "loss = roc_auc_score(h_valid_y, lgb_model.predict(h_valid_X))\n",
    "loss"
   ]
  },
  {
   "cell_type": "code",
   "execution_count": 5,
   "metadata": {},
   "outputs": [
    {
     "ename": "ValueError",
     "evalue": "Number of features of the model must match the input. Model n_features_ is 55 and input n_features is 73",
     "output_type": "error",
     "traceback": [
      "\u001b[0;31m---------------------------------------------------------------------------\u001b[0m",
      "\u001b[0;31mValueError\u001b[0m                                Traceback (most recent call last)",
      "Cell \u001b[0;32mIn [5], line 1\u001b[0m\n\u001b[0;32m----> 1\u001b[0m prediction \u001b[39m=\u001b[39m lgb_model\u001b[39m.\u001b[39;49mpredict(test_X)\n\u001b[1;32m      2\u001b[0m submit \u001b[39m=\u001b[39m pd\u001b[39m.\u001b[39mread_csv(\u001b[39m\"\u001b[39m\u001b[39m../data/sample_submission.csv\u001b[39m\u001b[39m\"\u001b[39m)\n\u001b[1;32m      3\u001b[0m submit[\u001b[39m'\u001b[39m\u001b[39mprediction\u001b[39m\u001b[39m'\u001b[39m] \u001b[39m=\u001b[39m prediction\n",
      "File \u001b[0;32m/opt/conda/envs/dkt/lib/python3.8/site-packages/lightgbm/sklearn.py:800\u001b[0m, in \u001b[0;36mLGBMModel.predict\u001b[0;34m(self, X, raw_score, start_iteration, num_iteration, pred_leaf, pred_contrib, **kwargs)\u001b[0m\n\u001b[1;32m    798\u001b[0m n_features \u001b[39m=\u001b[39m X\u001b[39m.\u001b[39mshape[\u001b[39m1\u001b[39m]\n\u001b[1;32m    799\u001b[0m \u001b[39mif\u001b[39;00m \u001b[39mself\u001b[39m\u001b[39m.\u001b[39m_n_features \u001b[39m!=\u001b[39m n_features:\n\u001b[0;32m--> 800\u001b[0m     \u001b[39mraise\u001b[39;00m \u001b[39mValueError\u001b[39;00m(\u001b[39m\"\u001b[39m\u001b[39mNumber of features of the model must \u001b[39m\u001b[39m\"\u001b[39m\n\u001b[1;32m    801\u001b[0m                      \u001b[39mf\u001b[39m\u001b[39m\"\u001b[39m\u001b[39mmatch the input. Model n_features_ is \u001b[39m\u001b[39m{\u001b[39;00m\u001b[39mself\u001b[39m\u001b[39m.\u001b[39m_n_features\u001b[39m}\u001b[39;00m\u001b[39m and \u001b[39m\u001b[39m\"\u001b[39m\n\u001b[1;32m    802\u001b[0m                      \u001b[39mf\u001b[39m\u001b[39m\"\u001b[39m\u001b[39minput n_features is \u001b[39m\u001b[39m{\u001b[39;00mn_features\u001b[39m}\u001b[39;00m\u001b[39m\"\u001b[39m)\n\u001b[1;32m    803\u001b[0m \u001b[39mreturn\u001b[39;00m \u001b[39mself\u001b[39m\u001b[39m.\u001b[39m_Booster\u001b[39m.\u001b[39mpredict(X, raw_score\u001b[39m=\u001b[39mraw_score, start_iteration\u001b[39m=\u001b[39mstart_iteration, num_iteration\u001b[39m=\u001b[39mnum_iteration,\n\u001b[1;32m    804\u001b[0m                              pred_leaf\u001b[39m=\u001b[39mpred_leaf, pred_contrib\u001b[39m=\u001b[39mpred_contrib, \u001b[39m*\u001b[39m\u001b[39m*\u001b[39mkwargs)\n",
      "\u001b[0;31mValueError\u001b[0m: Number of features of the model must match the input. Model n_features_ is 55 and input n_features is 73"
     ]
    }
   ],
   "source": [
    "prediction = lgb_model.predict(test_X)\n",
    "submit = pd.read_csv(\"../data/sample_submission.csv\")\n",
    "submit['prediction'] = prediction\n",
    "submit\n",
    "# submit.to_csv(\"catclf_ms_data_decompose2.csv\", index=False)"
   ]
  },
  {
   "cell_type": "code",
   "execution_count": 10,
   "metadata": {},
   "outputs": [
    {
     "name": "stdout",
     "output_type": "stream",
     "text": [
      "Best Trial: score 0.7538142981445614,\n",
      "params {'objective': 'binary', 'max_depth': 7, 'learning_rate': 0.035569482469021904, 'n_estimators': 4724, 'min_child_samples': 34, 'lambda_l1': 3.940615068410218e-06, 'lambda_l2': 3.706143818501372e-07, 'path_smooth': 4.4257537279128775e-06, 'num_leaves': 70, 'min_data_in_leaf': 43, 'max_bin': 233, 'feature_fraction': 0.8599103595773292, 'bagging_fraction': 0.870477752821887}\n"
     ]
    }
   ],
   "source": [
    "trial = study_lgb.best_trial\n",
    "trial_params = trial.params\n",
    "print('Best Trial: score {},\\nparams {}'.format(trial.value, trial_params))"
   ]
  },
  {
   "cell_type": "code",
   "execution_count": 10,
   "metadata": {},
   "outputs": [
    {
     "name": "stderr",
     "output_type": "stream",
     "text": [
      "/tmp/ipykernel_82957/2821390378.py:4: ExperimentalWarning: WeightsAndBiasesCallback is experimental (supported from v2.9.0). The interface can change in the future.\n",
      "  wandbc = WeightsAndBiasesCallback(wandb_kwargs=wandb_kwargs)\n",
      "Failed to detect the name of this notebook, you can set it manually with the WANDB_NOTEBOOK_NAME environment variable to enable code saving.\n",
      "\u001b[34m\u001b[1mwandb\u001b[0m: Currently logged in as: \u001b[33mjmkim_\u001b[0m. Use \u001b[1m`wandb login --relogin`\u001b[0m to force relogin\n"
     ]
    },
    {
     "data": {
      "text/html": [
       "Tracking run with wandb version 0.13.5"
      ],
      "text/plain": [
       "<IPython.core.display.HTML object>"
      ]
     },
     "metadata": {},
     "output_type": "display_data"
    },
    {
     "data": {
      "text/html": [
       "Run data is saved locally in <code>/opt/ml/input/JMKIM/wandb/run-20221128_165440-39641djf</code>"
      ],
      "text/plain": [
       "<IPython.core.display.HTML object>"
      ]
     },
     "metadata": {},
     "output_type": "display_data"
    },
    {
     "data": {
      "text/html": [
       "Syncing run <strong><a href=\"https://wandb.ai/jmkim_/lgb-optuna/runs/39641djf\" target=\"_blank\">worthy-sun-18</a></strong> to <a href=\"https://wandb.ai/jmkim_/lgb-optuna\" target=\"_blank\">Weights & Biases</a> (<a href=\"https://wandb.me/run\" target=\"_blank\">docs</a>)<br/>"
      ],
      "text/plain": [
       "<IPython.core.display.HTML object>"
      ]
     },
     "metadata": {},
     "output_type": "display_data"
    },
    {
     "name": "stderr",
     "output_type": "stream",
     "text": [
      "/tmp/ipykernel_82957/2821390378.py:6: ExperimentalWarning: track_in_wandb is experimental (supported from v3.0.0). The interface can change in the future.\n",
      "  @wandbc.track_in_wandb()\n",
      "\u001b[32m[I 2022-11-28 16:54:45,994]\u001b[0m A new study created in memory with name: no-name-19bd460c-e861-4ad1-81f1-c7c4729a7619\u001b[0m\n"
     ]
    },
    {
     "name": "stdout",
     "output_type": "stream",
     "text": [
      "[LightGBM] [Warning] lambda_l1 is set=8.09013813952634e-06, reg_alpha=0.0 will be ignored. Current value: lambda_l1=8.09013813952634e-06\n",
      "[LightGBM] [Warning] bagging_fraction is set=0.6373362152887747, subsample=1.0 will be ignored. Current value: bagging_fraction=0.6373362152887747\n",
      "[LightGBM] [Warning] feature_fraction is set=0.7358455013823457, colsample_bytree=1.0 will be ignored. Current value: feature_fraction=0.7358455013823457\n",
      "[LightGBM] [Warning] min_data_in_leaf is set=18, min_child_samples=93 will be ignored. Current value: min_data_in_leaf=18\n",
      "[LightGBM] [Warning] lambda_l2 is set=1.1857274872193908e-05, reg_lambda=0.0 will be ignored. Current value: lambda_l2=1.1857274872193908e-05\n",
      "[LightGBM] [Warning] Met categorical feature which contains sparse values. Consider renumbering to consecutive integers started from zero\n"
     ]
    },
    {
     "name": "stderr",
     "output_type": "stream",
     "text": [
      "\u001b[32m[I 2022-11-28 17:07:37,855]\u001b[0m Trial 0 finished with value: 0.8440518994533951 and parameters: {'objective': 'cross_entropy', 'max_depth': 3, 'learning_rate': 0.023965198184953764, 'n_estimators': 8369, 'min_child_samples': 93, 'lambda_l1': 8.09013813952634e-06, 'lambda_l2': 1.1857274872193908e-05, 'path_smooth': 2.2183258107863225e-07, 'num_leaves': 140, 'min_data_in_leaf': 18, 'max_bin': 112, 'feature_fraction': 0.7358455013823457, 'bagging_fraction': 0.6373362152887747}. Best is trial 0 with value: 0.8440518994533951.\u001b[0m\n"
     ]
    },
    {
     "name": "stdout",
     "output_type": "stream",
     "text": [
      "[LightGBM] [Warning] lambda_l1 is set=7.793138524702794e-08, reg_alpha=0.0 will be ignored. Current value: lambda_l1=7.793138524702794e-08\n",
      "[LightGBM] [Warning] bagging_fraction is set=0.6012475776818278, subsample=1.0 will be ignored. Current value: bagging_fraction=0.6012475776818278\n",
      "[LightGBM] [Warning] feature_fraction is set=0.7489355297282327, colsample_bytree=1.0 will be ignored. Current value: feature_fraction=0.7489355297282327\n",
      "[LightGBM] [Warning] min_data_in_leaf is set=65, min_child_samples=40 will be ignored. Current value: min_data_in_leaf=65\n",
      "[LightGBM] [Warning] lambda_l2 is set=5.568912592525814e-08, reg_lambda=0.0 will be ignored. Current value: lambda_l2=5.568912592525814e-08\n",
      "[LightGBM] [Warning] Met categorical feature which contains sparse values. Consider renumbering to consecutive integers started from zero\n",
      "[LightGBM] [Warning] Met categorical feature which contains sparse values. Consider renumbering to consecutive integers started from zero\n"
     ]
    },
    {
     "name": "stderr",
     "output_type": "stream",
     "text": [
      "\u001b[32m[I 2022-11-28 17:13:52,562]\u001b[0m Trial 1 finished with value: 0.8495749475932372 and parameters: {'objective': 'binary', 'max_depth': 11, 'learning_rate': 0.04537017362092559, 'n_estimators': 2761, 'min_child_samples': 40, 'lambda_l1': 7.793138524702794e-08, 'lambda_l2': 5.568912592525814e-08, 'path_smooth': 8.979258351381595e-07, 'num_leaves': 63, 'min_data_in_leaf': 65, 'max_bin': 237, 'feature_fraction': 0.7489355297282327, 'bagging_fraction': 0.6012475776818278}. Best is trial 1 with value: 0.8495749475932372.\u001b[0m\n"
     ]
    },
    {
     "name": "stdout",
     "output_type": "stream",
     "text": [
      "[LightGBM] [Warning] lambda_l1 is set=1.3504606405290654e-06, reg_alpha=0.0 will be ignored. Current value: lambda_l1=1.3504606405290654e-06\n",
      "[LightGBM] [Warning] bagging_fraction is set=0.7448094317092934, subsample=1.0 will be ignored. Current value: bagging_fraction=0.7448094317092934\n",
      "[LightGBM] [Warning] feature_fraction is set=0.6183490776349688, colsample_bytree=1.0 will be ignored. Current value: feature_fraction=0.6183490776349688\n",
      "[LightGBM] [Warning] min_data_in_leaf is set=80, min_child_samples=62 will be ignored. Current value: min_data_in_leaf=80\n",
      "[LightGBM] [Warning] lambda_l2 is set=1.1304209523340012e-08, reg_lambda=0.0 will be ignored. Current value: lambda_l2=1.1304209523340012e-08\n",
      "[LightGBM] [Warning] Met categorical feature which contains sparse values. Consider renumbering to consecutive integers started from zero\n",
      "[LightGBM] [Warning] Met categorical feature which contains sparse values. Consider renumbering to consecutive integers started from zero\n"
     ]
    },
    {
     "name": "stderr",
     "output_type": "stream",
     "text": [
      "\u001b[32m[I 2022-11-28 17:23:06,011]\u001b[0m Trial 2 finished with value: 0.8480753612812425 and parameters: {'objective': 'cross_entropy', 'max_depth': 5, 'learning_rate': 0.03552805397960183, 'n_estimators': 5233, 'min_child_samples': 62, 'lambda_l1': 1.3504606405290654e-06, 'lambda_l2': 1.1304209523340012e-08, 'path_smooth': 4.173364449604953e-06, 'num_leaves': 183, 'min_data_in_leaf': 80, 'max_bin': 119, 'feature_fraction': 0.6183490776349688, 'bagging_fraction': 0.7448094317092934}. Best is trial 1 with value: 0.8495749475932372.\u001b[0m\n"
     ]
    },
    {
     "name": "stdout",
     "output_type": "stream",
     "text": [
      "[LightGBM] [Warning] lambda_l1 is set=7.742869968546266e-07, reg_alpha=0.0 will be ignored. Current value: lambda_l1=7.742869968546266e-07\n",
      "[LightGBM] [Warning] bagging_fraction is set=0.5107769041950028, subsample=1.0 will be ignored. Current value: bagging_fraction=0.5107769041950028\n",
      "[LightGBM] [Warning] feature_fraction is set=0.6798074999663026, colsample_bytree=1.0 will be ignored. Current value: feature_fraction=0.6798074999663026\n",
      "[LightGBM] [Warning] min_data_in_leaf is set=42, min_child_samples=57 will be ignored. Current value: min_data_in_leaf=42\n",
      "[LightGBM] [Warning] lambda_l2 is set=1.4707533372708972e-05, reg_lambda=0.0 will be ignored. Current value: lambda_l2=1.4707533372708972e-05\n",
      "[LightGBM] [Warning] Met categorical feature which contains sparse values. Consider renumbering to consecutive integers started from zero\n",
      "[LightGBM] [Warning] Met categorical feature which contains sparse values. Consider renumbering to consecutive integers started from zero\n"
     ]
    },
    {
     "name": "stderr",
     "output_type": "stream",
     "text": [
      "\u001b[32m[I 2022-11-28 17:42:22,165]\u001b[0m Trial 3 finished with value: 0.8486375200185176 and parameters: {'objective': 'binary', 'max_depth': 12, 'learning_rate': 0.003757448986688627, 'n_estimators': 5623, 'min_child_samples': 57, 'lambda_l1': 7.742869968546266e-07, 'lambda_l2': 1.4707533372708972e-05, 'path_smooth': 3.769193132689633e-08, 'num_leaves': 146, 'min_data_in_leaf': 42, 'max_bin': 153, 'feature_fraction': 0.6798074999663026, 'bagging_fraction': 0.5107769041950028}. Best is trial 1 with value: 0.8495749475932372.\u001b[0m\n"
     ]
    },
    {
     "name": "stdout",
     "output_type": "stream",
     "text": [
      "[LightGBM] [Warning] lambda_l1 is set=6.246865795612923e-07, reg_alpha=0.0 will be ignored. Current value: lambda_l1=6.246865795612923e-07\n",
      "[LightGBM] [Warning] bagging_fraction is set=0.7187164843565222, subsample=1.0 will be ignored. Current value: bagging_fraction=0.7187164843565222\n",
      "[LightGBM] [Warning] feature_fraction is set=0.8395097215390547, colsample_bytree=1.0 will be ignored. Current value: feature_fraction=0.8395097215390547\n",
      "[LightGBM] [Warning] min_data_in_leaf is set=86, min_child_samples=36 will be ignored. Current value: min_data_in_leaf=86\n",
      "[LightGBM] [Warning] lambda_l2 is set=1.1623519829192828e-08, reg_lambda=0.0 will be ignored. Current value: lambda_l2=1.1623519829192828e-08\n",
      "[LightGBM] [Warning] Met categorical feature which contains sparse values. Consider renumbering to consecutive integers started from zero\n",
      "[LightGBM] [Warning] Met categorical feature which contains sparse values. Consider renumbering to consecutive integers started from zero\n"
     ]
    },
    {
     "name": "stderr",
     "output_type": "stream",
     "text": [
      "\u001b[32m[I 2022-11-28 17:50:24,560]\u001b[0m Trial 4 finished with value: 0.8420797901633372 and parameters: {'objective': 'cross_entropy', 'max_depth': 4, 'learning_rate': 0.008817903457666037, 'n_estimators': 5327, 'min_child_samples': 36, 'lambda_l1': 6.246865795612923e-07, 'lambda_l2': 1.1623519829192828e-08, 'path_smooth': 3.0558674531010326e-08, 'num_leaves': 148, 'min_data_in_leaf': 86, 'max_bin': 166, 'feature_fraction': 0.8395097215390547, 'bagging_fraction': 0.7187164843565222}. Best is trial 1 with value: 0.8495749475932372.\u001b[0m\n"
     ]
    },
    {
     "name": "stdout",
     "output_type": "stream",
     "text": [
      "[LightGBM] [Warning] lambda_l1 is set=1.5395577746201769e-07, reg_alpha=0.0 will be ignored. Current value: lambda_l1=1.5395577746201769e-07\n",
      "[LightGBM] [Warning] bagging_fraction is set=0.6599109264908691, subsample=1.0 will be ignored. Current value: bagging_fraction=0.6599109264908691\n",
      "[LightGBM] [Warning] feature_fraction is set=0.5117794317165487, colsample_bytree=1.0 will be ignored. Current value: feature_fraction=0.5117794317165487\n",
      "[LightGBM] [Warning] min_data_in_leaf is set=67, min_child_samples=90 will be ignored. Current value: min_data_in_leaf=67\n",
      "[LightGBM] [Warning] lambda_l2 is set=1.6091375151327235e-07, reg_lambda=0.0 will be ignored. Current value: lambda_l2=1.6091375151327235e-07\n",
      "[LightGBM] [Warning] Met categorical feature which contains sparse values. Consider renumbering to consecutive integers started from zero\n",
      "[LightGBM] [Warning] Met categorical feature which contains sparse values. Consider renumbering to consecutive integers started from zero\n"
     ]
    },
    {
     "name": "stderr",
     "output_type": "stream",
     "text": [
      "\u001b[32m[I 2022-11-28 17:51:25,616]\u001b[0m Trial 5 finished with value: 0.8432185145983493 and parameters: {'objective': 'cross_entropy', 'max_depth': 4, 'learning_rate': 0.4770637172354527, 'n_estimators': 3429, 'min_child_samples': 90, 'lambda_l1': 1.5395577746201769e-07, 'lambda_l2': 1.6091375151327235e-07, 'path_smooth': 0.00010744916431686771, 'num_leaves': 173, 'min_data_in_leaf': 67, 'max_bin': 148, 'feature_fraction': 0.5117794317165487, 'bagging_fraction': 0.6599109264908691}. Best is trial 1 with value: 0.8495749475932372.\u001b[0m\n"
     ]
    },
    {
     "name": "stdout",
     "output_type": "stream",
     "text": [
      "[LightGBM] [Warning] lambda_l1 is set=2.0246746967152848e-07, reg_alpha=0.0 will be ignored. Current value: lambda_l1=2.0246746967152848e-07\n",
      "[LightGBM] [Warning] bagging_fraction is set=0.5810067212290936, subsample=1.0 will be ignored. Current value: bagging_fraction=0.5810067212290936\n",
      "[LightGBM] [Warning] feature_fraction is set=0.8900849833714146, colsample_bytree=1.0 will be ignored. Current value: feature_fraction=0.8900849833714146\n",
      "[LightGBM] [Warning] min_data_in_leaf is set=13, min_child_samples=32 will be ignored. Current value: min_data_in_leaf=13\n",
      "[LightGBM] [Warning] lambda_l2 is set=4.229005234665855e-05, reg_lambda=0.0 will be ignored. Current value: lambda_l2=4.229005234665855e-05\n",
      "[LightGBM] [Warning] Met categorical feature which contains sparse values. Consider renumbering to consecutive integers started from zero\n",
      "[LightGBM] [Warning] Met categorical feature which contains sparse values. Consider renumbering to consecutive integers started from zero\n"
     ]
    },
    {
     "name": "stderr",
     "output_type": "stream",
     "text": [
      "\u001b[32m[I 2022-11-28 17:51:44,020]\u001b[0m Trial 6 finished with value: 0.8439205411484013 and parameters: {'objective': 'binary', 'max_depth': 13, 'learning_rate': 0.3659431202433013, 'n_estimators': 1402, 'min_child_samples': 32, 'lambda_l1': 2.0246746967152848e-07, 'lambda_l2': 4.229005234665855e-05, 'path_smooth': 0.0009949418900135276, 'num_leaves': 161, 'min_data_in_leaf': 13, 'max_bin': 250, 'feature_fraction': 0.8900849833714146, 'bagging_fraction': 0.5810067212290936}. Best is trial 1 with value: 0.8495749475932372.\u001b[0m\n"
     ]
    },
    {
     "name": "stdout",
     "output_type": "stream",
     "text": [
      "[LightGBM] [Warning] lambda_l1 is set=6.667380713006627e-06, reg_alpha=0.0 will be ignored. Current value: lambda_l1=6.667380713006627e-06\n",
      "[LightGBM] [Warning] bagging_fraction is set=0.712837180422895, subsample=1.0 will be ignored. Current value: bagging_fraction=0.712837180422895\n",
      "[LightGBM] [Warning] feature_fraction is set=0.647150360092577, colsample_bytree=1.0 will be ignored. Current value: feature_fraction=0.647150360092577\n",
      "[LightGBM] [Warning] min_data_in_leaf is set=25, min_child_samples=6 will be ignored. Current value: min_data_in_leaf=25\n",
      "[LightGBM] [Warning] lambda_l2 is set=1.2529435095128308e-05, reg_lambda=0.0 will be ignored. Current value: lambda_l2=1.2529435095128308e-05\n",
      "[LightGBM] [Warning] Met categorical feature which contains sparse values. Consider renumbering to consecutive integers started from zero\n",
      "[LightGBM] [Warning] Met categorical feature which contains sparse values. Consider renumbering to consecutive integers started from zero\n"
     ]
    },
    {
     "name": "stderr",
     "output_type": "stream",
     "text": [
      "\u001b[32m[I 2022-11-28 17:52:24,738]\u001b[0m Trial 7 finished with value: 0.848400864091315 and parameters: {'objective': 'binary', 'max_depth': 14, 'learning_rate': 0.15297555478638752, 'n_estimators': 2534, 'min_child_samples': 6, 'lambda_l1': 6.667380713006627e-06, 'lambda_l2': 1.2529435095128308e-05, 'path_smooth': 2.316717147746947e-06, 'num_leaves': 167, 'min_data_in_leaf': 25, 'max_bin': 212, 'feature_fraction': 0.647150360092577, 'bagging_fraction': 0.712837180422895}. Best is trial 1 with value: 0.8495749475932372.\u001b[0m\n"
     ]
    },
    {
     "name": "stdout",
     "output_type": "stream",
     "text": [
      "[LightGBM] [Warning] lambda_l1 is set=1.2242096024682502e-06, reg_alpha=0.0 will be ignored. Current value: lambda_l1=1.2242096024682502e-06\n",
      "[LightGBM] [Warning] bagging_fraction is set=0.8081208008262204, subsample=1.0 will be ignored. Current value: bagging_fraction=0.8081208008262204\n",
      "[LightGBM] [Warning] feature_fraction is set=0.5067569163275346, colsample_bytree=1.0 will be ignored. Current value: feature_fraction=0.5067569163275346\n",
      "[LightGBM] [Warning] min_data_in_leaf is set=65, min_child_samples=43 will be ignored. Current value: min_data_in_leaf=65\n",
      "[LightGBM] [Warning] lambda_l2 is set=2.6549112632588423e-08, reg_lambda=0.0 will be ignored. Current value: lambda_l2=2.6549112632588423e-08\n",
      "[LightGBM] [Warning] Met categorical feature which contains sparse values. Consider renumbering to consecutive integers started from zero\n",
      "[LightGBM] [Warning] Met categorical feature which contains sparse values. Consider renumbering to consecutive integers started from zero\n"
     ]
    },
    {
     "name": "stderr",
     "output_type": "stream",
     "text": [
      "\u001b[32m[I 2022-11-28 17:54:52,060]\u001b[0m Trial 8 finished with value: 0.8472837331477524 and parameters: {'objective': 'cross_entropy', 'max_depth': 12, 'learning_rate': 0.015686409016513518, 'n_estimators': 1147, 'min_child_samples': 43, 'lambda_l1': 1.2242096024682502e-06, 'lambda_l2': 2.6549112632588423e-08, 'path_smooth': 0.0001851236657325161, 'num_leaves': 118, 'min_data_in_leaf': 65, 'max_bin': 229, 'feature_fraction': 0.5067569163275346, 'bagging_fraction': 0.8081208008262204}. Best is trial 1 with value: 0.8495749475932372.\u001b[0m\n"
     ]
    },
    {
     "name": "stdout",
     "output_type": "stream",
     "text": [
      "[LightGBM] [Warning] lambda_l1 is set=1.6997150743496004e-05, reg_alpha=0.0 will be ignored. Current value: lambda_l1=1.6997150743496004e-05\n",
      "[LightGBM] [Warning] bagging_fraction is set=0.7681060138388102, subsample=1.0 will be ignored. Current value: bagging_fraction=0.7681060138388102\n",
      "[LightGBM] [Warning] feature_fraction is set=0.7544202416604087, colsample_bytree=1.0 will be ignored. Current value: feature_fraction=0.7544202416604087\n",
      "[LightGBM] [Warning] min_data_in_leaf is set=86, min_child_samples=28 will be ignored. Current value: min_data_in_leaf=86\n",
      "[LightGBM] [Warning] lambda_l2 is set=2.558321068797796e-08, reg_lambda=0.0 will be ignored. Current value: lambda_l2=2.558321068797796e-08\n",
      "[LightGBM] [Warning] Met categorical feature which contains sparse values. Consider renumbering to consecutive integers started from zero\n",
      "[LightGBM] [Warning] Met categorical feature which contains sparse values. Consider renumbering to consecutive integers started from zero\n"
     ]
    },
    {
     "name": "stderr",
     "output_type": "stream",
     "text": [
      "\u001b[32m[I 2022-11-28 17:55:23,096]\u001b[0m Trial 9 finished with value: 0.84134796267625 and parameters: {'objective': 'binary', 'max_depth': 4, 'learning_rate': 0.4616040032583131, 'n_estimators': 1156, 'min_child_samples': 28, 'lambda_l1': 1.6997150743496004e-05, 'lambda_l2': 2.558321068797796e-08, 'path_smooth': 2.462786506980637e-08, 'num_leaves': 89, 'min_data_in_leaf': 86, 'max_bin': 110, 'feature_fraction': 0.7544202416604087, 'bagging_fraction': 0.7681060138388102}. Best is trial 1 with value: 0.8495749475932372.\u001b[0m\n"
     ]
    },
    {
     "name": "stdout",
     "output_type": "stream",
     "text": [
      "[LightGBM] [Warning] lambda_l1 is set=1.0847835445978988e-08, reg_alpha=0.0 will be ignored. Current value: lambda_l1=1.0847835445978988e-08\n",
      "[LightGBM] [Warning] bagging_fraction is set=0.8966121947838954, subsample=1.0 will be ignored. Current value: bagging_fraction=0.8966121947838954\n",
      "[LightGBM] [Warning] feature_fraction is set=0.7986338607237871, colsample_bytree=1.0 will be ignored. Current value: feature_fraction=0.7986338607237871\n",
      "[LightGBM] [Warning] min_data_in_leaf is set=43, min_child_samples=73 will be ignored. Current value: min_data_in_leaf=43\n",
      "[LightGBM] [Warning] lambda_l2 is set=5.896635273178497e-07, reg_lambda=0.0 will be ignored. Current value: lambda_l2=5.896635273178497e-07\n",
      "[LightGBM] [Warning] Met categorical feature which contains sparse values. Consider renumbering to consecutive integers started from zero\n",
      "[LightGBM] [Warning] Met categorical feature which contains sparse values. Consider renumbering to consecutive integers started from zero\n"
     ]
    },
    {
     "name": "stderr",
     "output_type": "stream",
     "text": [
      "\u001b[32m[I 2022-11-28 17:55:34,979]\u001b[0m Trial 10 finished with value: 0.8199055110774112 and parameters: {'objective': 'binary', 'max_depth': 8, 'learning_rate': 0.0011346718284596584, 'n_estimators': 9701, 'min_child_samples': 73, 'lambda_l1': 1.0847835445978988e-08, 'lambda_l2': 5.896635273178497e-07, 'path_smooth': 2.9793403448656662e-06, 'num_leaves': 36, 'min_data_in_leaf': 43, 'max_bin': 197, 'feature_fraction': 0.7986338607237871, 'bagging_fraction': 0.8966121947838954}. Best is trial 1 with value: 0.8495749475932372.\u001b[0m\n"
     ]
    },
    {
     "name": "stdout",
     "output_type": "stream",
     "text": [
      "[LightGBM] [Warning] lambda_l1 is set=2.191094374852511e-08, reg_alpha=0.0 will be ignored. Current value: lambda_l1=2.191094374852511e-08\n",
      "[LightGBM] [Warning] bagging_fraction is set=0.5243481691016288, subsample=1.0 will be ignored. Current value: bagging_fraction=0.5243481691016288\n",
      "[LightGBM] [Warning] feature_fraction is set=0.6655840232133299, colsample_bytree=1.0 will be ignored. Current value: feature_fraction=0.6655840232133299\n",
      "[LightGBM] [Warning] min_data_in_leaf is set=43, min_child_samples=57 will be ignored. Current value: min_data_in_leaf=43\n",
      "[LightGBM] [Warning] lambda_l2 is set=2.5153519896171443e-06, reg_lambda=0.0 will be ignored. Current value: lambda_l2=2.5153519896171443e-06\n",
      "[LightGBM] [Warning] Met categorical feature which contains sparse values. Consider renumbering to consecutive integers started from zero\n",
      "[LightGBM] [Warning] Met categorical feature which contains sparse values. Consider renumbering to consecutive integers started from zero\n"
     ]
    },
    {
     "name": "stderr",
     "output_type": "stream",
     "text": [
      "\u001b[32m[I 2022-11-28 18:38:16,765]\u001b[0m Trial 11 finished with value: 0.8459196631383821 and parameters: {'objective': 'binary', 'max_depth': 10, 'learning_rate': 0.002436367398926566, 'n_estimators': 7062, 'min_child_samples': 57, 'lambda_l1': 2.191094374852511e-08, 'lambda_l2': 2.5153519896171443e-06, 'path_smooth': 2.781119686904175e-07, 'num_leaves': 63, 'min_data_in_leaf': 43, 'max_bin': 154, 'feature_fraction': 0.6655840232133299, 'bagging_fraction': 0.5243481691016288}. Best is trial 1 with value: 0.8495749475932372.\u001b[0m\n"
     ]
    },
    {
     "name": "stdout",
     "output_type": "stream",
     "text": [
      "[LightGBM] [Warning] lambda_l1 is set=8.986040465602197e-05, reg_alpha=0.0 will be ignored. Current value: lambda_l1=8.986040465602197e-05\n",
      "[LightGBM] [Warning] bagging_fraction is set=0.5039614866664458, subsample=1.0 will be ignored. Current value: bagging_fraction=0.5039614866664458\n",
      "[LightGBM] [Warning] feature_fraction is set=0.5877278209354841, colsample_bytree=1.0 will be ignored. Current value: feature_fraction=0.5877278209354841\n",
      "[LightGBM] [Warning] min_data_in_leaf is set=46, min_child_samples=17 will be ignored. Current value: min_data_in_leaf=46\n",
      "[LightGBM] [Warning] lambda_l2 is set=3.182532034817751e-07, reg_lambda=0.0 will be ignored. Current value: lambda_l2=3.182532034817751e-07\n",
      "[LightGBM] [Warning] Met categorical feature which contains sparse values. Consider renumbering to consecutive integers started from zero\n",
      "[LightGBM] [Warning] Met categorical feature which contains sparse values. Consider renumbering to consecutive integers started from zero\n"
     ]
    },
    {
     "name": "stderr",
     "output_type": "stream",
     "text": [
      "\u001b[32m[I 2022-11-28 18:48:46,889]\u001b[0m Trial 12 finished with value: 0.8488321885896815 and parameters: {'objective': 'binary', 'max_depth': 10, 'learning_rate': 0.08684550425140126, 'n_estimators': 3993, 'min_child_samples': 17, 'lambda_l1': 8.986040465602197e-05, 'lambda_l2': 3.182532034817751e-07, 'path_smooth': 2.5115287454355705e-07, 'num_leaves': 95, 'min_data_in_leaf': 46, 'max_bin': 187, 'feature_fraction': 0.5877278209354841, 'bagging_fraction': 0.5039614866664458}. Best is trial 1 with value: 0.8495749475932372.\u001b[0m\n"
     ]
    },
    {
     "name": "stdout",
     "output_type": "stream",
     "text": [
      "[LightGBM] [Warning] lambda_l1 is set=4.750446113986196e-05, reg_alpha=0.0 will be ignored. Current value: lambda_l1=4.750446113986196e-05\n",
      "[LightGBM] [Warning] bagging_fraction is set=0.5826926602087777, subsample=1.0 will be ignored. Current value: bagging_fraction=0.5826926602087777\n",
      "[LightGBM] [Warning] feature_fraction is set=0.5789087899783375, colsample_bytree=1.0 will be ignored. Current value: feature_fraction=0.5789087899783375\n",
      "[LightGBM] [Warning] min_data_in_leaf is set=100, min_child_samples=13 will be ignored. Current value: min_data_in_leaf=100\n",
      "[LightGBM] [Warning] lambda_l2 is set=1.6310838729102475e-07, reg_lambda=0.0 will be ignored. Current value: lambda_l2=1.6310838729102475e-07\n",
      "[LightGBM] [Warning] Met categorical feature which contains sparse values. Consider renumbering to consecutive integers started from zero\n",
      "[LightGBM] [Warning] Met categorical feature which contains sparse values. Consider renumbering to consecutive integers started from zero\n"
     ]
    },
    {
     "name": "stderr",
     "output_type": "stream",
     "text": [
      "\u001b[32m[I 2022-11-28 18:54:17,461]\u001b[0m Trial 13 finished with value: 0.848982223287974 and parameters: {'objective': 'binary', 'max_depth': 9, 'learning_rate': 0.0954492553560932, 'n_estimators': 3344, 'min_child_samples': 13, 'lambda_l1': 4.750446113986196e-05, 'lambda_l2': 1.6310838729102475e-07, 'path_smooth': 3.5407966008900457e-07, 'num_leaves': 81, 'min_data_in_leaf': 100, 'max_bin': 189, 'feature_fraction': 0.5789087899783375, 'bagging_fraction': 0.5826926602087777}. Best is trial 1 with value: 0.8495749475932372.\u001b[0m\n"
     ]
    },
    {
     "name": "stdout",
     "output_type": "stream",
     "text": [
      "[LightGBM] [Warning] lambda_l1 is set=6.924601727667131e-08, reg_alpha=0.0 will be ignored. Current value: lambda_l1=6.924601727667131e-08\n",
      "[LightGBM] [Warning] bagging_fraction is set=0.5966245815568667, subsample=1.0 will be ignored. Current value: bagging_fraction=0.5966245815568667\n",
      "[LightGBM] [Warning] feature_fraction is set=0.5738706987116737, colsample_bytree=1.0 will be ignored. Current value: feature_fraction=0.5738706987116737\n",
      "[LightGBM] [Warning] min_data_in_leaf is set=99, min_child_samples=7 will be ignored. Current value: min_data_in_leaf=99\n",
      "[LightGBM] [Warning] lambda_l2 is set=1.2042129606287288e-07, reg_lambda=0.0 will be ignored. Current value: lambda_l2=1.2042129606287288e-07\n",
      "[LightGBM] [Warning] Met categorical feature which contains sparse values. Consider renumbering to consecutive integers started from zero\n"
     ]
    },
    {
     "name": "stderr",
     "output_type": "stream",
     "text": [
      "\u001b[32m[I 2022-11-28 19:03:59,151]\u001b[0m Trial 14 finished with value: 0.8482145999530265 and parameters: {'objective': 'binary', 'max_depth': 7, 'learning_rate': 0.06766795404777863, 'n_estimators': 3120, 'min_child_samples': 7, 'lambda_l1': 6.924601727667131e-08, 'lambda_l2': 1.2042129606287288e-07, 'path_smooth': 1.1045453507941276e-06, 'num_leaves': 54, 'min_data_in_leaf': 99, 'max_bin': 254, 'feature_fraction': 0.5738706987116737, 'bagging_fraction': 0.5966245815568667}. Best is trial 1 with value: 0.8495749475932372.\u001b[0m\n"
     ]
    },
    {
     "name": "stdout",
     "output_type": "stream",
     "text": [
      "[LightGBM] [Warning] lambda_l1 is set=9.012502804955756e-05, reg_alpha=0.0 will be ignored. Current value: lambda_l1=9.012502804955756e-05\n",
      "[LightGBM] [Warning] bagging_fraction is set=0.579062010193618, subsample=1.0 will be ignored. Current value: bagging_fraction=0.579062010193618\n",
      "[LightGBM] [Warning] feature_fraction is set=0.7344045013741353, colsample_bytree=1.0 will be ignored. Current value: feature_fraction=0.7344045013741353\n",
      "[LightGBM] [Warning] min_data_in_leaf is set=68, min_child_samples=20 will be ignored. Current value: min_data_in_leaf=68\n",
      "[LightGBM] [Warning] lambda_l2 is set=9.100646318662002e-08, reg_lambda=0.0 will be ignored. Current value: lambda_l2=9.100646318662002e-08\n",
      "[LightGBM] [Warning] Met categorical feature which contains sparse values. Consider renumbering to consecutive integers started from zero\n",
      "[LightGBM] [Warning] Met categorical feature which contains sparse values. Consider renumbering to consecutive integers started from zero\n"
     ]
    },
    {
     "name": "stderr",
     "output_type": "stream",
     "text": [
      "\u001b[32m[I 2022-11-28 19:04:35,574]\u001b[0m Trial 15 finished with value: 0.8480682797991667 and parameters: {'objective': 'binary', 'max_depth': 15, 'learning_rate': 0.17331067665194327, 'n_estimators': 2587, 'min_child_samples': 20, 'lambda_l1': 9.012502804955756e-05, 'lambda_l2': 9.100646318662002e-08, 'path_smooth': 2.6988963020722614e-05, 'num_leaves': 78, 'min_data_in_leaf': 68, 'max_bin': 225, 'feature_fraction': 0.7344045013741353, 'bagging_fraction': 0.579062010193618}. Best is trial 1 with value: 0.8495749475932372.\u001b[0m\n"
     ]
    },
    {
     "name": "stdout",
     "output_type": "stream",
     "text": [
      "[LightGBM] [Warning] lambda_l1 is set=5.697924878587713e-08, reg_alpha=0.0 will be ignored. Current value: lambda_l1=5.697924878587713e-08\n",
      "[LightGBM] [Warning] bagging_fraction is set=0.6471122807782793, subsample=1.0 will be ignored. Current value: bagging_fraction=0.6471122807782793\n",
      "[LightGBM] [Warning] feature_fraction is set=0.7875428231499065, colsample_bytree=1.0 will be ignored. Current value: feature_fraction=0.7875428231499065\n",
      "[LightGBM] [Warning] min_data_in_leaf is set=59, min_child_samples=45 will be ignored. Current value: min_data_in_leaf=59\n",
      "[LightGBM] [Warning] lambda_l2 is set=1.909319095228515e-06, reg_lambda=0.0 will be ignored. Current value: lambda_l2=1.909319095228515e-06\n",
      "[LightGBM] [Warning] Met categorical feature which contains sparse values. Consider renumbering to consecutive integers started from zero\n",
      "[LightGBM] [Warning] Met categorical feature which contains sparse values. Consider renumbering to consecutive integers started from zero\n"
     ]
    },
    {
     "name": "stderr",
     "output_type": "stream",
     "text": [
      "\u001b[32m[I 2022-11-28 19:04:40,951]\u001b[0m Trial 16 finished with value: 0.83275511198225 and parameters: {'objective': 'binary', 'max_depth': 10, 'learning_rate': 0.9727961777446633, 'n_estimators': 3964, 'min_child_samples': 45, 'lambda_l1': 5.697924878587713e-08, 'lambda_l2': 1.909319095228515e-06, 'path_smooth': 1.3880738425252598e-05, 'num_leaves': 110, 'min_data_in_leaf': 59, 'max_bin': 205, 'feature_fraction': 0.7875428231499065, 'bagging_fraction': 0.6471122807782793}. Best is trial 1 with value: 0.8495749475932372.\u001b[0m\n"
     ]
    },
    {
     "name": "stdout",
     "output_type": "stream",
     "text": [
      "[LightGBM] [Warning] lambda_l1 is set=3.3457834103869835e-06, reg_alpha=0.0 will be ignored. Current value: lambda_l1=3.3457834103869835e-06\n",
      "[LightGBM] [Warning] bagging_fraction is set=0.5559537944244497, subsample=1.0 will be ignored. Current value: bagging_fraction=0.5559537944244497\n",
      "[LightGBM] [Warning] feature_fraction is set=0.5611882921669379, colsample_bytree=1.0 will be ignored. Current value: feature_fraction=0.5611882921669379\n",
      "[LightGBM] [Warning] min_data_in_leaf is set=99, min_child_samples=74 will be ignored. Current value: min_data_in_leaf=99\n",
      "[LightGBM] [Warning] lambda_l2 is set=4.93511265618366e-08, reg_lambda=0.0 will be ignored. Current value: lambda_l2=4.93511265618366e-08\n",
      "[LightGBM] [Warning] Met categorical feature which contains sparse values. Consider renumbering to consecutive integers started from zero\n",
      "[LightGBM] [Warning] Met categorical feature which contains sparse values. Consider renumbering to consecutive integers started from zero\n"
     ]
    },
    {
     "name": "stderr",
     "output_type": "stream",
     "text": [
      "\u001b[32m[I 2022-11-28 19:24:00,711]\u001b[0m Trial 17 finished with value: 0.847698702839841 and parameters: {'objective': 'binary', 'max_depth': 6, 'learning_rate': 0.04257105198501569, 'n_estimators': 6804, 'min_child_samples': 74, 'lambda_l1': 3.3457834103869835e-06, 'lambda_l2': 4.93511265618366e-08, 'path_smooth': 6.408637230570751e-07, 'num_leaves': 49, 'min_data_in_leaf': 99, 'max_bin': 233, 'feature_fraction': 0.5611882921669379, 'bagging_fraction': 0.5559537944244497}. Best is trial 1 with value: 0.8495749475932372.\u001b[0m\n"
     ]
    },
    {
     "name": "stdout",
     "output_type": "stream",
     "text": [
      "[LightGBM] [Warning] lambda_l1 is set=2.5651726701450347e-05, reg_alpha=0.0 will be ignored. Current value: lambda_l1=2.5651726701450347e-05\n",
      "[LightGBM] [Warning] bagging_fraction is set=0.6197977388470718, subsample=1.0 will be ignored. Current value: bagging_fraction=0.6197977388470718\n",
      "[LightGBM] [Warning] feature_fraction is set=0.7049400091953428, colsample_bytree=1.0 will be ignored. Current value: feature_fraction=0.7049400091953428\n",
      "[LightGBM] [Warning] min_data_in_leaf is set=79, min_child_samples=20 will be ignored. Current value: min_data_in_leaf=79\n",
      "[LightGBM] [Warning] lambda_l2 is set=4.0309386916773507e-07, reg_lambda=0.0 will be ignored. Current value: lambda_l2=4.0309386916773507e-07\n",
      "[LightGBM] [Warning] Met categorical feature which contains sparse values. Consider renumbering to consecutive integers started from zero\n",
      "[LightGBM] [Warning] Met categorical feature which contains sparse values. Consider renumbering to consecutive integers started from zero\n"
     ]
    },
    {
     "name": "stderr",
     "output_type": "stream",
     "text": [
      "\u001b[32m[I 2022-11-28 19:26:46,048]\u001b[0m Trial 18 finished with value: 0.8390109910892796 and parameters: {'objective': 'binary', 'max_depth': 8, 'learning_rate': 0.01191034868279986, 'n_estimators': 286, 'min_child_samples': 20, 'lambda_l1': 2.5651726701450347e-05, 'lambda_l2': 4.0309386916773507e-07, 'path_smooth': 8.489457323819251e-08, 'num_leaves': 73, 'min_data_in_leaf': 79, 'max_bin': 176, 'feature_fraction': 0.7049400091953428, 'bagging_fraction': 0.6197977388470718}. Best is trial 1 with value: 0.8495749475932372.\u001b[0m\n"
     ]
    },
    {
     "name": "stdout",
     "output_type": "stream",
     "text": [
      "[LightGBM] [Warning] lambda_l1 is set=2.597953598011808e-07, reg_alpha=0.0 will be ignored. Current value: lambda_l1=2.597953598011808e-07\n",
      "[LightGBM] [Warning] bagging_fraction is set=0.5500033228672638, subsample=1.0 will be ignored. Current value: bagging_fraction=0.5500033228672638\n",
      "[LightGBM] [Warning] feature_fraction is set=0.6172402307495495, colsample_bytree=1.0 will be ignored. Current value: feature_fraction=0.6172402307495495\n",
      "[LightGBM] [Warning] min_data_in_leaf is set=75, min_child_samples=44 will be ignored. Current value: min_data_in_leaf=75\n",
      "[LightGBM] [Warning] lambda_l2 is set=2.030578917379983e-06, reg_lambda=0.0 will be ignored. Current value: lambda_l2=2.030578917379983e-06\n",
      "[LightGBM] [Warning] Met categorical feature which contains sparse values. Consider renumbering to consecutive integers started from zero\n",
      "[LightGBM] [Warning] Met categorical feature which contains sparse values. Consider renumbering to consecutive integers started from zero\n"
     ]
    },
    {
     "name": "stderr",
     "output_type": "stream",
     "text": [
      "\u001b[32m[I 2022-11-28 19:28:01,048]\u001b[0m Trial 19 finished with value: 0.8473614369432355 and parameters: {'objective': 'binary', 'max_depth': 11, 'learning_rate': 0.14010733530610334, 'n_estimators': 2041, 'min_child_samples': 44, 'lambda_l1': 2.597953598011808e-07, 'lambda_l2': 2.030578917379983e-06, 'path_smooth': 8.408873846691999e-06, 'num_leaves': 33, 'min_data_in_leaf': 75, 'max_bin': 135, 'feature_fraction': 0.6172402307495495, 'bagging_fraction': 0.5500033228672638}. Best is trial 1 with value: 0.8495749475932372.\u001b[0m\n"
     ]
    },
    {
     "name": "stdout",
     "output_type": "stream",
     "text": [
      "[LightGBM] [Warning] lambda_l1 is set=4.8303316330941795e-08, reg_alpha=0.0 will be ignored. Current value: lambda_l1=4.8303316330941795e-08\n",
      "[LightGBM] [Warning] bagging_fraction is set=0.6711948029254433, subsample=1.0 will be ignored. Current value: bagging_fraction=0.6711948029254433\n",
      "[LightGBM] [Warning] feature_fraction is set=0.8350612648044677, colsample_bytree=1.0 will be ignored. Current value: feature_fraction=0.8350612648044677\n",
      "[LightGBM] [Warning] min_data_in_leaf is set=27, min_child_samples=14 will be ignored. Current value: min_data_in_leaf=27\n",
      "[LightGBM] [Warning] lambda_l2 is set=6.384995708584644e-08, reg_lambda=0.0 will be ignored. Current value: lambda_l2=6.384995708584644e-08\n",
      "[LightGBM] [Warning] Met categorical feature which contains sparse values. Consider renumbering to consecutive integers started from zero\n",
      "[LightGBM] [Warning] Met categorical feature which contains sparse values. Consider renumbering to consecutive integers started from zero\n"
     ]
    },
    {
     "name": "stderr",
     "output_type": "stream",
     "text": [
      "\u001b[32m[I 2022-11-28 19:41:33,278]\u001b[0m Trial 20 finished with value: 0.8476173336232677 and parameters: {'objective': 'binary', 'max_depth': 9, 'learning_rate': 0.00554954903369397, 'n_estimators': 4477, 'min_child_samples': 14, 'lambda_l1': 4.8303316330941795e-08, 'lambda_l2': 6.384995708584644e-08, 'path_smooth': 1.0585580156113276e-08, 'num_leaves': 106, 'min_data_in_leaf': 27, 'max_bin': 188, 'feature_fraction': 0.8350612648044677, 'bagging_fraction': 0.6711948029254433}. Best is trial 1 with value: 0.8495749475932372.\u001b[0m\n"
     ]
    },
    {
     "name": "stdout",
     "output_type": "stream",
     "text": [
      "[LightGBM] [Warning] lambda_l1 is set=9.80662417439568e-05, reg_alpha=0.0 will be ignored. Current value: lambda_l1=9.80662417439568e-05\n",
      "[LightGBM] [Warning] bagging_fraction is set=0.5006651088227922, subsample=1.0 will be ignored. Current value: bagging_fraction=0.5006651088227922\n",
      "[LightGBM] [Warning] feature_fraction is set=0.5650157358012802, colsample_bytree=1.0 will be ignored. Current value: feature_fraction=0.5650157358012802\n",
      "[LightGBM] [Warning] min_data_in_leaf is set=51, min_child_samples=22 will be ignored. Current value: min_data_in_leaf=51\n",
      "[LightGBM] [Warning] lambda_l2 is set=3.0667153724766814e-07, reg_lambda=0.0 will be ignored. Current value: lambda_l2=3.0667153724766814e-07\n",
      "[LightGBM] [Warning] Met categorical feature which contains sparse values. Consider renumbering to consecutive integers started from zero\n",
      "[LightGBM] [Warning] Met categorical feature which contains sparse values. Consider renumbering to consecutive integers started from zero\n"
     ]
    },
    {
     "name": "stderr",
     "output_type": "stream",
     "text": [
      "\u001b[32m[I 2022-11-28 19:45:46,007]\u001b[0m Trial 21 finished with value: 0.8489874781078546 and parameters: {'objective': 'binary', 'max_depth': 10, 'learning_rate': 0.07838533992919806, 'n_estimators': 3866, 'min_child_samples': 22, 'lambda_l1': 9.80662417439568e-05, 'lambda_l2': 3.0667153724766814e-07, 'path_smooth': 1.6093662720631216e-07, 'num_leaves': 98, 'min_data_in_leaf': 51, 'max_bin': 182, 'feature_fraction': 0.5650157358012802, 'bagging_fraction': 0.5006651088227922}. Best is trial 1 with value: 0.8495749475932372.\u001b[0m\n"
     ]
    },
    {
     "name": "stdout",
     "output_type": "stream",
     "text": [
      "[LightGBM] [Warning] lambda_l1 is set=3.73903360915764e-05, reg_alpha=0.0 will be ignored. Current value: lambda_l1=3.73903360915764e-05\n",
      "[LightGBM] [Warning] bagging_fraction is set=0.5461018165731338, subsample=1.0 will be ignored. Current value: bagging_fraction=0.5461018165731338\n",
      "[LightGBM] [Warning] feature_fraction is set=0.5400367800842937, colsample_bytree=1.0 will be ignored. Current value: feature_fraction=0.5400367800842937\n",
      "[LightGBM] [Warning] min_data_in_leaf is set=52, min_child_samples=27 will be ignored. Current value: min_data_in_leaf=52\n",
      "[LightGBM] [Warning] lambda_l2 is set=2.3333486039297534e-07, reg_lambda=0.0 will be ignored. Current value: lambda_l2=2.3333486039297534e-07\n",
      "[LightGBM] [Warning] Met categorical feature which contains sparse values. Consider renumbering to consecutive integers started from zero\n",
      "[LightGBM] [Warning] Met categorical feature which contains sparse values. Consider renumbering to consecutive integers started from zero\n"
     ]
    },
    {
     "name": "stderr",
     "output_type": "stream",
     "text": [
      "\u001b[32m[I 2022-11-28 19:47:17,140]\u001b[0m Trial 22 finished with value: 0.8493739669801685 and parameters: {'objective': 'binary', 'max_depth': 11, 'learning_rate': 0.0760705273452212, 'n_estimators': 6289, 'min_child_samples': 27, 'lambda_l1': 3.73903360915764e-05, 'lambda_l2': 2.3333486039297534e-07, 'path_smooth': 7.381943376733496e-07, 'num_leaves': 126, 'min_data_in_leaf': 52, 'max_bin': 215, 'feature_fraction': 0.5400367800842937, 'bagging_fraction': 0.5461018165731338}. Best is trial 1 with value: 0.8495749475932372.\u001b[0m\n"
     ]
    },
    {
     "name": "stdout",
     "output_type": "stream",
     "text": [
      "[LightGBM] [Warning] lambda_l1 is set=2.609132153725282e-05, reg_alpha=0.0 will be ignored. Current value: lambda_l1=2.609132153725282e-05\n",
      "[LightGBM] [Warning] bagging_fraction is set=0.543113766114749, subsample=1.0 will be ignored. Current value: bagging_fraction=0.543113766114749\n",
      "[LightGBM] [Warning] feature_fraction is set=0.5372786182619828, colsample_bytree=1.0 will be ignored. Current value: feature_fraction=0.5372786182619828\n",
      "[LightGBM] [Warning] min_data_in_leaf is set=53, min_child_samples=26 will be ignored. Current value: min_data_in_leaf=53\n",
      "[LightGBM] [Warning] lambda_l2 is set=2.701953961971303e-07, reg_lambda=0.0 will be ignored. Current value: lambda_l2=2.701953961971303e-07\n",
      "[LightGBM] [Warning] Met categorical feature which contains sparse values. Consider renumbering to consecutive integers started from zero\n",
      "[LightGBM] [Warning] Met categorical feature which contains sparse values. Consider renumbering to consecutive integers started from zero\n"
     ]
    },
    {
     "name": "stderr",
     "output_type": "stream",
     "text": [
      "\u001b[32m[I 2022-11-28 19:50:56,741]\u001b[0m Trial 23 finished with value: 0.8496535366313872 and parameters: {'objective': 'binary', 'max_depth': 12, 'learning_rate': 0.03987800276535894, 'n_estimators': 6363, 'min_child_samples': 26, 'lambda_l1': 2.609132153725282e-05, 'lambda_l2': 2.701953961971303e-07, 'path_smooth': 8.987131174128772e-07, 'num_leaves': 125, 'min_data_in_leaf': 53, 'max_bin': 219, 'feature_fraction': 0.5372786182619828, 'bagging_fraction': 0.543113766114749}. Best is trial 23 with value: 0.8496535366313872.\u001b[0m\n"
     ]
    },
    {
     "name": "stdout",
     "output_type": "stream",
     "text": [
      "[LightGBM] [Warning] lambda_l1 is set=2.0087962448323342e-05, reg_alpha=0.0 will be ignored. Current value: lambda_l1=2.0087962448323342e-05\n",
      "[LightGBM] [Warning] bagging_fraction is set=0.5466449422595056, subsample=1.0 will be ignored. Current value: bagging_fraction=0.5466449422595056\n",
      "[LightGBM] [Warning] feature_fraction is set=0.5360257986299467, colsample_bytree=1.0 will be ignored. Current value: feature_fraction=0.5360257986299467\n",
      "[LightGBM] [Warning] min_data_in_leaf is set=55, min_child_samples=38 will be ignored. Current value: min_data_in_leaf=55\n",
      "[LightGBM] [Warning] lambda_l2 is set=6.651942422932263e-07, reg_lambda=0.0 will be ignored. Current value: lambda_l2=6.651942422932263e-07\n",
      "[LightGBM] [Warning] Met categorical feature which contains sparse values. Consider renumbering to consecutive integers started from zero\n"
     ]
    },
    {
     "name": "stderr",
     "output_type": "stream",
     "text": [
      "\u001b[32m[I 2022-11-28 22:28:31,104]\u001b[0m Trial 24 finished with value: 0.8501431967671322 and parameters: {'objective': 'binary', 'max_depth': 12, 'learning_rate': 0.02157862041112959, 'n_estimators': 6185, 'min_child_samples': 38, 'lambda_l1': 2.0087962448323342e-05, 'lambda_l2': 6.651942422932263e-07, 'path_smooth': 1.1073929408727372e-06, 'num_leaves': 125, 'min_data_in_leaf': 55, 'max_bin': 240, 'feature_fraction': 0.5360257986299467, 'bagging_fraction': 0.5466449422595056}. Best is trial 24 with value: 0.8501431967671322.\u001b[0m\n"
     ]
    },
    {
     "name": "stdout",
     "output_type": "stream",
     "text": [
      "[LightGBM] [Warning] lambda_l1 is set=3.1221842734641867e-06, reg_alpha=0.0 will be ignored. Current value: lambda_l1=3.1221842734641867e-06\n",
      "[LightGBM] [Warning] bagging_fraction is set=0.6142408096545948, subsample=1.0 will be ignored. Current value: bagging_fraction=0.6142408096545948\n",
      "[LightGBM] [Warning] feature_fraction is set=0.6334457799222277, colsample_bytree=1.0 will be ignored. Current value: feature_fraction=0.6334457799222277\n",
      "[LightGBM] [Warning] min_data_in_leaf is set=33, min_child_samples=40 will be ignored. Current value: min_data_in_leaf=33\n",
      "[LightGBM] [Warning] lambda_l2 is set=3.978957512320673e-06, reg_lambda=0.0 will be ignored. Current value: lambda_l2=3.978957512320673e-06\n",
      "[LightGBM] [Warning] Met categorical feature which contains sparse values. Consider renumbering to consecutive integers started from zero\n",
      "[LightGBM] [Warning] Met categorical feature which contains sparse values. Consider renumbering to consecutive integers started from zero\n"
     ]
    },
    {
     "name": "stderr",
     "output_type": "stream",
     "text": [
      "\u001b[32m[I 2022-11-29 00:12:30,002]\u001b[0m Trial 25 finished with value: 0.8499670050543917 and parameters: {'objective': 'binary', 'max_depth': 13, 'learning_rate': 0.021760372754778688, 'n_estimators': 7987, 'min_child_samples': 40, 'lambda_l1': 3.1221842734641867e-06, 'lambda_l2': 3.978957512320673e-06, 'path_smooth': 1.3090564207743374e-06, 'num_leaves': 130, 'min_data_in_leaf': 33, 'max_bin': 241, 'feature_fraction': 0.6334457799222277, 'bagging_fraction': 0.6142408096545948}. Best is trial 24 with value: 0.8501431967671322.\u001b[0m\n"
     ]
    },
    {
     "name": "stdout",
     "output_type": "stream",
     "text": [
      "[LightGBM] [Warning] lambda_l1 is set=1.0520332730357971e-05, reg_alpha=0.0 will be ignored. Current value: lambda_l1=1.0520332730357971e-05\n",
      "[LightGBM] [Warning] bagging_fraction is set=0.5395403955865168, subsample=1.0 will be ignored. Current value: bagging_fraction=0.5395403955865168\n",
      "[LightGBM] [Warning] feature_fraction is set=0.613968577337192, colsample_bytree=1.0 will be ignored. Current value: feature_fraction=0.613968577337192\n",
      "[LightGBM] [Warning] min_data_in_leaf is set=34, min_child_samples=34 will be ignored. Current value: min_data_in_leaf=34\n",
      "[LightGBM] [Warning] lambda_l2 is set=1.0117335081605208e-06, reg_lambda=0.0 will be ignored. Current value: lambda_l2=1.0117335081605208e-06\n",
      "[LightGBM] [Warning] Met categorical feature which contains sparse values. Consider renumbering to consecutive integers started from zero\n",
      "[LightGBM] [Warning] Met categorical feature which contains sparse values. Consider renumbering to consecutive integers started from zero\n"
     ]
    },
    {
     "name": "stderr",
     "output_type": "stream",
     "text": [
      "\u001b[32m[I 2022-11-29 01:12:29,116]\u001b[0m Trial 26 finished with value: 0.8501823271792353 and parameters: {'objective': 'cross_entropy', 'max_depth': 14, 'learning_rate': 0.018115530725760505, 'n_estimators': 8243, 'min_child_samples': 34, 'lambda_l1': 1.0520332730357971e-05, 'lambda_l2': 1.0117335081605208e-06, 'path_smooth': 2.0640577162898693e-06, 'num_leaves': 129, 'min_data_in_leaf': 34, 'max_bin': 245, 'feature_fraction': 0.613968577337192, 'bagging_fraction': 0.5395403955865168}. Best is trial 26 with value: 0.8501823271792353.\u001b[0m\n"
     ]
    },
    {
     "name": "stdout",
     "output_type": "stream",
     "text": [
      "[LightGBM] [Warning] lambda_l1 is set=2.9348525927502984e-06, reg_alpha=0.0 will be ignored. Current value: lambda_l1=2.9348525927502984e-06\n",
      "[LightGBM] [Warning] bagging_fraction is set=0.6860985552627415, subsample=1.0 will be ignored. Current value: bagging_fraction=0.6860985552627415\n",
      "[LightGBM] [Warning] feature_fraction is set=0.6140300603932235, colsample_bytree=1.0 will be ignored. Current value: feature_fraction=0.6140300603932235\n",
      "[LightGBM] [Warning] min_data_in_leaf is set=35, min_child_samples=48 will be ignored. Current value: min_data_in_leaf=35\n",
      "[LightGBM] [Warning] lambda_l2 is set=4.664979552704591e-06, reg_lambda=0.0 will be ignored. Current value: lambda_l2=4.664979552704591e-06\n",
      "[LightGBM] [Warning] Met categorical feature which contains sparse values. Consider renumbering to consecutive integers started from zero\n",
      "[LightGBM] [Warning] Met categorical feature which contains sparse values. Consider renumbering to consecutive integers started from zero\n"
     ]
    },
    {
     "name": "stderr",
     "output_type": "stream",
     "text": [
      "\u001b[32m[I 2022-11-29 01:16:46,549]\u001b[0m Trial 27 finished with value: 0.8501911479950456 and parameters: {'objective': 'cross_entropy', 'max_depth': 15, 'learning_rate': 0.022894076323413972, 'n_estimators': 7955, 'min_child_samples': 48, 'lambda_l1': 2.9348525927502984e-06, 'lambda_l2': 4.664979552704591e-06, 'path_smooth': 4.918294149790792e-05, 'num_leaves': 135, 'min_data_in_leaf': 35, 'max_bin': 240, 'feature_fraction': 0.6140300603932235, 'bagging_fraction': 0.6860985552627415}. Best is trial 27 with value: 0.8501911479950456.\u001b[0m\n"
     ]
    },
    {
     "name": "stdout",
     "output_type": "stream",
     "text": [
      "[LightGBM] [Warning] lambda_l1 is set=7.470648234536311e-06, reg_alpha=0.0 will be ignored. Current value: lambda_l1=7.470648234536311e-06\n",
      "[LightGBM] [Warning] bagging_fraction is set=0.8248617891221075, subsample=1.0 will be ignored. Current value: bagging_fraction=0.8248617891221075\n",
      "[LightGBM] [Warning] feature_fraction is set=0.6077865188346295, colsample_bytree=1.0 will be ignored. Current value: feature_fraction=0.6077865188346295\n",
      "[LightGBM] [Warning] min_data_in_leaf is set=35, min_child_samples=48 will be ignored. Current value: min_data_in_leaf=35\n",
      "[LightGBM] [Warning] lambda_l2 is set=9.90356054623688e-07, reg_lambda=0.0 will be ignored. Current value: lambda_l2=9.90356054623688e-07\n",
      "[LightGBM] [Warning] Met categorical feature which contains sparse values. Consider renumbering to consecutive integers started from zero\n",
      "[LightGBM] [Warning] Met categorical feature which contains sparse values. Consider renumbering to consecutive integers started from zero\n"
     ]
    },
    {
     "name": "stderr",
     "output_type": "stream",
     "text": [
      "\u001b[32m[I 2022-11-29 05:56:10,527]\u001b[0m Trial 28 finished with value: 0.8505053170647445 and parameters: {'objective': 'cross_entropy', 'max_depth': 15, 'learning_rate': 0.00725967037321421, 'n_estimators': 9926, 'min_child_samples': 48, 'lambda_l1': 7.470648234536311e-06, 'lambda_l2': 9.90356054623688e-07, 'path_smooth': 4.661176297781611e-05, 'num_leaves': 153, 'min_data_in_leaf': 35, 'max_bin': 246, 'feature_fraction': 0.6077865188346295, 'bagging_fraction': 0.8248617891221075}. Best is trial 28 with value: 0.8505053170647445.\u001b[0m\n"
     ]
    },
    {
     "name": "stdout",
     "output_type": "stream",
     "text": [
      "[LightGBM] [Warning] lambda_l1 is set=7.2505948267600335e-06, reg_alpha=0.0 will be ignored. Current value: lambda_l1=7.2505948267600335e-06\n",
      "[LightGBM] [Warning] bagging_fraction is set=0.8534789924337343, subsample=1.0 will be ignored. Current value: bagging_fraction=0.8534789924337343\n",
      "[LightGBM] [Warning] feature_fraction is set=0.6044206475427127, colsample_bytree=1.0 will be ignored. Current value: feature_fraction=0.6044206475427127\n",
      "[LightGBM] [Warning] min_data_in_leaf is set=34, min_child_samples=50 will be ignored. Current value: min_data_in_leaf=34\n",
      "[LightGBM] [Warning] lambda_l2 is set=5.332730741187984e-06, reg_lambda=0.0 will be ignored. Current value: lambda_l2=5.332730741187984e-06\n",
      "[LightGBM] [Warning] Met categorical feature which contains sparse values. Consider renumbering to consecutive integers started from zero\n",
      "[LightGBM] [Warning] Met categorical feature which contains sparse values. Consider renumbering to consecutive integers started from zero\n"
     ]
    },
    {
     "name": "stderr",
     "output_type": "stream",
     "text": [
      "\u001b[32m[I 2022-11-29 10:22:53,225]\u001b[0m Trial 29 finished with value: 0.850342346385377 and parameters: {'objective': 'cross_entropy', 'max_depth': 15, 'learning_rate': 0.007630933121124611, 'n_estimators': 9600, 'min_child_samples': 50, 'lambda_l1': 7.2505948267600335e-06, 'lambda_l2': 5.332730741187984e-06, 'path_smooth': 4.9069891254268494e-05, 'num_leaves': 153, 'min_data_in_leaf': 34, 'max_bin': 255, 'feature_fraction': 0.6044206475427127, 'bagging_fraction': 0.8534789924337343}. Best is trial 28 with value: 0.8505053170647445.\u001b[0m\n"
     ]
    },
    {
     "name": "stdout",
     "output_type": "stream",
     "text": [
      "[LightGBM] [Warning] lambda_l1 is set=3.4483864213103326e-06, reg_alpha=0.0 will be ignored. Current value: lambda_l1=3.4483864213103326e-06\n",
      "[LightGBM] [Warning] bagging_fraction is set=0.8672122858266406, subsample=1.0 will be ignored. Current value: bagging_fraction=0.8672122858266406\n",
      "[LightGBM] [Warning] feature_fraction is set=0.6808615243907541, colsample_bytree=1.0 will be ignored. Current value: feature_fraction=0.6808615243907541\n",
      "[LightGBM] [Warning] min_data_in_leaf is set=21, min_child_samples=51 will be ignored. Current value: min_data_in_leaf=21\n",
      "[LightGBM] [Warning] lambda_l2 is set=6.195080373476888e-06, reg_lambda=0.0 will be ignored. Current value: lambda_l2=6.195080373476888e-06\n",
      "[LightGBM] [Warning] Met categorical feature which contains sparse values. Consider renumbering to consecutive integers started from zero\n",
      "[LightGBM] [Warning] Met categorical feature which contains sparse values. Consider renumbering to consecutive integers started from zero\n"
     ]
    },
    {
     "name": "stderr",
     "output_type": "stream",
     "text": [
      "\u001b[32m[I 2022-11-29 15:15:38,566]\u001b[0m Trial 30 finished with value: 0.8505140937570655 and parameters: {'objective': 'cross_entropy', 'max_depth': 15, 'learning_rate': 0.007450979579783284, 'n_estimators': 9895, 'min_child_samples': 51, 'lambda_l1': 3.4483864213103326e-06, 'lambda_l2': 6.195080373476888e-06, 'path_smooth': 5.877571744254479e-05, 'num_leaves': 194, 'min_data_in_leaf': 21, 'max_bin': 255, 'feature_fraction': 0.6808615243907541, 'bagging_fraction': 0.8672122858266406}. Best is trial 30 with value: 0.8505140937570655.\u001b[0m\n"
     ]
    },
    {
     "name": "stdout",
     "output_type": "stream",
     "text": [
      "[LightGBM] [Warning] lambda_l1 is set=3.7997871645450814e-06, reg_alpha=0.0 will be ignored. Current value: lambda_l1=3.7997871645450814e-06\n",
      "[LightGBM] [Warning] bagging_fraction is set=0.8691830254556957, subsample=1.0 will be ignored. Current value: bagging_fraction=0.8691830254556957\n",
      "[LightGBM] [Warning] feature_fraction is set=0.7001538502456381, colsample_bytree=1.0 will be ignored. Current value: feature_fraction=0.7001538502456381\n",
      "[LightGBM] [Warning] min_data_in_leaf is set=18, min_child_samples=51 will be ignored. Current value: min_data_in_leaf=18\n",
      "[LightGBM] [Warning] lambda_l2 is set=6.126302526980535e-06, reg_lambda=0.0 will be ignored. Current value: lambda_l2=6.126302526980535e-06\n",
      "[LightGBM] [Warning] Met categorical feature which contains sparse values. Consider renumbering to consecutive integers started from zero\n",
      "[LightGBM] [Warning] Met categorical feature which contains sparse values. Consider renumbering to consecutive integers started from zero\n"
     ]
    },
    {
     "name": "stderr",
     "output_type": "stream",
     "text": [
      "\u001b[32m[I 2022-11-29 20:04:57,360]\u001b[0m Trial 31 finished with value: 0.8504218555438536 and parameters: {'objective': 'cross_entropy', 'max_depth': 15, 'learning_rate': 0.007233489220606737, 'n_estimators': 9958, 'min_child_samples': 51, 'lambda_l1': 3.7997871645450814e-06, 'lambda_l2': 6.126302526980535e-06, 'path_smooth': 5.4322313100750316e-05, 'num_leaves': 199, 'min_data_in_leaf': 18, 'max_bin': 249, 'feature_fraction': 0.7001538502456381, 'bagging_fraction': 0.8691830254556957}. Best is trial 30 with value: 0.8505140937570655.\u001b[0m\n"
     ]
    },
    {
     "name": "stdout",
     "output_type": "stream",
     "text": [
      "[LightGBM] [Warning] lambda_l1 is set=6.658738250632766e-06, reg_alpha=0.0 will be ignored. Current value: lambda_l1=6.658738250632766e-06\n",
      "[LightGBM] [Warning] bagging_fraction is set=0.8711781309644314, subsample=1.0 will be ignored. Current value: bagging_fraction=0.8711781309644314\n",
      "[LightGBM] [Warning] feature_fraction is set=0.7056237974777704, colsample_bytree=1.0 will be ignored. Current value: feature_fraction=0.7056237974777704\n",
      "[LightGBM] [Warning] min_data_in_leaf is set=17, min_child_samples=64 will be ignored. Current value: min_data_in_leaf=17\n",
      "[LightGBM] [Warning] lambda_l2 is set=2.6974650395194234e-05, reg_lambda=0.0 will be ignored. Current value: lambda_l2=2.6974650395194234e-05\n",
      "[LightGBM] [Warning] Met categorical feature which contains sparse values. Consider renumbering to consecutive integers started from zero\n",
      "[LightGBM] [Warning] Met categorical feature which contains sparse values. Consider renumbering to consecutive integers started from zero\n"
     ]
    }
   ],
   "source": [
    "import wandb\n",
    "import lightgbm as lgb\n",
    "wandb_kwargs = {\"project\": \"lgb-optuna\"}\n",
    "wandbc = WeightsAndBiasesCallback(wandb_kwargs=wandb_kwargs)\n",
    "\n",
    "@wandbc.track_in_wandb()\n",
    "def objective(trial):\n",
    "    param = {\n",
    "        # 'objective': 'binary', # 이진 분류\n",
    "        \"objective\": trial.suggest_categorical(\"objective\", [\"binary\", \"cross_entropy\"]),\n",
    "        'verbose': -1,\n",
    "        'metric': 'AUC',\n",
    "        'max_depth': trial.suggest_int('max_depth',3, 15),\n",
    "        'learning_rate': trial.suggest_loguniform(\"learning_rate\", 0.001, 1.0),\n",
    "        'n_estimators': trial.suggest_int('n_estimators', 100, 10000),\n",
    "        'min_child_samples': trial.suggest_int('min_child_samples', 5, 100),\n",
    "        # 'subsample': trial.suggest_loguniform('subsample', 0.4, 1),\n",
    "        'lambda_l1' : trial.suggest_loguniform('lambda_l1', 1e-8, 1e-4),\n",
    "        'lambda_l2' : trial.suggest_loguniform('lambda_l2', 1e-8, 1e-4),\n",
    "        'path_smooth' : trial.suggest_loguniform('path_smooth', 1e-8, 1e-3),\n",
    "        'num_leaves' : trial.suggest_int('num_leaves', 30, 200),\n",
    "        'min_data_in_leaf' : trial.suggest_int('min_data_in_leaf', 10, 100),\n",
    "        'max_bin' : trial.suggest_int('max_bin', 100, 255),\n",
    "        'feature_fraction' : trial.suggest_uniform('feature_fraction', 0.5, 0.9),\n",
    "        'bagging_fraction' : trial.suggest_uniform('bagging_fraction', 0.5, 0.9),\n",
    "        # 'device' : 'gpu',\n",
    "        # 'reg_alpha' : None,\n",
    "    }\n",
    "    categorical = [0, 1, 2, 3, 4]\n",
    "    model = lgb.LGBMClassifier(**param, categorical_feature=categorical, random_state=777)\n",
    "    lgb_model = model.fit(h_train_X, h_train_y, eval_set=[(h_valid_X, h_valid_y)], verbose=0, early_stopping_rounds=25)\n",
    "    loss = roc_auc_score(h_valid_y, lgb_model.predict_proba(h_valid_X)[:, 1])\n",
    "    return loss\n",
    "        \n",
    "study_lgb = optuna.create_study(direction='maximize', sampler=sampler)\n",
    "study_lgb.optimize(objective, n_trials=100, callbacks=[wandbc])"
   ]
  },
  {
   "cell_type": "markdown",
   "metadata": {},
   "source": [
    "## CatBoost parameter search"
   ]
  },
  {
   "cell_type": "code",
   "execution_count": 8,
   "metadata": {},
   "outputs": [],
   "source": [
    "import gc\n",
    "import torch"
   ]
  },
  {
   "cell_type": "code",
   "execution_count": 45,
   "metadata": {},
   "outputs": [
    {
     "name": "stderr",
     "output_type": "stream",
     "text": [
      "\u001b[32m[I 2022-12-07 02:05:12,559]\u001b[0m A new study created in memory with name: no-name-f1c893bd-3329-4cc6-b708-e5b374ab2ab7\u001b[0m\n",
      "\u001b[33m[W 2022-12-07 02:05:18,949]\u001b[0m Trial 0 failed because of the following error: CatBoostError('catboost/cuda/cuda_lib/cuda_base.h:281: CUDA error 100: no CUDA-capable device is detected')\u001b[0m\n",
      "Traceback (most recent call last):\n",
      "  File \"/opt/conda/envs/dkt/lib/python3.8/site-packages/optuna/study/_optimize.py\", line 196, in _run_trial\n",
      "    value_or_values = func(trial)\n",
      "  File \"/tmp/ipykernel_106632/138017590.py\", line 25, in objective\n",
      "    cat_model = cat.fit(h_train_X, h_train_y, eval_set=[(h_valid_X, h_valid_y)], verbose=0, early_stopping_rounds=25)\n",
      "  File \"/opt/conda/envs/dkt/lib/python3.8/site-packages/catboost/core.py\", line 5128, in fit\n",
      "    self._fit(X, y, cat_features, text_features, embedding_features, None, sample_weight, None, None, None, None, baseline, use_best_model,\n",
      "  File \"/opt/conda/envs/dkt/lib/python3.8/site-packages/catboost/core.py\", line 2355, in _fit\n",
      "    self._train(\n",
      "  File \"/opt/conda/envs/dkt/lib/python3.8/site-packages/catboost/core.py\", line 1759, in _train\n",
      "    self._object._train(train_pool, test_pool, params, allow_clear_pool, init_model._object if init_model else None)\n",
      "  File \"_catboost.pyx\", line 4623, in _catboost._CatBoost._train\n",
      "  File \"_catboost.pyx\", line 4672, in _catboost._CatBoost._train\n",
      "_catboost.CatBoostError: catboost/cuda/cuda_lib/cuda_base.h:281: CUDA error 100: no CUDA-capable device is detected\n"
     ]
    },
    {
     "ename": "CatBoostError",
     "evalue": "catboost/cuda/cuda_lib/cuda_base.h:281: CUDA error 100: no CUDA-capable device is detected",
     "output_type": "error",
     "traceback": [
      "\u001b[0;31m---------------------------------------------------------------------------\u001b[0m",
      "\u001b[0;31mCatBoostError\u001b[0m                             Traceback (most recent call last)",
      "Cell \u001b[0;32mIn [45], line 35\u001b[0m\n\u001b[1;32m     32\u001b[0m     \u001b[39mreturn\u001b[39;00m accuracy\n\u001b[1;32m     34\u001b[0m study_cat \u001b[39m=\u001b[39m optuna\u001b[39m.\u001b[39mcreate_study(direction\u001b[39m=\u001b[39m\u001b[39m\"\u001b[39m\u001b[39mmaximize\u001b[39m\u001b[39m\"\u001b[39m,)\n\u001b[0;32m---> 35\u001b[0m study_cat\u001b[39m.\u001b[39;49moptimize(objective, n_trials\u001b[39m=\u001b[39;49m\u001b[39m100\u001b[39;49m)\n",
      "File \u001b[0;32m/opt/conda/envs/dkt/lib/python3.8/site-packages/optuna/study/study.py:419\u001b[0m, in \u001b[0;36mStudy.optimize\u001b[0;34m(self, func, n_trials, timeout, n_jobs, catch, callbacks, gc_after_trial, show_progress_bar)\u001b[0m\n\u001b[1;32m    315\u001b[0m \u001b[39mdef\u001b[39;00m \u001b[39moptimize\u001b[39m(\n\u001b[1;32m    316\u001b[0m     \u001b[39mself\u001b[39m,\n\u001b[1;32m    317\u001b[0m     func: ObjectiveFuncType,\n\u001b[0;32m   (...)\u001b[0m\n\u001b[1;32m    324\u001b[0m     show_progress_bar: \u001b[39mbool\u001b[39m \u001b[39m=\u001b[39m \u001b[39mFalse\u001b[39;00m,\n\u001b[1;32m    325\u001b[0m ) \u001b[39m-\u001b[39m\u001b[39m>\u001b[39m \u001b[39mNone\u001b[39;00m:\n\u001b[1;32m    326\u001b[0m     \u001b[39m\"\"\"Optimize an objective function.\u001b[39;00m\n\u001b[1;32m    327\u001b[0m \n\u001b[1;32m    328\u001b[0m \u001b[39m    Optimization is done by choosing a suitable set of hyperparameter values from a given\u001b[39;00m\n\u001b[0;32m   (...)\u001b[0m\n\u001b[1;32m    416\u001b[0m \u001b[39m            If nested invocation of this method occurs.\u001b[39;00m\n\u001b[1;32m    417\u001b[0m \u001b[39m    \"\"\"\u001b[39;00m\n\u001b[0;32m--> 419\u001b[0m     _optimize(\n\u001b[1;32m    420\u001b[0m         study\u001b[39m=\u001b[39;49m\u001b[39mself\u001b[39;49m,\n\u001b[1;32m    421\u001b[0m         func\u001b[39m=\u001b[39;49mfunc,\n\u001b[1;32m    422\u001b[0m         n_trials\u001b[39m=\u001b[39;49mn_trials,\n\u001b[1;32m    423\u001b[0m         timeout\u001b[39m=\u001b[39;49mtimeout,\n\u001b[1;32m    424\u001b[0m         n_jobs\u001b[39m=\u001b[39;49mn_jobs,\n\u001b[1;32m    425\u001b[0m         catch\u001b[39m=\u001b[39;49mcatch,\n\u001b[1;32m    426\u001b[0m         callbacks\u001b[39m=\u001b[39;49mcallbacks,\n\u001b[1;32m    427\u001b[0m         gc_after_trial\u001b[39m=\u001b[39;49mgc_after_trial,\n\u001b[1;32m    428\u001b[0m         show_progress_bar\u001b[39m=\u001b[39;49mshow_progress_bar,\n\u001b[1;32m    429\u001b[0m     )\n",
      "File \u001b[0;32m/opt/conda/envs/dkt/lib/python3.8/site-packages/optuna/study/_optimize.py:66\u001b[0m, in \u001b[0;36m_optimize\u001b[0;34m(study, func, n_trials, timeout, n_jobs, catch, callbacks, gc_after_trial, show_progress_bar)\u001b[0m\n\u001b[1;32m     64\u001b[0m \u001b[39mtry\u001b[39;00m:\n\u001b[1;32m     65\u001b[0m     \u001b[39mif\u001b[39;00m n_jobs \u001b[39m==\u001b[39m \u001b[39m1\u001b[39m:\n\u001b[0;32m---> 66\u001b[0m         _optimize_sequential(\n\u001b[1;32m     67\u001b[0m             study,\n\u001b[1;32m     68\u001b[0m             func,\n\u001b[1;32m     69\u001b[0m             n_trials,\n\u001b[1;32m     70\u001b[0m             timeout,\n\u001b[1;32m     71\u001b[0m             catch,\n\u001b[1;32m     72\u001b[0m             callbacks,\n\u001b[1;32m     73\u001b[0m             gc_after_trial,\n\u001b[1;32m     74\u001b[0m             reseed_sampler_rng\u001b[39m=\u001b[39;49m\u001b[39mFalse\u001b[39;49;00m,\n\u001b[1;32m     75\u001b[0m             time_start\u001b[39m=\u001b[39;49m\u001b[39mNone\u001b[39;49;00m,\n\u001b[1;32m     76\u001b[0m             progress_bar\u001b[39m=\u001b[39;49mprogress_bar,\n\u001b[1;32m     77\u001b[0m         )\n\u001b[1;32m     78\u001b[0m     \u001b[39melse\u001b[39;00m:\n\u001b[1;32m     79\u001b[0m         \u001b[39mif\u001b[39;00m n_jobs \u001b[39m==\u001b[39m \u001b[39m-\u001b[39m\u001b[39m1\u001b[39m:\n",
      "File \u001b[0;32m/opt/conda/envs/dkt/lib/python3.8/site-packages/optuna/study/_optimize.py:160\u001b[0m, in \u001b[0;36m_optimize_sequential\u001b[0;34m(study, func, n_trials, timeout, catch, callbacks, gc_after_trial, reseed_sampler_rng, time_start, progress_bar)\u001b[0m\n\u001b[1;32m    157\u001b[0m         \u001b[39mbreak\u001b[39;00m\n\u001b[1;32m    159\u001b[0m \u001b[39mtry\u001b[39;00m:\n\u001b[0;32m--> 160\u001b[0m     frozen_trial \u001b[39m=\u001b[39m _run_trial(study, func, catch)\n\u001b[1;32m    161\u001b[0m \u001b[39mfinally\u001b[39;00m:\n\u001b[1;32m    162\u001b[0m     \u001b[39m# The following line mitigates memory problems that can be occurred in some\u001b[39;00m\n\u001b[1;32m    163\u001b[0m     \u001b[39m# environments (e.g., services that use computing containers such as CircleCI).\u001b[39;00m\n\u001b[1;32m    164\u001b[0m     \u001b[39m# Please refer to the following PR for further details:\u001b[39;00m\n\u001b[1;32m    165\u001b[0m     \u001b[39m# https://github.com/optuna/optuna/pull/325.\u001b[39;00m\n\u001b[1;32m    166\u001b[0m     \u001b[39mif\u001b[39;00m gc_after_trial:\n",
      "File \u001b[0;32m/opt/conda/envs/dkt/lib/python3.8/site-packages/optuna/study/_optimize.py:234\u001b[0m, in \u001b[0;36m_run_trial\u001b[0;34m(study, func, catch)\u001b[0m\n\u001b[1;32m    227\u001b[0m         \u001b[39massert\u001b[39;00m \u001b[39mFalse\u001b[39;00m, \u001b[39m\"\u001b[39m\u001b[39mShould not reach.\u001b[39m\u001b[39m\"\u001b[39m\n\u001b[1;32m    229\u001b[0m \u001b[39mif\u001b[39;00m (\n\u001b[1;32m    230\u001b[0m     frozen_trial\u001b[39m.\u001b[39mstate \u001b[39m==\u001b[39m TrialState\u001b[39m.\u001b[39mFAIL\n\u001b[1;32m    231\u001b[0m     \u001b[39mand\u001b[39;00m func_err \u001b[39mis\u001b[39;00m \u001b[39mnot\u001b[39;00m \u001b[39mNone\u001b[39;00m\n\u001b[1;32m    232\u001b[0m     \u001b[39mand\u001b[39;00m \u001b[39mnot\u001b[39;00m \u001b[39misinstance\u001b[39m(func_err, catch)\n\u001b[1;32m    233\u001b[0m ):\n\u001b[0;32m--> 234\u001b[0m     \u001b[39mraise\u001b[39;00m func_err\n\u001b[1;32m    235\u001b[0m \u001b[39mreturn\u001b[39;00m frozen_trial\n",
      "File \u001b[0;32m/opt/conda/envs/dkt/lib/python3.8/site-packages/optuna/study/_optimize.py:196\u001b[0m, in \u001b[0;36m_run_trial\u001b[0;34m(study, func, catch)\u001b[0m\n\u001b[1;32m    194\u001b[0m \u001b[39mwith\u001b[39;00m get_heartbeat_thread(trial\u001b[39m.\u001b[39m_trial_id, study\u001b[39m.\u001b[39m_storage):\n\u001b[1;32m    195\u001b[0m     \u001b[39mtry\u001b[39;00m:\n\u001b[0;32m--> 196\u001b[0m         value_or_values \u001b[39m=\u001b[39m func(trial)\n\u001b[1;32m    197\u001b[0m     \u001b[39mexcept\u001b[39;00m exceptions\u001b[39m.\u001b[39mTrialPruned \u001b[39mas\u001b[39;00m e:\n\u001b[1;32m    198\u001b[0m         \u001b[39m# TODO(mamu): Handle multi-objective cases.\u001b[39;00m\n\u001b[1;32m    199\u001b[0m         state \u001b[39m=\u001b[39m TrialState\u001b[39m.\u001b[39mPRUNED\n",
      "Cell \u001b[0;32mIn [45], line 25\u001b[0m, in \u001b[0;36mobjective\u001b[0;34m(trial)\u001b[0m\n\u001b[1;32m     22\u001b[0m     param[\u001b[39m\"\u001b[39m\u001b[39msubsample\u001b[39m\u001b[39m\"\u001b[39m] \u001b[39m=\u001b[39m trial\u001b[39m.\u001b[39msuggest_float(\u001b[39m\"\u001b[39m\u001b[39msubsample\u001b[39m\u001b[39m\"\u001b[39m, \u001b[39m0.1\u001b[39m, \u001b[39m1\u001b[39m)\n\u001b[1;32m     24\u001b[0m cat \u001b[39m=\u001b[39m CatBoostClassifier(\u001b[39m*\u001b[39m\u001b[39m*\u001b[39mparam, cat_features\u001b[39m=\u001b[39m[\u001b[39m0\u001b[39m, \u001b[39m1\u001b[39m, \u001b[39m2\u001b[39m, \u001b[39m3\u001b[39m, \u001b[39m4\u001b[39m], random_seed\u001b[39m=\u001b[39mseed, task_type\u001b[39m=\u001b[39m\u001b[39m\"\u001b[39m\u001b[39mGPU\u001b[39m\u001b[39m\"\u001b[39m)\n\u001b[0;32m---> 25\u001b[0m cat_model \u001b[39m=\u001b[39m cat\u001b[39m.\u001b[39;49mfit(h_train_X, h_train_y, eval_set\u001b[39m=\u001b[39;49m[(h_valid_X, h_valid_y)], verbose\u001b[39m=\u001b[39;49m\u001b[39m0\u001b[39;49m, early_stopping_rounds\u001b[39m=\u001b[39;49m\u001b[39m25\u001b[39;49m)    \n\u001b[1;32m     26\u001b[0m preds \u001b[39m=\u001b[39m cat_model\u001b[39m.\u001b[39mpredict_proba(h_valid_X)\n\u001b[1;32m     27\u001b[0m \u001b[39m# pred_labels = np.rint(preds)\u001b[39;00m\n\u001b[1;32m     28\u001b[0m \u001b[39m# accuracy = roc_auc_score(h_valid_y, pred_labels)\u001b[39;00m\n",
      "File \u001b[0;32m/opt/conda/envs/dkt/lib/python3.8/site-packages/catboost/core.py:5128\u001b[0m, in \u001b[0;36mCatBoostClassifier.fit\u001b[0;34m(self, X, y, cat_features, text_features, embedding_features, sample_weight, baseline, use_best_model, eval_set, verbose, logging_level, plot, plot_file, column_description, verbose_eval, metric_period, silent, early_stopping_rounds, save_snapshot, snapshot_file, snapshot_interval, init_model, callbacks, log_cout, log_cerr)\u001b[0m\n\u001b[1;32m   5125\u001b[0m \u001b[39mif\u001b[39;00m \u001b[39m'\u001b[39m\u001b[39mloss_function\u001b[39m\u001b[39m'\u001b[39m \u001b[39min\u001b[39;00m params:\n\u001b[1;32m   5126\u001b[0m     CatBoostClassifier\u001b[39m.\u001b[39m_check_is_compatible_loss(params[\u001b[39m'\u001b[39m\u001b[39mloss_function\u001b[39m\u001b[39m'\u001b[39m])\n\u001b[0;32m-> 5128\u001b[0m \u001b[39mself\u001b[39;49m\u001b[39m.\u001b[39;49m_fit(X, y, cat_features, text_features, embedding_features, \u001b[39mNone\u001b[39;49;00m, sample_weight, \u001b[39mNone\u001b[39;49;00m, \u001b[39mNone\u001b[39;49;00m, \u001b[39mNone\u001b[39;49;00m, \u001b[39mNone\u001b[39;49;00m, baseline, use_best_model,\n\u001b[1;32m   5129\u001b[0m           eval_set, verbose, logging_level, plot, plot_file, column_description, verbose_eval, metric_period,\n\u001b[1;32m   5130\u001b[0m           silent, early_stopping_rounds, save_snapshot, snapshot_file, snapshot_interval, init_model, callbacks, log_cout, log_cerr)\n\u001b[1;32m   5131\u001b[0m \u001b[39mreturn\u001b[39;00m \u001b[39mself\u001b[39m\n",
      "File \u001b[0;32m/opt/conda/envs/dkt/lib/python3.8/site-packages/catboost/core.py:2355\u001b[0m, in \u001b[0;36mCatBoost._fit\u001b[0;34m(self, X, y, cat_features, text_features, embedding_features, pairs, sample_weight, group_id, group_weight, subgroup_id, pairs_weight, baseline, use_best_model, eval_set, verbose, logging_level, plot, plot_file, column_description, verbose_eval, metric_period, silent, early_stopping_rounds, save_snapshot, snapshot_file, snapshot_interval, init_model, callbacks, log_cout, log_cerr)\u001b[0m\n\u001b[1;32m   2351\u001b[0m allow_clear_pool \u001b[39m=\u001b[39m train_params[\u001b[39m\"\u001b[39m\u001b[39mallow_clear_pool\u001b[39m\u001b[39m\"\u001b[39m]\n\u001b[1;32m   2353\u001b[0m \u001b[39mwith\u001b[39;00m log_fixup(log_cout, log_cerr), \\\n\u001b[1;32m   2354\u001b[0m     plot_wrapper(plot, plot_file, \u001b[39m'\u001b[39m\u001b[39mTraining plots\u001b[39m\u001b[39m'\u001b[39m, [_get_train_dir(\u001b[39mself\u001b[39m\u001b[39m.\u001b[39mget_params())]):\n\u001b[0;32m-> 2355\u001b[0m     \u001b[39mself\u001b[39;49m\u001b[39m.\u001b[39;49m_train(\n\u001b[1;32m   2356\u001b[0m         train_pool,\n\u001b[1;32m   2357\u001b[0m         train_params[\u001b[39m\"\u001b[39;49m\u001b[39meval_sets\u001b[39;49m\u001b[39m\"\u001b[39;49m],\n\u001b[1;32m   2358\u001b[0m         params,\n\u001b[1;32m   2359\u001b[0m         allow_clear_pool,\n\u001b[1;32m   2360\u001b[0m         train_params[\u001b[39m\"\u001b[39;49m\u001b[39minit_model\u001b[39;49m\u001b[39m\"\u001b[39;49m]\n\u001b[1;32m   2361\u001b[0m     )\n\u001b[1;32m   2363\u001b[0m \u001b[39m# Have property feature_importance possibly set\u001b[39;00m\n\u001b[1;32m   2364\u001b[0m loss \u001b[39m=\u001b[39m \u001b[39mself\u001b[39m\u001b[39m.\u001b[39m_object\u001b[39m.\u001b[39m_get_loss_function_name()\n",
      "File \u001b[0;32m/opt/conda/envs/dkt/lib/python3.8/site-packages/catboost/core.py:1759\u001b[0m, in \u001b[0;36m_CatBoostBase._train\u001b[0;34m(self, train_pool, test_pool, params, allow_clear_pool, init_model)\u001b[0m\n\u001b[1;32m   1758\u001b[0m \u001b[39mdef\u001b[39;00m \u001b[39m_train\u001b[39m(\u001b[39mself\u001b[39m, train_pool, test_pool, params, allow_clear_pool, init_model):\n\u001b[0;32m-> 1759\u001b[0m     \u001b[39mself\u001b[39;49m\u001b[39m.\u001b[39;49m_object\u001b[39m.\u001b[39;49m_train(train_pool, test_pool, params, allow_clear_pool, init_model\u001b[39m.\u001b[39;49m_object \u001b[39mif\u001b[39;49;00m init_model \u001b[39melse\u001b[39;49;00m \u001b[39mNone\u001b[39;49;00m)\n\u001b[1;32m   1760\u001b[0m     \u001b[39mself\u001b[39m\u001b[39m.\u001b[39m_set_trained_model_attributes()\n",
      "File \u001b[0;32m_catboost.pyx:4623\u001b[0m, in \u001b[0;36m_catboost._CatBoost._train\u001b[0;34m()\u001b[0m\n",
      "File \u001b[0;32m_catboost.pyx:4672\u001b[0m, in \u001b[0;36m_catboost._CatBoost._train\u001b[0;34m()\u001b[0m\n",
      "\u001b[0;31mCatBoostError\u001b[0m: catboost/cuda/cuda_lib/cuda_base.h:281: CUDA error 100: no CUDA-capable device is detected"
     ]
    }
   ],
   "source": [
    "def objective(trial):\n",
    "    param = {\n",
    "        \"objective\": trial.suggest_categorical(\"objective\", [\"Logloss\", \"CrossEntropy\"]),\n",
    "        # \"objective\" : \"RMSE\",\n",
    "        # \"colsample_bylevel\": trial.suggest_float(\"colsample_bylevel\", 0.4, 1.0),\n",
    "        \"depth\": trial.suggest_int(\"depth\", 3, 16),\n",
    "        # \"boosting_type\": trial.suggest_categorical(\"boosting_type\", [\"Ordered\", \"Plain\"]),\n",
    "        \"bootstrap_type\": trial.suggest_categorical(\n",
    "            \"bootstrap_type\", [\"Bayesian\", \"Bernoulli\", \"MVS\"]\n",
    "        ),\n",
    "        \"learning_rate\" : trial.suggest_loguniform(\"learning_rate\", 0.0001, 1.0),\n",
    "        \"n_estimators\":trial.suggest_int(\"n_estimators\", 1000, 5000),\n",
    "        \"l2_leaf_reg\":trial.suggest_float(\"l2_leaf_reg\",1e-8,3e-5),\n",
    "        \"min_child_samples\": trial.suggest_int(\"min_child_samples\", 5, 100),\n",
    "        \"max_bin\": trial.suggest_int(\"max_bin\", 200, 500),\n",
    "    }\n",
    "\n",
    "    if param[\"bootstrap_type\"] == \"Bayesian\":\n",
    "        param[\"bagging_temperature\"] = trial.suggest_float(\"bagging_temperature\", 0.01, 100.00)\n",
    "\n",
    "    elif param[\"bootstrap_type\"] == \"Bernoulli\":\n",
    "        param[\"subsample\"] = trial.suggest_float(\"subsample\", 0.1, 1)\n",
    "    \n",
    "    cat = CatBoostClassifier(**param, cat_features=[0, 1, 2, 3, 4], random_seed=seed, task_type=\"GPU\")\n",
    "    cat_model = cat.fit(h_train_X, h_train_y, eval_set=[(h_valid_X, h_valid_y)], verbose=0, early_stopping_rounds=25)    \n",
    "    preds = cat_model.predict_proba(h_valid_X)\n",
    "    # pred_labels = np.rint(preds)\n",
    "    # accuracy = roc_auc_score(h_valid_y, pred_labels)\n",
    "    accuracy = roc_auc_score(h_valid_y, preds[:, 1])\n",
    "    torch.cuda.empty_cache()\n",
    "    gc.collect()\n",
    "    return accuracy\n",
    "\n",
    "study_cat = optuna.create_study(direction=\"maximize\",)\n",
    "study_cat.optimize(objective, n_trials=100)"
   ]
  },
  {
   "cell_type": "code",
   "execution_count": 14,
   "metadata": {},
   "outputs": [
    {
     "data": {
      "text/plain": [
       "0.8757004935773576"
      ]
     },
     "execution_count": 14,
     "metadata": {},
     "output_type": "execute_result"
    }
   ],
   "source": [
    "random.seed(777)\n",
    "# cat_params = {'objective': 'Logloss', 'depth': 9, 'boosting_type': 'Plain', 'bootstrap_type': 'Bernoulli', 'learning_rate': 0.024787088576176734, 'n_estimators': 2995, 'l2_leaf_reg': 2.8454741246080777e-05, 'min_child_samples': 45, 'max_bin': 500, 'subsample': 0.618466706693154}\n",
    "cat_params = {'objective': 'Logloss', 'depth': 8, 'boosting_type': 'Ordered', 'bootstrap_type': 'Bernoulli', 'learning_rate': 0.009442590476041634, 'n_estimators': 2540, 'l2_leaf_reg': 1.9627439630996592e-05, 'min_child_samples': 31, 'max_bin': 445, 'subsample': 0.9738440559510598}\n",
    "cat = CatBoostClassifier(**cat_params, cat_features=[0, 1, 2, 3, 4], task_type=\"GPU\", random_state=777,)\n",
    "cat_model = cat.fit(h_train_X, h_train_y, eval_set=[(h_valid_X, h_valid_y)], verbose=0, early_stopping_rounds=25)    \n",
    "preds = cat_model.predict_proba(h_valid_X)\n",
    "# pred_labels = np.rint(preds)\n",
    "auc = roc_auc_score(h_valid_y, preds[:, 1])\n",
    "auc"
   ]
  },
  {
   "cell_type": "code",
   "execution_count": 15,
   "metadata": {},
   "outputs": [],
   "source": [
    "prediction = cat_model.predict_proba(test_X)[:, 1]"
   ]
  },
  {
   "cell_type": "code",
   "execution_count": 16,
   "metadata": {},
   "outputs": [],
   "source": [
    "submit = pd.read_csv(\"../data/sample_submission.csv\")\n",
    "submit['prediction'] = prediction\n",
    "submit.to_csv(\"catclf_ms_data_decompose2.csv\", index=False)"
   ]
  },
  {
   "cell_type": "markdown",
   "metadata": {},
   "source": [
    "## ML model Sequential training\n",
    "### Data - new_train, new_test "
   ]
  },
  {
   "cell_type": "code",
   "execution_count": 23,
   "metadata": {},
   "outputs": [
    {
     "name": "stdout",
     "output_type": "stream",
     "text": [
      "[TRAIN] roc_auc_score : 0.697259159253574\n",
      "[VALID] roc_auc_score : 0.6274710293115201\n"
     ]
    }
   ],
   "source": [
    "grouped_train_x = h_train_X.groupby(by=['userID'])\n",
    "grouped_valid_x = h_valid_X.groupby(by=['userID'])\n",
    "grouped_train_y = h_train_y.groupby(by=['userID'])\n",
    "grouped_valid_y = h_valid_y.groupby(by=['userID'])\n",
    "for group_train_x, group_valid_x, group_train_y, group_valid_y in zip(grouped_train_x, grouped_valid_x, grouped_train_y, grouped_valid_y):\n",
    "    model = LogisticRegression()\n",
    "    model.fit(group_train_x[1], group_train_y[1]['answerCode'])\n",
    "    print(f\"[TRAIN] roc_auc_score : {roc_auc_score(model.predict(group_train_x[1]), group_train_y[1]['answerCode'])}\")\n",
    "    print(f\"[VALID] roc_auc_score : {roc_auc_score(model.predict(group_valid_x[1]), group_valid_y[1]['answerCode'])}\")\n",
    "    break"
   ]
  },
  {
   "cell_type": "code",
   "execution_count": null,
   "metadata": {},
   "outputs": [],
   "source": [
    "def objective(trial):\n",
    "    param = {\n",
    "        'tol' : trial.suggest_uniform('tol' , 1e-6 , 1e-3),\n",
    "        'C' : trial.suggest_loguniform(\"C\", 1e-3, 1),\n",
    "        'solver' : trial.suggest_categorical('solver' , ['lbfgs','liblinear']),\n",
    "    }\n",
    "    model = LogisticRegression(**param)\n",
    "    model = model.fit(group_train_x[1], group_train_y[1]['answerCode'])\n",
    "    loss = roc_auc_score(model.predict(group_valid_x[1]), group_valid_y[1]['answerCode'])\n",
    "    return loss\n",
    "study_lgb = optuna.create_study(direction='maximize', sampler=sampler)\n",
    "study_lgb.optimize(objective, n_trials=1000, callbacks=[wandbc])"
   ]
  },
  {
   "cell_type": "code",
   "execution_count": null,
   "metadata": {},
   "outputs": [],
   "source": [
    "import lightgbm as lgb\n",
    "def objective(trial):\n",
    "    param = {\n",
    "        # 'objective': 'binary', # 이진 분류\n",
    "        \"objective\": trial.suggest_categorical(\"objective\", [\"binary\", \"cross_entropy\"]),\n",
    "        'verbose': -1,\n",
    "        'metric': 'AUC',\n",
    "        'max_depth': trial.suggest_int('max_depth',3, 15),\n",
    "        'learning_rate': trial.suggest_loguniform(\"learning_rate\", 0.0001, 2.0),\n",
    "        'n_estimators': trial.suggest_int('n_estimators', 100, 10000),\n",
    "        'min_child_samples': trial.suggest_int('min_child_samples', 5, 100),\n",
    "        # 'subsample': trial.suggest_loguniform('subsample', 0.4, 1),\n",
    "        'lambda_l1' : trial.suggest_loguniform('lambda_l1', 1e-8, 1e-4),\n",
    "        'lambda_l2' : trial.suggest_loguniform('lambda_l2', 1e-8, 1e-4),\n",
    "        'path_smooth' : trial.suggest_loguniform('path_smooth', 1e-8, 1e-3),\n",
    "        'num_leaves' : trial.suggest_int('num_leaves', 30, 200),\n",
    "        'min_data_in_leaf' : trial.suggest_int('min_data_in_leaf', 10, 100),\n",
    "        'max_bin' : trial.suggest_int('max_bin', 100, 255),\n",
    "        'feature_fraction' : trial.suggest_uniform('feature_fraction', 0.5, 1),\n",
    "        'bagging_fraction' : trial.suggest_uniform('bagging_fraction', 0.5, 1),\n",
    "        # 'device' : 'gpu',\n",
    "        # 'reg_alpha' : None,\n",
    "    }\n",
    "    categorical = [0, 1, 2, 3, 4, 5, 10, 11, 13, 14, 15, 16, 17]\n",
    "    model = lgb.LGBMClassifier(**param, categorical_feature=categorical)\n",
    "    lgb_model = model.fit(group_train_x[1], group_train_y[1]['answerCode'], eval_set=[(group_valid_x[1], group_valid_y[1]['answerCode'])], verbose=-1, early_stopping_rounds=25)\n",
    "    loss = roc_auc_score(group_valid_y[1]['answerCode'], lgb_model.predict(group_valid_x[1]))\n",
    "    return loss\n",
    "        \n",
    "study_lgb = optuna.create_study(direction='maximize', sampler=sampler)\n",
    "study_lgb.optimize(objective, n_trials=10000)"
   ]
  },
  {
   "cell_type": "code",
   "execution_count": 33,
   "metadata": {},
   "outputs": [
    {
     "name": "stdout",
     "output_type": "stream",
     "text": [
      "Best Trial: score 0.7159695468721335,\n",
      "params {'objective': 'cross_entropy', 'max_depth': 5, 'learning_rate': 0.1460557874021894, 'n_estimators': 4044, 'min_child_samples': 77, 'lambda_l1': 6.716411565832376e-05, 'lambda_l2': 1.7186698526667583e-08, 'path_smooth': 5.935595604338357e-05, 'num_leaves': 93, 'min_data_in_leaf': 90, 'max_bin': 220, 'feature_fraction': 0.5248617093238126, 'bagging_fraction': 0.8611415978965095}\n"
     ]
    }
   ],
   "source": [
    "trial = study_lgb.best_trial\n",
    "trial_params = trial.params\n",
    "print('Best Trial: score {},\\nparams {}'.format(trial.value, trial_params))"
   ]
  },
  {
   "cell_type": "markdown",
   "metadata": {},
   "source": [
    "## Ensemble"
   ]
  },
  {
   "cell_type": "code",
   "execution_count": 3,
   "metadata": {},
   "outputs": [],
   "source": [
    "test_df = pd.read_csv(\"test_feature_engineering.csv\")\n",
    "test_df = test_df.loc[test_df['answerCode']==-1]\n",
    "test_X = test_df.drop(['row_id', 'answerCode', 'assessmentItemID', 'testId', 'Timestamp', 'relative_answered_correctly'], axis=1)"
   ]
  },
  {
   "cell_type": "code",
   "execution_count": 4,
   "metadata": {},
   "outputs": [],
   "source": [
    "prediction = cat_model.predict(test_X)"
   ]
  },
  {
   "cell_type": "code",
   "execution_count": 2,
   "metadata": {},
   "outputs": [
    {
     "name": "stdout",
     "output_type": "stream",
     "text": [
      "[LightGBM] [Warning] feature_fraction is set=0.6077865188346295, colsample_bytree=1.0 will be ignored. Current value: feature_fraction=0.6077865188346295\n",
      "[LightGBM] [Warning] lambda_l1 is set=7.470648234536311e-06, reg_alpha=0.0 will be ignored. Current value: lambda_l1=7.470648234536311e-06\n",
      "[LightGBM] [Warning] bagging_fraction is set=0.8248617891221075, subsample=1.0 will be ignored. Current value: bagging_fraction=0.8248617891221075\n",
      "[LightGBM] [Warning] min_data_in_leaf is set=35, min_child_samples=48 will be ignored. Current value: min_data_in_leaf=35\n",
      "[LightGBM] [Warning] lambda_l2 is set=9.90356054623688e-07, reg_lambda=0.0 will be ignored. Current value: lambda_l2=9.90356054623688e-07\n",
      "[LightGBM] [Warning] Met categorical feature which contains sparse values. Consider renumbering to consecutive integers started from zero\n"
     ]
    },
    {
     "data": {
      "text/plain": [
       "0.8504901622752634"
      ]
     },
     "execution_count": 2,
     "metadata": {},
     "output_type": "execute_result"
    }
   ],
   "source": [
    "# params = {'objective': 'cross_entropy', 'max_depth': 15, 'learning_rate': 0.011829111999395184, 'n_estimators': 9374, 'min_child_samples': 84, 'lambda_l1': 1.1225546503543914e-07, 'lambda_l2': 7.64205903058515e-06, 'path_smooth': 1.8542487799550667e-08, 'num_leaves': 200, 'min_data_in_leaf': 87, 'max_bin': 140, 'feature_fraction': 0.8453296813265502, 'bagging_fraction': 0.7203510445565607}\n",
    "params = {'objective': 'cross_entropy', 'max_depth': 15, 'learning_rate': 0.00725967037321421, 'n_estimators': 9926, 'min_child_samples': 48, 'lambda_l1': 7.470648234536311e-06, 'lambda_l2': 9.90356054623688e-07, 'path_smooth': 4.661176297781611e-05, 'num_leaves': 153, 'min_data_in_leaf': 35, 'max_bin': 246, 'feature_fraction': 0.6077865188346295, 'bagging_fraction': 0.8248617891221075}\n",
    "categorical = [0, 1, 2, 3, 4]\n",
    "model = lgb.LGBMRegressor(**params, categorical_feature=categorical, random_state=777)\n",
    "lgb_model = model.fit(h_train_X, h_train_y, eval_set=[(h_valid_X, h_valid_y)], verbose=0, early_stopping_rounds=25)\n",
    "prediction = lgb_model.predict(h_valid_X)\n",
    "loss = roc_auc_score(h_valid_y, prediction)\n",
    "loss"
   ]
  },
  {
   "cell_type": "code",
   "execution_count": 6,
   "metadata": {},
   "outputs": [],
   "source": [
    "prediction = lgb_model.predict(test_X)"
   ]
  },
  {
   "cell_type": "code",
   "execution_count": 7,
   "metadata": {},
   "outputs": [],
   "source": [
    "submit = pd.read_csv(\"../data/sample_submission.csv\")\n",
    "submit['prediction'] = prediction\n",
    "submit.to_csv(\"lgbmregressor_ms_data.csv\", index=False)"
   ]
  },
  {
   "cell_type": "code",
   "execution_count": 40,
   "metadata": {},
   "outputs": [
    {
     "data": {
      "text/plain": [
       "0      0.528109\n",
       "1      0.814639\n",
       "2      0.278716\n",
       "3      0.755765\n",
       "4      0.254167\n",
       "         ...   \n",
       "739    0.027633\n",
       "740    0.691986\n",
       "741    0.835123\n",
       "742    0.736162\n",
       "743    0.684592\n",
       "Name: prediction, Length: 744, dtype: float64"
      ]
     },
     "execution_count": 40,
     "metadata": {},
     "output_type": "execute_result"
    }
   ],
   "source": [
    "import torch\n",
    "submit = pd.read_csv(\"../data/sample_submission.csv\")\n",
    "# catreg = pd.read_csv(\"catregressor_ms_data.csv\")\n",
    "catclf = pd.read_csv(\"./output/catclf_ms_data.csv\")\n",
    "lightgcn = pd.read_csv(\"./output/lightgcn_best.csv\")\n",
    "lstmattn = pd.read_csv(\"./output/lstmattn_best.csv\")\n",
    "lgbm = pd.read_csv(\"./output/lgbmregressor_ms_data.csv\")\n",
    "lastquery = pd.read_csv(\"./output/submissionlastquery.csv\")\n",
    "bert = pd.read_csv(\"./output/output_(3).csv\")\n",
    "\n",
    "lstmattn['prediction'] = torch.nn.Sigmoid()(torch.FloatTensor(lstmattn['prediction']))\n",
    "ensemble = (0.2 * lightgcn['prediction'] + 0.1 * lstmattn['prediction'] + 0.2 * lgbm['prediction'] + 0.4 * catclf['prediction'] + 0.1 * bert['prediction'])\n",
    "submit['prediction'] = ensemble\n",
    "submit.to_csv(\"trial3.csv\", index=False)\n",
    "ensemble"
   ]
  },
  {
   "cell_type": "code",
   "execution_count": 8,
   "metadata": {},
   "outputs": [
    {
     "data": {
      "text/plain": [
       "0      0.584764\n",
       "1      0.767946\n",
       "2      0.238857\n",
       "3      0.850752\n",
       "4      0.237645\n",
       "         ...   \n",
       "739    0.070194\n",
       "740    0.821399\n",
       "741    0.881537\n",
       "742    0.823934\n",
       "743    0.631287\n",
       "Name: prediction, Length: 744, dtype: float64"
      ]
     },
     "execution_count": 8,
     "metadata": {},
     "output_type": "execute_result"
    }
   ],
   "source": [
    "submit = pd.read_csv(\"../data/sample_submission.csv\")\n",
    "lgbmreg = pd.read_csv(\"lgbmregressor_ms_data.csv\")\n",
    "catclf = pd.read_csv(\"catregressor_ms_data.csv\")\n",
    "\n",
    "ensemble = (lgbmreg['prediction'] + catclf['prediction']) / 2\n",
    "submit['prediction'] = ensemble\n",
    "submit.to_csv(\"lgbmreg_ms_data_catclf_ensemble.csv\", index=False)\n",
    "ensemble"
   ]
  }
 ],
 "metadata": {
  "kernelspec": {
   "display_name": "Python 3.8.13 ('dkt')",
   "language": "python",
   "name": "python3"
  },
  "language_info": {
   "codemirror_mode": {
    "name": "ipython",
    "version": 3
   },
   "file_extension": ".py",
   "mimetype": "text/x-python",
   "name": "python",
   "nbconvert_exporter": "python",
   "pygments_lexer": "ipython3",
   "version": "3.8.13"
  },
  "orig_nbformat": 4,
  "vscode": {
   "interpreter": {
    "hash": "09d4b5de27b89318d6e35b29f9634657110a12e6b33fcea780feda7aad3e9c4b"
   }
  }
 },
 "nbformat": 4,
 "nbformat_minor": 2
}
