{
 "cells": [
  {
   "cell_type": "code",
   "execution_count": 28,
   "metadata": {},
   "outputs": [],
   "source": [
    "import torch\n",
    "import torch.nn as nn\n",
    "import numpy as np\n",
    "import torch.nn.functional as F \n",
    "import re\n",
    "import math\n",
    "import os\n",
    "import pandas as pd\n",
    "\n",
    "from tqdm import tqdm\n",
    "from sklearn.preprocessing import LabelEncoder\n",
    "from pytorch_tabnet.tab_model import TabNetClassifier\n",
    "from pytorch_tabnet.multitask import TabNetMultiTaskClassifier\n"
   ]
  },
  {
   "cell_type": "code",
   "execution_count": 29,
   "metadata": {},
   "outputs": [],
   "source": [
    "data_dir = '/opt/ml/input/data/'\n",
    "file_name = 'train_feature_engineering.csv'\n",
    "\n",
    "csv_file_path = os.path.join(data_dir, file_name)\n",
    "df = pd.read_csv(csv_file_path)  # , nrows=100000)"
   ]
  },
  {
   "cell_type": "code",
   "execution_count": 30,
   "metadata": {},
   "outputs": [],
   "source": [
    "ratio = 0.7"
   ]
  },
  {
   "cell_type": "code",
   "execution_count": 31,
   "metadata": {},
   "outputs": [
    {
     "name": "stderr",
     "output_type": "stream",
     "text": [
      "100%|██████████| 27/27 [00:15<00:00,  1.79it/s]\n"
     ]
    }
   ],
   "source": [
    "categorical_columns = ['userID', 'assessmentItemID', 'testId', 'KnowledgeTag', 'assessmentItemID_last', 'testId_first', 'testId_last']\n",
    "categorical_dims =  {}\n",
    "for col in tqdm(df.columns):\n",
    "    le = LabelEncoder()\n",
    "    df[col] = le.fit_transform(df[col].values)\n",
    "    categorical_dims[col] = len(le.classes_)"
   ]
  },
  {
   "cell_type": "code",
   "execution_count": 32,
   "metadata": {},
   "outputs": [
    {
     "name": "stdout",
     "output_type": "stream",
     "text": [
      "6698\n",
      "6697\n",
      "9454\n",
      "9453\n",
      "1537\n",
      "1536\n",
      "912\n",
      "911\n",
      "13\n",
      "12\n",
      "9\n",
      "8\n",
      "198\n",
      "197\n"
     ]
    }
   ],
   "source": [
    "for col in categorical_columns:\n",
    "    print(df[col].nunique())\n",
    "    print(df[col].max())"
   ]
  },
  {
   "cell_type": "code",
   "execution_count": 33,
   "metadata": {},
   "outputs": [],
   "source": [
    "n = len(df['userID'].unique())\n",
    "user_permute_list = np.random.permutation(df['userID'].unique())\n",
    "train_userid = user_permute_list[:(int(n*ratio))]\n",
    "valid_userid = user_permute_list[(int(n*ratio)):]\n",
    "train = df[df['userID'].isin(train_userid)].reset_index(drop=True).sort_values([\"userID\", \"Timestamp\"])\n",
    "valid = df[df['userID'].isin(valid_userid)].reset_index(drop=True).sort_values([\"userID\", \"Timestamp\"])"
   ]
  },
  {
   "cell_type": "code",
   "execution_count": 34,
   "metadata": {},
   "outputs": [],
   "source": [
    "train_x = train.drop(['answerCode', 'Timestamp','relative_answered_correctly'], axis = 1)\n",
    "train_y = train[['answerCode']]\n",
    "valid_x = valid.drop(['answerCode', 'Timestamp', 'relative_answered_correctly'], axis = 1)\n",
    "valid_y = valid[['answerCode']]"
   ]
  },
  {
   "cell_type": "code",
   "execution_count": 35,
   "metadata": {},
   "outputs": [],
   "source": [
    "features = [ col for col in train_x.columns] \n",
    "\n",
    "cat_idxs = [ i for i, f in enumerate(features) if f in categorical_columns]\n",
    "\n",
    "cat_dims = [ categorical_dims[f] for i, f in enumerate(features) if f in categorical_columns]\n"
   ]
  },
  {
   "cell_type": "code",
   "execution_count": 36,
   "metadata": {},
   "outputs": [],
   "source": [
    "X_train = train_x[features].values\n",
    "y_train = train_y.values\n",
    "\n",
    "X_valid = valid_x[features].values\n",
    "y_valid = valid_y.values"
   ]
  },
  {
   "cell_type": "code",
   "execution_count": 37,
   "metadata": {},
   "outputs": [
    {
     "name": "stderr",
     "output_type": "stream",
     "text": [
      "/opt/conda/lib/python3.8/site-packages/pytorch_tabnet/abstract_model.py:75: UserWarning: Device used : cuda\n",
      "  warnings.warn(f\"Device used : {self.device}\")\n"
     ]
    }
   ],
   "source": [
    "clf = TabNetMultiTaskClassifier(\n",
    "    cat_idxs = cat_idxs,\n",
    "    cat_dims = cat_dims,\n",
    "    optimizer_fn=torch.optim.Adam,\n",
    "    optimizer_params=dict(lr=0.0006715856786942948),\n",
    "    scheduler_params={\"step_size\":5,\n",
    "                        \"gamma\":1.8841685063804285},\n",
    "    scheduler_fn=torch.optim.lr_scheduler.StepLR,\n",
    "    mask_type='sparsemax', \n",
    ")"
   ]
  },
  {
   "cell_type": "code",
   "execution_count": 39,
   "metadata": {},
   "outputs": [
    {
     "name": "stdout",
     "output_type": "stream",
     "text": [
      "epoch 0  | loss: 0.71687 | train_auc: 0.62375 | valid_auc: 0.62537 |  0:00:51s\n",
      "epoch 1  | loss: 0.6136  | train_auc: 0.6905  | valid_auc: 0.69128 |  0:01:43s\n",
      "epoch 2  | loss: 0.58305 | train_auc: 0.73139 | valid_auc: 0.73116 |  0:02:35s\n",
      "epoch 3  | loss: 0.55789 | train_auc: 0.76006 | valid_auc: 0.76047 |  0:03:26s\n",
      "epoch 4  | loss: 0.54201 | train_auc: 0.77421 | valid_auc: 0.77523 |  0:04:17s\n",
      "epoch 5  | loss: 0.529   | train_auc: 0.78944 | valid_auc: 0.79133 |  0:05:09s\n",
      "epoch 6  | loss: 0.51813 | train_auc: 0.79726 | valid_auc: 0.79942 |  0:06:00s\n",
      "epoch 7  | loss: 0.51236 | train_auc: 0.80126 | valid_auc: 0.80345 |  0:06:52s\n",
      "epoch 8  | loss: 0.5088  | train_auc: 0.80404 | valid_auc: 0.8062  |  0:07:44s\n",
      "epoch 9  | loss: 0.50657 | train_auc: 0.80544 | valid_auc: 0.80767 |  0:08:35s\n",
      "epoch 10 | loss: 0.50468 | train_auc: 0.80732 | valid_auc: 0.80934 |  0:09:26s\n",
      "epoch 11 | loss: 0.50303 | train_auc: 0.80842 | valid_auc: 0.81041 |  0:10:17s\n",
      "epoch 12 | loss: 0.50187 | train_auc: 0.80917 | valid_auc: 0.811   |  0:11:09s\n",
      "epoch 13 | loss: 0.50096 | train_auc: 0.80985 | valid_auc: 0.81178 |  0:12:00s\n",
      "epoch 14 | loss: 0.5004  | train_auc: 0.81054 | valid_auc: 0.81236 |  0:12:51s\n",
      "epoch 15 | loss: 0.50004 | train_auc: 0.81053 | valid_auc: 0.81228 |  0:13:43s\n",
      "epoch 16 | loss: 0.49927 | train_auc: 0.81201 | valid_auc: 0.81357 |  0:14:34s\n",
      "epoch 17 | loss: 0.4968  | train_auc: 0.81484 | valid_auc: 0.81619 |  0:15:27s\n",
      "epoch 18 | loss: 0.49169 | train_auc: 0.81894 | valid_auc: 0.81962 |  0:16:19s\n",
      "epoch 19 | loss: 0.48428 | train_auc: 0.82492 | valid_auc: 0.82537 |  0:17:11s\n",
      "epoch 20 | loss: 0.48148 | train_auc: 0.82703 | valid_auc: 0.82742 |  0:18:02s\n",
      "epoch 21 | loss: 0.47854 | train_auc: 0.82531 | valid_auc: 0.82583 |  0:18:54s\n",
      "epoch 22 | loss: 0.47662 | train_auc: 0.8285  | valid_auc: 0.82881 |  0:19:46s\n",
      "epoch 23 | loss: 0.4752  | train_auc: 0.82959 | valid_auc: 0.82973 |  0:20:38s\n",
      "epoch 24 | loss: 0.47342 | train_auc: 0.82992 | valid_auc: 0.83011 |  0:21:29s\n",
      "epoch 25 | loss: 0.47383 | train_auc: 0.82892 | valid_auc: 0.82854 |  0:22:21s\n",
      "epoch 26 | loss: 0.47188 | train_auc: 0.83206 | valid_auc: 0.83179 |  0:23:13s\n",
      "epoch 27 | loss: 0.47093 | train_auc: 0.8326  | valid_auc: 0.83232 |  0:24:05s\n",
      "epoch 28 | loss: 0.47018 | train_auc: 0.83349 | valid_auc: 0.83323 |  0:24:57s\n",
      "epoch 29 | loss: 0.46983 | train_auc: 0.83237 | valid_auc: 0.83155 |  0:25:50s\n",
      "epoch 30 | loss: 0.47561 | train_auc: 0.82716 | valid_auc: 0.82765 |  0:26:43s\n",
      "epoch 31 | loss: 0.47045 | train_auc: 0.83355 | valid_auc: 0.8329  |  0:27:35s\n",
      "epoch 32 | loss: 0.46857 | train_auc: 0.83423 | valid_auc: 0.83266 |  0:28:27s\n",
      "epoch 33 | loss: 0.4673  | train_auc: 0.83511 | valid_auc: 0.83312 |  0:29:18s\n",
      "epoch 34 | loss: 0.46509 | train_auc: 0.83622 | valid_auc: 0.83315 |  0:30:11s\n",
      "epoch 35 | loss: 0.46457 | train_auc: 0.8354  | valid_auc: 0.82993 |  0:31:03s\n",
      "epoch 36 | loss: 0.46191 | train_auc: 0.83803 | valid_auc: 0.83015 |  0:31:55s\n",
      "epoch 37 | loss: 0.45897 | train_auc: 0.83975 | valid_auc: 0.82872 |  0:32:47s\n",
      "epoch 38 | loss: 0.45689 | train_auc: 0.83407 | valid_auc: 0.82143 |  0:33:39s\n",
      "epoch 39 | loss: 0.45468 | train_auc: 0.84618 | valid_auc: 0.83093 |  0:34:30s\n",
      "epoch 40 | loss: 0.45601 | train_auc: 0.84025 | valid_auc: 0.82668 |  0:35:22s\n",
      "epoch 41 | loss: 0.4533  | train_auc: 0.84177 | valid_auc: 0.82454 |  0:36:14s\n",
      "epoch 42 | loss: 0.45097 | train_auc: 0.84212 | valid_auc: 0.82298 |  0:37:05s\n",
      "epoch 43 | loss: 0.44953 | train_auc: 0.85002 | valid_auc: 0.82916 |  0:37:58s\n",
      "epoch 44 | loss: 0.44913 | train_auc: 0.84571 | valid_auc: 0.82368 |  0:38:49s\n",
      "epoch 45 | loss: 0.4533  | train_auc: 0.81669 | valid_auc: 0.80233 |  0:39:41s\n",
      "epoch 46 | loss: 0.45147 | train_auc: 0.85102 | valid_auc: 0.82851 |  0:40:34s\n",
      "epoch 47 | loss: 0.44835 | train_auc: 0.85163 | valid_auc: 0.82772 |  0:41:27s\n",
      "epoch 48 | loss: 0.44719 | train_auc: 0.85025 | valid_auc: 0.82458 |  0:42:19s\n",
      "epoch 49 | loss: 0.44653 | train_auc: 0.83654 | valid_auc: 0.80922 |  0:43:11s\n",
      "epoch 50 | loss: 0.45183 | train_auc: 0.84697 | valid_auc: 0.82685 |  0:44:03s\n",
      "epoch 51 | loss: 0.44918 | train_auc: 0.7982  | valid_auc: 0.77411 |  0:44:55s\n",
      "epoch 52 | loss: 0.44708 | train_auc: 0.79153 | valid_auc: 0.76993 |  0:45:47s\n",
      "Stop training because you reached max_epochs = 53 with best_epoch = 28 and best_valid_auc = 0.83323\n"
     ]
    },
    {
     "name": "stderr",
     "output_type": "stream",
     "text": [
      "/opt/conda/lib/python3.8/site-packages/pytorch_tabnet/callbacks.py:172: UserWarning: Best weights from best epoch are automatically used!\n",
      "  warnings.warn(wrn_msg)\n"
     ]
    }
   ],
   "source": [
    "max_epochs = 53\n",
    "clf.fit(\n",
    "    X_train=X_train, y_train=y_train,\n",
    "    eval_set=[(X_train, y_train), (X_valid, y_valid)],\n",
    "    eval_name=['train', 'valid'],\n",
    "    eval_metric=['auc'],\n",
    "    max_epochs=max_epochs,\n",
    "    patience=30,\n",
    "    batch_size=14598,\n",
    "    virtual_batch_size=4430,\n",
    "    drop_last=False,\n",
    ")"
   ]
  },
  {
   "cell_type": "code",
   "execution_count": 42,
   "metadata": {},
   "outputs": [
    {
     "name": "stdout",
     "output_type": "stream",
     "text": [
      "Successfully saved model at ./abc.zip\n"
     ]
    },
    {
     "data": {
      "text/plain": [
       "'./abc.zip'"
      ]
     },
     "execution_count": 42,
     "metadata": {},
     "output_type": "execute_result"
    }
   ],
   "source": [
    "clf.save_model('./abc')"
   ]
  }
 ],
 "metadata": {
  "kernelspec": {
   "display_name": "Python 3.8.5 ('base')",
   "language": "python",
   "name": "python3"
  },
  "language_info": {
   "codemirror_mode": {
    "name": "ipython",
    "version": 3
   },
   "file_extension": ".py",
   "mimetype": "text/x-python",
   "name": "python",
   "nbconvert_exporter": "python",
   "pygments_lexer": "ipython3",
   "version": "3.8.5"
  },
  "orig_nbformat": 4,
  "vscode": {
   "interpreter": {
    "hash": "d4d1e4263499bec80672ea0156c357c1ee493ec2b1c70f0acce89fc37c4a6abe"
   }
  }
 },
 "nbformat": 4,
 "nbformat_minor": 2
}
