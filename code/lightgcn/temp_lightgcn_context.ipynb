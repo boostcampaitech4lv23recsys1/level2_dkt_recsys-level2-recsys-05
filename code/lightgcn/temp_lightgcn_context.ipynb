{
 "cells": [
  {
   "cell_type": "code",
   "execution_count": 1,
   "metadata": {},
   "outputs": [
    {
     "name": "stderr",
     "output_type": "stream",
     "text": [
      "/opt/conda/envs/lightgcn/lib/python3.8/site-packages/tqdm/auto.py:22: TqdmWarning: IProgress not found. Please update jupyter and ipywidgets. See https://ipywidgets.readthedocs.io/en/stable/user_install.html\n",
      "  from .autonotebook import tqdm as notebook_tqdm\n"
     ]
    },
    {
     "name": "stdout",
     "output_type": "stream",
     "text": [
      "cuda\n"
     ]
    }
   ],
   "source": [
    "import pandas as pd\n",
    "import torch\n",
    "from config2 import CFG, logging_conf\n",
    "from lightgcn.datasets2 import *\n",
    "from lightgcn.models2 import build, train\n",
    "from lightgcn.utils import class2dict, get_logger\n",
    "\n",
    "logger = get_logger(logging_conf)\n",
    "use_cuda = torch.cuda.is_available() and CFG.use_cuda_if_available\n",
    "device = torch.device(\"cuda\" if use_cuda else \"cpu\")\n",
    "print(device)\n"
   ]
  },
  {
   "cell_type": "code",
   "execution_count": 2,
   "metadata": {},
   "outputs": [
    {
     "name": "stdout",
     "output_type": "stream",
     "text": [
      "2022-11-21 13:21:57,430 - data - INFO - Train Dataset Info\n",
      "2022-11-21 13:21:57,431 - data - INFO -  * Num. Users    : 7442\n",
      "2022-11-21 13:21:57,432 - data - INFO -  * Max. UserID   : 7441\n",
      "2022-11-21 13:21:57,432 - data - INFO -  * Num. Items    : 9454\n",
      "2022-11-21 13:21:57,433 - data - INFO -  * Num. Records  : 2475962\n",
      "2022-11-21 13:21:57,434 - data - INFO - Test Dataset Info\n",
      "2022-11-21 13:21:57,434 - data - INFO -  * Num. Users    : 744\n",
      "2022-11-21 13:21:57,435 - data - INFO -  * Max. UserID   : 7439\n",
      "2022-11-21 13:21:57,435 - data - INFO -  * Num. Items    : 444\n",
      "2022-11-21 13:21:57,436 - data - INFO -  * Num. Records  : 744\n"
     ]
    }
   ],
   "source": [
    "train_data, valid_data, test_data, n_node, feature_input_dims = prepare_dataset(\n",
    "        device, CFG.basepath, CFG.feature_names, verbose=CFG.loader_verbose, logger=logger.getChild(\"data\")\n",
    ")"
   ]
  },
  {
   "cell_type": "code",
   "execution_count": 3,
   "metadata": {},
   "outputs": [
    {
     "data": {
      "text/plain": [
       "{'edge': tensor([[    0,     0,     0,  ...,  7439,  7439,  7439],\n",
       "         [12796, 12797, 12798,  ..., 11170, 11172, 11173]], device='cuda:0'),\n",
       " 'label': tensor([1, 1, 1,  ..., 0, 1, 1], device='cuda:0'),\n",
       " 'feature': tensor([[975, 975, 975,  ..., 713, 713, 713],\n",
       "         [556, 557, 557,  ..., 719, 697, 697]], device='cuda:0')}"
      ]
     },
     "execution_count": 3,
     "metadata": {},
     "output_type": "execute_result"
    }
   ],
   "source": [
    "train_data"
   ]
  },
  {
   "cell_type": "code",
   "execution_count": 4,
   "metadata": {},
   "outputs": [
    {
     "data": {
      "text/plain": [
       "[1537, 912]"
      ]
     },
     "execution_count": 4,
     "metadata": {},
     "output_type": "execute_result"
    }
   ],
   "source": [
    "feature_input_dims"
   ]
  },
  {
   "cell_type": "code",
   "execution_count": 5,
   "metadata": {},
   "outputs": [
    {
     "name": "stdout",
     "output_type": "stream",
     "text": [
      "2022-11-21 13:21:57,734 - build - INFO - No load model\n"
     ]
    },
    {
     "data": {
      "text/plain": [
       "LightGCN_context(\n",
       "  (embedding): Embedding(16896, 64)\n",
       "  (convs): ModuleList(\n",
       "    (0): LGConv()\n",
       "  )\n",
       "  (feature_embedding): ModuleList(\n",
       "    (0): Embedding(1537, 64)\n",
       "    (1): Embedding(912, 64)\n",
       "  )\n",
       "  (comb_proj): Linear(in_features=128, out_features=64, bias=True)\n",
       "  (predict_layer): Linear(in_features=192, out_features=1, bias=True)\n",
       ")"
      ]
     },
     "execution_count": 5,
     "metadata": {},
     "output_type": "execute_result"
    }
   ],
   "source": [
    "model = build(\n",
    "        n_node,\n",
    "        feature_input_dims,\n",
    "        embedding_dim=CFG.embedding_dim,\n",
    "        num_layers=CFG.num_layers,\n",
    "        feature_embedding_dims=CFG.feature_embedding_dims,\n",
    "        alpha=CFG.alpha,\n",
    "        logger=logger.getChild(\"build\"),\n",
    "        **CFG.build_kwargs\n",
    "    )\n",
    "model.to(device)\n"
   ]
  },
  {
   "cell_type": "code",
   "execution_count": 6,
   "metadata": {},
   "outputs": [
    {
     "name": "stdout",
     "output_type": "stream",
     "text": [
      "2022-11-21 13:21:57,826 - train - INFO - Training Started : n_epoch=20\n",
      "2022-11-21 13:21:58,478 - train - INFO -  * In epoch 0001, loss=0.692, acc=0.552, AUC=0.549\n"
     ]
    },
    {
     "ename": "Error",
     "evalue": "You must call wandb.init() before wandb.log()",
     "output_type": "error",
     "traceback": [
      "\u001b[0;31m---------------------------------------------------------------------------\u001b[0m",
      "\u001b[0;31mError\u001b[0m                                     Traceback (most recent call last)",
      "Cell \u001b[0;32mIn [6], line 1\u001b[0m\n\u001b[0;32m----> 1\u001b[0m train(\n\u001b[1;32m      2\u001b[0m         model,\n\u001b[1;32m      3\u001b[0m         train_data,\n\u001b[1;32m      4\u001b[0m         n_epoch\u001b[39m=\u001b[39;49mCFG\u001b[39m.\u001b[39;49mn_epoch,\n\u001b[1;32m      5\u001b[0m         learning_rate\u001b[39m=\u001b[39;49mCFG\u001b[39m.\u001b[39;49mlearning_rate,\n\u001b[1;32m      6\u001b[0m         use_wandb\u001b[39m=\u001b[39;49mCFG\u001b[39m.\u001b[39;49muser_wandb,\n\u001b[1;32m      7\u001b[0m         weight\u001b[39m=\u001b[39;49mCFG\u001b[39m.\u001b[39;49mweight_basepath,\n\u001b[1;32m      8\u001b[0m         logger\u001b[39m=\u001b[39;49mlogger\u001b[39m.\u001b[39;49mgetChild(\u001b[39m\"\u001b[39;49m\u001b[39mtrain\u001b[39;49m\u001b[39m\"\u001b[39;49m),\n\u001b[1;32m      9\u001b[0m     )\n",
      "File \u001b[0;32m~/input/code/lightgcn/lightgcn/models2.py:71\u001b[0m, in \u001b[0;36mtrain\u001b[0;34m(model, train_data, valid_data, n_epoch, learning_rate, use_wandb, weight, logger)\u001b[0m\n\u001b[1;32m     68\u001b[0m     \u001b[39mif\u001b[39;00m use_wandb:\n\u001b[1;32m     69\u001b[0m         \u001b[39mimport\u001b[39;00m \u001b[39mwandb\u001b[39;00m\n\u001b[0;32m---> 71\u001b[0m         wandb\u001b[39m.\u001b[39;49mlog(\u001b[39mdict\u001b[39;49m(loss\u001b[39m=\u001b[39;49mloss, acc\u001b[39m=\u001b[39;49macc, auc\u001b[39m=\u001b[39;49mauc))\n\u001b[1;32m     73\u001b[0m \u001b[39mif\u001b[39;00m weight:\n\u001b[1;32m     74\u001b[0m     \u001b[39mif\u001b[39;00m auc \u001b[39m>\u001b[39m best_auc:\n",
      "File \u001b[0;32m/opt/conda/envs/lightgcn/lib/python3.8/site-packages/wandb/sdk/lib/preinit.py:36\u001b[0m, in \u001b[0;36mPreInitCallable.<locals>.preinit_wrapper\u001b[0;34m(*args, **kwargs)\u001b[0m\n\u001b[1;32m     35\u001b[0m \u001b[39mdef\u001b[39;00m \u001b[39mpreinit_wrapper\u001b[39m(\u001b[39m*\u001b[39margs: Any, \u001b[39m*\u001b[39m\u001b[39m*\u001b[39mkwargs: Any) \u001b[39m-\u001b[39m\u001b[39m>\u001b[39m Any:\n\u001b[0;32m---> 36\u001b[0m     \u001b[39mraise\u001b[39;00m wandb\u001b[39m.\u001b[39mError(\u001b[39mf\u001b[39m\u001b[39m\"\u001b[39m\u001b[39mYou must call wandb.init() before \u001b[39m\u001b[39m{\u001b[39;00mname\u001b[39m}\u001b[39;00m\u001b[39m()\u001b[39m\u001b[39m\"\u001b[39m)\n",
      "\u001b[0;31mError\u001b[0m: You must call wandb.init() before wandb.log()"
     ]
    }
   ],
   "source": [
    "train(\n",
    "        model,\n",
    "        train_data,\n",
    "        n_epoch=CFG.n_epoch,\n",
    "        learning_rate=CFG.learning_rate,\n",
    "        use_wandb=CFG.user_wandb,\n",
    "        weight=CFG.weight_basepath,\n",
    "        logger=logger.getChild(\"train\"),\n",
    "    )"
   ]
  },
  {
   "cell_type": "code",
   "execution_count": 8,
   "metadata": {},
   "outputs": [
    {
     "data": {
      "text/html": [
       "<div>\n",
       "<style scoped>\n",
       "    .dataframe tbody tr th:only-of-type {\n",
       "        vertical-align: middle;\n",
       "    }\n",
       "\n",
       "    .dataframe tbody tr th {\n",
       "        vertical-align: top;\n",
       "    }\n",
       "\n",
       "    .dataframe thead th {\n",
       "        text-align: right;\n",
       "    }\n",
       "</style>\n",
       "<table border=\"1\" class=\"dataframe\">\n",
       "  <thead>\n",
       "    <tr style=\"text-align: right;\">\n",
       "      <th></th>\n",
       "      <th>userID</th>\n",
       "      <th>assessmentItemID</th>\n",
       "      <th>testId</th>\n",
       "      <th>answerCode</th>\n",
       "      <th>Timestamp</th>\n",
       "      <th>KnowledgeTag</th>\n",
       "    </tr>\n",
       "  </thead>\n",
       "  <tbody>\n",
       "    <tr>\n",
       "      <th>0</th>\n",
       "      <td>0</td>\n",
       "      <td>A060001001</td>\n",
       "      <td>A060000001</td>\n",
       "      <td>1</td>\n",
       "      <td>2020-03-24 00:17:11</td>\n",
       "      <td>7224</td>\n",
       "    </tr>\n",
       "    <tr>\n",
       "      <th>1</th>\n",
       "      <td>0</td>\n",
       "      <td>A060001002</td>\n",
       "      <td>A060000001</td>\n",
       "      <td>1</td>\n",
       "      <td>2020-03-24 00:17:14</td>\n",
       "      <td>7225</td>\n",
       "    </tr>\n",
       "    <tr>\n",
       "      <th>2</th>\n",
       "      <td>0</td>\n",
       "      <td>A060001003</td>\n",
       "      <td>A060000001</td>\n",
       "      <td>1</td>\n",
       "      <td>2020-03-24 00:17:22</td>\n",
       "      <td>7225</td>\n",
       "    </tr>\n",
       "    <tr>\n",
       "      <th>3</th>\n",
       "      <td>0</td>\n",
       "      <td>A060001004</td>\n",
       "      <td>A060000001</td>\n",
       "      <td>1</td>\n",
       "      <td>2020-03-24 00:17:29</td>\n",
       "      <td>7225</td>\n",
       "    </tr>\n",
       "    <tr>\n",
       "      <th>4</th>\n",
       "      <td>0</td>\n",
       "      <td>A060001005</td>\n",
       "      <td>A060000001</td>\n",
       "      <td>1</td>\n",
       "      <td>2020-03-24 00:17:36</td>\n",
       "      <td>7225</td>\n",
       "    </tr>\n",
       "  </tbody>\n",
       "</table>\n",
       "</div>"
      ],
      "text/plain": [
       "   userID assessmentItemID      testId  answerCode            Timestamp  \\\n",
       "0       0       A060001001  A060000001           1  2020-03-24 00:17:11   \n",
       "1       0       A060001002  A060000001           1  2020-03-24 00:17:14   \n",
       "2       0       A060001003  A060000001           1  2020-03-24 00:17:22   \n",
       "3       0       A060001004  A060000001           1  2020-03-24 00:17:29   \n",
       "4       0       A060001005  A060000001           1  2020-03-24 00:17:36   \n",
       "\n",
       "   KnowledgeTag  \n",
       "0          7224  \n",
       "1          7225  \n",
       "2          7225  \n",
       "3          7225  \n",
       "4          7225  "
      ]
     },
     "execution_count": 8,
     "metadata": {},
     "output_type": "execute_result"
    }
   ],
   "source": [
    "train_data.head()"
   ]
  },
  {
   "cell_type": "code",
   "execution_count": 28,
   "metadata": {},
   "outputs": [],
   "source": [
    "def indexing_data(data, feature_names):\n",
    "    idx = {}\n",
    "    userid, itemid = (\n",
    "        sorted(list(set(data.userID))),\n",
    "        sorted(list(set(data.assessmentItemID))),\n",
    "    )\n",
    "    n_user, n_item = len(userid), len(itemid)\n",
    "\n",
    "    userid_2_index = {v: i for i, v in enumerate(userid)}\n",
    "    itemid_2_index = {v: i + n_user for i, v in enumerate(itemid)}\n",
    "    idx['user_item'] = dict(userid_2_index, **itemid_2_index)\n",
    "    \n",
    "    feature_input_dims = []\n",
    "    for feature_name in feature_names:\n",
    "        featid = sorted(list(set(data[feature_name])))\n",
    "        feature_input_dims.append(len(featid))\n",
    "        idx[feature_name] = {v: i for i, v in enumerate(featid)}\n",
    "    return idx"
   ]
  },
  {
   "cell_type": "code",
   "execution_count": 3,
   "metadata": {},
   "outputs": [
    {
     "data": {
      "text/plain": [
       "[1, 2, 3]"
      ]
     },
     "execution_count": 3,
     "metadata": {},
     "output_type": "execute_result"
    }
   ],
   "source": [
    "tmop = pd.Series([1,2,3])\n",
    "tmop.to_list()"
   ]
  },
  {
   "cell_type": "code",
   "execution_count": 71,
   "metadata": {},
   "outputs": [],
   "source": [
    "def process_data(data, id_2_index, device):\n",
    "    edge, label, feature = [], [], []\n",
    "    for user, item, acode in zip(data.userID, data.assessmentItemID, data.answerCode):\n",
    "        uid, iid = id_2_index['user_item'][user], id_2_index['user_item'][item]\n",
    "        edge.append([uid, iid])\n",
    "        label.append(acode)\n",
    "\n",
    "    for k, v in id_2_index.items():\n",
    "        if k != 'user_item':\n",
    "            feat = data[k].map(v).tolist()\n",
    "            feature.append(feat)\n",
    "    import pdb; pdb.set_trace()\n",
    "\n",
    "    edge = torch.LongTensor(edge).T\n",
    "    label = torch.LongTensor(label)\n",
    "    feature = torch.LongTensor(feature)\n",
    "\n",
    "    return dict(edge=edge.to(device), label=label.to(device), feature=feature.to(device))"
   ]
  },
  {
   "cell_type": "code",
   "execution_count": 72,
   "metadata": {},
   "outputs": [
    {
     "name": "stdout",
     "output_type": "stream",
     "text": [
      "> \u001b[0;32m/tmp/ipykernel_1603/1769348169.py\u001b[0m(14)\u001b[0;36mprocess_data\u001b[0;34m()\u001b[0m\n",
      "\u001b[0;32m     12 \u001b[0;31m    \u001b[0;32mimport\u001b[0m \u001b[0mpdb\u001b[0m\u001b[0;34m;\u001b[0m \u001b[0mpdb\u001b[0m\u001b[0;34m.\u001b[0m\u001b[0mset_trace\u001b[0m\u001b[0;34m(\u001b[0m\u001b[0;34m)\u001b[0m\u001b[0;34m\u001b[0m\u001b[0;34m\u001b[0m\u001b[0m\n",
      "\u001b[0m\u001b[0;32m     13 \u001b[0;31m\u001b[0;34m\u001b[0m\u001b[0m\n",
      "\u001b[0m\u001b[0;32m---> 14 \u001b[0;31m    \u001b[0medge\u001b[0m \u001b[0;34m=\u001b[0m \u001b[0mtorch\u001b[0m\u001b[0;34m.\u001b[0m\u001b[0mLongTensor\u001b[0m\u001b[0;34m(\u001b[0m\u001b[0medge\u001b[0m\u001b[0;34m)\u001b[0m\u001b[0;34m.\u001b[0m\u001b[0mT\u001b[0m\u001b[0;34m\u001b[0m\u001b[0;34m\u001b[0m\u001b[0m\n",
      "\u001b[0m\u001b[0;32m     15 \u001b[0;31m    \u001b[0mlabel\u001b[0m \u001b[0;34m=\u001b[0m \u001b[0mtorch\u001b[0m\u001b[0;34m.\u001b[0m\u001b[0mLongTensor\u001b[0m\u001b[0;34m(\u001b[0m\u001b[0mlabel\u001b[0m\u001b[0;34m)\u001b[0m\u001b[0;34m\u001b[0m\u001b[0;34m\u001b[0m\u001b[0m\n",
      "\u001b[0m\u001b[0;32m     16 \u001b[0;31m    \u001b[0mfeature\u001b[0m \u001b[0;34m=\u001b[0m \u001b[0mtorch\u001b[0m\u001b[0;34m.\u001b[0m\u001b[0mLongTensor\u001b[0m\u001b[0;34m(\u001b[0m\u001b[0mfeature\u001b[0m\u001b[0;34m)\u001b[0m\u001b[0;34m\u001b[0m\u001b[0;34m\u001b[0m\u001b[0m\n",
      "\u001b[0m\n",
      "0         975\n",
      "1         975\n",
      "2         975\n",
      "3         975\n",
      "4         975\n",
      "         ... \n",
      "260108    780\n",
      "260109    713\n",
      "260110    713\n",
      "260111    713\n",
      "260112    713\n",
      "Name: testId, Length: 2475962, dtype: int64\n",
      "0         975\n",
      "1         975\n",
      "2         975\n",
      "3         975\n",
      "4         975\n",
      "         ... \n",
      "260108    780\n",
      "260109    713\n",
      "260110    713\n",
      "260111    713\n",
      "260112    713\n",
      "Name: testId, Length: 2475962, dtype: int64\n",
      "tensor([[975, 975, 975,  ..., 713, 713, 713],\n",
      "        [556, 557, 557,  ..., 719, 697, 697]])\n",
      "tensor([[975, 975, 975,  ..., 713, 713, 713],\n",
      "        [556, 557, 557,  ..., 719, 697, 697]])\n"
     ]
    }
   ],
   "source": [
    "tmp = process_data(train_data, id2index, device)"
   ]
  },
  {
   "cell_type": "code",
   "execution_count": 64,
   "metadata": {},
   "outputs": [
    {
     "data": {
      "text/plain": [
       "{'edge': tensor([[    0,     0,     0,  ...,  7439,  7439,  7439],\n",
       "         [12796, 12797, 12798,  ..., 11171, 11172, 11173]], device='cuda:0'),\n",
       " 'label': tensor([1, 1, 1,  ..., 1, 1, 1], device='cuda:0'),\n",
       " 'feature': tensor([[975, 975, 975,  ..., 713, 713, 713],\n",
       "         [556, 557, 557,  ..., 719, 697, 697]], device='cuda:0')}"
      ]
     },
     "execution_count": 64,
     "metadata": {},
     "output_type": "execute_result"
    }
   ],
   "source": [
    "tmp"
   ]
  },
  {
   "cell_type": "code",
   "execution_count": 17,
   "metadata": {},
   "outputs": [
    {
     "data": {
      "text/plain": [
       "array([['A060000001', 'A060000001', 'A060000001', ..., 'A040000130',\n",
       "        'A040000130', 'A040000130'],\n",
       "       [7224, 7225, 7225, ..., 8832, 8244, 8244]], dtype=object)"
      ]
     },
     "execution_count": 17,
     "metadata": {},
     "output_type": "execute_result"
    }
   ],
   "source": [
    "train_data.drop(['userID', 'assessmentItemID', 'answerCode', 'Timestamp'], axis=1).values.T"
   ]
  },
  {
   "cell_type": "code",
   "execution_count": 11,
   "metadata": {},
   "outputs": [
    {
     "data": {
      "text/plain": [
       "{'edge': tensor([[    0,     0,     0,  ...,  7439,  7439,  7439],\n",
       "         [12796, 12797, 12798,  ..., 11171, 11172, 11173]], device='cuda:0'),\n",
       " 'label': tensor([1, 1, 1,  ..., 1, 1, 1], device='cuda:0')}"
      ]
     },
     "execution_count": 11,
     "metadata": {},
     "output_type": "execute_result"
    }
   ],
   "source": [
    "process_data(train_data, id2index, device)"
   ]
  },
  {
   "cell_type": "code",
   "execution_count": 3,
   "metadata": {},
   "outputs": [
    {
     "data": {
      "text/plain": [
       "{'edge': tensor([[    0,     0,     0,  ...,  7439,  7439,  7439],\n",
       "         [12796, 12797, 12798,  ..., 11171, 11172, 11173]], device='cuda:0'),\n",
       " 'label': tensor([1, 1, 1,  ..., 1, 1, 1], device='cuda:0')}"
      ]
     },
     "execution_count": 3,
     "metadata": {},
     "output_type": "execute_result"
    }
   ],
   "source": [
    "train_data"
   ]
  },
  {
   "cell_type": "code",
   "execution_count": 47,
   "metadata": {},
   "outputs": [],
   "source": [
    "tmp = torch.tensor([[[1,2,3], [4,5,6], [7,8,9], [10,11,12]],\n",
    "              [[13,14,15], [16,17,18], [19,20,21], [22, 23, 24]]])\n",
    "tmp2 = tmp + 20"
   ]
  },
  {
   "cell_type": "code",
   "execution_count": 52,
   "metadata": {},
   "outputs": [
    {
     "data": {
      "text/plain": [
       "tensor([[ 1,  2,  3, 21, 22, 23],\n",
       "        [ 4,  5,  6, 24, 25, 26],\n",
       "        [ 7,  8,  9, 27, 28, 29],\n",
       "        [10, 11, 12, 30, 31, 32],\n",
       "        [13, 14, 15, 33, 34, 35],\n",
       "        [16, 17, 18, 36, 37, 38],\n",
       "        [19, 20, 21, 39, 40, 41],\n",
       "        [22, 23, 24, 42, 43, 44]])"
      ]
     },
     "execution_count": 52,
     "metadata": {},
     "output_type": "execute_result"
    }
   ],
   "source": [
    "torch.cat([tmp.view(8,3), tmp2.view(8,3)],1)"
   ]
  },
  {
   "cell_type": "code",
   "execution_count": 5,
   "metadata": {},
   "outputs": [],
   "source": [
    "import numpy as np\n",
    "tmp = torch.tensor(np.arange(10))"
   ]
  },
  {
   "cell_type": "code",
   "execution_count": 7,
   "metadata": {},
   "outputs": [
    {
     "data": {
      "text/plain": [
       "10"
      ]
     },
     "execution_count": 7,
     "metadata": {},
     "output_type": "execute_result"
    }
   ],
   "source": [
    "len(tmp)"
   ]
  },
  {
   "cell_type": "code",
   "execution_count": 10,
   "metadata": {},
   "outputs": [],
   "source": [
    "for i in []:\n",
    "    print(i)"
   ]
  },
  {
   "cell_type": "code",
   "execution_count": 9,
   "metadata": {},
   "outputs": [
    {
     "data": {
      "text/plain": [
       "<function lightgcn.models2.train(model, train_data, valid_data=None, n_epoch=100, learning_rate=0.01, use_wandb=False, weight=None, logger=None)>"
      ]
     },
     "execution_count": 9,
     "metadata": {},
     "output_type": "execute_result"
    }
   ],
   "source": [
    "tmp = pd.read_csv('../../data/train_data.csv')\n"
   ]
  },
  {
   "cell_type": "code",
   "execution_count": 10,
   "metadata": {},
   "outputs": [],
   "source": [
    "def tmp(**kwargs):\n",
    "    print(a)"
   ]
  },
  {
   "cell_type": "code",
   "execution_count": 11,
   "metadata": {},
   "outputs": [],
   "source": [
    "def tmp2(**kwargs):\n",
    "    tmp(**kwargs)"
   ]
  },
  {
   "cell_type": "code",
   "execution_count": 12,
   "metadata": {},
   "outputs": [
    {
     "ename": "NameError",
     "evalue": "name 'a' is not defined",
     "output_type": "error",
     "traceback": [
      "\u001b[0;31m---------------------------------------------------------------------------\u001b[0m",
      "\u001b[0;31mNameError\u001b[0m                                 Traceback (most recent call last)",
      "Cell \u001b[0;32mIn [12], line 1\u001b[0m\n\u001b[0;32m----> 1\u001b[0m tmp2(a\u001b[39m=\u001b[39;49m\u001b[39m'\u001b[39;49m\u001b[39md\u001b[39;49m\u001b[39m'\u001b[39;49m, b\u001b[39m=\u001b[39;49m\u001b[39m1\u001b[39;49m)\n",
      "Cell \u001b[0;32mIn [11], line 2\u001b[0m, in \u001b[0;36mtmp2\u001b[0;34m(**kwargs)\u001b[0m\n\u001b[1;32m      1\u001b[0m \u001b[39mdef\u001b[39;00m \u001b[39mtmp2\u001b[39m(\u001b[39m*\u001b[39m\u001b[39m*\u001b[39mkwargs):\n\u001b[0;32m----> 2\u001b[0m     tmp(\u001b[39m*\u001b[39;49m\u001b[39m*\u001b[39;49mkwargs)\n",
      "Cell \u001b[0;32mIn [10], line 2\u001b[0m, in \u001b[0;36mtmp\u001b[0;34m(**kwargs)\u001b[0m\n\u001b[1;32m      1\u001b[0m \u001b[39mdef\u001b[39;00m \u001b[39mtmp\u001b[39m(\u001b[39m*\u001b[39m\u001b[39m*\u001b[39mkwargs):\n\u001b[0;32m----> 2\u001b[0m     \u001b[39mprint\u001b[39m(a)\n",
      "\u001b[0;31mNameError\u001b[0m: name 'a' is not defined"
     ]
    }
   ],
   "source": [
    "tmp2(a='d', b=1)"
   ]
  },
  {
   "cell_type": "code",
   "execution_count": null,
   "metadata": {},
   "outputs": [],
   "source": []
  }
 ],
 "metadata": {
  "kernelspec": {
   "display_name": "Python 3.8.15 ('lightgcn')",
   "language": "python",
   "name": "python3"
  },
  "language_info": {
   "codemirror_mode": {
    "name": "ipython",
    "version": 3
   },
   "file_extension": ".py",
   "mimetype": "text/x-python",
   "name": "python",
   "nbconvert_exporter": "python",
   "pygments_lexer": "ipython3",
   "version": "3.8.15"
  },
  "orig_nbformat": 4,
  "vscode": {
   "interpreter": {
    "hash": "9a2b20affa6191fb4c338bc6ec8b8e3855bbd6d7247a5bf432f8b088e6c9d0e5"
   }
  }
 },
 "nbformat": 4,
 "nbformat_minor": 2
}
